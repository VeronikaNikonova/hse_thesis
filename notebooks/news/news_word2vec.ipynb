{
  "cells": [
    {
      "cell_type": "code",
      "execution_count": null,
      "metadata": {
        "colab": {
          "base_uri": "https://localhost:8080/"
        },
        "id": "vBBdWhkFb3Xj",
        "outputId": "ec2b40c9-8662-4446-9e88-708f808c87a6"
      },
      "outputs": [
        {
          "output_type": "stream",
          "name": "stdout",
          "text": [
            "Mounted at /content/gdrive/\n"
          ]
        }
      ],
      "source": [
        "from google.colab import drive \n",
        "drive.mount('/content/gdrive/')"
      ]
    },
    {
      "cell_type": "code",
      "execution_count": null,
      "metadata": {
        "colab": {
          "base_uri": "https://localhost:8080/",
          "height": 241
        },
        "id": "GhvbAaJ8foVM",
        "outputId": "95265e4b-002d-46b2-eadc-6bc74a76a4a7"
      },
      "outputs": [
        {
          "output_type": "stream",
          "name": "stderr",
          "text": [
            "<ipython-input-2-9f009ad41d1e>:5: DtypeWarning: Columns (3) have mixed types. Specify dtype option on import or set low_memory=False.\n",
            "  df = pd.read_csv('/content/gdrive/MyDrive/Colab Notebooks/Final/lenta-ru-news.csv')\n"
          ]
        },
        {
          "output_type": "execute_result",
          "data": {
            "text/plain": [
              "                                           url  \\\n",
              "0   https://lenta.ru/news/1914/09/16/hungarnn/   \n",
              "1  https://lenta.ru/news/1914/09/16/lermontov/   \n",
              "2  https://lenta.ru/news/1914/09/17/nesteroff/   \n",
              "3   https://lenta.ru/news/1914/09/17/bulldogn/   \n",
              "4       https://lenta.ru/news/1914/09/18/zver/   \n",
              "\n",
              "                                               title  \\\n",
              "0  1914. Русские войска вступили в пределы Венгрии     \n",
              "1  1914. Празднование столетия М.Ю. Лермонтова от...   \n",
              "2                           1914. Das ist Nesteroff!   \n",
              "3                    1914. Бульдог-гонец под Льежем    \n",
              "4           1914. Под Люблином пойман швабский зверь   \n",
              "\n",
              "                                                text       topic  \\\n",
              "0  Бои у Сопоцкина и Друскеник закончились отступ...  Библиотека   \n",
              "1  Министерство народного просвещения, в виду про...  Библиотека   \n",
              "2  Штабс-капитан П. Н. Нестеров на днях, увидев в...  Библиотека   \n",
              "3  Фотограф-корреспондент Daily Mirror рассказыва...  Библиотека   \n",
              "4  Лица, приехавшие в Варшаву из Люблина, передаю...  Библиотека   \n",
              "\n",
              "             tags        date  \n",
              "0  Первая мировая  1914/09/16  \n",
              "1  Первая мировая  1914/09/16  \n",
              "2  Первая мировая  1914/09/17  \n",
              "3  Первая мировая  1914/09/17  \n",
              "4  Первая мировая  1914/09/18  "
            ],
            "text/html": [
              "\n",
              "  <div id=\"df-55638de3-47bb-46e9-b701-6172ddeba56c\">\n",
              "    <div class=\"colab-df-container\">\n",
              "      <div>\n",
              "<style scoped>\n",
              "    .dataframe tbody tr th:only-of-type {\n",
              "        vertical-align: middle;\n",
              "    }\n",
              "\n",
              "    .dataframe tbody tr th {\n",
              "        vertical-align: top;\n",
              "    }\n",
              "\n",
              "    .dataframe thead th {\n",
              "        text-align: right;\n",
              "    }\n",
              "</style>\n",
              "<table border=\"1\" class=\"dataframe\">\n",
              "  <thead>\n",
              "    <tr style=\"text-align: right;\">\n",
              "      <th></th>\n",
              "      <th>url</th>\n",
              "      <th>title</th>\n",
              "      <th>text</th>\n",
              "      <th>topic</th>\n",
              "      <th>tags</th>\n",
              "      <th>date</th>\n",
              "    </tr>\n",
              "  </thead>\n",
              "  <tbody>\n",
              "    <tr>\n",
              "      <th>0</th>\n",
              "      <td>https://lenta.ru/news/1914/09/16/hungarnn/</td>\n",
              "      <td>1914. Русские войска вступили в пределы Венгрии</td>\n",
              "      <td>Бои у Сопоцкина и Друскеник закончились отступ...</td>\n",
              "      <td>Библиотека</td>\n",
              "      <td>Первая мировая</td>\n",
              "      <td>1914/09/16</td>\n",
              "    </tr>\n",
              "    <tr>\n",
              "      <th>1</th>\n",
              "      <td>https://lenta.ru/news/1914/09/16/lermontov/</td>\n",
              "      <td>1914. Празднование столетия М.Ю. Лермонтова от...</td>\n",
              "      <td>Министерство народного просвещения, в виду про...</td>\n",
              "      <td>Библиотека</td>\n",
              "      <td>Первая мировая</td>\n",
              "      <td>1914/09/16</td>\n",
              "    </tr>\n",
              "    <tr>\n",
              "      <th>2</th>\n",
              "      <td>https://lenta.ru/news/1914/09/17/nesteroff/</td>\n",
              "      <td>1914. Das ist Nesteroff!</td>\n",
              "      <td>Штабс-капитан П. Н. Нестеров на днях, увидев в...</td>\n",
              "      <td>Библиотека</td>\n",
              "      <td>Первая мировая</td>\n",
              "      <td>1914/09/17</td>\n",
              "    </tr>\n",
              "    <tr>\n",
              "      <th>3</th>\n",
              "      <td>https://lenta.ru/news/1914/09/17/bulldogn/</td>\n",
              "      <td>1914. Бульдог-гонец под Льежем</td>\n",
              "      <td>Фотограф-корреспондент Daily Mirror рассказыва...</td>\n",
              "      <td>Библиотека</td>\n",
              "      <td>Первая мировая</td>\n",
              "      <td>1914/09/17</td>\n",
              "    </tr>\n",
              "    <tr>\n",
              "      <th>4</th>\n",
              "      <td>https://lenta.ru/news/1914/09/18/zver/</td>\n",
              "      <td>1914. Под Люблином пойман швабский зверь</td>\n",
              "      <td>Лица, приехавшие в Варшаву из Люблина, передаю...</td>\n",
              "      <td>Библиотека</td>\n",
              "      <td>Первая мировая</td>\n",
              "      <td>1914/09/18</td>\n",
              "    </tr>\n",
              "  </tbody>\n",
              "</table>\n",
              "</div>\n",
              "      <button class=\"colab-df-convert\" onclick=\"convertToInteractive('df-55638de3-47bb-46e9-b701-6172ddeba56c')\"\n",
              "              title=\"Convert this dataframe to an interactive table.\"\n",
              "              style=\"display:none;\">\n",
              "        \n",
              "  <svg xmlns=\"http://www.w3.org/2000/svg\" height=\"24px\"viewBox=\"0 0 24 24\"\n",
              "       width=\"24px\">\n",
              "    <path d=\"M0 0h24v24H0V0z\" fill=\"none\"/>\n",
              "    <path d=\"M18.56 5.44l.94 2.06.94-2.06 2.06-.94-2.06-.94-.94-2.06-.94 2.06-2.06.94zm-11 1L8.5 8.5l.94-2.06 2.06-.94-2.06-.94L8.5 2.5l-.94 2.06-2.06.94zm10 10l.94 2.06.94-2.06 2.06-.94-2.06-.94-.94-2.06-.94 2.06-2.06.94z\"/><path d=\"M17.41 7.96l-1.37-1.37c-.4-.4-.92-.59-1.43-.59-.52 0-1.04.2-1.43.59L10.3 9.45l-7.72 7.72c-.78.78-.78 2.05 0 2.83L4 21.41c.39.39.9.59 1.41.59.51 0 1.02-.2 1.41-.59l7.78-7.78 2.81-2.81c.8-.78.8-2.07 0-2.86zM5.41 20L4 18.59l7.72-7.72 1.47 1.35L5.41 20z\"/>\n",
              "  </svg>\n",
              "      </button>\n",
              "      \n",
              "  <style>\n",
              "    .colab-df-container {\n",
              "      display:flex;\n",
              "      flex-wrap:wrap;\n",
              "      gap: 12px;\n",
              "    }\n",
              "\n",
              "    .colab-df-convert {\n",
              "      background-color: #E8F0FE;\n",
              "      border: none;\n",
              "      border-radius: 50%;\n",
              "      cursor: pointer;\n",
              "      display: none;\n",
              "      fill: #1967D2;\n",
              "      height: 32px;\n",
              "      padding: 0 0 0 0;\n",
              "      width: 32px;\n",
              "    }\n",
              "\n",
              "    .colab-df-convert:hover {\n",
              "      background-color: #E2EBFA;\n",
              "      box-shadow: 0px 1px 2px rgba(60, 64, 67, 0.3), 0px 1px 3px 1px rgba(60, 64, 67, 0.15);\n",
              "      fill: #174EA6;\n",
              "    }\n",
              "\n",
              "    [theme=dark] .colab-df-convert {\n",
              "      background-color: #3B4455;\n",
              "      fill: #D2E3FC;\n",
              "    }\n",
              "\n",
              "    [theme=dark] .colab-df-convert:hover {\n",
              "      background-color: #434B5C;\n",
              "      box-shadow: 0px 1px 3px 1px rgba(0, 0, 0, 0.15);\n",
              "      filter: drop-shadow(0px 1px 2px rgba(0, 0, 0, 0.3));\n",
              "      fill: #FFFFFF;\n",
              "    }\n",
              "  </style>\n",
              "\n",
              "      <script>\n",
              "        const buttonEl =\n",
              "          document.querySelector('#df-55638de3-47bb-46e9-b701-6172ddeba56c button.colab-df-convert');\n",
              "        buttonEl.style.display =\n",
              "          google.colab.kernel.accessAllowed ? 'block' : 'none';\n",
              "\n",
              "        async function convertToInteractive(key) {\n",
              "          const element = document.querySelector('#df-55638de3-47bb-46e9-b701-6172ddeba56c');\n",
              "          const dataTable =\n",
              "            await google.colab.kernel.invokeFunction('convertToInteractive',\n",
              "                                                     [key], {});\n",
              "          if (!dataTable) return;\n",
              "\n",
              "          const docLinkHtml = 'Like what you see? Visit the ' +\n",
              "            '<a target=\"_blank\" href=https://colab.research.google.com/notebooks/data_table.ipynb>data table notebook</a>'\n",
              "            + ' to learn more about interactive tables.';\n",
              "          element.innerHTML = '';\n",
              "          dataTable['output_type'] = 'display_data';\n",
              "          await google.colab.output.renderOutput(dataTable, element);\n",
              "          const docLink = document.createElement('div');\n",
              "          docLink.innerHTML = docLinkHtml;\n",
              "          element.appendChild(docLink);\n",
              "        }\n",
              "      </script>\n",
              "    </div>\n",
              "  </div>\n",
              "  "
            ]
          },
          "metadata": {},
          "execution_count": 2
        }
      ],
      "source": [
        "# Source https://github.com/yutkin/lenta.ru-news-dataset\n",
        "\n",
        "import pandas as pd\n",
        "\n",
        "df = pd.read_csv('/content/gdrive/MyDrive/Colab Notebooks/Thesis/Data/News/Common/lenta-ru-news.csv')\n",
        "df.head()"
      ]
    },
    {
      "cell_type": "code",
      "source": [
        "df.date = pd.to_datetime(df.date)\n",
        "df['year'] = df.date.dt.year\n",
        "df = df.drop(df[(df.year == 1914)|(df.year == 1999)].index)\n",
        "print(df.text.isna().sum())\n",
        "df.dropna(subset=['text'], inplace=True)"
      ],
      "metadata": {
        "colab": {
          "base_uri": "https://localhost:8080/"
        },
        "id": "ZRVcryr9P2I4",
        "outputId": "6956c4a9-1fb6-4ad8-a423-bc959a53a1a4"
      },
      "execution_count": null,
      "outputs": [
        {
          "output_type": "stream",
          "name": "stdout",
          "text": [
            "5\n"
          ]
        }
      ]
    },
    {
      "cell_type": "code",
      "source": [
        "df.shape"
      ],
      "metadata": {
        "colab": {
          "base_uri": "https://localhost:8080/"
        },
        "id": "hGqHwt3bXrz0",
        "outputId": "2619c20c-370b-4dd0-80ae-fa9ae469a446"
      },
      "execution_count": null,
      "outputs": [
        {
          "output_type": "execute_result",
          "data": {
            "text/plain": [
              "(797884, 7)"
            ]
          },
          "metadata": {},
          "execution_count": 5
        }
      ]
    },
    {
      "cell_type": "code",
      "source": [
        "df.year.value_counts()"
      ],
      "metadata": {
        "colab": {
          "base_uri": "https://localhost:8080/"
        },
        "id": "rXKc9RRZeA-I",
        "outputId": "ec245938-67d3-4d47-9a6a-98ff279d9f25"
      },
      "execution_count": null,
      "outputs": [
        {
          "output_type": "execute_result",
          "data": {
            "text/plain": [
              "2016    63107\n",
              "2019    59729\n",
              "2017    58792\n",
              "2009    51343\n",
              "2008    50389\n",
              "2012    46047\n",
              "2011    44822\n",
              "2015    44766\n",
              "2010    44587\n",
              "2018    43951\n",
              "2013    43297\n",
              "2014    38075\n",
              "2007    36029\n",
              "2006    35960\n",
              "2005    30718\n",
              "2004    24386\n",
              "2002    22179\n",
              "2001    21974\n",
              "2003    21557\n",
              "2000    16176\n",
              "Name: year, dtype: int64"
            ]
          },
          "metadata": {},
          "execution_count": 6
        }
      ]
    },
    {
      "cell_type": "code",
      "source": [
        "df.year.value_counts() / df.shape[0]"
      ],
      "metadata": {
        "colab": {
          "base_uri": "https://localhost:8080/"
        },
        "id": "jxu3UIyve4nT",
        "outputId": "cb5d69b0-5cfc-49e4-eaed-267ddecb391a"
      },
      "execution_count": null,
      "outputs": [
        {
          "output_type": "execute_result",
          "data": {
            "text/plain": [
              "2016    0.079093\n",
              "2019    0.074859\n",
              "2017    0.073685\n",
              "2009    0.064349\n",
              "2008    0.063153\n",
              "2012    0.057711\n",
              "2011    0.056176\n",
              "2015    0.056106\n",
              "2010    0.055882\n",
              "2018    0.055084\n",
              "2013    0.054265\n",
              "2014    0.047720\n",
              "2007    0.045156\n",
              "2006    0.045069\n",
              "2005    0.038499\n",
              "2004    0.030563\n",
              "2002    0.027797\n",
              "2001    0.027540\n",
              "2003    0.027018\n",
              "2000    0.020274\n",
              "Name: year, dtype: float64"
            ]
          },
          "metadata": {},
          "execution_count": 7
        }
      ]
    },
    {
      "cell_type": "code",
      "execution_count": null,
      "metadata": {
        "colab": {
          "base_uri": "https://localhost:8080/"
        },
        "outputId": "f94e4b57-7d65-4df6-97ec-ec0cb8b2b03c",
        "id": "RUsvRClpcYuU"
      },
      "outputs": [
        {
          "output_type": "execute_result",
          "data": {
            "text/plain": [
              "36407.954545454544"
            ]
          },
          "metadata": {},
          "execution_count": 12
        }
      ],
      "source": [
        "df.year.value_counts().mean()"
      ]
    },
    {
      "cell_type": "code",
      "execution_count": null,
      "metadata": {
        "colab": {
          "base_uri": "https://localhost:8080/"
        },
        "id": "TrfGhMwbyiEJ",
        "outputId": "f02ac38b-b5be-4901-cc2e-cf56c2bac99a"
      },
      "outputs": [
        {
          "output_type": "execute_result",
          "data": {
            "text/plain": [
              "Россия               158905\n",
              "Мир                  135828\n",
              "Экономика             79077\n",
              "Спорт                 64413\n",
              "Культура              53796\n",
              "Бывший СССР           53402\n",
              "Наука и техника       53136\n",
              "Интернет и СМИ        44362\n",
              "Из жизни              27605\n",
              "Дом                   21734\n",
              "Силовые структуры     19596\n",
              "Ценности               7766\n",
              "Бизнес                 7399\n",
              "Путешествия            6408\n",
              "69-я параллель         1268\n",
              "Крым                    666\n",
              "Культпросвет            340\n",
              "Легпром                 114\n",
              "Библиотека               60\n",
              "Оружие                    3\n",
              "ЧМ-2014                   2\n",
              "МедНовости                1\n",
              "Сочи                      1\n",
              "Name: topic, dtype: int64"
            ]
          },
          "metadata": {},
          "execution_count": 9
        }
      ],
      "source": [
        "df.topic.value_counts()"
      ]
    },
    {
      "cell_type": "code",
      "execution_count": null,
      "metadata": {
        "colab": {
          "base_uri": "https://localhost:8080/"
        },
        "id": "NoyvADaQ71Zs",
        "outputId": "a16ddb48-c6d7-4f8b-b556-a5f59cd82ddf"
      },
      "outputs": [
        {
          "output_type": "stream",
          "name": "stdout",
          "text": [
            "Looking in indexes: https://pypi.org/simple, https://us-python.pkg.dev/colab-wheels/public/simple/\n",
            "Collecting pymorphy2\n",
            "  Downloading pymorphy2-0.9.1-py3-none-any.whl (55 kB)\n",
            "\u001b[2K     \u001b[90m━━━━━━━━━━━━━━━━━━━━━━━━━━━━━━━━━━━━━━━━\u001b[0m \u001b[32m55.5/55.5 kB\u001b[0m \u001b[31m3.3 MB/s\u001b[0m eta \u001b[36m0:00:00\u001b[0m\n",
            "\u001b[?25hCollecting pymorphy2-dicts-ru<3.0,>=2.4\n",
            "  Downloading pymorphy2_dicts_ru-2.4.417127.4579844-py2.py3-none-any.whl (8.2 MB)\n",
            "\u001b[2K     \u001b[90m━━━━━━━━━━━━━━━━━━━━━━━━━━━━━━━━━━━━━━━━\u001b[0m \u001b[32m8.2/8.2 MB\u001b[0m \u001b[31m51.6 MB/s\u001b[0m eta \u001b[36m0:00:00\u001b[0m\n",
            "\u001b[?25hCollecting docopt>=0.6\n",
            "  Downloading docopt-0.6.2.tar.gz (25 kB)\n",
            "  Preparing metadata (setup.py) ... \u001b[?25l\u001b[?25hdone\n",
            "Collecting dawg-python>=0.7.1\n",
            "  Downloading DAWG_Python-0.7.2-py2.py3-none-any.whl (11 kB)\n",
            "Building wheels for collected packages: docopt\n",
            "  Building wheel for docopt (setup.py) ... \u001b[?25l\u001b[?25hdone\n",
            "  Created wheel for docopt: filename=docopt-0.6.2-py2.py3-none-any.whl size=13721 sha256=f50dd305bd01ae1293f5c986fb9d64e3b383e069bead3c9216b9020faac944ae\n",
            "  Stored in directory: /root/.cache/pip/wheels/fc/ab/d4/5da2067ac95b36618c629a5f93f809425700506f72c9732fac\n",
            "Successfully built docopt\n",
            "Installing collected packages: pymorphy2-dicts-ru, docopt, dawg-python, pymorphy2\n",
            "Successfully installed dawg-python-0.7.2 docopt-0.6.2 pymorphy2-0.9.1 pymorphy2-dicts-ru-2.4.417127.4579844\n"
          ]
        }
      ],
      "source": [
        "! pip install pymorphy2"
      ]
    },
    {
      "cell_type": "code",
      "execution_count": null,
      "metadata": {
        "colab": {
          "base_uri": "https://localhost:8080/"
        },
        "id": "tigLODim3fMl",
        "outputId": "3b50d4d5-027e-4216-9bb2-fa3b9018d9f3"
      },
      "outputs": [
        {
          "output_type": "stream",
          "name": "stderr",
          "text": [
            "[nltk_data] Downloading package punkt to /root/nltk_data...\n",
            "[nltk_data]   Unzipping tokenizers/punkt.zip.\n",
            "[nltk_data] Downloading package stopwords to /root/nltk_data...\n",
            "[nltk_data]   Unzipping corpora/stopwords.zip.\n"
          ]
        }
      ],
      "source": [
        "import re\n",
        "import nltk\n",
        "from nltk.corpus import stopwords\n",
        "from nltk import word_tokenize\n",
        "import pymorphy2\n",
        "\n",
        "nltk.download('punkt')\n",
        "nltk.download('stopwords')\n",
        "STOPWORDS = set(stopwords.words('russian'))\n",
        "\n",
        "morph = pymorphy2.MorphAnalyzer()\n",
        "\n",
        "# Clean and tokenize text, remove stopwords\n",
        "def preprocess_text(df):\n",
        "    df['clean_text'] = df.text.str.lower()\n",
        "    df['clean_text'] = df.clean_text.str.replace(re.compile(\"[^а-яА-Я0-9]+\"), ' ')\n",
        "    df['clean_text'] = df.clean_text.str.replace('\\s+', ' ')\n",
        "    df['clean_text'] = df.clean_text.str.strip()\n",
        "\n",
        "    print(f'Null text values: {df.clean_text.isna().sum()}')\n",
        "    if df.clean_text.isna().sum() > 0:\n",
        "        df.dropna(subset=['clean_text'], inplace=True)\n",
        "\n",
        "    print('Tokenize text')\n",
        "    df['tokenized_text'] = df.clean_text.apply(lambda x: word_tokenize(x))\n",
        "    df['tokenized_text'] = df.tokenized_text.apply(lambda x: [w for w in x if w not in STOPWORDS]) \n",
        "\n",
        "    print('Lemmatize text')\n",
        "    df['lemmas'] = df['tokenized_text'].apply(lambda x: [morph.parse(w)[0].normal_form for w in x])\n",
        "    return df[['title', 'year', 'tokenized_text', 'lemmas', 'tags', 'topic']]"
      ]
    },
    {
      "cell_type": "code",
      "execution_count": null,
      "metadata": {
        "colab": {
          "base_uri": "https://localhost:8080/"
        },
        "id": "pn7SNaBF2JDW",
        "outputId": "3b6f2f92-c2ba-487e-f53f-874ebff22d7c"
      },
      "outputs": [
        {
          "name": "stderr",
          "output_type": "stream",
          "text": [
            "\r  0%|          | 0/19 [00:00<?, ?it/s]"
          ]
        },
        {
          "name": "stdout",
          "output_type": "stream",
          "text": [
            "Preprocess texts for 2001 year\n"
          ]
        },
        {
          "name": "stderr",
          "output_type": "stream",
          "text": [
            "<ipython-input-8-c84b67b8bd07>:16: FutureWarning: The default value of regex will change from True to False in a future version.\n",
            "  df['clean_text'] = df.clean_text.str.replace('\\s+', ' ')\n"
          ]
        },
        {
          "name": "stdout",
          "output_type": "stream",
          "text": [
            "Null text values: 0\n",
            "Tokenize text\n",
            "Lemmatize text\n",
            "Save dataframe for 2001 year\n"
          ]
        },
        {
          "name": "stderr",
          "output_type": "stream",
          "text": [
            "\r  5%|▌         | 1/19 [08:19<2:29:47, 499.32s/it]"
          ]
        },
        {
          "name": "stdout",
          "output_type": "stream",
          "text": [
            "Preprocess texts for 2002 year\n"
          ]
        },
        {
          "name": "stderr",
          "output_type": "stream",
          "text": [
            "<ipython-input-8-c84b67b8bd07>:16: FutureWarning: The default value of regex will change from True to False in a future version.\n",
            "  df['clean_text'] = df.clean_text.str.replace('\\s+', ' ')\n"
          ]
        },
        {
          "name": "stdout",
          "output_type": "stream",
          "text": [
            "Null text values: 0\n",
            "Tokenize text\n",
            "Lemmatize text\n",
            "Save dataframe for 2002 year\n"
          ]
        },
        {
          "name": "stderr",
          "output_type": "stream",
          "text": [
            "\r 11%|█         | 2/19 [18:06<2:36:11, 551.25s/it]"
          ]
        },
        {
          "name": "stdout",
          "output_type": "stream",
          "text": [
            "Preprocess texts for 2003 year\n"
          ]
        },
        {
          "name": "stderr",
          "output_type": "stream",
          "text": [
            "<ipython-input-8-c84b67b8bd07>:16: FutureWarning: The default value of regex will change from True to False in a future version.\n",
            "  df['clean_text'] = df.clean_text.str.replace('\\s+', ' ')\n"
          ]
        },
        {
          "name": "stdout",
          "output_type": "stream",
          "text": [
            "Null text values: 0\n",
            "Tokenize text\n",
            "Lemmatize text\n",
            "Save dataframe for 2003 year\n"
          ]
        },
        {
          "name": "stderr",
          "output_type": "stream",
          "text": [
            "\r 16%|█▌        | 3/19 [28:24<2:35:06, 581.67s/it]"
          ]
        },
        {
          "name": "stdout",
          "output_type": "stream",
          "text": [
            "Preprocess texts for 2004 year\n"
          ]
        },
        {
          "name": "stderr",
          "output_type": "stream",
          "text": [
            "<ipython-input-8-c84b67b8bd07>:16: FutureWarning: The default value of regex will change from True to False in a future version.\n",
            "  df['clean_text'] = df.clean_text.str.replace('\\s+', ' ')\n"
          ]
        },
        {
          "name": "stdout",
          "output_type": "stream",
          "text": [
            "Null text values: 0\n",
            "Tokenize text\n",
            "Lemmatize text\n",
            "Save dataframe for 2004 year\n"
          ]
        },
        {
          "name": "stderr",
          "output_type": "stream",
          "text": [
            "\r 21%|██        | 4/19 [40:40<2:40:39, 642.66s/it]"
          ]
        },
        {
          "name": "stdout",
          "output_type": "stream",
          "text": [
            "Preprocess texts for 2005 year\n"
          ]
        },
        {
          "name": "stderr",
          "output_type": "stream",
          "text": [
            "<ipython-input-8-c84b67b8bd07>:16: FutureWarning: The default value of regex will change from True to False in a future version.\n",
            "  df['clean_text'] = df.clean_text.str.replace('\\s+', ' ')\n"
          ]
        },
        {
          "name": "stdout",
          "output_type": "stream",
          "text": [
            "Null text values: 0\n",
            "Tokenize text\n",
            "Lemmatize text\n",
            "Save dataframe for 2005 year\n"
          ]
        },
        {
          "name": "stderr",
          "output_type": "stream",
          "text": [
            "\r 26%|██▋       | 5/19 [56:36<2:56:16, 755.46s/it]"
          ]
        },
        {
          "name": "stdout",
          "output_type": "stream",
          "text": [
            "Preprocess texts for 2006 year\n"
          ]
        },
        {
          "name": "stderr",
          "output_type": "stream",
          "text": [
            "<ipython-input-8-c84b67b8bd07>:16: FutureWarning: The default value of regex will change from True to False in a future version.\n",
            "  df['clean_text'] = df.clean_text.str.replace('\\s+', ' ')\n"
          ]
        },
        {
          "name": "stdout",
          "output_type": "stream",
          "text": [
            "Null text values: 0\n",
            "Tokenize text\n",
            "Lemmatize text\n",
            "Save dataframe for 2006 year\n"
          ]
        },
        {
          "name": "stderr",
          "output_type": "stream",
          "text": [
            "\r 32%|███▏      | 6/19 [1:13:11<3:01:18, 836.81s/it]"
          ]
        },
        {
          "name": "stdout",
          "output_type": "stream",
          "text": [
            "Preprocess texts for 2007 year\n"
          ]
        },
        {
          "name": "stderr",
          "output_type": "stream",
          "text": [
            "<ipython-input-8-c84b67b8bd07>:16: FutureWarning: The default value of regex will change from True to False in a future version.\n",
            "  df['clean_text'] = df.clean_text.str.replace('\\s+', ' ')\n"
          ]
        },
        {
          "name": "stdout",
          "output_type": "stream",
          "text": [
            "Null text values: 0\n",
            "Tokenize text\n",
            "Lemmatize text\n",
            "Save dataframe for 2007 year\n"
          ]
        },
        {
          "name": "stderr",
          "output_type": "stream",
          "text": [
            "\r 37%|███▋      | 7/19 [1:28:50<2:54:02, 870.20s/it]"
          ]
        },
        {
          "name": "stdout",
          "output_type": "stream",
          "text": [
            "Preprocess texts for 2008 year\n"
          ]
        },
        {
          "name": "stderr",
          "output_type": "stream",
          "text": [
            "<ipython-input-8-c84b67b8bd07>:16: FutureWarning: The default value of regex will change from True to False in a future version.\n",
            "  df['clean_text'] = df.clean_text.str.replace('\\s+', ' ')\n"
          ]
        },
        {
          "name": "stdout",
          "output_type": "stream",
          "text": [
            "Null text values: 0\n",
            "Tokenize text\n",
            "Lemmatize text\n",
            "Save dataframe for 2008 year\n"
          ]
        },
        {
          "name": "stderr",
          "output_type": "stream",
          "text": [
            "\r 42%|████▏     | 8/19 [1:50:30<3:04:39, 1007.21s/it]"
          ]
        },
        {
          "name": "stdout",
          "output_type": "stream",
          "text": [
            "Preprocess texts for 2009 year\n"
          ]
        },
        {
          "name": "stderr",
          "output_type": "stream",
          "text": [
            "<ipython-input-8-c84b67b8bd07>:16: FutureWarning: The default value of regex will change from True to False in a future version.\n",
            "  df['clean_text'] = df.clean_text.str.replace('\\s+', ' ')\n"
          ]
        },
        {
          "name": "stdout",
          "output_type": "stream",
          "text": [
            "Null text values: 0\n",
            "Tokenize text\n",
            "Lemmatize text\n",
            "Save dataframe for 2009 year\n"
          ]
        },
        {
          "name": "stderr",
          "output_type": "stream",
          "text": [
            "\r 47%|████▋     | 9/19 [2:16:05<3:15:22, 1172.27s/it]"
          ]
        },
        {
          "name": "stdout",
          "output_type": "stream",
          "text": [
            "Preprocess texts for 2010 year\n"
          ]
        },
        {
          "name": "stderr",
          "output_type": "stream",
          "text": [
            "<ipython-input-8-c84b67b8bd07>:16: FutureWarning: The default value of regex will change from True to False in a future version.\n",
            "  df['clean_text'] = df.clean_text.str.replace('\\s+', ' ')\n"
          ]
        },
        {
          "name": "stdout",
          "output_type": "stream",
          "text": [
            "Null text values: 0\n",
            "Tokenize text\n",
            "Lemmatize text\n",
            "Save dataframe for 2010 year\n"
          ]
        },
        {
          "name": "stderr",
          "output_type": "stream",
          "text": [
            "\r 53%|█████▎    | 10/19 [2:38:53<3:04:53, 1232.61s/it]"
          ]
        },
        {
          "name": "stdout",
          "output_type": "stream",
          "text": [
            "Preprocess texts for 2011 year\n"
          ]
        },
        {
          "name": "stderr",
          "output_type": "stream",
          "text": [
            "<ipython-input-8-c84b67b8bd07>:16: FutureWarning: The default value of regex will change from True to False in a future version.\n",
            "  df['clean_text'] = df.clean_text.str.replace('\\s+', ' ')\n"
          ]
        },
        {
          "name": "stdout",
          "output_type": "stream",
          "text": [
            "Null text values: 0\n",
            "Tokenize text\n",
            "Lemmatize text\n",
            "Save dataframe for 2011 year\n"
          ]
        },
        {
          "name": "stderr",
          "output_type": "stream",
          "text": [
            "\r 58%|█████▊    | 11/19 [3:01:49<2:50:12, 1276.61s/it]"
          ]
        },
        {
          "name": "stdout",
          "output_type": "stream",
          "text": [
            "Preprocess texts for 2012 year\n"
          ]
        },
        {
          "name": "stderr",
          "output_type": "stream",
          "text": [
            "<ipython-input-8-c84b67b8bd07>:16: FutureWarning: The default value of regex will change from True to False in a future version.\n",
            "  df['clean_text'] = df.clean_text.str.replace('\\s+', ' ')\n"
          ]
        },
        {
          "name": "stdout",
          "output_type": "stream",
          "text": [
            "Null text values: 0\n",
            "Tokenize text\n",
            "Lemmatize text\n",
            "Save dataframe for 2012 year\n"
          ]
        },
        {
          "name": "stderr",
          "output_type": "stream",
          "text": [
            "\r 63%|██████▎   | 12/19 [3:26:41<2:36:33, 1341.86s/it]"
          ]
        },
        {
          "name": "stdout",
          "output_type": "stream",
          "text": [
            "Preprocess texts for 2013 year\n"
          ]
        },
        {
          "name": "stderr",
          "output_type": "stream",
          "text": [
            "<ipython-input-8-c84b67b8bd07>:16: FutureWarning: The default value of regex will change from True to False in a future version.\n",
            "  df['clean_text'] = df.clean_text.str.replace('\\s+', ' ')\n"
          ]
        },
        {
          "name": "stdout",
          "output_type": "stream",
          "text": [
            "Null text values: 0\n",
            "Tokenize text\n",
            "Lemmatize text\n",
            "Save dataframe for 2013 year\n"
          ]
        },
        {
          "name": "stderr",
          "output_type": "stream",
          "text": [
            "\r 68%|██████▊   | 13/19 [3:50:28<2:16:47, 1367.92s/it]"
          ]
        },
        {
          "name": "stdout",
          "output_type": "stream",
          "text": [
            "Preprocess texts for 2014 year\n"
          ]
        },
        {
          "name": "stderr",
          "output_type": "stream",
          "text": [
            "<ipython-input-8-c84b67b8bd07>:16: FutureWarning: The default value of regex will change from True to False in a future version.\n",
            "  df['clean_text'] = df.clean_text.str.replace('\\s+', ' ')\n"
          ]
        },
        {
          "name": "stdout",
          "output_type": "stream",
          "text": [
            "Null text values: 0\n",
            "Tokenize text\n",
            "Lemmatize text\n",
            "Save dataframe for 2014 year\n"
          ]
        },
        {
          "name": "stderr",
          "output_type": "stream",
          "text": [
            "\r 74%|███████▎  | 14/19 [4:09:55<1:48:55, 1307.05s/it]"
          ]
        },
        {
          "name": "stdout",
          "output_type": "stream",
          "text": [
            "Preprocess texts for 2015 year\n"
          ]
        },
        {
          "name": "stderr",
          "output_type": "stream",
          "text": [
            "<ipython-input-8-c84b67b8bd07>:16: FutureWarning: The default value of regex will change from True to False in a future version.\n",
            "  df['clean_text'] = df.clean_text.str.replace('\\s+', ' ')\n"
          ]
        },
        {
          "name": "stdout",
          "output_type": "stream",
          "text": [
            "Null text values: 0\n",
            "Tokenize text\n",
            "Lemmatize text\n",
            "Save dataframe for 2015 year\n"
          ]
        },
        {
          "name": "stderr",
          "output_type": "stream",
          "text": [
            "\r 79%|███████▉  | 15/19 [4:34:05<1:30:00, 1350.21s/it]"
          ]
        },
        {
          "name": "stdout",
          "output_type": "stream",
          "text": [
            "Preprocess texts for 2016 year\n"
          ]
        },
        {
          "name": "stderr",
          "output_type": "stream",
          "text": [
            "<ipython-input-8-c84b67b8bd07>:16: FutureWarning: The default value of regex will change from True to False in a future version.\n",
            "  df['clean_text'] = df.clean_text.str.replace('\\s+', ' ')\n"
          ]
        },
        {
          "name": "stdout",
          "output_type": "stream",
          "text": [
            "Null text values: 0\n",
            "Tokenize text\n",
            "Lemmatize text\n",
            "Save dataframe for 2016 year\n"
          ]
        },
        {
          "name": "stderr",
          "output_type": "stream",
          "text": [
            "\r 84%|████████▍ | 16/19 [5:04:33<1:14:41, 1493.97s/it]"
          ]
        },
        {
          "name": "stdout",
          "output_type": "stream",
          "text": [
            "Preprocess texts for 2017 year\n"
          ]
        },
        {
          "name": "stderr",
          "output_type": "stream",
          "text": [
            "<ipython-input-8-c84b67b8bd07>:16: FutureWarning: The default value of regex will change from True to False in a future version.\n",
            "  df['clean_text'] = df.clean_text.str.replace('\\s+', ' ')\n"
          ]
        },
        {
          "name": "stdout",
          "output_type": "stream",
          "text": [
            "Null text values: 0\n",
            "Tokenize text\n",
            "Lemmatize text\n",
            "Save dataframe for 2017 year\n"
          ]
        },
        {
          "name": "stderr",
          "output_type": "stream",
          "text": [
            "\r 89%|████████▉ | 17/19 [5:30:26<50:23, 1511.80s/it]  "
          ]
        },
        {
          "name": "stdout",
          "output_type": "stream",
          "text": [
            "Preprocess texts for 2018 year\n"
          ]
        },
        {
          "name": "stderr",
          "output_type": "stream",
          "text": [
            "<ipython-input-8-c84b67b8bd07>:16: FutureWarning: The default value of regex will change from True to False in a future version.\n",
            "  df['clean_text'] = df.clean_text.str.replace('\\s+', ' ')\n"
          ]
        },
        {
          "name": "stdout",
          "output_type": "stream",
          "text": [
            "Null text values: 0\n",
            "Tokenize text\n",
            "Lemmatize text\n",
            "Save dataframe for 2018 year\n"
          ]
        },
        {
          "name": "stderr",
          "output_type": "stream",
          "text": [
            "\r 95%|█████████▍| 18/19 [5:50:27<23:38, 1418.38s/it]"
          ]
        },
        {
          "name": "stdout",
          "output_type": "stream",
          "text": [
            "Preprocess texts for 2019 year\n"
          ]
        },
        {
          "name": "stderr",
          "output_type": "stream",
          "text": [
            "<ipython-input-8-c84b67b8bd07>:16: FutureWarning: The default value of regex will change from True to False in a future version.\n",
            "  df['clean_text'] = df.clean_text.str.replace('\\s+', ' ')\n"
          ]
        },
        {
          "name": "stdout",
          "output_type": "stream",
          "text": [
            "Null text values: 0\n",
            "Tokenize text\n",
            "Lemmatize text\n",
            "Save dataframe for 2019 year\n"
          ]
        },
        {
          "name": "stderr",
          "output_type": "stream",
          "text": [
            "100%|██████████| 19/19 [6:18:04<00:00, 1193.92s/it]\n"
          ]
        }
      ],
      "source": [
        "from tqdm import tqdm\n",
        "\n",
        "years = df.year.unique()\n",
        "\n",
        "for year in tqdm(years):\n",
        "    print(f'Preprocess texts for {year} year')\n",
        "    df_year = df[df.year == year].copy()\n",
        "    df_year = preprocess_text(df_year)\n",
        "    print(f'Save dataframe for {year} year')\n",
        "    compression_opts = dict(method='zip', archive_name=f'data_{year}.csv') \n",
        "    df_year.to_csv(f'/content/gdrive/MyDrive/Colab Notebooks/Thesis/Data/News/Common/data_{year}.csv', index=False, compression=compression_opts)"
      ]
    },
    {
      "cell_type": "code",
      "execution_count": null,
      "metadata": {
        "colab": {
          "base_uri": "https://localhost:8080/"
        },
        "id": "2AaMY9liUVGC",
        "outputId": "0bf3ceb3-c160-4e20-ee62-0aa07e14e6b4"
      },
      "outputs": [
        {
          "name": "stderr",
          "output_type": "stream",
          "text": [
            "100%|██████████| 19/19 [1:30:12<00:00, 284.86s/it]\n"
          ]
        }
      ],
      "source": [
        "import pandas as pd\n",
        "from ast import literal_eval\n",
        "from gensim.models import Word2Vec\n",
        "from tqdm import tqdm\n",
        "\n",
        "# Train and save Word2vec models per each year\n",
        "years = [i for i in range(2000, 2020)]\n",
        "for year in tqdm(years):\n",
        "    df_temp = pd.read_csv(f'/content/gdrive/MyDrive/Colab Notebooks/Thesis/Data/News/Common/data_{year}.csv', compression='zip',\n",
        "                   converters={'tokenized_text': literal_eval, 'lemmas': literal_eval})\n",
        "    model = Word2Vec(sentences=df_temp.lemmas, vector_size=300, window=5, min_count=50, \n",
        "                 sg=1, negative=5, ns_exponent=0.75, workers=4)\n",
        "    model.save(f'/content/gdrive/MyDrive/Colab Notebooks/Thesis/Models/News/Word2vec/word2vec_{year}.model')"
      ]
    },
    {
      "cell_type": "code",
      "execution_count": null,
      "metadata": {
        "id": "WiTHHxjrVPxv"
      },
      "outputs": [],
      "source": [
        "# Functions for aligning word embeddings\n",
        "# Source: https://gist.github.com/zhicongchen/9e23d5c3f1e5b1293b16133485cd17d8\n",
        "import gensim\n",
        "import numpy as np\n",
        "\n",
        "def smart_procrustes_align_gensim(base_embed, other_embed, words=None):\n",
        "    \"\"\"\n",
        "    Original script: https://gist.github.com/quadrismegistus/09a93e219a6ffc4f216fb85235535faf\n",
        "    Procrustes align two gensim word2vec models (to allow for comparison between same word across models).\n",
        "    Code ported from HistWords <https://github.com/williamleif/histwords> by William Hamilton <wleif@stanford.edu>.\n",
        "        \n",
        "    First, intersect the vocabularies (see `intersection_align_gensim` documentation).\n",
        "    Then do the alignment on the other_embed model.\n",
        "    Replace the other_embed model's syn0 and syn0norm numpy matrices with the aligned version.\n",
        "    Return other_embed.\n",
        "    If `words` is set, intersect the two models' vocabulary with the vocabulary in words (see `intersection_align_gensim` documentation).\n",
        "    \"\"\"\n",
        "\n",
        "    # patch by Richard So [https://twitter.com/richardjeanso) (thanks!) to update this code for new version of gensim\n",
        "    # base_embed.init_sims(replace=True)\n",
        "    # other_embed.init_sims(replace=True)\n",
        "\n",
        "    # make sure vocabulary and indices are aligned\n",
        "    in_base_embed, in_other_embed = intersection_align_gensim(base_embed, other_embed, words=words)\n",
        "\n",
        "    # get the (normalized) embedding matrices\n",
        "    base_vecs = in_base_embed.wv.get_normed_vectors()\n",
        "    other_vecs = in_other_embed.wv.get_normed_vectors()\n",
        "\n",
        "    # just a matrix dot product with numpy\n",
        "    m = other_vecs.T.dot(base_vecs) \n",
        "    # SVD method from numpy\n",
        "    u, _, v = np.linalg.svd(m)\n",
        "    # another matrix operation\n",
        "    ortho = u.dot(v) \n",
        "    # Replace original array with modified one, i.e. multiplying the embedding matrix by \"ortho\"\n",
        "    other_embed.wv.vectors = (other_embed.wv.vectors).dot(ortho)    \n",
        "    \n",
        "    return other_embed\n",
        "\n",
        "def intersection_align_gensim(m1, m2, words=None):\n",
        "    \"\"\"\n",
        "    Intersect two gensim word2vec models, m1 and m2.\n",
        "    Only the shared vocabulary between them is kept.\n",
        "    If 'words' is set (as list or set), then the vocabulary is intersected with this list as well.\n",
        "    Indices are re-organized from 0..N in order of descending frequency (=sum of counts from both m1 and m2).\n",
        "    These indices correspond to the new syn0 and syn0norm objects in both gensim models:\n",
        "        -- so that Row 0 of m1.syn0 will be for the same word as Row 0 of m2.syn0\n",
        "        -- you can find the index of any word on the .index2word list: model.index2word.index(word) => 2\n",
        "    The .vocab dictionary is also updated for each model, preserving the count but updating the index.\n",
        "    \"\"\"\n",
        "\n",
        "    # Get the vocab for each model\n",
        "    vocab_m1 = set(m1.wv.index_to_key)\n",
        "    vocab_m2 = set(m2.wv.index_to_key)\n",
        "\n",
        "    # Find the common vocabulary\n",
        "    common_vocab = vocab_m1 & vocab_m2\n",
        "    if words: common_vocab &= set(words)\n",
        "\n",
        "    # If no alignment necessary because vocab is identical...\n",
        "    if not vocab_m1 - common_vocab and not vocab_m2 - common_vocab:\n",
        "        return (m1,m2)\n",
        "\n",
        "    # Otherwise sort by frequency (summed for both)\n",
        "    common_vocab = list(common_vocab)\n",
        "    common_vocab.sort(key=lambda w: m1.wv.get_vecattr(w, \"count\") + m2.wv.get_vecattr(w, \"count\"), reverse=True)\n",
        "    # print(len(common_vocab))\n",
        "\n",
        "    # Then for each model...\n",
        "    for m in [m1, m2]:\n",
        "        # Replace old syn0norm array with new one (with common vocab)\n",
        "        indices = [m.wv.key_to_index[w] for w in common_vocab]\n",
        "        old_arr = m.wv.vectors\n",
        "        new_arr = np.array([old_arr[index] for index in indices])\n",
        "        m.wv.vectors = new_arr\n",
        "\n",
        "        # Replace old vocab dictionary with new one (with common vocab)\n",
        "        # and old index2word with new one\n",
        "        new_key_to_index = {}\n",
        "        new_index_to_key = []\n",
        "        for new_index, key in enumerate(common_vocab):\n",
        "            new_key_to_index[key] = new_index\n",
        "            new_index_to_key.append(key)\n",
        "        m.wv.key_to_index = new_key_to_index\n",
        "        m.wv.index_to_key = new_index_to_key\n",
        "        \n",
        "        print(len(m.wv.key_to_index), len(m.wv.vectors))\n",
        "        \n",
        "    return (m1,m2)"
      ]
    },
    {
      "cell_type": "code",
      "execution_count": null,
      "metadata": {
        "colab": {
          "base_uri": "https://localhost:8080/"
        },
        "id": "wTiK4Enlz74f",
        "outputId": "d30a3a02-52df-4bc6-adbd-f222e5f3fa44"
      },
      "outputs": [
        {
          "output_type": "stream",
          "name": "stdout",
          "text": [
            "8516 8516\n",
            "8516 8516\n",
            "4190 4190\n",
            "4190 4190\n",
            "4190 4190\n",
            "4190 4190\n"
          ]
        }
      ],
      "source": [
        "from gensim.models import Word2Vec\n",
        "\n",
        "# Align word embeddings for years 2000, 2009, and 2019 (use shared vocabulary)\n",
        "years = [2000, 2009]\n",
        "\n",
        "models_dict_2 = {}\n",
        "\n",
        "model_2019 = Word2Vec.load('/content/gdrive/MyDrive/Colab Notebooks/Thesis/Models/News/Word2vec/word2vec_2019.model')\n",
        "model_2009 = Word2Vec.load(f'/content/gdrive/MyDrive/Colab Notebooks/Thesis/Models/News/Word2vec/word2vec_2009.model')\n",
        "m_2019, m_2009 = intersection_align_gensim(model_2019, model_2009)\n",
        "words = m_2009.wv.key_to_index\n",
        "\n",
        "for year in years:\n",
        "    model_2019 = Word2Vec.load('/content/gdrive/MyDrive/Colab Notebooks/Thesis/Models/News/Word2vec/word2vec_2019.model')\n",
        "    model_2 = Word2Vec.load(f'/content/gdrive/MyDrive/Colab Notebooks/Thesis/Models/News/Word2vec/word2vec_{year}.model')\n",
        "    m_2019, m_2 = intersection_align_gensim(model_2019, model_2, words=words)\n",
        "    m_2_modified = smart_procrustes_align_gensim(m_2019, m_2, words=words)\n",
        "    models_dict_2[f'm_{year}_modified'] = m_2_modified\n",
        "    words = m_2019.wv.key_to_index"
      ]
    },
    {
      "cell_type": "code",
      "source": [
        "import json\n",
        "\n",
        "with open('/content/gdrive/MyDrive/Colab Notebooks/Thesis/Data/News/Common/shared_words_news.json', 'w') as f:\n",
        "    json.dump(words, f)"
      ],
      "metadata": {
        "id": "VeP6kN8XJvUo"
      },
      "execution_count": null,
      "outputs": []
    },
    {
      "cell_type": "code",
      "execution_count": null,
      "metadata": {
        "colab": {
          "base_uri": "https://localhost:8080/"
        },
        "id": "wK3Bbbzb1NGD",
        "outputId": "f42eb7a0-0a9d-44ee-aec2-0382e9f8504b"
      },
      "outputs": [
        {
          "output_type": "stream",
          "name": "stderr",
          "text": [
            "100%|██████████| 4190/4190 [00:01<00:00, 3169.09it/s]\n"
          ]
        }
      ],
      "source": [
        "from sklearn.metrics.pairwise import cosine_similarity\n",
        "from tqdm import tqdm\n",
        "\n",
        "# Compute cosine similarities\n",
        "model_2000_modified = models_dict_2['m_2000_modified']\n",
        "cosine_similarities ={}\n",
        "\n",
        "for word in tqdm(model_2000_modified.wv.index_to_key):\n",
        "    cosine_similarities[word] = cosine_similarity([model_2000_modified.wv[word]], \n",
        "                                                  [model_2019.wv[word]])[0][0]"
      ]
    },
    {
      "cell_type": "code",
      "source": [
        "model_2009_modified = models_dict_2['m_2009_modified']"
      ],
      "metadata": {
        "id": "S28Ff4v-f6mK"
      },
      "execution_count": null,
      "outputs": []
    },
    {
      "cell_type": "code",
      "execution_count": null,
      "metadata": {
        "colab": {
          "base_uri": "https://localhost:8080/"
        },
        "id": "XImaUphbz78B",
        "outputId": "cfe825ba-8315-40fb-9dbb-06eccb042611"
      },
      "outputs": [
        {
          "output_type": "stream",
          "name": "stdout",
          "text": [
            "('альберт', 0.22245975)\n",
            "['республиканец', 'джордж', 'демократ', 'гора', 'младший']\n",
            "['франциско', 'йоркский', 'джордж', 'томас', 'бин']\n",
            "('видео', 0.22394714)\n",
            "['телевизионный', 'документальный', 'классический', 'музыкальный', 'цифровой']\n",
            "['кадр', 'запись', 'снятой', 'фотография', 'опубликовать']\n",
            "('родригес', 0.26231366)\n",
            "['венесуэла', 'али', 'опек', 'экспортёр', 'ливия']\n",
            "['перес', 'хосе', 'кэтрин', 'хуан', 'бен']\n",
            "('рогозин', 0.29252902)\n",
            "['думский', 'пас', 'президиум', 'егор', 'обсе']\n",
            "['байконур', 'космодром', 'мкс', 'орбитальный', 'космический']\n",
            "('кстати', 0.29694915)\n",
            "['итальянец', 'голландец', 'четвёрка', 'таблица', 'американка']\n",
            "['господин', 'просто', 'любить', 'мы', 'думать']\n",
            "('гора', 0.29807618)\n",
            "['альберт', 'республиканец', 'джордж', 'демократ', 'бич']\n",
            "['лавина', 'побережье', 'горный', 'окраина', 'ущелие']\n",
            "('титов', 0.29917076)\n",
            "['константин', 'артемьев', 'станислав', 'губернаторский', 'егор']\n",
            "['уполномоченный', 'борис', 'герман', 'предприниматель', 'колесников']\n",
            "('подъём', 0.30239993)\n",
            "['дно', 'апл', 'затонуть', 'моряк', 'поверхность']\n",
            "['дождь', 'комсомольский', 'канал', 'река', 'комсомолец']\n",
            "('рубин', 0.30673248)\n",
            "['джеймс', 'ричард', 'норвежский', 'вмф', 'конструктор']\n",
            "['локомотив', 'армеец', 'цска', 'казанский', 'динамо']\n",
            "('зато', 0.30943403)\n",
            "['получиться', 'англичанин', 'выглядеть', 'прекрасный', 'голландец']\n",
            "['просто', 'казаться', 'ваш', 'мой', 'близлежащий']\n",
            "('наряд', 0.3102458)\n",
            "['патруль', 'патрульный', 'оцепить', 'усиленный', 'проезжать']\n",
            "['костюм', 'одетый', 'сумка', 'одежда', 'свадьба']\n",
            "('кристалл', 0.32433695)\n",
            "['романов', 'гендиректор', 'комбинат', 'вгтрк', 'металлургический']\n",
            "['цех', 'комбинат', 'нижегородский', 'взрыв', 'цветной']\n",
            "('смена', 0.32503945)\n",
            "['лебедев', 'кристалл', 'вгтрк', 'менеджер', 'романов']\n",
            "['антитеррористический', 'центральный', 'прийти', 'рядовой', 'независимость']\n",
            "('григорий', 0.32738096)\n",
            "['артемьев', 'станислав', 'лдпр', 'константин', 'яблоко']\n",
            "['рбк', 'принадлежащий', 'тасс', 'известие', 'ссылка']\n",
            "('марат', 0.32780704)\n",
            "['теннисист', 'россиянка', 'теннисистка', 'теннисный', 'полуфинал']\n",
            "['романов', 'иван', 'галина', 'эдуард', 'колесников']\n",
            "('быков', 0.33348325)\n",
            "['невыезд', 'подзащитный', 'красноярский', 'стража', 'подписка']\n",
            "['писатель', 'эхо', 'госпитализировать', 'больница', 'комсомолец']\n",
            "('красота', 0.33398944)\n",
            "['дебют', 'сняться', 'сценарист', 'голливудский', 'джонс']\n",
            "['мэри', 'королева', 'конкурс', 'фигура', 'принцесса']\n",
            "('кольцо', 0.33549988)\n",
            "['проспект', 'трасса', 'шоссе', 'автодорога', 'набережная']\n",
            "['камень', 'свадьба', 'драгоценный', 'подарок', 'гарри']\n",
            "('миротворец', 0.33555463)\n",
            "['контингент', 'миротворческий', 'серб', 'повстанец', 'косово']\n",
            "['вгтрк', 'миротворческий', 'сепаратист', 'персональный', 'база']\n",
            "('чайка', 0.33937418)\n",
            "['ковалёв', 'отстранение', 'генпрокурор', 'валентина', 'валентин']\n",
            "['генпрокурор', 'доложить', 'юрий', 'прокурор', 'полномочный']\n"
          ]
        }
      ],
      "source": [
        "top_20 = sorted(cosine_similarities.items(), key=lambda item: item[1])[:20]\n",
        "\n",
        "for word in top_20:\n",
        "    print(word)\n",
        "    print([w for w,v in model_2000_modified.wv.most_similar(word[0], topn=5)])\n",
        "    print([w for w,v in model_2019.wv.most_similar(word[0], topn=5)])"
      ]
    },
    {
      "cell_type": "code",
      "source": [
        "import numpy as np\n",
        "from sklearn.manifold import TSNE\n",
        "import matplotlib.pyplot as plt\n",
        "from tqdm import tqdm\n",
        "\n",
        "words = ['видео', 'рогозин', 'наряд']\n",
        "\n",
        "model_2019 = Word2Vec.load('/content/gdrive/MyDrive/Colab Notebooks/Thesis/Models/News/Word2vec/word2vec_2019.model')\n",
        "vectors = model_2019.wv\n",
        "\n",
        "points = []\n",
        "all_keys = []\n",
        "\n",
        "for word in tqdm(words):\n",
        "    key_word_embed = [model_2000_modified.wv[word],\n",
        "                      vectors[word]]                  \n",
        "    most_similar = {}\n",
        "    for embed in key_word_embed:\n",
        "        similars = [x[0] for x in vectors.most_similar(embed, topn=10)]\n",
        "        for w in similars:\n",
        "            if w == word:\n",
        "                continue\n",
        "            if w not in most_similar:\n",
        "                w_embed = vectors[w]\n",
        "                most_similar[w] = w_embed\n",
        "\n",
        "    # Fit t-SNE\n",
        "    keys = [key for key in most_similar.keys()]\n",
        "    values = [most_similar[key] for key in keys]\n",
        "    keys.extend([f'{word}_2000', f'{word}_2019'])\n",
        "    values.extend(key_word_embed)\n",
        "    mat = np.array(values)\n",
        "    model = TSNE(n_components=2, random_state=0, init='pca', perplexity=10)\n",
        "    fitted = model.fit_transform(mat)\n",
        "    points.append(fitted)\n",
        "    all_keys.append(keys)\n",
        "\n",
        "fig, ax = plt.subplots(1, 3)\n",
        "\n",
        "fig.set_figheight(8)\n",
        "fig.set_figwidth(25)\n",
        "\n",
        "for j in range(3):\n",
        "    fitted = points[j]\n",
        "    x = fitted[:, 0]\n",
        "    y = fitted[:, 1]\n",
        "    keys = all_keys[j]\n",
        "\n",
        "    ax[j].scatter(x, y)\n",
        "\n",
        "    for i, txt in enumerate(keys):\n",
        "        if len(keys) - i <= 2:\n",
        "            ax[j].annotate(txt, (x[i], y[i]), weight='bold')\n",
        "        else:\n",
        "            ax[j].annotate(txt, (x[i], y[i]))\n",
        "    \n",
        "    ax[j].arrow(fitted[-2, 0], fitted[-2, 1], (fitted[-1, 0] - fitted[-2, 0]), \n",
        "              (fitted[-1, 1] - fitted[-2, 1]), facecolor='blue', alpha=0.3, width=0.5,\n",
        "              head_length=0.75, length_includes_head=True)\n",
        "fig.savefig(f'/content/gdrive/MyDrive/Colab Notebooks/Thesis/Vectors/news_w2v.png')"
      ],
      "metadata": {
        "colab": {
          "base_uri": "https://localhost:8080/",
          "height": 624
        },
        "id": "9TC0hyvrOgk9",
        "outputId": "41b3a1ac-75e7-4e98-a8bb-ff1fd4679167"
      },
      "execution_count": null,
      "outputs": [
        {
          "output_type": "stream",
          "name": "stderr",
          "text": [
            "100%|██████████| 3/3 [00:00<00:00,  3.85it/s]\n"
          ]
        },
        {
          "output_type": "display_data",
          "data": {
            "text/plain": [
              "<Figure size 2500x800 with 3 Axes>"
            ],
            "image/png": "[encoded data removed]"
          },
          "metadata": {}
        }
      ]
    }
  ],
  "metadata": {
    "colab": {
      "provenance": []
    },
    "kernelspec": {
      "display_name": "Python 3",
      "name": "python3"
    },
    "language_info": {
      "name": "python"
    }
  },
  "nbformat": 4,
  "nbformat_minor": 0
}