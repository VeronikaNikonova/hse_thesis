{
  "nbformat": 4,
  "nbformat_minor": 0,
  "metadata": {
    "colab": {
      "provenance": []
    },
    "kernelspec": {
      "name": "python3",
      "display_name": "Python 3"
    },
    "language_info": {
      "name": "python"
    }
  },
  "cells": [
    {
      "cell_type": "code",
      "execution_count": null,
      "metadata": {
        "colab": {
          "base_uri": "https://localhost:8080/"
        },
        "id": "6RpQeGa7hM43",
        "outputId": "a36da41d-9239-49ba-e84f-272ba6a978f5"
      },
      "outputs": [
        {
          "output_type": "stream",
          "name": "stdout",
          "text": [
            "Mounted at /content/gdrive/\n"
          ]
        }
      ],
      "source": [
        "from google.colab import drive \n",
        "drive.mount('/content/gdrive/')"
      ]
    },
    {
      "cell_type": "code",
      "source": [
        "# Get co-occurences\n",
        "import pandas as pd\n",
        "import numpy as np\n",
        "from collections import defaultdict\n",
        "\n",
        "def co_occurrence(sentences, window_size, vocab):\n",
        "    d = defaultdict(int)\n",
        "    for text in sentences:\n",
        "        # iterate over sentences\n",
        "        for i in range(len(text)):\n",
        "            token = text[i]\n",
        "            if token in vocab:\n",
        "                next_token = text[i+1 : i+1+window_size]\n",
        "                for t in next_token:\n",
        "                    if t in vocab:\n",
        "                        key = tuple(sorted([t, token]))\n",
        "                        d[key] += 1\n",
        "    \n",
        "    # formulate the dictionary into dataframe\n",
        "    df = pd.DataFrame(data=np.zeros((len(vocab), len(vocab)), dtype=np.int16),\n",
        "                      index=vocab,\n",
        "                      columns=vocab)\n",
        "    for key, value in d.items():\n",
        "        df.at[key[0], key[1]] = value\n",
        "        df.at[key[1], key[0]] = value\n",
        "    return df"
      ],
      "metadata": {
        "id": "T5LqReJ1CQVv"
      },
      "execution_count": null,
      "outputs": []
    },
    {
      "cell_type": "code",
      "source": [
        "import numpy as np\n",
        "\n",
        "# Get PMI\n",
        "def pmi(df, positive=True):\n",
        "    col_totals = df.sum(axis=0)\n",
        "    total = col_totals.sum()\n",
        "    row_totals = df.sum(axis=1)\n",
        "    expected = np.outer(row_totals, col_totals) / total\n",
        "    df = df / expected\n",
        "    # Silence distracting warnings about log(0):\n",
        "    with np.errstate(divide='ignore'):\n",
        "        df = np.log(df)\n",
        "    df[np.isinf(df)] = 0.0  # log(0) = 0\n",
        "    if positive:\n",
        "        df[df < 0] = 0.0\n",
        "    return df"
      ],
      "metadata": {
        "id": "cra3nt8GZ4Lh"
      },
      "execution_count": null,
      "outputs": []
    },
    {
      "cell_type": "code",
      "source": [
        "window_size = 5"
      ],
      "metadata": {
        "id": "BVOgU7tuFkcE"
      },
      "execution_count": null,
      "outputs": []
    },
    {
      "cell_type": "code",
      "source": [
        "from gensim.models import Word2Vec\n",
        "from tqdm import tqdm\n",
        "from ast import literal_eval\n",
        "\n",
        "# Collect all vocabulary\n",
        "all_vocab = set()\n",
        "years = [i for i in range(2000, 2020)]\n",
        "for year in tqdm(years):\n",
        "    model = Word2Vec.load(f'/content/gdrive/MyDrive/Colab Notebooks/Thesis/Models/News/Word2vec/word2vec_{year}.model')\n",
        "    vocab = model.wv.index_to_key\n",
        "    all_vocab.update(vocab)"
      ],
      "metadata": {
        "colab": {
          "base_uri": "https://localhost:8080/"
        },
        "id": "fFgadRJZ8OCf",
        "outputId": "7820e740-00bd-41e7-a520-730bc48cbf88"
      },
      "execution_count": null,
      "outputs": [
        {
          "output_type": "stream",
          "name": "stderr",
          "text": [
            "100%|██████████| 20/20 [00:15<00:00,  1.30it/s]\n"
          ]
        }
      ]
    },
    {
      "cell_type": "code",
      "source": [
        "len(all_vocab)"
      ],
      "metadata": {
        "colab": {
          "base_uri": "https://localhost:8080/"
        },
        "id": "t0s2EqErEcAf",
        "outputId": "e8673c8e-20a8-438a-dad5-be53d7075484"
      },
      "execution_count": null,
      "outputs": [
        {
          "output_type": "execute_result",
          "data": {
            "text/plain": [
              "19121"
            ]
          },
          "metadata": {},
          "execution_count": 4
        }
      ]
    },
    {
      "cell_type": "code",
      "source": [
        "import json\n",
        "\n",
        "with open('/content/gdrive/MyDrive/Colab Notebooks/Thesis/Data/News/Dynamic/news_all_vocab.json', 'w', encoding='utf-8') as f:\n",
        "    json.dump(json.dumps(all_vocab), f)"
      ],
      "metadata": {
        "id": "rubue34d_UmN"
      },
      "execution_count": null,
      "outputs": []
    },
    {
      "cell_type": "code",
      "source": [
        "import json\n",
        "\n",
        "with open('/content/gdrive/MyDrive/Colab Notebooks/Thesis/Data/News/Dynamic/news_all_vocab.json', 'r', encoding='utf-8') as f:\n",
        "    all_vocab = json.loads(json.load(f))"
      ],
      "metadata": {
        "id": "7SIB36xU_1XQ"
      },
      "execution_count": null,
      "outputs": []
    },
    {
      "cell_type": "code",
      "source": [
        "word_to_index = {w: i for i, w in enumerate(all_vocab)}"
      ],
      "metadata": {
        "id": "h4oSQsMaeySB"
      },
      "execution_count": null,
      "outputs": []
    },
    {
      "cell_type": "code",
      "source": [
        "import numpy as np\n",
        "\n",
        "# Initialize U matrix with static embeddings\n",
        "years = [i for i in range(2000, 2020)]\n",
        "U = [np.zeros((len(all_vocab), 300)) for t in years]\n",
        "\n",
        "i = 0\n",
        "for year in tqdm(years):\n",
        "    model = Word2Vec.load(f'/content/gdrive/MyDrive/Colab Notebooks/Thesis/Models/News/Word2vec/word2vec_{year}.model')\n",
        "    for word in model.wv.index_to_key:\n",
        "        if word not in word_to_index:\n",
        "            continue\n",
        "        embed = model.wv[word]\n",
        "        U[i][word_to_index[word]] = embed\n",
        "    i += 1\n",
        "U = np.asarray(U)"
      ],
      "metadata": {
        "id": "cPSFEuGtbDHX"
      },
      "execution_count": null,
      "outputs": []
    },
    {
      "cell_type": "code",
      "source": [
        "from sklearn.decomposition import PCA\n",
        "from tqdm import tqdm\n",
        "\n",
        "# Reduce the dimensionality of word embeddings from 300 to 50\n",
        "U_new = []\n",
        "for i in tqdm(range(len(U))):\n",
        "    pca = PCA(n_components=50)\n",
        "    fitted = pca.fit_transform(U[i])\n",
        "    U_new.append(fitted)"
      ],
      "metadata": {
        "id": "K6u-cBwNbDL3"
      },
      "execution_count": null,
      "outputs": []
    },
    {
      "cell_type": "code",
      "source": [
        "with open('/content/gdrive/MyDrive/Colab Notebooks/Thesis/Data/News/Dynamic/news_U_matrix.npy', 'wb') as f:\n",
        "    np.save(f, U)"
      ],
      "metadata": {
        "id": "8ryS-9cEbp21"
      },
      "execution_count": null,
      "outputs": []
    },
    {
      "cell_type": "code",
      "source": [
        "with open('/content/gdrive/MyDrive/Colab Notebooks/Thesis/Data/News/Dynamic/news_U_matrix.npy', 'rb') as f:\n",
        "    U = np.load(f)"
      ],
      "metadata": {
        "id": "WMBICtlcbp6s"
      },
      "execution_count": null,
      "outputs": []
    },
    {
      "cell_type": "code",
      "source": [
        "import pandas as pd\n",
        "from gensim.models import Word2Vec\n",
        "from tqdm import tqdm\n",
        "from ast import literal_eval\n",
        "\n",
        "# Compute PPMI\n",
        "years = [i for i in range(2000, 2020)]\n",
        "k = 0\n",
        "for year in tqdm(years):\n",
        "    df_temp = pd.read_csv(f'/content/gdrive/MyDrive/Colab Notebooks/Thesis/Data/News/Dynamic/News/data_{year}.csv', compression='zip',\n",
        "                              converters={'tokenized_text': literal_eval, 'lemmas': literal_eval})\n",
        "    \n",
        "    model = Word2Vec.load(f'/content/gdrive/MyDrive/Colab Notebooks/Theis/Models/News/Word2vec/word2vec_5w_{year}.model')\n",
        "    model_vocab = set(model.wv.index_to_key)\n",
        "    vocab = list(model_vocab.intersection(set(all_vocab)))                \n",
        "    ppmi_df = co_occurrence(df_temp.lemmas, window_size, vocab)\n",
        "\n",
        "    column_words = ppmi_df.columns\n",
        "    ppmi_df.index = column_words\n",
        "    ppmi_df = pmi(ppmi_df)\n",
        "    df_list = None\n",
        "\n",
        "    for i in tqdm(range(len(ppmi_df.index))):\n",
        "        word_1 = ppmi_df.index[i]\n",
        "        for j in range(i, len(column_words)):\n",
        "            word_2 = column_words[j]         \n",
        "            if ppmi_df[word_1][word_2] > 0:\n",
        "                if df_list is None:\n",
        "                    df_list = [[word_to_index[word_1], word_to_index[word_2], ppmi_df[word_1][word_2]]]\n",
        "                else:\n",
        "                    df_list.append([word_to_index[word_1], word_to_index[word_2], ppmi_df[word_1][word_2]])\n",
        "\n",
        "    df = pd.DataFrame(df_list)\n",
        "\n",
        "    compression_opts = dict(method='zip', archive_name=f'list_ppmi_{k}.csv') \n",
        "    df.to_csv(f'/content/gdrive/MyDrive/Colab Notebooks/Thesis/Data/News/Dynamic/list_ppmi_5w_{k}.csv', index=False, compression=compression_opts)\n",
        "    k += 1"
      ],
      "metadata": {
        "id": "_7ZxyJMbcI_J"
      },
      "execution_count": null,
      "outputs": []
    },
    {
      "cell_type": "markdown",
      "source": [
        "Train the model"
      ],
      "metadata": {
        "id": "pxEBr9IkfCtN"
      }
    },
    {
      "cell_type": "code",
      "source": [
        "# Code is based on https://github.com/yifan0sun/DynamicWord2Vec/tree/master\n",
        "\n",
        "#utility functions for running the CD method\n",
        "#loss: min 1/2 \\sum_t | Yt - UtVt' |^2 + lam/2 \\sum_t(|Ut|^2 + |Vt|^2) + \n",
        "#                                        tau/2 \\sum_t>1(|Vt - Vt-1|^2 + |Ut - Ut-1|^2)\n",
        "#                                        gam/2 \\sum_t (|Ut - Vt|^2)\n",
        "\n",
        "import numpy as np\n",
        "import scipy.io as sio\n",
        "import copy\n",
        "def update(U,Y,Vm1,Vp1,lam,tau,gam,ind,iflag):\n",
        "    \n",
        "    UtU = np.dot(U.T,U) # rxr\n",
        "    r = UtU.shape[0]    \n",
        "    if iflag:   M   = UtU + (lam + 2*tau + gam)*np.eye(r)\n",
        "    else:       M   = UtU + (lam + tau + gam)*np.eye(r)\n",
        "       \n",
        "    Uty = np.dot(U.T,Y) # rxb\n",
        "    Ub  = U[ind,:].T   # rxb\n",
        "    A   = Uty + gam*Ub + tau*(Vm1.T+Vp1.T)  # rxb\n",
        "    Vhat = np.linalg.lstsq(M,A) #rxb\n",
        "    return Vhat[0].T #bxr\n",
        "\n",
        "\n",
        "#for the above function, the equations are to update V. So:\n",
        "#Y is n X b (b = batch size)\n",
        "#r = rank\n",
        "#U is n X r\n",
        "#Vm1 and Vp1 are bXr. so they are b rows of V, transposed\n",
        "\n",
        "def import_static_init(T):\n",
        "    with open('/content/gdrive/MyDrive/Colab Notebooks/Thesis/Data/News/Dynamic/news_U_matrix.npy', 'rb') as f:\n",
        "        emb = np.load(f)\n",
        "    U = [copy.deepcopy(emb[t]) for t in T]\n",
        "    V = [copy.deepcopy(emb[t]) for t in T]\n",
        "    return U,V\n",
        "\n",
        "def initvars(vocab_size,T,rank):\n",
        "    # dictionary will store the variables U and V. tuple (t,i) indexes time t and word index i\n",
        "    \n",
        "    U,V = [],[]\n",
        "    U.append(np.random.randn(vocab_size,rank)/np.sqrt(rank))\n",
        "    V.append(np.random.randn(vocab_size,rank)/np.sqrt(rank))\n",
        "    for t in range(1,T):\n",
        "        U.append(U[0].copy())\n",
        "        V.append(V[0].copy())\n",
        "        print(t)\n",
        "    return U,V\n",
        "    \n",
        "import pandas as pd\n",
        "import scipy.sparse as ss\n",
        "def getmat(f,v,rowflag):\n",
        "    data = pd.read_csv(f, compression='zip')\n",
        "    data = data.values\n",
        "    \n",
        "    X = ss.coo_matrix((data[:,2],(data[:,0],data[:,1])),shape=(v,v))\n",
        "    \n",
        "    if rowflag: \n",
        "        X = ss.csr_matrix(X)\n",
        "        # X = X[inds,:]\n",
        "    else:\n",
        "        X = ss.csc_matrix(X)\n",
        "        # X = X[:,inds]\n",
        "    \n",
        "    return X#.todense()\n",
        "\n",
        "def getbatches(vocab,b):\n",
        "    batchinds = []\n",
        "    current = 0\n",
        "    while current<vocab:\n",
        "        inds = range(current,min(current+b,vocab))\n",
        "        current = min(current+b,vocab)\n",
        "        batchinds.append(inds)\n",
        "    return batchinds\n",
        "\n",
        "#   THE FOLLOWING FUNCTION TAKES A WORD ID AND RETURNS CLOSEST WORDS BY COSINE DISTANCE\n",
        "from sklearn.metrics.pairwise import cosine_similarity\n",
        "def getclosest(wid,U):\n",
        "    C = []\n",
        "    for t in range(len(U)):\n",
        "        temp = U[t]\n",
        "        K = cosine_similarity([temp[wid,:]],temp)\n",
        "        mxinds = np.argsort(-K)\n",
        "        mxinds = mxinds[0:10]\n",
        "        C.append(mxinds)\n",
        "    return C\n",
        "        \n",
        "# THE FOLLOWING FUNCTIONS COMPUTES THE REGULARIZER SCORES GIVEN U AND V ENTRIES\n",
        "def compute_symscore(U,V):\n",
        "    return np.linalg.norm(U-V)**2\n",
        "\n",
        "def compute_smoothscore(U,Um1,Up1):\n",
        "    X = np.linalg.norm(U-Up1)**2 + np.linalg.norm(U-Um1)**2\n",
        "    return X"
      ],
      "metadata": {
        "id": "AkctB4lixBX0"
      },
      "execution_count": null,
      "outputs": []
    },
    {
      "cell_type": "code",
      "source": [
        "# Code is based on https://github.com/yifan0sun/DynamicWord2Vec/tree/master\n",
        "\n",
        "# main script for time CD \n",
        "# trainfile has lines of the form\n",
        "# tok1,tok2,pmi\n",
        "\n",
        "import numpy as np\n",
        "import pickle as pickle\n",
        "\n",
        "# PARAMETERS\n",
        "\n",
        "nw = 19121 # number of words in vocab\n",
        "T = range(20) # total number of time points\n",
        "cuda = False \n",
        "\n",
        "trainhead = '/content/gdrive/MyDrive/Colab Notebooks/Thesis/Data/News/Dynamic/list_ppmi_' # location of training data\n",
        "savehead = '/content/gdrive/MyDrive/Colab Notebooks/Thesis/Models/News/Dynamic/Results/'\n",
        "    \n",
        "def print_params(r,lam,tau,gam,emph,ITERS):\n",
        "    \n",
        "    print('rank = {}'.format(r))\n",
        "    print('frob  regularizer = {}'.format(lam))\n",
        "    print('time  regularizer = {}'.format(tau))\n",
        "    print('symmetry regularizer = {}'.format(gam))\n",
        "    print('emphasize param   = {}'.format(emph))\n",
        "    print('total iterations = {}'.format(ITERS))\n",
        "    \n",
        "if __name__=='__main__':\n",
        "    import sys\n",
        "    ITERS = 20 # total passes over the data\n",
        "    lam = 10 #frob regularizer\n",
        "    gam = 50 # forcing regularizer\n",
        "    tau = 50  # smoothing regularizer\n",
        "    r   = 50  # rank\n",
        "    b = nw # batch size\n",
        "    emph = 1 # emphasize the nonzero\n",
        "\n",
        "    foo = sys.argv\n",
        "    for i in range(1,len(foo)):\n",
        "        if foo[i]=='-r':    r = int(float(foo[i+1]))        \n",
        "        if foo[i]=='-iters': ITERS = int(float(foo[i+1]))            \n",
        "        if foo[i]=='-lam':    lam = float(foo[i+1])\n",
        "        if foo[i]=='-tau':    tau = float(foo[i+1])\n",
        "        if foo[i]=='-gam':    gam = float(foo[i+1])\n",
        "        if foo[i]=='-b':    b = int(float(foo[i+1]))\n",
        "        if foo[i]=='-emph': emph = float(foo[i+1])\n",
        "        if foo[i]=='-check': erchk=foo[i+1]\n",
        "    \n",
        "        \n",
        "    savefile = savehead+'L'+str(lam)+'T'+str(tau)+'G'+str(gam)+'A'+str(emph)\n",
        "    \n",
        "    print('starting training with following parameters')\n",
        "    print_params(r,lam,tau,gam,emph,ITERS)\n",
        "    print('there are a total of {} words, and {} time points'.format(nw,T))\n",
        "    \n",
        "    print('X*X*X*X*X*X*X*X*X')\n",
        "    print('initializing')\n",
        "    \n",
        "    Ulist,Vlist = import_static_init(T)\n",
        "\n",
        "    print('getting batch indices')\n",
        "    if b < nw:\n",
        "        b_ind = getbatches(nw,b)\n",
        "    else:\n",
        "        b_ind = [range(nw)]\n",
        "    \n",
        "    import time\n",
        "    start_time = time.time()\n",
        "    # sequential updates\n",
        "    for iteration in range(ITERS):  \n",
        "        print_params(r,lam,tau,gam,emph,ITERS)\n",
        "        try:\n",
        "            Ulist = pickle.load(open( \"%sngU_iter%d.p\" % (savefile,iteration), \"rb\" ) )\n",
        "            Vlist = pickle.load(open( \"%sngV_iter%d.p\" % (savefile, iteration), \"rb\" ) )\n",
        "            print(f'iteration {iteration} loaded succesfully')\n",
        "            continue\n",
        "        except(IOError):\n",
        "            pass\n",
        "        loss = 0\n",
        "        # shuffle times\n",
        "        if iteration == 0: times = T\n",
        "        else: times = np.random.permutation(T)\n",
        "        \n",
        "        for t in range(len(times)):   # select a time\n",
        "            print(f'iteration {iteration}, time {t}')\n",
        "            f = trainhead + str(t) + '.csv'\n",
        "            print(f)\n",
        "            \n",
        "            pmi = getmat(f,nw,False)\n",
        "\n",
        "            if t == 0:\n",
        "                loss_t = (1/2) * np.linalg.norm(pmi.todense() - np.dot(Ulist[t], Vlist[t].T))**2 + (gam/2) * np.linalg.norm(Ulist[t]-Vlist[t])**2 \\\n",
        "                          + (lam/2) * np.linalg.norm(Ulist[t])**2 + (lam/2) * np.linalg.norm(Vlist[t])**2 \n",
        "            else:\n",
        "                loss_t = (1/2) * np.linalg.norm(pmi.todense() - np.dot(Ulist[t], Vlist[t].T))**2 + (gam/2) * np.linalg.norm(Ulist[t]-Vlist[t])**2 \\\n",
        "                          + (lam/2) * np.linalg.norm(Ulist[t])**2 + (tau/2) * np.linalg.norm(Ulist[t-1] - Ulist[t])**2 \\\n",
        "                          + (lam/2) * np.linalg.norm(Vlist[t])**2 + (tau/2) * np.linalg.norm(Vlist[t-1] - Vlist[t])**2\n",
        "            loss += loss_t    \n",
        "\n",
        "            for j in range(len(b_ind)): # select a mini batch\n",
        "                print(f'{j} out of {len(b_ind)}')\n",
        "                ind = b_ind[j]\n",
        "                ## UPDATE V\n",
        "                # get data\n",
        "                pmi_seg = pmi[:,ind].todense()\n",
        "                \n",
        "                if t==0:\n",
        "                    vp = np.zeros((len(ind),r))\n",
        "                    up = np.zeros((len(ind),r))\n",
        "                    iflag = True\n",
        "                else:\n",
        "                    vp = Vlist[t-1][ind,:]\n",
        "                    up = Ulist[t-1][ind,:]\n",
        "                    iflag = False\n",
        "\n",
        "                if t==len(T)-1:\n",
        "                    vn = np.zeros((len(ind),r))\n",
        "                    un = np.zeros((len(ind),r))\n",
        "                    iflag = True\n",
        "                else:\n",
        "                    vn = Vlist[t+1][ind,:]\n",
        "                    un = Ulist[t+1][ind,:]\n",
        "                    iflag = False\n",
        "                Vlist[t][ind,:] = update(Ulist[t],emph*pmi_seg,vp,vn,lam,tau,gam,ind,iflag)\n",
        "                Ulist[t][ind,:] = update(Vlist[t],emph*pmi_seg,up,un,lam,tau,gam,ind,iflag)\n",
        "            \n",
        "            ####  INNER BATCH LOOP END\n",
        "                \n",
        "        # save\n",
        "        print('time elapsed = ', time.time()-start_time)\n",
        "\n",
        "        print(f'Loss {loss}')\n",
        "       \n",
        "\n",
        "        pickle.dump(Ulist, open( \"%sngU_iter%d.p\" % (savefile,iteration), \"wb\" ) , pickle.HIGHEST_PROTOCOL)\n",
        "        pickle.dump(Vlist, open( \"%sngV_iter%d.p\" % (savefile, iteration), \"wb\" ) , pickle.HIGHEST_PROTOCOL)"
      ],
      "metadata": {
        "id": "3LSrM89GxBfm",
        "colab": {
          "base_uri": "https://localhost:8080/"
        },
        "outputId": "b3136163-2bf3-4313-ef3b-646ca78effed"
      },
      "execution_count": null,
      "outputs": [
        {
          "metadata": {
            "tags": null
          },
          "name": "stdout",
          "output_type": "stream",
          "text": [
            "starting training with following parameters\n",
            "rank = 50\n",
            "frob  regularizer = 10\n",
            "time  regularizer = 50\n",
            "symmetry regularizer = 50\n",
            "emphasize param   = 1\n",
            "total iterations = 20\n",
            "there are a total of 19121 words, and range(0, 20) time points\n",
            "X*X*X*X*X*X*X*X*X\n",
            "initializing\n",
            "getting batch indices\n",
            "rank = 50\n",
            "frob  regularizer = 10\n",
            "time  regularizer = 50\n",
            "symmetry regularizer = 50\n",
            "emphasize param   = 1\n",
            "total iterations = 20\n",
            "iteration 0, time 0\n",
            "/content/gdrive/MyDrive/Colab Notebooks/Final/Data/News/list_ppmi_0.csv\n",
            "0 out of 1\n"
          ]
        },
        {
          "metadata": {
            "tags": null
          },
          "name": "stderr",
          "output_type": "stream",
          "text": [
            "<ipython-input-5-a39c1499620e>:19: FutureWarning: `rcond` parameter will change to the default of machine precision times ``max(M, N)`` where M and N are the input matrix dimensions.\n",
            "To use the future default and silence this warning we advise to pass `rcond=None`, to keep using the old, explicitly pass `rcond=-1`.\n",
            "  Vhat = np.linalg.lstsq(M,A) #rxb\n"
          ]
        },
        {
          "metadata": {
            "tags": null
          },
          "name": "stdout",
          "output_type": "stream",
          "text": [
            "iteration 0, time 1\n",
            "/content/gdrive/MyDrive/Colab Notebooks/Final/Data/News/list_ppmi_1.csv\n",
            "0 out of 1\n"
          ]
        },
        {
          "metadata": {
            "tags": null
          },
          "name": "stderr",
          "output_type": "stream",
          "text": [
            "<ipython-input-5-a39c1499620e>:19: FutureWarning: `rcond` parameter will change to the default of machine precision times ``max(M, N)`` where M and N are the input matrix dimensions.\n",
            "To use the future default and silence this warning we advise to pass `rcond=None`, to keep using the old, explicitly pass `rcond=-1`.\n",
            "  Vhat = np.linalg.lstsq(M,A) #rxb\n"
          ]
        },
        {
          "metadata": {
            "tags": null
          },
          "name": "stdout",
          "output_type": "stream",
          "text": [
            "iteration 0, time 2\n",
            "/content/gdrive/MyDrive/Colab Notebooks/Final/Data/News/list_ppmi_2.csv\n",
            "0 out of 1\n"
          ]
        },
        {
          "metadata": {
            "tags": null
          },
          "name": "stderr",
          "output_type": "stream",
          "text": [
            "<ipython-input-5-a39c1499620e>:19: FutureWarning: `rcond` parameter will change to the default of machine precision times ``max(M, N)`` where M and N are the input matrix dimensions.\n",
            "To use the future default and silence this warning we advise to pass `rcond=None`, to keep using the old, explicitly pass `rcond=-1`.\n",
            "  Vhat = np.linalg.lstsq(M,A) #rxb\n"
          ]
        },
        {
          "metadata": {
            "tags": null
          },
          "name": "stdout",
          "output_type": "stream",
          "text": [
            "iteration 0, time 3\n",
            "/content/gdrive/MyDrive/Colab Notebooks/Final/Data/News/list_ppmi_3.csv\n",
            "0 out of 1\n"
          ]
        },
        {
          "metadata": {
            "tags": null
          },
          "name": "stderr",
          "output_type": "stream",
          "text": [
            "<ipython-input-5-a39c1499620e>:19: FutureWarning: `rcond` parameter will change to the default of machine precision times ``max(M, N)`` where M and N are the input matrix dimensions.\n",
            "To use the future default and silence this warning we advise to pass `rcond=None`, to keep using the old, explicitly pass `rcond=-1`.\n",
            "  Vhat = np.linalg.lstsq(M,A) #rxb\n"
          ]
        },
        {
          "metadata": {
            "tags": null
          },
          "name": "stdout",
          "output_type": "stream",
          "text": [
            "iteration 0, time 4\n",
            "/content/gdrive/MyDrive/Colab Notebooks/Final/Data/News/list_ppmi_4.csv\n",
            "0 out of 1\n"
          ]
        },
        {
          "metadata": {
            "tags": null
          },
          "name": "stderr",
          "output_type": "stream",
          "text": [
            "<ipython-input-5-a39c1499620e>:19: FutureWarning: `rcond` parameter will change to the default of machine precision times ``max(M, N)`` where M and N are the input matrix dimensions.\n",
            "To use the future default and silence this warning we advise to pass `rcond=None`, to keep using the old, explicitly pass `rcond=-1`.\n",
            "  Vhat = np.linalg.lstsq(M,A) #rxb\n"
          ]
        },
        {
          "metadata": {
            "tags": null
          },
          "name": "stdout",
          "output_type": "stream",
          "text": [
            "iteration 0, time 5\n",
            "/content/gdrive/MyDrive/Colab Notebooks/Final/Data/News/list_ppmi_5.csv\n",
            "0 out of 1\n"
          ]
        },
        {
          "metadata": {
            "tags": null
          },
          "name": "stderr",
          "output_type": "stream",
          "text": [
            "<ipython-input-5-a39c1499620e>:19: FutureWarning: `rcond` parameter will change to the default of machine precision times ``max(M, N)`` where M and N are the input matrix dimensions.\n",
            "To use the future default and silence this warning we advise to pass `rcond=None`, to keep using the old, explicitly pass `rcond=-1`.\n",
            "  Vhat = np.linalg.lstsq(M,A) #rxb\n"
          ]
        },
        {
          "metadata": {
            "tags": null
          },
          "name": "stdout",
          "output_type": "stream",
          "text": [
            "iteration 0, time 6\n",
            "/content/gdrive/MyDrive/Colab Notebooks/Final/Data/News/list_ppmi_6.csv\n",
            "0 out of 1\n"
          ]
        },
        {
          "metadata": {
            "tags": null
          },
          "name": "stderr",
          "output_type": "stream",
          "text": [
            "<ipython-input-5-a39c1499620e>:19: FutureWarning: `rcond` parameter will change to the default of machine precision times ``max(M, N)`` where M and N are the input matrix dimensions.\n",
            "To use the future default and silence this warning we advise to pass `rcond=None`, to keep using the old, explicitly pass `rcond=-1`.\n",
            "  Vhat = np.linalg.lstsq(M,A) #rxb\n"
          ]
        },
        {
          "metadata": {
            "tags": null
          },
          "name": "stdout",
          "output_type": "stream",
          "text": [
            "iteration 0, time 7\n",
            "/content/gdrive/MyDrive/Colab Notebooks/Final/Data/News/list_ppmi_7.csv\n",
            "0 out of 1\n"
          ]
        },
        {
          "metadata": {
            "tags": null
          },
          "name": "stderr",
          "output_type": "stream",
          "text": [
            "<ipython-input-5-a39c1499620e>:19: FutureWarning: `rcond` parameter will change to the default of machine precision times ``max(M, N)`` where M and N are the input matrix dimensions.\n",
            "To use the future default and silence this warning we advise to pass `rcond=None`, to keep using the old, explicitly pass `rcond=-1`.\n",
            "  Vhat = np.linalg.lstsq(M,A) #rxb\n"
          ]
        },
        {
          "metadata": {
            "tags": null
          },
          "name": "stdout",
          "output_type": "stream",
          "text": [
            "iteration 0, time 8\n",
            "/content/gdrive/MyDrive/Colab Notebooks/Final/Data/News/list_ppmi_8.csv\n",
            "0 out of 1\n"
          ]
        },
        {
          "metadata": {
            "tags": null
          },
          "name": "stderr",
          "output_type": "stream",
          "text": [
            "<ipython-input-5-a39c1499620e>:19: FutureWarning: `rcond` parameter will change to the default of machine precision times ``max(M, N)`` where M and N are the input matrix dimensions.\n",
            "To use the future default and silence this warning we advise to pass `rcond=None`, to keep using the old, explicitly pass `rcond=-1`.\n",
            "  Vhat = np.linalg.lstsq(M,A) #rxb\n"
          ]
        },
        {
          "metadata": {
            "tags": null
          },
          "name": "stdout",
          "output_type": "stream",
          "text": [
            "iteration 0, time 9\n",
            "/content/gdrive/MyDrive/Colab Notebooks/Final/Data/News/list_ppmi_9.csv\n",
            "0 out of 1\n"
          ]
        },
        {
          "metadata": {
            "tags": null
          },
          "name": "stderr",
          "output_type": "stream",
          "text": [
            "<ipython-input-5-a39c1499620e>:19: FutureWarning: `rcond` parameter will change to the default of machine precision times ``max(M, N)`` where M and N are the input matrix dimensions.\n",
            "To use the future default and silence this warning we advise to pass `rcond=None`, to keep using the old, explicitly pass `rcond=-1`.\n",
            "  Vhat = np.linalg.lstsq(M,A) #rxb\n"
          ]
        },
        {
          "metadata": {
            "tags": null
          },
          "name": "stdout",
          "output_type": "stream",
          "text": [
            "iteration 0, time 10\n",
            "/content/gdrive/MyDrive/Colab Notebooks/Final/Data/News/list_ppmi_10.csv\n",
            "0 out of 1\n"
          ]
        },
        {
          "metadata": {
            "tags": null
          },
          "name": "stderr",
          "output_type": "stream",
          "text": [
            "<ipython-input-5-a39c1499620e>:19: FutureWarning: `rcond` parameter will change to the default of machine precision times ``max(M, N)`` where M and N are the input matrix dimensions.\n",
            "To use the future default and silence this warning we advise to pass `rcond=None`, to keep using the old, explicitly pass `rcond=-1`.\n",
            "  Vhat = np.linalg.lstsq(M,A) #rxb\n"
          ]
        },
        {
          "metadata": {
            "tags": null
          },
          "name": "stdout",
          "output_type": "stream",
          "text": [
            "iteration 0, time 11\n",
            "/content/gdrive/MyDrive/Colab Notebooks/Final/Data/News/list_ppmi_11.csv\n",
            "0 out of 1\n"
          ]
        },
        {
          "metadata": {
            "tags": null
          },
          "name": "stderr",
          "output_type": "stream",
          "text": [
            "<ipython-input-5-a39c1499620e>:19: FutureWarning: `rcond` parameter will change to the default of machine precision times ``max(M, N)`` where M and N are the input matrix dimensions.\n",
            "To use the future default and silence this warning we advise to pass `rcond=None`, to keep using the old, explicitly pass `rcond=-1`.\n",
            "  Vhat = np.linalg.lstsq(M,A) #rxb\n"
          ]
        },
        {
          "metadata": {
            "tags": null
          },
          "name": "stdout",
          "output_type": "stream",
          "text": [
            "iteration 0, time 12\n",
            "/content/gdrive/MyDrive/Colab Notebooks/Final/Data/News/list_ppmi_12.csv\n",
            "0 out of 1\n"
          ]
        },
        {
          "metadata": {
            "tags": null
          },
          "name": "stderr",
          "output_type": "stream",
          "text": [
            "<ipython-input-5-a39c1499620e>:19: FutureWarning: `rcond` parameter will change to the default of machine precision times ``max(M, N)`` where M and N are the input matrix dimensions.\n",
            "To use the future default and silence this warning we advise to pass `rcond=None`, to keep using the old, explicitly pass `rcond=-1`.\n",
            "  Vhat = np.linalg.lstsq(M,A) #rxb\n"
          ]
        },
        {
          "metadata": {
            "tags": null
          },
          "name": "stdout",
          "output_type": "stream",
          "text": [
            "iteration 0, time 13\n",
            "/content/gdrive/MyDrive/Colab Notebooks/Final/Data/News/list_ppmi_13.csv\n",
            "0 out of 1\n"
          ]
        },
        {
          "metadata": {
            "tags": null
          },
          "name": "stderr",
          "output_type": "stream",
          "text": [
            "<ipython-input-5-a39c1499620e>:19: FutureWarning: `rcond` parameter will change to the default of machine precision times ``max(M, N)`` where M and N are the input matrix dimensions.\n",
            "To use the future default and silence this warning we advise to pass `rcond=None`, to keep using the old, explicitly pass `rcond=-1`.\n",
            "  Vhat = np.linalg.lstsq(M,A) #rxb\n"
          ]
        },
        {
          "metadata": {
            "tags": null
          },
          "name": "stdout",
          "output_type": "stream",
          "text": [
            "iteration 0, time 14\n",
            "/content/gdrive/MyDrive/Colab Notebooks/Final/Data/News/list_ppmi_14.csv\n",
            "0 out of 1\n"
          ]
        },
        {
          "metadata": {
            "tags": null
          },
          "name": "stderr",
          "output_type": "stream",
          "text": [
            "<ipython-input-5-a39c1499620e>:19: FutureWarning: `rcond` parameter will change to the default of machine precision times ``max(M, N)`` where M and N are the input matrix dimensions.\n",
            "To use the future default and silence this warning we advise to pass `rcond=None`, to keep using the old, explicitly pass `rcond=-1`.\n",
            "  Vhat = np.linalg.lstsq(M,A) #rxb\n"
          ]
        },
        {
          "metadata": {
            "tags": null
          },
          "name": "stdout",
          "output_type": "stream",
          "text": [
            "iteration 0, time 15\n",
            "/content/gdrive/MyDrive/Colab Notebooks/Final/Data/News/list_ppmi_15.csv\n",
            "0 out of 1\n"
          ]
        },
        {
          "metadata": {
            "tags": null
          },
          "name": "stderr",
          "output_type": "stream",
          "text": [
            "<ipython-input-5-a39c1499620e>:19: FutureWarning: `rcond` parameter will change to the default of machine precision times ``max(M, N)`` where M and N are the input matrix dimensions.\n",
            "To use the future default and silence this warning we advise to pass `rcond=None`, to keep using the old, explicitly pass `rcond=-1`.\n",
            "  Vhat = np.linalg.lstsq(M,A) #rxb\n"
          ]
        },
        {
          "metadata": {
            "tags": null
          },
          "name": "stdout",
          "output_type": "stream",
          "text": [
            "iteration 0, time 16\n",
            "/content/gdrive/MyDrive/Colab Notebooks/Final/Data/News/list_ppmi_16.csv\n",
            "0 out of 1\n"
          ]
        },
        {
          "metadata": {
            "tags": null
          },
          "name": "stderr",
          "output_type": "stream",
          "text": [
            "<ipython-input-5-a39c1499620e>:19: FutureWarning: `rcond` parameter will change to the default of machine precision times ``max(M, N)`` where M and N are the input matrix dimensions.\n",
            "To use the future default and silence this warning we advise to pass `rcond=None`, to keep using the old, explicitly pass `rcond=-1`.\n",
            "  Vhat = np.linalg.lstsq(M,A) #rxb\n"
          ]
        },
        {
          "metadata": {
            "tags": null
          },
          "name": "stdout",
          "output_type": "stream",
          "text": [
            "iteration 0, time 17\n",
            "/content/gdrive/MyDrive/Colab Notebooks/Final/Data/News/list_ppmi_17.csv\n",
            "0 out of 1\n"
          ]
        },
        {
          "metadata": {
            "tags": null
          },
          "name": "stderr",
          "output_type": "stream",
          "text": [
            "<ipython-input-5-a39c1499620e>:19: FutureWarning: `rcond` parameter will change to the default of machine precision times ``max(M, N)`` where M and N are the input matrix dimensions.\n",
            "To use the future default and silence this warning we advise to pass `rcond=None`, to keep using the old, explicitly pass `rcond=-1`.\n",
            "  Vhat = np.linalg.lstsq(M,A) #rxb\n"
          ]
        },
        {
          "metadata": {
            "tags": null
          },
          "name": "stdout",
          "output_type": "stream",
          "text": [
            "iteration 0, time 18\n",
            "/content/gdrive/MyDrive/Colab Notebooks/Final/Data/News/list_ppmi_18.csv\n",
            "0 out of 1\n"
          ]
        },
        {
          "metadata": {
            "tags": null
          },
          "name": "stderr",
          "output_type": "stream",
          "text": [
            "<ipython-input-5-a39c1499620e>:19: FutureWarning: `rcond` parameter will change to the default of machine precision times ``max(M, N)`` where M and N are the input matrix dimensions.\n",
            "To use the future default and silence this warning we advise to pass `rcond=None`, to keep using the old, explicitly pass `rcond=-1`.\n",
            "  Vhat = np.linalg.lstsq(M,A) #rxb\n"
          ]
        },
        {
          "metadata": {
            "tags": null
          },
          "name": "stdout",
          "output_type": "stream",
          "text": [
            "iteration 0, time 19\n",
            "/content/gdrive/MyDrive/Colab Notebooks/Final/Data/News/list_ppmi_19.csv\n",
            "0 out of 1\n"
          ]
        },
        {
          "metadata": {
            "tags": null
          },
          "name": "stderr",
          "output_type": "stream",
          "text": [
            "<ipython-input-5-a39c1499620e>:19: FutureWarning: `rcond` parameter will change to the default of machine precision times ``max(M, N)`` where M and N are the input matrix dimensions.\n",
            "To use the future default and silence this warning we advise to pass `rcond=None`, to keep using the old, explicitly pass `rcond=-1`.\n",
            "  Vhat = np.linalg.lstsq(M,A) #rxb\n"
          ]
        },
        {
          "metadata": {
            "tags": null
          },
          "name": "stdout",
          "output_type": "stream",
          "text": [
            "time elapsed =  633.1271402835846\n",
            "Loss 1850507168.1180592\n",
            "rank = 50\n",
            "frob  regularizer = 10\n",
            "time  regularizer = 50\n",
            "symmetry regularizer = 50\n",
            "emphasize param   = 1\n",
            "total iterations = 20\n",
            "iteration 1, time 0\n",
            "/content/gdrive/MyDrive/Colab Notebooks/Final/Data/News/list_ppmi_0.csv\n",
            "0 out of 1\n"
          ]
        },
        {
          "metadata": {
            "tags": null
          },
          "name": "stderr",
          "output_type": "stream",
          "text": [
            "<ipython-input-5-a39c1499620e>:19: FutureWarning: `rcond` parameter will change to the default of machine precision times ``max(M, N)`` where M and N are the input matrix dimensions.\n",
            "To use the future default and silence this warning we advise to pass `rcond=None`, to keep using the old, explicitly pass `rcond=-1`.\n",
            "  Vhat = np.linalg.lstsq(M,A) #rxb\n"
          ]
        },
        {
          "metadata": {
            "tags": null
          },
          "name": "stdout",
          "output_type": "stream",
          "text": [
            "iteration 1, time 1\n",
            "/content/gdrive/MyDrive/Colab Notebooks/Final/Data/News/list_ppmi_1.csv\n",
            "0 out of 1\n"
          ]
        },
        {
          "metadata": {
            "tags": null
          },
          "name": "stderr",
          "output_type": "stream",
          "text": [
            "<ipython-input-5-a39c1499620e>:19: FutureWarning: `rcond` parameter will change to the default of machine precision times ``max(M, N)`` where M and N are the input matrix dimensions.\n",
            "To use the future default and silence this warning we advise to pass `rcond=None`, to keep using the old, explicitly pass `rcond=-1`.\n",
            "  Vhat = np.linalg.lstsq(M,A) #rxb\n"
          ]
        },
        {
          "metadata": {
            "tags": null
          },
          "name": "stdout",
          "output_type": "stream",
          "text": [
            "iteration 1, time 2\n",
            "/content/gdrive/MyDrive/Colab Notebooks/Final/Data/News/list_ppmi_2.csv\n",
            "0 out of 1\n"
          ]
        },
        {
          "metadata": {
            "tags": null
          },
          "name": "stderr",
          "output_type": "stream",
          "text": [
            "<ipython-input-5-a39c1499620e>:19: FutureWarning: `rcond` parameter will change to the default of machine precision times ``max(M, N)`` where M and N are the input matrix dimensions.\n",
            "To use the future default and silence this warning we advise to pass `rcond=None`, to keep using the old, explicitly pass `rcond=-1`.\n",
            "  Vhat = np.linalg.lstsq(M,A) #rxb\n"
          ]
        },
        {
          "metadata": {
            "tags": null
          },
          "name": "stdout",
          "output_type": "stream",
          "text": [
            "iteration 1, time 3\n",
            "/content/gdrive/MyDrive/Colab Notebooks/Final/Data/News/list_ppmi_3.csv\n",
            "0 out of 1\n"
          ]
        },
        {
          "metadata": {
            "tags": null
          },
          "name": "stderr",
          "output_type": "stream",
          "text": [
            "<ipython-input-5-a39c1499620e>:19: FutureWarning: `rcond` parameter will change to the default of machine precision times ``max(M, N)`` where M and N are the input matrix dimensions.\n",
            "To use the future default and silence this warning we advise to pass `rcond=None`, to keep using the old, explicitly pass `rcond=-1`.\n",
            "  Vhat = np.linalg.lstsq(M,A) #rxb\n"
          ]
        },
        {
          "metadata": {
            "tags": null
          },
          "name": "stdout",
          "output_type": "stream",
          "text": [
            "iteration 1, time 4\n",
            "/content/gdrive/MyDrive/Colab Notebooks/Final/Data/News/list_ppmi_4.csv\n",
            "0 out of 1\n"
          ]
        },
        {
          "metadata": {
            "tags": null
          },
          "name": "stderr",
          "output_type": "stream",
          "text": [
            "<ipython-input-5-a39c1499620e>:19: FutureWarning: `rcond` parameter will change to the default of machine precision times ``max(M, N)`` where M and N are the input matrix dimensions.\n",
            "To use the future default and silence this warning we advise to pass `rcond=None`, to keep using the old, explicitly pass `rcond=-1`.\n",
            "  Vhat = np.linalg.lstsq(M,A) #rxb\n"
          ]
        },
        {
          "metadata": {
            "tags": null
          },
          "name": "stdout",
          "output_type": "stream",
          "text": [
            "iteration 1, time 5\n",
            "/content/gdrive/MyDrive/Colab Notebooks/Final/Data/News/list_ppmi_5.csv\n",
            "0 out of 1\n"
          ]
        },
        {
          "metadata": {
            "tags": null
          },
          "name": "stderr",
          "output_type": "stream",
          "text": [
            "<ipython-input-5-a39c1499620e>:19: FutureWarning: `rcond` parameter will change to the default of machine precision times ``max(M, N)`` where M and N are the input matrix dimensions.\n",
            "To use the future default and silence this warning we advise to pass `rcond=None`, to keep using the old, explicitly pass `rcond=-1`.\n",
            "  Vhat = np.linalg.lstsq(M,A) #rxb\n"
          ]
        },
        {
          "metadata": {
            "tags": null
          },
          "name": "stdout",
          "output_type": "stream",
          "text": [
            "iteration 1, time 6\n",
            "/content/gdrive/MyDrive/Colab Notebooks/Final/Data/News/list_ppmi_6.csv\n",
            "0 out of 1\n"
          ]
        },
        {
          "metadata": {
            "tags": null
          },
          "name": "stderr",
          "output_type": "stream",
          "text": [
            "<ipython-input-5-a39c1499620e>:19: FutureWarning: `rcond` parameter will change to the default of machine precision times ``max(M, N)`` where M and N are the input matrix dimensions.\n",
            "To use the future default and silence this warning we advise to pass `rcond=None`, to keep using the old, explicitly pass `rcond=-1`.\n",
            "  Vhat = np.linalg.lstsq(M,A) #rxb\n"
          ]
        },
        {
          "metadata": {
            "tags": null
          },
          "name": "stdout",
          "output_type": "stream",
          "text": [
            "iteration 1, time 7\n",
            "/content/gdrive/MyDrive/Colab Notebooks/Final/Data/News/list_ppmi_7.csv\n",
            "0 out of 1\n"
          ]
        },
        {
          "metadata": {
            "tags": null
          },
          "name": "stderr",
          "output_type": "stream",
          "text": [
            "<ipython-input-5-a39c1499620e>:19: FutureWarning: `rcond` parameter will change to the default of machine precision times ``max(M, N)`` where M and N are the input matrix dimensions.\n",
            "To use the future default and silence this warning we advise to pass `rcond=None`, to keep using the old, explicitly pass `rcond=-1`.\n",
            "  Vhat = np.linalg.lstsq(M,A) #rxb\n"
          ]
        },
        {
          "metadata": {
            "tags": null
          },
          "name": "stdout",
          "output_type": "stream",
          "text": [
            "iteration 1, time 8\n",
            "/content/gdrive/MyDrive/Colab Notebooks/Final/Data/News/list_ppmi_8.csv\n",
            "0 out of 1\n"
          ]
        },
        {
          "metadata": {
            "tags": null
          },
          "name": "stderr",
          "output_type": "stream",
          "text": [
            "<ipython-input-5-a39c1499620e>:19: FutureWarning: `rcond` parameter will change to the default of machine precision times ``max(M, N)`` where M and N are the input matrix dimensions.\n",
            "To use the future default and silence this warning we advise to pass `rcond=None`, to keep using the old, explicitly pass `rcond=-1`.\n",
            "  Vhat = np.linalg.lstsq(M,A) #rxb\n"
          ]
        },
        {
          "metadata": {
            "tags": null
          },
          "name": "stdout",
          "output_type": "stream",
          "text": [
            "iteration 1, time 9\n",
            "/content/gdrive/MyDrive/Colab Notebooks/Final/Data/News/list_ppmi_9.csv\n",
            "0 out of 1\n"
          ]
        },
        {
          "metadata": {
            "tags": null
          },
          "name": "stderr",
          "output_type": "stream",
          "text": [
            "<ipython-input-5-a39c1499620e>:19: FutureWarning: `rcond` parameter will change to the default of machine precision times ``max(M, N)`` where M and N are the input matrix dimensions.\n",
            "To use the future default and silence this warning we advise to pass `rcond=None`, to keep using the old, explicitly pass `rcond=-1`.\n",
            "  Vhat = np.linalg.lstsq(M,A) #rxb\n"
          ]
        },
        {
          "metadata": {
            "tags": null
          },
          "name": "stdout",
          "output_type": "stream",
          "text": [
            "iteration 1, time 10\n",
            "/content/gdrive/MyDrive/Colab Notebooks/Final/Data/News/list_ppmi_10.csv\n",
            "0 out of 1\n"
          ]
        },
        {
          "metadata": {
            "tags": null
          },
          "name": "stderr",
          "output_type": "stream",
          "text": [
            "<ipython-input-5-a39c1499620e>:19: FutureWarning: `rcond` parameter will change to the default of machine precision times ``max(M, N)`` where M and N are the input matrix dimensions.\n",
            "To use the future default and silence this warning we advise to pass `rcond=None`, to keep using the old, explicitly pass `rcond=-1`.\n",
            "  Vhat = np.linalg.lstsq(M,A) #rxb\n"
          ]
        },
        {
          "metadata": {
            "tags": null
          },
          "name": "stdout",
          "output_type": "stream",
          "text": [
            "iteration 1, time 11\n",
            "/content/gdrive/MyDrive/Colab Notebooks/Final/Data/News/list_ppmi_11.csv\n",
            "0 out of 1\n"
          ]
        },
        {
          "metadata": {
            "tags": null
          },
          "name": "stderr",
          "output_type": "stream",
          "text": [
            "<ipython-input-5-a39c1499620e>:19: FutureWarning: `rcond` parameter will change to the default of machine precision times ``max(M, N)`` where M and N are the input matrix dimensions.\n",
            "To use the future default and silence this warning we advise to pass `rcond=None`, to keep using the old, explicitly pass `rcond=-1`.\n",
            "  Vhat = np.linalg.lstsq(M,A) #rxb\n"
          ]
        },
        {
          "metadata": {
            "tags": null
          },
          "name": "stdout",
          "output_type": "stream",
          "text": [
            "iteration 1, time 12\n",
            "/content/gdrive/MyDrive/Colab Notebooks/Final/Data/News/list_ppmi_12.csv\n",
            "0 out of 1\n"
          ]
        },
        {
          "metadata": {
            "tags": null
          },
          "name": "stderr",
          "output_type": "stream",
          "text": [
            "<ipython-input-5-a39c1499620e>:19: FutureWarning: `rcond` parameter will change to the default of machine precision times ``max(M, N)`` where M and N are the input matrix dimensions.\n",
            "To use the future default and silence this warning we advise to pass `rcond=None`, to keep using the old, explicitly pass `rcond=-1`.\n",
            "  Vhat = np.linalg.lstsq(M,A) #rxb\n"
          ]
        },
        {
          "metadata": {
            "tags": null
          },
          "name": "stdout",
          "output_type": "stream",
          "text": [
            "iteration 1, time 13\n",
            "/content/gdrive/MyDrive/Colab Notebooks/Final/Data/News/list_ppmi_13.csv\n",
            "0 out of 1\n"
          ]
        },
        {
          "metadata": {
            "tags": null
          },
          "name": "stderr",
          "output_type": "stream",
          "text": [
            "<ipython-input-5-a39c1499620e>:19: FutureWarning: `rcond` parameter will change to the default of machine precision times ``max(M, N)`` where M and N are the input matrix dimensions.\n",
            "To use the future default and silence this warning we advise to pass `rcond=None`, to keep using the old, explicitly pass `rcond=-1`.\n",
            "  Vhat = np.linalg.lstsq(M,A) #rxb\n"
          ]
        },
        {
          "metadata": {
            "tags": null
          },
          "name": "stdout",
          "output_type": "stream",
          "text": [
            "iteration 1, time 14\n",
            "/content/gdrive/MyDrive/Colab Notebooks/Final/Data/News/list_ppmi_14.csv\n",
            "0 out of 1\n"
          ]
        },
        {
          "metadata": {
            "tags": null
          },
          "name": "stderr",
          "output_type": "stream",
          "text": [
            "<ipython-input-5-a39c1499620e>:19: FutureWarning: `rcond` parameter will change to the default of machine precision times ``max(M, N)`` where M and N are the input matrix dimensions.\n",
            "To use the future default and silence this warning we advise to pass `rcond=None`, to keep using the old, explicitly pass `rcond=-1`.\n",
            "  Vhat = np.linalg.lstsq(M,A) #rxb\n"
          ]
        },
        {
          "metadata": {
            "tags": null
          },
          "name": "stdout",
          "output_type": "stream",
          "text": [
            "iteration 1, time 15\n",
            "/content/gdrive/MyDrive/Colab Notebooks/Final/Data/News/list_ppmi_15.csv\n",
            "0 out of 1\n"
          ]
        },
        {
          "metadata": {
            "tags": null
          },
          "name": "stderr",
          "output_type": "stream",
          "text": [
            "<ipython-input-5-a39c1499620e>:19: FutureWarning: `rcond` parameter will change to the default of machine precision times ``max(M, N)`` where M and N are the input matrix dimensions.\n",
            "To use the future default and silence this warning we advise to pass `rcond=None`, to keep using the old, explicitly pass `rcond=-1`.\n",
            "  Vhat = np.linalg.lstsq(M,A) #rxb\n"
          ]
        },
        {
          "metadata": {
            "tags": null
          },
          "name": "stdout",
          "output_type": "stream",
          "text": [
            "iteration 1, time 16\n",
            "/content/gdrive/MyDrive/Colab Notebooks/Final/Data/News/list_ppmi_16.csv\n",
            "0 out of 1\n"
          ]
        },
        {
          "metadata": {
            "tags": null
          },
          "name": "stderr",
          "output_type": "stream",
          "text": [
            "<ipython-input-5-a39c1499620e>:19: FutureWarning: `rcond` parameter will change to the default of machine precision times ``max(M, N)`` where M and N are the input matrix dimensions.\n",
            "To use the future default and silence this warning we advise to pass `rcond=None`, to keep using the old, explicitly pass `rcond=-1`.\n",
            "  Vhat = np.linalg.lstsq(M,A) #rxb\n"
          ]
        },
        {
          "metadata": {
            "tags": null
          },
          "name": "stdout",
          "output_type": "stream",
          "text": [
            "iteration 1, time 17\n",
            "/content/gdrive/MyDrive/Colab Notebooks/Final/Data/News/list_ppmi_17.csv\n",
            "0 out of 1\n"
          ]
        },
        {
          "metadata": {
            "tags": null
          },
          "name": "stderr",
          "output_type": "stream",
          "text": [
            "<ipython-input-5-a39c1499620e>:19: FutureWarning: `rcond` parameter will change to the default of machine precision times ``max(M, N)`` where M and N are the input matrix dimensions.\n",
            "To use the future default and silence this warning we advise to pass `rcond=None`, to keep using the old, explicitly pass `rcond=-1`.\n",
            "  Vhat = np.linalg.lstsq(M,A) #rxb\n"
          ]
        },
        {
          "metadata": {
            "tags": null
          },
          "name": "stdout",
          "output_type": "stream",
          "text": [
            "iteration 1, time 18\n",
            "/content/gdrive/MyDrive/Colab Notebooks/Final/Data/News/list_ppmi_18.csv\n",
            "0 out of 1\n"
          ]
        },
        {
          "metadata": {
            "tags": null
          },
          "name": "stderr",
          "output_type": "stream",
          "text": [
            "<ipython-input-5-a39c1499620e>:19: FutureWarning: `rcond` parameter will change to the default of machine precision times ``max(M, N)`` where M and N are the input matrix dimensions.\n",
            "To use the future default and silence this warning we advise to pass `rcond=None`, to keep using the old, explicitly pass `rcond=-1`.\n",
            "  Vhat = np.linalg.lstsq(M,A) #rxb\n"
          ]
        },
        {
          "metadata": {
            "tags": null
          },
          "name": "stdout",
          "output_type": "stream",
          "text": [
            "iteration 1, time 19\n",
            "/content/gdrive/MyDrive/Colab Notebooks/Final/Data/News/list_ppmi_19.csv\n",
            "0 out of 1\n"
          ]
        },
        {
          "metadata": {
            "tags": null
          },
          "name": "stderr",
          "output_type": "stream",
          "text": [
            "<ipython-input-5-a39c1499620e>:19: FutureWarning: `rcond` parameter will change to the default of machine precision times ``max(M, N)`` where M and N are the input matrix dimensions.\n",
            "To use the future default and silence this warning we advise to pass `rcond=None`, to keep using the old, explicitly pass `rcond=-1`.\n",
            "  Vhat = np.linalg.lstsq(M,A) #rxb\n"
          ]
        },
        {
          "metadata": {
            "tags": null
          },
          "name": "stdout",
          "output_type": "stream",
          "text": [
            "time elapsed =  1277.1012344360352\n",
            "Loss 145433043.8644129\n",
            "rank = 50\n",
            "frob  regularizer = 10\n",
            "time  regularizer = 50\n",
            "symmetry regularizer = 50\n",
            "emphasize param   = 1\n",
            "total iterations = 20\n",
            "iteration 2, time 0\n",
            "/content/gdrive/MyDrive/Colab Notebooks/Final/Data/News/list_ppmi_0.csv\n",
            "0 out of 1\n"
          ]
        },
        {
          "metadata": {
            "tags": null
          },
          "name": "stderr",
          "output_type": "stream",
          "text": [
            "<ipython-input-5-a39c1499620e>:19: FutureWarning: `rcond` parameter will change to the default of machine precision times ``max(M, N)`` where M and N are the input matrix dimensions.\n",
            "To use the future default and silence this warning we advise to pass `rcond=None`, to keep using the old, explicitly pass `rcond=-1`.\n",
            "  Vhat = np.linalg.lstsq(M,A) #rxb\n"
          ]
        },
        {
          "metadata": {
            "tags": null
          },
          "name": "stdout",
          "output_type": "stream",
          "text": [
            "iteration 2, time 1\n",
            "/content/gdrive/MyDrive/Colab Notebooks/Final/Data/News/list_ppmi_1.csv\n",
            "0 out of 1\n"
          ]
        },
        {
          "metadata": {
            "tags": null
          },
          "name": "stderr",
          "output_type": "stream",
          "text": [
            "<ipython-input-5-a39c1499620e>:19: FutureWarning: `rcond` parameter will change to the default of machine precision times ``max(M, N)`` where M and N are the input matrix dimensions.\n",
            "To use the future default and silence this warning we advise to pass `rcond=None`, to keep using the old, explicitly pass `rcond=-1`.\n",
            "  Vhat = np.linalg.lstsq(M,A) #rxb\n"
          ]
        },
        {
          "metadata": {
            "tags": null
          },
          "name": "stdout",
          "output_type": "stream",
          "text": [
            "iteration 2, time 2\n",
            "/content/gdrive/MyDrive/Colab Notebooks/Final/Data/News/list_ppmi_2.csv\n",
            "0 out of 1\n"
          ]
        },
        {
          "metadata": {
            "tags": null
          },
          "name": "stderr",
          "output_type": "stream",
          "text": [
            "<ipython-input-5-a39c1499620e>:19: FutureWarning: `rcond` parameter will change to the default of machine precision times ``max(M, N)`` where M and N are the input matrix dimensions.\n",
            "To use the future default and silence this warning we advise to pass `rcond=None`, to keep using the old, explicitly pass `rcond=-1`.\n",
            "  Vhat = np.linalg.lstsq(M,A) #rxb\n"
          ]
        },
        {
          "metadata": {
            "tags": null
          },
          "name": "stdout",
          "output_type": "stream",
          "text": [
            "iteration 2, time 3\n",
            "/content/gdrive/MyDrive/Colab Notebooks/Final/Data/News/list_ppmi_3.csv\n",
            "0 out of 1\n"
          ]
        },
        {
          "metadata": {
            "tags": null
          },
          "name": "stderr",
          "output_type": "stream",
          "text": [
            "<ipython-input-5-a39c1499620e>:19: FutureWarning: `rcond` parameter will change to the default of machine precision times ``max(M, N)`` where M and N are the input matrix dimensions.\n",
            "To use the future default and silence this warning we advise to pass `rcond=None`, to keep using the old, explicitly pass `rcond=-1`.\n",
            "  Vhat = np.linalg.lstsq(M,A) #rxb\n"
          ]
        },
        {
          "metadata": {
            "tags": null
          },
          "name": "stdout",
          "output_type": "stream",
          "text": [
            "iteration 2, time 4\n",
            "/content/gdrive/MyDrive/Colab Notebooks/Final/Data/News/list_ppmi_4.csv\n",
            "0 out of 1\n"
          ]
        },
        {
          "metadata": {
            "tags": null
          },
          "name": "stderr",
          "output_type": "stream",
          "text": [
            "<ipython-input-5-a39c1499620e>:19: FutureWarning: `rcond` parameter will change to the default of machine precision times ``max(M, N)`` where M and N are the input matrix dimensions.\n",
            "To use the future default and silence this warning we advise to pass `rcond=None`, to keep using the old, explicitly pass `rcond=-1`.\n",
            "  Vhat = np.linalg.lstsq(M,A) #rxb\n"
          ]
        },
        {
          "metadata": {
            "tags": null
          },
          "name": "stdout",
          "output_type": "stream",
          "text": [
            "iteration 2, time 5\n",
            "/content/gdrive/MyDrive/Colab Notebooks/Final/Data/News/list_ppmi_5.csv\n",
            "0 out of 1\n"
          ]
        },
        {
          "metadata": {
            "tags": null
          },
          "name": "stderr",
          "output_type": "stream",
          "text": [
            "<ipython-input-5-a39c1499620e>:19: FutureWarning: `rcond` parameter will change to the default of machine precision times ``max(M, N)`` where M and N are the input matrix dimensions.\n",
            "To use the future default and silence this warning we advise to pass `rcond=None`, to keep using the old, explicitly pass `rcond=-1`.\n",
            "  Vhat = np.linalg.lstsq(M,A) #rxb\n"
          ]
        },
        {
          "metadata": {
            "tags": null
          },
          "name": "stdout",
          "output_type": "stream",
          "text": [
            "iteration 2, time 6\n",
            "/content/gdrive/MyDrive/Colab Notebooks/Final/Data/News/list_ppmi_6.csv\n",
            "0 out of 1\n"
          ]
        },
        {
          "metadata": {
            "tags": null
          },
          "name": "stderr",
          "output_type": "stream",
          "text": [
            "<ipython-input-5-a39c1499620e>:19: FutureWarning: `rcond` parameter will change to the default of machine precision times ``max(M, N)`` where M and N are the input matrix dimensions.\n",
            "To use the future default and silence this warning we advise to pass `rcond=None`, to keep using the old, explicitly pass `rcond=-1`.\n",
            "  Vhat = np.linalg.lstsq(M,A) #rxb\n"
          ]
        },
        {
          "metadata": {
            "tags": null
          },
          "name": "stdout",
          "output_type": "stream",
          "text": [
            "iteration 2, time 7\n",
            "/content/gdrive/MyDrive/Colab Notebooks/Final/Data/News/list_ppmi_7.csv\n",
            "0 out of 1\n"
          ]
        },
        {
          "metadata": {
            "tags": null
          },
          "name": "stderr",
          "output_type": "stream",
          "text": [
            "<ipython-input-5-a39c1499620e>:19: FutureWarning: `rcond` parameter will change to the default of machine precision times ``max(M, N)`` where M and N are the input matrix dimensions.\n",
            "To use the future default and silence this warning we advise to pass `rcond=None`, to keep using the old, explicitly pass `rcond=-1`.\n",
            "  Vhat = np.linalg.lstsq(M,A) #rxb\n"
          ]
        },
        {
          "metadata": {
            "tags": null
          },
          "name": "stdout",
          "output_type": "stream",
          "text": [
            "iteration 2, time 8\n",
            "/content/gdrive/MyDrive/Colab Notebooks/Final/Data/News/list_ppmi_8.csv\n",
            "0 out of 1\n"
          ]
        },
        {
          "metadata": {
            "tags": null
          },
          "name": "stderr",
          "output_type": "stream",
          "text": [
            "<ipython-input-5-a39c1499620e>:19: FutureWarning: `rcond` parameter will change to the default of machine precision times ``max(M, N)`` where M and N are the input matrix dimensions.\n",
            "To use the future default and silence this warning we advise to pass `rcond=None`, to keep using the old, explicitly pass `rcond=-1`.\n",
            "  Vhat = np.linalg.lstsq(M,A) #rxb\n"
          ]
        },
        {
          "metadata": {
            "tags": null
          },
          "name": "stdout",
          "output_type": "stream",
          "text": [
            "iteration 2, time 9\n",
            "/content/gdrive/MyDrive/Colab Notebooks/Final/Data/News/list_ppmi_9.csv\n",
            "0 out of 1\n"
          ]
        },
        {
          "metadata": {
            "tags": null
          },
          "name": "stderr",
          "output_type": "stream",
          "text": [
            "<ipython-input-5-a39c1499620e>:19: FutureWarning: `rcond` parameter will change to the default of machine precision times ``max(M, N)`` where M and N are the input matrix dimensions.\n",
            "To use the future default and silence this warning we advise to pass `rcond=None`, to keep using the old, explicitly pass `rcond=-1`.\n",
            "  Vhat = np.linalg.lstsq(M,A) #rxb\n"
          ]
        },
        {
          "metadata": {
            "tags": null
          },
          "name": "stdout",
          "output_type": "stream",
          "text": [
            "iteration 2, time 10\n",
            "/content/gdrive/MyDrive/Colab Notebooks/Final/Data/News/list_ppmi_10.csv\n",
            "0 out of 1\n"
          ]
        },
        {
          "metadata": {
            "tags": null
          },
          "name": "stderr",
          "output_type": "stream",
          "text": [
            "<ipython-input-5-a39c1499620e>:19: FutureWarning: `rcond` parameter will change to the default of machine precision times ``max(M, N)`` where M and N are the input matrix dimensions.\n",
            "To use the future default and silence this warning we advise to pass `rcond=None`, to keep using the old, explicitly pass `rcond=-1`.\n",
            "  Vhat = np.linalg.lstsq(M,A) #rxb\n"
          ]
        },
        {
          "metadata": {
            "tags": null
          },
          "name": "stdout",
          "output_type": "stream",
          "text": [
            "iteration 2, time 11\n",
            "/content/gdrive/MyDrive/Colab Notebooks/Final/Data/News/list_ppmi_11.csv\n",
            "0 out of 1\n"
          ]
        },
        {
          "metadata": {
            "tags": null
          },
          "name": "stderr",
          "output_type": "stream",
          "text": [
            "<ipython-input-5-a39c1499620e>:19: FutureWarning: `rcond` parameter will change to the default of machine precision times ``max(M, N)`` where M and N are the input matrix dimensions.\n",
            "To use the future default and silence this warning we advise to pass `rcond=None`, to keep using the old, explicitly pass `rcond=-1`.\n",
            "  Vhat = np.linalg.lstsq(M,A) #rxb\n"
          ]
        },
        {
          "metadata": {
            "tags": null
          },
          "name": "stdout",
          "output_type": "stream",
          "text": [
            "iteration 2, time 12\n",
            "/content/gdrive/MyDrive/Colab Notebooks/Final/Data/News/list_ppmi_12.csv\n",
            "0 out of 1\n"
          ]
        },
        {
          "metadata": {
            "tags": null
          },
          "name": "stderr",
          "output_type": "stream",
          "text": [
            "<ipython-input-5-a39c1499620e>:19: FutureWarning: `rcond` parameter will change to the default of machine precision times ``max(M, N)`` where M and N are the input matrix dimensions.\n",
            "To use the future default and silence this warning we advise to pass `rcond=None`, to keep using the old, explicitly pass `rcond=-1`.\n",
            "  Vhat = np.linalg.lstsq(M,A) #rxb\n"
          ]
        },
        {
          "metadata": {
            "tags": null
          },
          "name": "stdout",
          "output_type": "stream",
          "text": [
            "iteration 2, time 13\n",
            "/content/gdrive/MyDrive/Colab Notebooks/Final/Data/News/list_ppmi_13.csv\n",
            "0 out of 1\n"
          ]
        },
        {
          "metadata": {
            "tags": null
          },
          "name": "stderr",
          "output_type": "stream",
          "text": [
            "<ipython-input-5-a39c1499620e>:19: FutureWarning: `rcond` parameter will change to the default of machine precision times ``max(M, N)`` where M and N are the input matrix dimensions.\n",
            "To use the future default and silence this warning we advise to pass `rcond=None`, to keep using the old, explicitly pass `rcond=-1`.\n",
            "  Vhat = np.linalg.lstsq(M,A) #rxb\n"
          ]
        },
        {
          "metadata": {
            "tags": null
          },
          "name": "stdout",
          "output_type": "stream",
          "text": [
            "iteration 2, time 14\n",
            "/content/gdrive/MyDrive/Colab Notebooks/Final/Data/News/list_ppmi_14.csv\n",
            "0 out of 1\n"
          ]
        },
        {
          "metadata": {
            "tags": null
          },
          "name": "stderr",
          "output_type": "stream",
          "text": [
            "<ipython-input-5-a39c1499620e>:19: FutureWarning: `rcond` parameter will change to the default of machine precision times ``max(M, N)`` where M and N are the input matrix dimensions.\n",
            "To use the future default and silence this warning we advise to pass `rcond=None`, to keep using the old, explicitly pass `rcond=-1`.\n",
            "  Vhat = np.linalg.lstsq(M,A) #rxb\n"
          ]
        },
        {
          "metadata": {
            "tags": null
          },
          "name": "stdout",
          "output_type": "stream",
          "text": [
            "iteration 2, time 15\n",
            "/content/gdrive/MyDrive/Colab Notebooks/Final/Data/News/list_ppmi_15.csv\n",
            "0 out of 1\n"
          ]
        },
        {
          "metadata": {
            "tags": null
          },
          "name": "stderr",
          "output_type": "stream",
          "text": [
            "<ipython-input-5-a39c1499620e>:19: FutureWarning: `rcond` parameter will change to the default of machine precision times ``max(M, N)`` where M and N are the input matrix dimensions.\n",
            "To use the future default and silence this warning we advise to pass `rcond=None`, to keep using the old, explicitly pass `rcond=-1`.\n",
            "  Vhat = np.linalg.lstsq(M,A) #rxb\n"
          ]
        },
        {
          "metadata": {
            "tags": null
          },
          "name": "stdout",
          "output_type": "stream",
          "text": [
            "iteration 2, time 16\n",
            "/content/gdrive/MyDrive/Colab Notebooks/Final/Data/News/list_ppmi_16.csv\n",
            "0 out of 1\n"
          ]
        },
        {
          "metadata": {
            "tags": null
          },
          "name": "stderr",
          "output_type": "stream",
          "text": [
            "<ipython-input-5-a39c1499620e>:19: FutureWarning: `rcond` parameter will change to the default of machine precision times ``max(M, N)`` where M and N are the input matrix dimensions.\n",
            "To use the future default and silence this warning we advise to pass `rcond=None`, to keep using the old, explicitly pass `rcond=-1`.\n",
            "  Vhat = np.linalg.lstsq(M,A) #rxb\n"
          ]
        },
        {
          "metadata": {
            "tags": null
          },
          "name": "stdout",
          "output_type": "stream",
          "text": [
            "iteration 2, time 17\n",
            "/content/gdrive/MyDrive/Colab Notebooks/Final/Data/News/list_ppmi_17.csv\n",
            "0 out of 1\n"
          ]
        },
        {
          "metadata": {
            "tags": null
          },
          "name": "stderr",
          "output_type": "stream",
          "text": [
            "<ipython-input-5-a39c1499620e>:19: FutureWarning: `rcond` parameter will change to the default of machine precision times ``max(M, N)`` where M and N are the input matrix dimensions.\n",
            "To use the future default and silence this warning we advise to pass `rcond=None`, to keep using the old, explicitly pass `rcond=-1`.\n",
            "  Vhat = np.linalg.lstsq(M,A) #rxb\n"
          ]
        },
        {
          "metadata": {
            "tags": null
          },
          "name": "stdout",
          "output_type": "stream",
          "text": [
            "iteration 2, time 18\n",
            "/content/gdrive/MyDrive/Colab Notebooks/Final/Data/News/list_ppmi_18.csv\n",
            "0 out of 1\n"
          ]
        },
        {
          "metadata": {
            "tags": null
          },
          "name": "stderr",
          "output_type": "stream",
          "text": [
            "<ipython-input-5-a39c1499620e>:19: FutureWarning: `rcond` parameter will change to the default of machine precision times ``max(M, N)`` where M and N are the input matrix dimensions.\n",
            "To use the future default and silence this warning we advise to pass `rcond=None`, to keep using the old, explicitly pass `rcond=-1`.\n",
            "  Vhat = np.linalg.lstsq(M,A) #rxb\n"
          ]
        },
        {
          "metadata": {
            "tags": null
          },
          "name": "stdout",
          "output_type": "stream",
          "text": [
            "iteration 2, time 19\n",
            "/content/gdrive/MyDrive/Colab Notebooks/Final/Data/News/list_ppmi_19.csv\n",
            "0 out of 1\n"
          ]
        },
        {
          "metadata": {
            "tags": null
          },
          "name": "stderr",
          "output_type": "stream",
          "text": [
            "<ipython-input-5-a39c1499620e>:19: FutureWarning: `rcond` parameter will change to the default of machine precision times ``max(M, N)`` where M and N are the input matrix dimensions.\n",
            "To use the future default and silence this warning we advise to pass `rcond=None`, to keep using the old, explicitly pass `rcond=-1`.\n",
            "  Vhat = np.linalg.lstsq(M,A) #rxb\n"
          ]
        },
        {
          "metadata": {
            "tags": null
          },
          "name": "stdout",
          "output_type": "stream",
          "text": [
            "time elapsed =  1934.5966069698334\n",
            "Loss 139109057.13636172\n",
            "rank = 50\n",
            "frob  regularizer = 10\n",
            "time  regularizer = 50\n",
            "symmetry regularizer = 50\n",
            "emphasize param   = 1\n",
            "total iterations = 20\n",
            "iteration 3, time 0\n",
            "/content/gdrive/MyDrive/Colab Notebooks/Final/Data/News/list_ppmi_0.csv\n",
            "0 out of 1\n"
          ]
        },
        {
          "metadata": {
            "tags": null
          },
          "name": "stderr",
          "output_type": "stream",
          "text": [
            "<ipython-input-5-a39c1499620e>:19: FutureWarning: `rcond` parameter will change to the default of machine precision times ``max(M, N)`` where M and N are the input matrix dimensions.\n",
            "To use the future default and silence this warning we advise to pass `rcond=None`, to keep using the old, explicitly pass `rcond=-1`.\n",
            "  Vhat = np.linalg.lstsq(M,A) #rxb\n"
          ]
        },
        {
          "metadata": {
            "tags": null
          },
          "name": "stdout",
          "output_type": "stream",
          "text": [
            "iteration 3, time 1\n",
            "/content/gdrive/MyDrive/Colab Notebooks/Final/Data/News/list_ppmi_1.csv\n",
            "0 out of 1\n"
          ]
        },
        {
          "metadata": {
            "tags": null
          },
          "name": "stderr",
          "output_type": "stream",
          "text": [
            "<ipython-input-5-a39c1499620e>:19: FutureWarning: `rcond` parameter will change to the default of machine precision times ``max(M, N)`` where M and N are the input matrix dimensions.\n",
            "To use the future default and silence this warning we advise to pass `rcond=None`, to keep using the old, explicitly pass `rcond=-1`.\n",
            "  Vhat = np.linalg.lstsq(M,A) #rxb\n"
          ]
        },
        {
          "metadata": {
            "tags": null
          },
          "name": "stdout",
          "output_type": "stream",
          "text": [
            "iteration 3, time 2\n",
            "/content/gdrive/MyDrive/Colab Notebooks/Final/Data/News/list_ppmi_2.csv\n",
            "0 out of 1\n"
          ]
        },
        {
          "metadata": {
            "tags": null
          },
          "name": "stderr",
          "output_type": "stream",
          "text": [
            "<ipython-input-5-a39c1499620e>:19: FutureWarning: `rcond` parameter will change to the default of machine precision times ``max(M, N)`` where M and N are the input matrix dimensions.\n",
            "To use the future default and silence this warning we advise to pass `rcond=None`, to keep using the old, explicitly pass `rcond=-1`.\n",
            "  Vhat = np.linalg.lstsq(M,A) #rxb\n"
          ]
        },
        {
          "metadata": {
            "tags": null
          },
          "name": "stdout",
          "output_type": "stream",
          "text": [
            "iteration 3, time 3\n",
            "/content/gdrive/MyDrive/Colab Notebooks/Final/Data/News/list_ppmi_3.csv\n",
            "0 out of 1\n"
          ]
        },
        {
          "metadata": {
            "tags": null
          },
          "name": "stderr",
          "output_type": "stream",
          "text": [
            "<ipython-input-5-a39c1499620e>:19: FutureWarning: `rcond` parameter will change to the default of machine precision times ``max(M, N)`` where M and N are the input matrix dimensions.\n",
            "To use the future default and silence this warning we advise to pass `rcond=None`, to keep using the old, explicitly pass `rcond=-1`.\n",
            "  Vhat = np.linalg.lstsq(M,A) #rxb\n"
          ]
        },
        {
          "metadata": {
            "tags": null
          },
          "name": "stdout",
          "output_type": "stream",
          "text": [
            "iteration 3, time 4\n",
            "/content/gdrive/MyDrive/Colab Notebooks/Final/Data/News/list_ppmi_4.csv\n",
            "0 out of 1\n"
          ]
        },
        {
          "metadata": {
            "tags": null
          },
          "name": "stderr",
          "output_type": "stream",
          "text": [
            "<ipython-input-5-a39c1499620e>:19: FutureWarning: `rcond` parameter will change to the default of machine precision times ``max(M, N)`` where M and N are the input matrix dimensions.\n",
            "To use the future default and silence this warning we advise to pass `rcond=None`, to keep using the old, explicitly pass `rcond=-1`.\n",
            "  Vhat = np.linalg.lstsq(M,A) #rxb\n"
          ]
        },
        {
          "metadata": {
            "tags": null
          },
          "name": "stdout",
          "output_type": "stream",
          "text": [
            "iteration 3, time 5\n",
            "/content/gdrive/MyDrive/Colab Notebooks/Final/Data/News/list_ppmi_5.csv\n",
            "0 out of 1\n"
          ]
        },
        {
          "metadata": {
            "tags": null
          },
          "name": "stderr",
          "output_type": "stream",
          "text": [
            "<ipython-input-5-a39c1499620e>:19: FutureWarning: `rcond` parameter will change to the default of machine precision times ``max(M, N)`` where M and N are the input matrix dimensions.\n",
            "To use the future default and silence this warning we advise to pass `rcond=None`, to keep using the old, explicitly pass `rcond=-1`.\n",
            "  Vhat = np.linalg.lstsq(M,A) #rxb\n"
          ]
        },
        {
          "metadata": {
            "tags": null
          },
          "name": "stdout",
          "output_type": "stream",
          "text": [
            "iteration 3, time 6\n",
            "/content/gdrive/MyDrive/Colab Notebooks/Final/Data/News/list_ppmi_6.csv\n",
            "0 out of 1\n"
          ]
        },
        {
          "metadata": {
            "tags": null
          },
          "name": "stderr",
          "output_type": "stream",
          "text": [
            "<ipython-input-5-a39c1499620e>:19: FutureWarning: `rcond` parameter will change to the default of machine precision times ``max(M, N)`` where M and N are the input matrix dimensions.\n",
            "To use the future default and silence this warning we advise to pass `rcond=None`, to keep using the old, explicitly pass `rcond=-1`.\n",
            "  Vhat = np.linalg.lstsq(M,A) #rxb\n"
          ]
        },
        {
          "metadata": {
            "tags": null
          },
          "name": "stdout",
          "output_type": "stream",
          "text": [
            "iteration 3, time 7\n",
            "/content/gdrive/MyDrive/Colab Notebooks/Final/Data/News/list_ppmi_7.csv\n",
            "0 out of 1\n"
          ]
        },
        {
          "metadata": {
            "tags": null
          },
          "name": "stderr",
          "output_type": "stream",
          "text": [
            "<ipython-input-5-a39c1499620e>:19: FutureWarning: `rcond` parameter will change to the default of machine precision times ``max(M, N)`` where M and N are the input matrix dimensions.\n",
            "To use the future default and silence this warning we advise to pass `rcond=None`, to keep using the old, explicitly pass `rcond=-1`.\n",
            "  Vhat = np.linalg.lstsq(M,A) #rxb\n"
          ]
        },
        {
          "metadata": {
            "tags": null
          },
          "name": "stdout",
          "output_type": "stream",
          "text": [
            "iteration 3, time 8\n",
            "/content/gdrive/MyDrive/Colab Notebooks/Final/Data/News/list_ppmi_8.csv\n",
            "0 out of 1\n"
          ]
        },
        {
          "metadata": {
            "tags": null
          },
          "name": "stderr",
          "output_type": "stream",
          "text": [
            "<ipython-input-5-a39c1499620e>:19: FutureWarning: `rcond` parameter will change to the default of machine precision times ``max(M, N)`` where M and N are the input matrix dimensions.\n",
            "To use the future default and silence this warning we advise to pass `rcond=None`, to keep using the old, explicitly pass `rcond=-1`.\n",
            "  Vhat = np.linalg.lstsq(M,A) #rxb\n"
          ]
        },
        {
          "metadata": {
            "tags": null
          },
          "name": "stdout",
          "output_type": "stream",
          "text": [
            "iteration 3, time 9\n",
            "/content/gdrive/MyDrive/Colab Notebooks/Final/Data/News/list_ppmi_9.csv\n",
            "0 out of 1\n"
          ]
        },
        {
          "metadata": {
            "tags": null
          },
          "name": "stderr",
          "output_type": "stream",
          "text": [
            "<ipython-input-5-a39c1499620e>:19: FutureWarning: `rcond` parameter will change to the default of machine precision times ``max(M, N)`` where M and N are the input matrix dimensions.\n",
            "To use the future default and silence this warning we advise to pass `rcond=None`, to keep using the old, explicitly pass `rcond=-1`.\n",
            "  Vhat = np.linalg.lstsq(M,A) #rxb\n"
          ]
        },
        {
          "metadata": {
            "tags": null
          },
          "name": "stdout",
          "output_type": "stream",
          "text": [
            "iteration 3, time 10\n",
            "/content/gdrive/MyDrive/Colab Notebooks/Final/Data/News/list_ppmi_10.csv\n",
            "0 out of 1\n"
          ]
        },
        {
          "metadata": {
            "tags": null
          },
          "name": "stderr",
          "output_type": "stream",
          "text": [
            "<ipython-input-5-a39c1499620e>:19: FutureWarning: `rcond` parameter will change to the default of machine precision times ``max(M, N)`` where M and N are the input matrix dimensions.\n",
            "To use the future default and silence this warning we advise to pass `rcond=None`, to keep using the old, explicitly pass `rcond=-1`.\n",
            "  Vhat = np.linalg.lstsq(M,A) #rxb\n"
          ]
        },
        {
          "metadata": {
            "tags": null
          },
          "name": "stdout",
          "output_type": "stream",
          "text": [
            "iteration 3, time 11\n",
            "/content/gdrive/MyDrive/Colab Notebooks/Final/Data/News/list_ppmi_11.csv\n",
            "0 out of 1\n"
          ]
        },
        {
          "metadata": {
            "tags": null
          },
          "name": "stderr",
          "output_type": "stream",
          "text": [
            "<ipython-input-5-a39c1499620e>:19: FutureWarning: `rcond` parameter will change to the default of machine precision times ``max(M, N)`` where M and N are the input matrix dimensions.\n",
            "To use the future default and silence this warning we advise to pass `rcond=None`, to keep using the old, explicitly pass `rcond=-1`.\n",
            "  Vhat = np.linalg.lstsq(M,A) #rxb\n"
          ]
        },
        {
          "metadata": {
            "tags": null
          },
          "name": "stdout",
          "output_type": "stream",
          "text": [
            "iteration 3, time 12\n",
            "/content/gdrive/MyDrive/Colab Notebooks/Final/Data/News/list_ppmi_12.csv\n",
            "0 out of 1\n"
          ]
        },
        {
          "metadata": {
            "tags": null
          },
          "name": "stderr",
          "output_type": "stream",
          "text": [
            "<ipython-input-5-a39c1499620e>:19: FutureWarning: `rcond` parameter will change to the default of machine precision times ``max(M, N)`` where M and N are the input matrix dimensions.\n",
            "To use the future default and silence this warning we advise to pass `rcond=None`, to keep using the old, explicitly pass `rcond=-1`.\n",
            "  Vhat = np.linalg.lstsq(M,A) #rxb\n"
          ]
        },
        {
          "metadata": {
            "tags": null
          },
          "name": "stdout",
          "output_type": "stream",
          "text": [
            "iteration 3, time 13\n",
            "/content/gdrive/MyDrive/Colab Notebooks/Final/Data/News/list_ppmi_13.csv\n",
            "0 out of 1\n"
          ]
        },
        {
          "metadata": {
            "tags": null
          },
          "name": "stderr",
          "output_type": "stream",
          "text": [
            "<ipython-input-5-a39c1499620e>:19: FutureWarning: `rcond` parameter will change to the default of machine precision times ``max(M, N)`` where M and N are the input matrix dimensions.\n",
            "To use the future default and silence this warning we advise to pass `rcond=None`, to keep using the old, explicitly pass `rcond=-1`.\n",
            "  Vhat = np.linalg.lstsq(M,A) #rxb\n"
          ]
        },
        {
          "metadata": {
            "tags": null
          },
          "name": "stdout",
          "output_type": "stream",
          "text": [
            "iteration 3, time 14\n",
            "/content/gdrive/MyDrive/Colab Notebooks/Final/Data/News/list_ppmi_14.csv\n",
            "0 out of 1\n"
          ]
        },
        {
          "metadata": {
            "tags": null
          },
          "name": "stderr",
          "output_type": "stream",
          "text": [
            "<ipython-input-5-a39c1499620e>:19: FutureWarning: `rcond` parameter will change to the default of machine precision times ``max(M, N)`` where M and N are the input matrix dimensions.\n",
            "To use the future default and silence this warning we advise to pass `rcond=None`, to keep using the old, explicitly pass `rcond=-1`.\n",
            "  Vhat = np.linalg.lstsq(M,A) #rxb\n"
          ]
        },
        {
          "metadata": {
            "tags": null
          },
          "name": "stdout",
          "output_type": "stream",
          "text": [
            "iteration 3, time 15\n",
            "/content/gdrive/MyDrive/Colab Notebooks/Final/Data/News/list_ppmi_15.csv\n",
            "0 out of 1\n"
          ]
        },
        {
          "metadata": {
            "tags": null
          },
          "name": "stderr",
          "output_type": "stream",
          "text": [
            "<ipython-input-5-a39c1499620e>:19: FutureWarning: `rcond` parameter will change to the default of machine precision times ``max(M, N)`` where M and N are the input matrix dimensions.\n",
            "To use the future default and silence this warning we advise to pass `rcond=None`, to keep using the old, explicitly pass `rcond=-1`.\n",
            "  Vhat = np.linalg.lstsq(M,A) #rxb\n"
          ]
        },
        {
          "metadata": {
            "tags": null
          },
          "name": "stdout",
          "output_type": "stream",
          "text": [
            "iteration 3, time 16\n",
            "/content/gdrive/MyDrive/Colab Notebooks/Final/Data/News/list_ppmi_16.csv\n",
            "0 out of 1\n"
          ]
        },
        {
          "metadata": {
            "tags": null
          },
          "name": "stderr",
          "output_type": "stream",
          "text": [
            "<ipython-input-5-a39c1499620e>:19: FutureWarning: `rcond` parameter will change to the default of machine precision times ``max(M, N)`` where M and N are the input matrix dimensions.\n",
            "To use the future default and silence this warning we advise to pass `rcond=None`, to keep using the old, explicitly pass `rcond=-1`.\n",
            "  Vhat = np.linalg.lstsq(M,A) #rxb\n"
          ]
        },
        {
          "metadata": {
            "tags": null
          },
          "name": "stdout",
          "output_type": "stream",
          "text": [
            "iteration 3, time 17\n",
            "/content/gdrive/MyDrive/Colab Notebooks/Final/Data/News/list_ppmi_17.csv\n",
            "0 out of 1\n"
          ]
        },
        {
          "metadata": {
            "tags": null
          },
          "name": "stderr",
          "output_type": "stream",
          "text": [
            "<ipython-input-5-a39c1499620e>:19: FutureWarning: `rcond` parameter will change to the default of machine precision times ``max(M, N)`` where M and N are the input matrix dimensions.\n",
            "To use the future default and silence this warning we advise to pass `rcond=None`, to keep using the old, explicitly pass `rcond=-1`.\n",
            "  Vhat = np.linalg.lstsq(M,A) #rxb\n"
          ]
        },
        {
          "metadata": {
            "tags": null
          },
          "name": "stdout",
          "output_type": "stream",
          "text": [
            "iteration 3, time 18\n",
            "/content/gdrive/MyDrive/Colab Notebooks/Final/Data/News/list_ppmi_18.csv\n",
            "0 out of 1\n"
          ]
        },
        {
          "metadata": {
            "tags": null
          },
          "name": "stderr",
          "output_type": "stream",
          "text": [
            "<ipython-input-5-a39c1499620e>:19: FutureWarning: `rcond` parameter will change to the default of machine precision times ``max(M, N)`` where M and N are the input matrix dimensions.\n",
            "To use the future default and silence this warning we advise to pass `rcond=None`, to keep using the old, explicitly pass `rcond=-1`.\n",
            "  Vhat = np.linalg.lstsq(M,A) #rxb\n"
          ]
        },
        {
          "metadata": {
            "tags": null
          },
          "name": "stdout",
          "output_type": "stream",
          "text": [
            "iteration 3, time 19\n",
            "/content/gdrive/MyDrive/Colab Notebooks/Final/Data/News/list_ppmi_19.csv\n",
            "0 out of 1\n"
          ]
        },
        {
          "metadata": {
            "tags": null
          },
          "name": "stderr",
          "output_type": "stream",
          "text": [
            "<ipython-input-5-a39c1499620e>:19: FutureWarning: `rcond` parameter will change to the default of machine precision times ``max(M, N)`` where M and N are the input matrix dimensions.\n",
            "To use the future default and silence this warning we advise to pass `rcond=None`, to keep using the old, explicitly pass `rcond=-1`.\n",
            "  Vhat = np.linalg.lstsq(M,A) #rxb\n"
          ]
        },
        {
          "metadata": {
            "tags": null
          },
          "name": "stdout",
          "output_type": "stream",
          "text": [
            "time elapsed =  2607.5020880699158\n",
            "Loss 138084350.4950293\n",
            "rank = 50\n",
            "frob  regularizer = 10\n",
            "time  regularizer = 50\n",
            "symmetry regularizer = 50\n",
            "emphasize param   = 1\n",
            "total iterations = 20\n",
            "iteration 4, time 0\n",
            "/content/gdrive/MyDrive/Colab Notebooks/Final/Data/News/list_ppmi_0.csv\n",
            "0 out of 1\n"
          ]
        },
        {
          "metadata": {
            "tags": null
          },
          "name": "stderr",
          "output_type": "stream",
          "text": [
            "<ipython-input-5-a39c1499620e>:19: FutureWarning: `rcond` parameter will change to the default of machine precision times ``max(M, N)`` where M and N are the input matrix dimensions.\n",
            "To use the future default and silence this warning we advise to pass `rcond=None`, to keep using the old, explicitly pass `rcond=-1`.\n",
            "  Vhat = np.linalg.lstsq(M,A) #rxb\n"
          ]
        },
        {
          "metadata": {
            "tags": null
          },
          "name": "stdout",
          "output_type": "stream",
          "text": [
            "iteration 4, time 1\n",
            "/content/gdrive/MyDrive/Colab Notebooks/Final/Data/News/list_ppmi_1.csv\n",
            "0 out of 1\n"
          ]
        },
        {
          "metadata": {
            "tags": null
          },
          "name": "stderr",
          "output_type": "stream",
          "text": [
            "<ipython-input-5-a39c1499620e>:19: FutureWarning: `rcond` parameter will change to the default of machine precision times ``max(M, N)`` where M and N are the input matrix dimensions.\n",
            "To use the future default and silence this warning we advise to pass `rcond=None`, to keep using the old, explicitly pass `rcond=-1`.\n",
            "  Vhat = np.linalg.lstsq(M,A) #rxb\n"
          ]
        },
        {
          "metadata": {
            "tags": null
          },
          "name": "stdout",
          "output_type": "stream",
          "text": [
            "iteration 4, time 2\n",
            "/content/gdrive/MyDrive/Colab Notebooks/Final/Data/News/list_ppmi_2.csv\n",
            "0 out of 1\n"
          ]
        },
        {
          "metadata": {
            "tags": null
          },
          "name": "stderr",
          "output_type": "stream",
          "text": [
            "<ipython-input-5-a39c1499620e>:19: FutureWarning: `rcond` parameter will change to the default of machine precision times ``max(M, N)`` where M and N are the input matrix dimensions.\n",
            "To use the future default and silence this warning we advise to pass `rcond=None`, to keep using the old, explicitly pass `rcond=-1`.\n",
            "  Vhat = np.linalg.lstsq(M,A) #rxb\n"
          ]
        },
        {
          "metadata": {
            "tags": null
          },
          "name": "stdout",
          "output_type": "stream",
          "text": [
            "iteration 4, time 3\n",
            "/content/gdrive/MyDrive/Colab Notebooks/Final/Data/News/list_ppmi_3.csv\n",
            "0 out of 1\n"
          ]
        },
        {
          "metadata": {
            "tags": null
          },
          "name": "stderr",
          "output_type": "stream",
          "text": [
            "<ipython-input-5-a39c1499620e>:19: FutureWarning: `rcond` parameter will change to the default of machine precision times ``max(M, N)`` where M and N are the input matrix dimensions.\n",
            "To use the future default and silence this warning we advise to pass `rcond=None`, to keep using the old, explicitly pass `rcond=-1`.\n",
            "  Vhat = np.linalg.lstsq(M,A) #rxb\n"
          ]
        },
        {
          "metadata": {
            "tags": null
          },
          "name": "stdout",
          "output_type": "stream",
          "text": [
            "iteration 4, time 4\n",
            "/content/gdrive/MyDrive/Colab Notebooks/Final/Data/News/list_ppmi_4.csv\n",
            "0 out of 1\n"
          ]
        },
        {
          "metadata": {
            "tags": null
          },
          "name": "stderr",
          "output_type": "stream",
          "text": [
            "<ipython-input-5-a39c1499620e>:19: FutureWarning: `rcond` parameter will change to the default of machine precision times ``max(M, N)`` where M and N are the input matrix dimensions.\n",
            "To use the future default and silence this warning we advise to pass `rcond=None`, to keep using the old, explicitly pass `rcond=-1`.\n",
            "  Vhat = np.linalg.lstsq(M,A) #rxb\n"
          ]
        },
        {
          "metadata": {
            "tags": null
          },
          "name": "stdout",
          "output_type": "stream",
          "text": [
            "iteration 4, time 5\n",
            "/content/gdrive/MyDrive/Colab Notebooks/Final/Data/News/list_ppmi_5.csv\n",
            "0 out of 1\n"
          ]
        },
        {
          "metadata": {
            "tags": null
          },
          "name": "stderr",
          "output_type": "stream",
          "text": [
            "<ipython-input-5-a39c1499620e>:19: FutureWarning: `rcond` parameter will change to the default of machine precision times ``max(M, N)`` where M and N are the input matrix dimensions.\n",
            "To use the future default and silence this warning we advise to pass `rcond=None`, to keep using the old, explicitly pass `rcond=-1`.\n",
            "  Vhat = np.linalg.lstsq(M,A) #rxb\n"
          ]
        },
        {
          "metadata": {
            "tags": null
          },
          "name": "stdout",
          "output_type": "stream",
          "text": [
            "iteration 4, time 6\n",
            "/content/gdrive/MyDrive/Colab Notebooks/Final/Data/News/list_ppmi_6.csv\n",
            "0 out of 1\n"
          ]
        },
        {
          "metadata": {
            "tags": null
          },
          "name": "stderr",
          "output_type": "stream",
          "text": [
            "<ipython-input-5-a39c1499620e>:19: FutureWarning: `rcond` parameter will change to the default of machine precision times ``max(M, N)`` where M and N are the input matrix dimensions.\n",
            "To use the future default and silence this warning we advise to pass `rcond=None`, to keep using the old, explicitly pass `rcond=-1`.\n",
            "  Vhat = np.linalg.lstsq(M,A) #rxb\n"
          ]
        },
        {
          "metadata": {
            "tags": null
          },
          "name": "stdout",
          "output_type": "stream",
          "text": [
            "iteration 4, time 7\n",
            "/content/gdrive/MyDrive/Colab Notebooks/Final/Data/News/list_ppmi_7.csv\n",
            "0 out of 1\n"
          ]
        },
        {
          "metadata": {
            "tags": null
          },
          "name": "stderr",
          "output_type": "stream",
          "text": [
            "<ipython-input-5-a39c1499620e>:19: FutureWarning: `rcond` parameter will change to the default of machine precision times ``max(M, N)`` where M and N are the input matrix dimensions.\n",
            "To use the future default and silence this warning we advise to pass `rcond=None`, to keep using the old, explicitly pass `rcond=-1`.\n",
            "  Vhat = np.linalg.lstsq(M,A) #rxb\n"
          ]
        },
        {
          "metadata": {
            "tags": null
          },
          "name": "stdout",
          "output_type": "stream",
          "text": [
            "iteration 4, time 8\n",
            "/content/gdrive/MyDrive/Colab Notebooks/Final/Data/News/list_ppmi_8.csv\n",
            "0 out of 1\n"
          ]
        },
        {
          "metadata": {
            "tags": null
          },
          "name": "stderr",
          "output_type": "stream",
          "text": [
            "<ipython-input-5-a39c1499620e>:19: FutureWarning: `rcond` parameter will change to the default of machine precision times ``max(M, N)`` where M and N are the input matrix dimensions.\n",
            "To use the future default and silence this warning we advise to pass `rcond=None`, to keep using the old, explicitly pass `rcond=-1`.\n",
            "  Vhat = np.linalg.lstsq(M,A) #rxb\n"
          ]
        },
        {
          "metadata": {
            "tags": null
          },
          "name": "stdout",
          "output_type": "stream",
          "text": [
            "iteration 4, time 9\n",
            "/content/gdrive/MyDrive/Colab Notebooks/Final/Data/News/list_ppmi_9.csv\n",
            "0 out of 1\n"
          ]
        },
        {
          "metadata": {
            "tags": null
          },
          "name": "stderr",
          "output_type": "stream",
          "text": [
            "<ipython-input-5-a39c1499620e>:19: FutureWarning: `rcond` parameter will change to the default of machine precision times ``max(M, N)`` where M and N are the input matrix dimensions.\n",
            "To use the future default and silence this warning we advise to pass `rcond=None`, to keep using the old, explicitly pass `rcond=-1`.\n",
            "  Vhat = np.linalg.lstsq(M,A) #rxb\n"
          ]
        },
        {
          "metadata": {
            "tags": null
          },
          "name": "stdout",
          "output_type": "stream",
          "text": [
            "iteration 4, time 10\n",
            "/content/gdrive/MyDrive/Colab Notebooks/Final/Data/News/list_ppmi_10.csv\n",
            "0 out of 1\n"
          ]
        },
        {
          "metadata": {
            "tags": null
          },
          "name": "stderr",
          "output_type": "stream",
          "text": [
            "<ipython-input-5-a39c1499620e>:19: FutureWarning: `rcond` parameter will change to the default of machine precision times ``max(M, N)`` where M and N are the input matrix dimensions.\n",
            "To use the future default and silence this warning we advise to pass `rcond=None`, to keep using the old, explicitly pass `rcond=-1`.\n",
            "  Vhat = np.linalg.lstsq(M,A) #rxb\n"
          ]
        },
        {
          "metadata": {
            "tags": null
          },
          "name": "stdout",
          "output_type": "stream",
          "text": [
            "iteration 4, time 11\n",
            "/content/gdrive/MyDrive/Colab Notebooks/Final/Data/News/list_ppmi_11.csv\n",
            "0 out of 1\n"
          ]
        },
        {
          "metadata": {
            "tags": null
          },
          "name": "stderr",
          "output_type": "stream",
          "text": [
            "<ipython-input-5-a39c1499620e>:19: FutureWarning: `rcond` parameter will change to the default of machine precision times ``max(M, N)`` where M and N are the input matrix dimensions.\n",
            "To use the future default and silence this warning we advise to pass `rcond=None`, to keep using the old, explicitly pass `rcond=-1`.\n",
            "  Vhat = np.linalg.lstsq(M,A) #rxb\n"
          ]
        },
        {
          "metadata": {
            "tags": null
          },
          "name": "stdout",
          "output_type": "stream",
          "text": [
            "iteration 4, time 12\n",
            "/content/gdrive/MyDrive/Colab Notebooks/Final/Data/News/list_ppmi_12.csv\n",
            "0 out of 1\n"
          ]
        },
        {
          "metadata": {
            "tags": null
          },
          "name": "stderr",
          "output_type": "stream",
          "text": [
            "<ipython-input-5-a39c1499620e>:19: FutureWarning: `rcond` parameter will change to the default of machine precision times ``max(M, N)`` where M and N are the input matrix dimensions.\n",
            "To use the future default and silence this warning we advise to pass `rcond=None`, to keep using the old, explicitly pass `rcond=-1`.\n",
            "  Vhat = np.linalg.lstsq(M,A) #rxb\n"
          ]
        },
        {
          "metadata": {
            "tags": null
          },
          "name": "stdout",
          "output_type": "stream",
          "text": [
            "iteration 4, time 13\n",
            "/content/gdrive/MyDrive/Colab Notebooks/Final/Data/News/list_ppmi_13.csv\n",
            "0 out of 1\n"
          ]
        },
        {
          "metadata": {
            "tags": null
          },
          "name": "stderr",
          "output_type": "stream",
          "text": [
            "<ipython-input-5-a39c1499620e>:19: FutureWarning: `rcond` parameter will change to the default of machine precision times ``max(M, N)`` where M and N are the input matrix dimensions.\n",
            "To use the future default and silence this warning we advise to pass `rcond=None`, to keep using the old, explicitly pass `rcond=-1`.\n",
            "  Vhat = np.linalg.lstsq(M,A) #rxb\n"
          ]
        },
        {
          "metadata": {
            "tags": null
          },
          "name": "stdout",
          "output_type": "stream",
          "text": [
            "iteration 4, time 14\n",
            "/content/gdrive/MyDrive/Colab Notebooks/Final/Data/News/list_ppmi_14.csv\n",
            "0 out of 1\n"
          ]
        },
        {
          "metadata": {
            "tags": null
          },
          "name": "stderr",
          "output_type": "stream",
          "text": [
            "<ipython-input-5-a39c1499620e>:19: FutureWarning: `rcond` parameter will change to the default of machine precision times ``max(M, N)`` where M and N are the input matrix dimensions.\n",
            "To use the future default and silence this warning we advise to pass `rcond=None`, to keep using the old, explicitly pass `rcond=-1`.\n",
            "  Vhat = np.linalg.lstsq(M,A) #rxb\n"
          ]
        },
        {
          "metadata": {
            "tags": null
          },
          "name": "stdout",
          "output_type": "stream",
          "text": [
            "iteration 4, time 15\n",
            "/content/gdrive/MyDrive/Colab Notebooks/Final/Data/News/list_ppmi_15.csv\n",
            "0 out of 1\n"
          ]
        },
        {
          "metadata": {
            "tags": null
          },
          "name": "stderr",
          "output_type": "stream",
          "text": [
            "<ipython-input-5-a39c1499620e>:19: FutureWarning: `rcond` parameter will change to the default of machine precision times ``max(M, N)`` where M and N are the input matrix dimensions.\n",
            "To use the future default and silence this warning we advise to pass `rcond=None`, to keep using the old, explicitly pass `rcond=-1`.\n",
            "  Vhat = np.linalg.lstsq(M,A) #rxb\n"
          ]
        },
        {
          "metadata": {
            "tags": null
          },
          "name": "stdout",
          "output_type": "stream",
          "text": [
            "iteration 4, time 16\n",
            "/content/gdrive/MyDrive/Colab Notebooks/Final/Data/News/list_ppmi_16.csv\n",
            "0 out of 1\n"
          ]
        },
        {
          "metadata": {
            "tags": null
          },
          "name": "stderr",
          "output_type": "stream",
          "text": [
            "<ipython-input-5-a39c1499620e>:19: FutureWarning: `rcond` parameter will change to the default of machine precision times ``max(M, N)`` where M and N are the input matrix dimensions.\n",
            "To use the future default and silence this warning we advise to pass `rcond=None`, to keep using the old, explicitly pass `rcond=-1`.\n",
            "  Vhat = np.linalg.lstsq(M,A) #rxb\n"
          ]
        },
        {
          "metadata": {
            "tags": null
          },
          "name": "stdout",
          "output_type": "stream",
          "text": [
            "iteration 4, time 17\n",
            "/content/gdrive/MyDrive/Colab Notebooks/Final/Data/News/list_ppmi_17.csv\n",
            "0 out of 1\n"
          ]
        },
        {
          "metadata": {
            "tags": null
          },
          "name": "stderr",
          "output_type": "stream",
          "text": [
            "<ipython-input-5-a39c1499620e>:19: FutureWarning: `rcond` parameter will change to the default of machine precision times ``max(M, N)`` where M and N are the input matrix dimensions.\n",
            "To use the future default and silence this warning we advise to pass `rcond=None`, to keep using the old, explicitly pass `rcond=-1`.\n",
            "  Vhat = np.linalg.lstsq(M,A) #rxb\n"
          ]
        },
        {
          "metadata": {
            "tags": null
          },
          "name": "stdout",
          "output_type": "stream",
          "text": [
            "iteration 4, time 18\n",
            "/content/gdrive/MyDrive/Colab Notebooks/Final/Data/News/list_ppmi_18.csv\n",
            "0 out of 1\n"
          ]
        },
        {
          "metadata": {
            "tags": null
          },
          "name": "stderr",
          "output_type": "stream",
          "text": [
            "<ipython-input-5-a39c1499620e>:19: FutureWarning: `rcond` parameter will change to the default of machine precision times ``max(M, N)`` where M and N are the input matrix dimensions.\n",
            "To use the future default and silence this warning we advise to pass `rcond=None`, to keep using the old, explicitly pass `rcond=-1`.\n",
            "  Vhat = np.linalg.lstsq(M,A) #rxb\n"
          ]
        },
        {
          "metadata": {
            "tags": null
          },
          "name": "stdout",
          "output_type": "stream",
          "text": [
            "iteration 4, time 19\n",
            "/content/gdrive/MyDrive/Colab Notebooks/Final/Data/News/list_ppmi_19.csv\n",
            "0 out of 1\n"
          ]
        },
        {
          "metadata": {
            "tags": null
          },
          "name": "stderr",
          "output_type": "stream",
          "text": [
            "<ipython-input-5-a39c1499620e>:19: FutureWarning: `rcond` parameter will change to the default of machine precision times ``max(M, N)`` where M and N are the input matrix dimensions.\n",
            "To use the future default and silence this warning we advise to pass `rcond=None`, to keep using the old, explicitly pass `rcond=-1`.\n",
            "  Vhat = np.linalg.lstsq(M,A) #rxb\n"
          ]
        },
        {
          "metadata": {
            "tags": null
          },
          "name": "stdout",
          "output_type": "stream",
          "text": [
            "time elapsed =  3328.170609474182\n",
            "Loss 138555660.41883674\n",
            "rank = 50\n",
            "frob  regularizer = 10\n",
            "time  regularizer = 50\n",
            "symmetry regularizer = 50\n",
            "emphasize param   = 1\n",
            "total iterations = 20\n",
            "iteration 5, time 0\n",
            "/content/gdrive/MyDrive/Colab Notebooks/Final/Data/News/list_ppmi_0.csv\n",
            "0 out of 1\n"
          ]
        },
        {
          "metadata": {
            "tags": null
          },
          "name": "stderr",
          "output_type": "stream",
          "text": [
            "<ipython-input-5-a39c1499620e>:19: FutureWarning: `rcond` parameter will change to the default of machine precision times ``max(M, N)`` where M and N are the input matrix dimensions.\n",
            "To use the future default and silence this warning we advise to pass `rcond=None`, to keep using the old, explicitly pass `rcond=-1`.\n",
            "  Vhat = np.linalg.lstsq(M,A) #rxb\n"
          ]
        },
        {
          "metadata": {
            "tags": null
          },
          "name": "stdout",
          "output_type": "stream",
          "text": [
            "iteration 5, time 1\n",
            "/content/gdrive/MyDrive/Colab Notebooks/Final/Data/News/list_ppmi_1.csv\n",
            "0 out of 1\n"
          ]
        },
        {
          "metadata": {
            "tags": null
          },
          "name": "stderr",
          "output_type": "stream",
          "text": [
            "<ipython-input-5-a39c1499620e>:19: FutureWarning: `rcond` parameter will change to the default of machine precision times ``max(M, N)`` where M and N are the input matrix dimensions.\n",
            "To use the future default and silence this warning we advise to pass `rcond=None`, to keep using the old, explicitly pass `rcond=-1`.\n",
            "  Vhat = np.linalg.lstsq(M,A) #rxb\n"
          ]
        },
        {
          "metadata": {
            "tags": null
          },
          "name": "stdout",
          "output_type": "stream",
          "text": [
            "iteration 5, time 2\n",
            "/content/gdrive/MyDrive/Colab Notebooks/Final/Data/News/list_ppmi_2.csv\n",
            "0 out of 1\n"
          ]
        },
        {
          "metadata": {
            "tags": null
          },
          "name": "stderr",
          "output_type": "stream",
          "text": [
            "<ipython-input-5-a39c1499620e>:19: FutureWarning: `rcond` parameter will change to the default of machine precision times ``max(M, N)`` where M and N are the input matrix dimensions.\n",
            "To use the future default and silence this warning we advise to pass `rcond=None`, to keep using the old, explicitly pass `rcond=-1`.\n",
            "  Vhat = np.linalg.lstsq(M,A) #rxb\n"
          ]
        },
        {
          "metadata": {
            "tags": null
          },
          "name": "stdout",
          "output_type": "stream",
          "text": [
            "iteration 5, time 3\n",
            "/content/gdrive/MyDrive/Colab Notebooks/Final/Data/News/list_ppmi_3.csv\n",
            "0 out of 1\n"
          ]
        },
        {
          "metadata": {
            "tags": null
          },
          "name": "stderr",
          "output_type": "stream",
          "text": [
            "<ipython-input-5-a39c1499620e>:19: FutureWarning: `rcond` parameter will change to the default of machine precision times ``max(M, N)`` where M and N are the input matrix dimensions.\n",
            "To use the future default and silence this warning we advise to pass `rcond=None`, to keep using the old, explicitly pass `rcond=-1`.\n",
            "  Vhat = np.linalg.lstsq(M,A) #rxb\n"
          ]
        },
        {
          "metadata": {
            "tags": null
          },
          "name": "stdout",
          "output_type": "stream",
          "text": [
            "iteration 5, time 4\n",
            "/content/gdrive/MyDrive/Colab Notebooks/Final/Data/News/list_ppmi_4.csv\n",
            "0 out of 1\n"
          ]
        },
        {
          "metadata": {
            "tags": null
          },
          "name": "stderr",
          "output_type": "stream",
          "text": [
            "<ipython-input-5-a39c1499620e>:19: FutureWarning: `rcond` parameter will change to the default of machine precision times ``max(M, N)`` where M and N are the input matrix dimensions.\n",
            "To use the future default and silence this warning we advise to pass `rcond=None`, to keep using the old, explicitly pass `rcond=-1`.\n",
            "  Vhat = np.linalg.lstsq(M,A) #rxb\n"
          ]
        },
        {
          "metadata": {
            "tags": null
          },
          "name": "stdout",
          "output_type": "stream",
          "text": [
            "iteration 5, time 5\n",
            "/content/gdrive/MyDrive/Colab Notebooks/Final/Data/News/list_ppmi_5.csv\n",
            "0 out of 1\n"
          ]
        },
        {
          "metadata": {
            "tags": null
          },
          "name": "stderr",
          "output_type": "stream",
          "text": [
            "<ipython-input-5-a39c1499620e>:19: FutureWarning: `rcond` parameter will change to the default of machine precision times ``max(M, N)`` where M and N are the input matrix dimensions.\n",
            "To use the future default and silence this warning we advise to pass `rcond=None`, to keep using the old, explicitly pass `rcond=-1`.\n",
            "  Vhat = np.linalg.lstsq(M,A) #rxb\n"
          ]
        },
        {
          "metadata": {
            "tags": null
          },
          "name": "stdout",
          "output_type": "stream",
          "text": [
            "iteration 5, time 6\n",
            "/content/gdrive/MyDrive/Colab Notebooks/Final/Data/News/list_ppmi_6.csv\n",
            "0 out of 1\n"
          ]
        },
        {
          "metadata": {
            "tags": null
          },
          "name": "stderr",
          "output_type": "stream",
          "text": [
            "<ipython-input-5-a39c1499620e>:19: FutureWarning: `rcond` parameter will change to the default of machine precision times ``max(M, N)`` where M and N are the input matrix dimensions.\n",
            "To use the future default and silence this warning we advise to pass `rcond=None`, to keep using the old, explicitly pass `rcond=-1`.\n",
            "  Vhat = np.linalg.lstsq(M,A) #rxb\n"
          ]
        },
        {
          "metadata": {
            "tags": null
          },
          "name": "stdout",
          "output_type": "stream",
          "text": [
            "iteration 5, time 7\n",
            "/content/gdrive/MyDrive/Colab Notebooks/Final/Data/News/list_ppmi_7.csv\n",
            "0 out of 1\n"
          ]
        },
        {
          "metadata": {
            "tags": null
          },
          "name": "stderr",
          "output_type": "stream",
          "text": [
            "<ipython-input-5-a39c1499620e>:19: FutureWarning: `rcond` parameter will change to the default of machine precision times ``max(M, N)`` where M and N are the input matrix dimensions.\n",
            "To use the future default and silence this warning we advise to pass `rcond=None`, to keep using the old, explicitly pass `rcond=-1`.\n",
            "  Vhat = np.linalg.lstsq(M,A) #rxb\n"
          ]
        },
        {
          "metadata": {
            "tags": null
          },
          "name": "stdout",
          "output_type": "stream",
          "text": [
            "iteration 5, time 8\n",
            "/content/gdrive/MyDrive/Colab Notebooks/Final/Data/News/list_ppmi_8.csv\n",
            "0 out of 1\n"
          ]
        },
        {
          "metadata": {
            "tags": null
          },
          "name": "stderr",
          "output_type": "stream",
          "text": [
            "<ipython-input-5-a39c1499620e>:19: FutureWarning: `rcond` parameter will change to the default of machine precision times ``max(M, N)`` where M and N are the input matrix dimensions.\n",
            "To use the future default and silence this warning we advise to pass `rcond=None`, to keep using the old, explicitly pass `rcond=-1`.\n",
            "  Vhat = np.linalg.lstsq(M,A) #rxb\n"
          ]
        },
        {
          "metadata": {
            "tags": null
          },
          "name": "stdout",
          "output_type": "stream",
          "text": [
            "iteration 5, time 9\n",
            "/content/gdrive/MyDrive/Colab Notebooks/Final/Data/News/list_ppmi_9.csv\n",
            "0 out of 1\n"
          ]
        },
        {
          "metadata": {
            "tags": null
          },
          "name": "stderr",
          "output_type": "stream",
          "text": [
            "<ipython-input-5-a39c1499620e>:19: FutureWarning: `rcond` parameter will change to the default of machine precision times ``max(M, N)`` where M and N are the input matrix dimensions.\n",
            "To use the future default and silence this warning we advise to pass `rcond=None`, to keep using the old, explicitly pass `rcond=-1`.\n",
            "  Vhat = np.linalg.lstsq(M,A) #rxb\n"
          ]
        },
        {
          "metadata": {
            "tags": null
          },
          "name": "stdout",
          "output_type": "stream",
          "text": [
            "iteration 5, time 10\n",
            "/content/gdrive/MyDrive/Colab Notebooks/Final/Data/News/list_ppmi_10.csv\n",
            "0 out of 1\n"
          ]
        },
        {
          "metadata": {
            "tags": null
          },
          "name": "stderr",
          "output_type": "stream",
          "text": [
            "<ipython-input-5-a39c1499620e>:19: FutureWarning: `rcond` parameter will change to the default of machine precision times ``max(M, N)`` where M and N are the input matrix dimensions.\n",
            "To use the future default and silence this warning we advise to pass `rcond=None`, to keep using the old, explicitly pass `rcond=-1`.\n",
            "  Vhat = np.linalg.lstsq(M,A) #rxb\n"
          ]
        },
        {
          "metadata": {
            "tags": null
          },
          "name": "stdout",
          "output_type": "stream",
          "text": [
            "iteration 5, time 11\n",
            "/content/gdrive/MyDrive/Colab Notebooks/Final/Data/News/list_ppmi_11.csv\n",
            "0 out of 1\n"
          ]
        },
        {
          "metadata": {
            "tags": null
          },
          "name": "stderr",
          "output_type": "stream",
          "text": [
            "<ipython-input-5-a39c1499620e>:19: FutureWarning: `rcond` parameter will change to the default of machine precision times ``max(M, N)`` where M and N are the input matrix dimensions.\n",
            "To use the future default and silence this warning we advise to pass `rcond=None`, to keep using the old, explicitly pass `rcond=-1`.\n",
            "  Vhat = np.linalg.lstsq(M,A) #rxb\n"
          ]
        },
        {
          "metadata": {
            "tags": null
          },
          "name": "stdout",
          "output_type": "stream",
          "text": [
            "iteration 5, time 12\n",
            "/content/gdrive/MyDrive/Colab Notebooks/Final/Data/News/list_ppmi_12.csv\n",
            "0 out of 1\n"
          ]
        },
        {
          "metadata": {
            "tags": null
          },
          "name": "stderr",
          "output_type": "stream",
          "text": [
            "<ipython-input-5-a39c1499620e>:19: FutureWarning: `rcond` parameter will change to the default of machine precision times ``max(M, N)`` where M and N are the input matrix dimensions.\n",
            "To use the future default and silence this warning we advise to pass `rcond=None`, to keep using the old, explicitly pass `rcond=-1`.\n",
            "  Vhat = np.linalg.lstsq(M,A) #rxb\n"
          ]
        },
        {
          "metadata": {
            "tags": null
          },
          "name": "stdout",
          "output_type": "stream",
          "text": [
            "iteration 5, time 13\n",
            "/content/gdrive/MyDrive/Colab Notebooks/Final/Data/News/list_ppmi_13.csv\n",
            "0 out of 1\n"
          ]
        },
        {
          "metadata": {
            "tags": null
          },
          "name": "stderr",
          "output_type": "stream",
          "text": [
            "<ipython-input-5-a39c1499620e>:19: FutureWarning: `rcond` parameter will change to the default of machine precision times ``max(M, N)`` where M and N are the input matrix dimensions.\n",
            "To use the future default and silence this warning we advise to pass `rcond=None`, to keep using the old, explicitly pass `rcond=-1`.\n",
            "  Vhat = np.linalg.lstsq(M,A) #rxb\n"
          ]
        },
        {
          "metadata": {
            "tags": null
          },
          "name": "stdout",
          "output_type": "stream",
          "text": [
            "iteration 5, time 14\n",
            "/content/gdrive/MyDrive/Colab Notebooks/Final/Data/News/list_ppmi_14.csv\n",
            "0 out of 1\n"
          ]
        },
        {
          "metadata": {
            "tags": null
          },
          "name": "stderr",
          "output_type": "stream",
          "text": [
            "<ipython-input-5-a39c1499620e>:19: FutureWarning: `rcond` parameter will change to the default of machine precision times ``max(M, N)`` where M and N are the input matrix dimensions.\n",
            "To use the future default and silence this warning we advise to pass `rcond=None`, to keep using the old, explicitly pass `rcond=-1`.\n",
            "  Vhat = np.linalg.lstsq(M,A) #rxb\n"
          ]
        },
        {
          "metadata": {
            "tags": null
          },
          "name": "stdout",
          "output_type": "stream",
          "text": [
            "iteration 5, time 15\n",
            "/content/gdrive/MyDrive/Colab Notebooks/Final/Data/News/list_ppmi_15.csv\n",
            "0 out of 1\n"
          ]
        },
        {
          "metadata": {
            "tags": null
          },
          "name": "stderr",
          "output_type": "stream",
          "text": [
            "<ipython-input-5-a39c1499620e>:19: FutureWarning: `rcond` parameter will change to the default of machine precision times ``max(M, N)`` where M and N are the input matrix dimensions.\n",
            "To use the future default and silence this warning we advise to pass `rcond=None`, to keep using the old, explicitly pass `rcond=-1`.\n",
            "  Vhat = np.linalg.lstsq(M,A) #rxb\n"
          ]
        },
        {
          "metadata": {
            "tags": null
          },
          "name": "stdout",
          "output_type": "stream",
          "text": [
            "iteration 5, time 16\n",
            "/content/gdrive/MyDrive/Colab Notebooks/Final/Data/News/list_ppmi_16.csv\n",
            "0 out of 1\n"
          ]
        },
        {
          "metadata": {
            "tags": null
          },
          "name": "stderr",
          "output_type": "stream",
          "text": [
            "<ipython-input-5-a39c1499620e>:19: FutureWarning: `rcond` parameter will change to the default of machine precision times ``max(M, N)`` where M and N are the input matrix dimensions.\n",
            "To use the future default and silence this warning we advise to pass `rcond=None`, to keep using the old, explicitly pass `rcond=-1`.\n",
            "  Vhat = np.linalg.lstsq(M,A) #rxb\n"
          ]
        },
        {
          "metadata": {
            "tags": null
          },
          "name": "stdout",
          "output_type": "stream",
          "text": [
            "iteration 5, time 17\n",
            "/content/gdrive/MyDrive/Colab Notebooks/Final/Data/News/list_ppmi_17.csv\n",
            "0 out of 1\n"
          ]
        },
        {
          "metadata": {
            "tags": null
          },
          "name": "stderr",
          "output_type": "stream",
          "text": [
            "<ipython-input-5-a39c1499620e>:19: FutureWarning: `rcond` parameter will change to the default of machine precision times ``max(M, N)`` where M and N are the input matrix dimensions.\n",
            "To use the future default and silence this warning we advise to pass `rcond=None`, to keep using the old, explicitly pass `rcond=-1`.\n",
            "  Vhat = np.linalg.lstsq(M,A) #rxb\n"
          ]
        },
        {
          "metadata": {
            "tags": null
          },
          "name": "stdout",
          "output_type": "stream",
          "text": [
            "iteration 5, time 18\n",
            "/content/gdrive/MyDrive/Colab Notebooks/Final/Data/News/list_ppmi_18.csv\n",
            "0 out of 1\n"
          ]
        },
        {
          "metadata": {
            "tags": null
          },
          "name": "stderr",
          "output_type": "stream",
          "text": [
            "<ipython-input-5-a39c1499620e>:19: FutureWarning: `rcond` parameter will change to the default of machine precision times ``max(M, N)`` where M and N are the input matrix dimensions.\n",
            "To use the future default and silence this warning we advise to pass `rcond=None`, to keep using the old, explicitly pass `rcond=-1`.\n",
            "  Vhat = np.linalg.lstsq(M,A) #rxb\n"
          ]
        },
        {
          "metadata": {
            "tags": null
          },
          "name": "stdout",
          "output_type": "stream",
          "text": [
            "iteration 5, time 19\n",
            "/content/gdrive/MyDrive/Colab Notebooks/Final/Data/News/list_ppmi_19.csv\n",
            "0 out of 1\n"
          ]
        },
        {
          "metadata": {
            "tags": null
          },
          "name": "stderr",
          "output_type": "stream",
          "text": [
            "<ipython-input-5-a39c1499620e>:19: FutureWarning: `rcond` parameter will change to the default of machine precision times ``max(M, N)`` where M and N are the input matrix dimensions.\n",
            "To use the future default and silence this warning we advise to pass `rcond=None`, to keep using the old, explicitly pass `rcond=-1`.\n",
            "  Vhat = np.linalg.lstsq(M,A) #rxb\n"
          ]
        },
        {
          "metadata": {
            "tags": null
          },
          "name": "stdout",
          "output_type": "stream",
          "text": [
            "time elapsed =  4067.0762963294983\n",
            "Loss 138779140.70860243\n",
            "rank = 50\n",
            "frob  regularizer = 10\n",
            "time  regularizer = 50\n",
            "symmetry regularizer = 50\n",
            "emphasize param   = 1\n",
            "total iterations = 20\n",
            "iteration 6, time 0\n",
            "/content/gdrive/MyDrive/Colab Notebooks/Final/Data/News/list_ppmi_0.csv\n",
            "0 out of 1\n"
          ]
        },
        {
          "metadata": {
            "tags": null
          },
          "name": "stderr",
          "output_type": "stream",
          "text": [
            "<ipython-input-5-a39c1499620e>:19: FutureWarning: `rcond` parameter will change to the default of machine precision times ``max(M, N)`` where M and N are the input matrix dimensions.\n",
            "To use the future default and silence this warning we advise to pass `rcond=None`, to keep using the old, explicitly pass `rcond=-1`.\n",
            "  Vhat = np.linalg.lstsq(M,A) #rxb\n"
          ]
        },
        {
          "metadata": {
            "tags": null
          },
          "name": "stdout",
          "output_type": "stream",
          "text": [
            "iteration 6, time 1\n",
            "/content/gdrive/MyDrive/Colab Notebooks/Final/Data/News/list_ppmi_1.csv\n",
            "0 out of 1\n"
          ]
        },
        {
          "metadata": {
            "tags": null
          },
          "name": "stderr",
          "output_type": "stream",
          "text": [
            "<ipython-input-5-a39c1499620e>:19: FutureWarning: `rcond` parameter will change to the default of machine precision times ``max(M, N)`` where M and N are the input matrix dimensions.\n",
            "To use the future default and silence this warning we advise to pass `rcond=None`, to keep using the old, explicitly pass `rcond=-1`.\n",
            "  Vhat = np.linalg.lstsq(M,A) #rxb\n"
          ]
        },
        {
          "metadata": {
            "tags": null
          },
          "name": "stdout",
          "output_type": "stream",
          "text": [
            "iteration 6, time 2\n",
            "/content/gdrive/MyDrive/Colab Notebooks/Final/Data/News/list_ppmi_2.csv\n",
            "0 out of 1\n"
          ]
        },
        {
          "metadata": {
            "tags": null
          },
          "name": "stderr",
          "output_type": "stream",
          "text": [
            "<ipython-input-5-a39c1499620e>:19: FutureWarning: `rcond` parameter will change to the default of machine precision times ``max(M, N)`` where M and N are the input matrix dimensions.\n",
            "To use the future default and silence this warning we advise to pass `rcond=None`, to keep using the old, explicitly pass `rcond=-1`.\n",
            "  Vhat = np.linalg.lstsq(M,A) #rxb\n"
          ]
        },
        {
          "metadata": {
            "tags": null
          },
          "name": "stdout",
          "output_type": "stream",
          "text": [
            "iteration 6, time 3\n",
            "/content/gdrive/MyDrive/Colab Notebooks/Final/Data/News/list_ppmi_3.csv\n",
            "0 out of 1\n"
          ]
        },
        {
          "metadata": {
            "tags": null
          },
          "name": "stderr",
          "output_type": "stream",
          "text": [
            "<ipython-input-5-a39c1499620e>:19: FutureWarning: `rcond` parameter will change to the default of machine precision times ``max(M, N)`` where M and N are the input matrix dimensions.\n",
            "To use the future default and silence this warning we advise to pass `rcond=None`, to keep using the old, explicitly pass `rcond=-1`.\n",
            "  Vhat = np.linalg.lstsq(M,A) #rxb\n"
          ]
        },
        {
          "metadata": {
            "tags": null
          },
          "name": "stdout",
          "output_type": "stream",
          "text": [
            "iteration 6, time 4\n",
            "/content/gdrive/MyDrive/Colab Notebooks/Final/Data/News/list_ppmi_4.csv\n",
            "0 out of 1\n"
          ]
        },
        {
          "metadata": {
            "tags": null
          },
          "name": "stderr",
          "output_type": "stream",
          "text": [
            "<ipython-input-5-a39c1499620e>:19: FutureWarning: `rcond` parameter will change to the default of machine precision times ``max(M, N)`` where M and N are the input matrix dimensions.\n",
            "To use the future default and silence this warning we advise to pass `rcond=None`, to keep using the old, explicitly pass `rcond=-1`.\n",
            "  Vhat = np.linalg.lstsq(M,A) #rxb\n"
          ]
        },
        {
          "metadata": {
            "tags": null
          },
          "name": "stdout",
          "output_type": "stream",
          "text": [
            "iteration 6, time 5\n",
            "/content/gdrive/MyDrive/Colab Notebooks/Final/Data/News/list_ppmi_5.csv\n",
            "0 out of 1\n"
          ]
        },
        {
          "metadata": {
            "tags": null
          },
          "name": "stderr",
          "output_type": "stream",
          "text": [
            "<ipython-input-5-a39c1499620e>:19: FutureWarning: `rcond` parameter will change to the default of machine precision times ``max(M, N)`` where M and N are the input matrix dimensions.\n",
            "To use the future default and silence this warning we advise to pass `rcond=None`, to keep using the old, explicitly pass `rcond=-1`.\n",
            "  Vhat = np.linalg.lstsq(M,A) #rxb\n"
          ]
        },
        {
          "metadata": {
            "tags": null
          },
          "name": "stdout",
          "output_type": "stream",
          "text": [
            "iteration 6, time 6\n",
            "/content/gdrive/MyDrive/Colab Notebooks/Final/Data/News/list_ppmi_6.csv\n",
            "0 out of 1\n"
          ]
        },
        {
          "metadata": {
            "tags": null
          },
          "name": "stderr",
          "output_type": "stream",
          "text": [
            "<ipython-input-5-a39c1499620e>:19: FutureWarning: `rcond` parameter will change to the default of machine precision times ``max(M, N)`` where M and N are the input matrix dimensions.\n",
            "To use the future default and silence this warning we advise to pass `rcond=None`, to keep using the old, explicitly pass `rcond=-1`.\n",
            "  Vhat = np.linalg.lstsq(M,A) #rxb\n"
          ]
        },
        {
          "metadata": {
            "tags": null
          },
          "name": "stdout",
          "output_type": "stream",
          "text": [
            "iteration 6, time 7\n",
            "/content/gdrive/MyDrive/Colab Notebooks/Final/Data/News/list_ppmi_7.csv\n",
            "0 out of 1\n"
          ]
        },
        {
          "metadata": {
            "tags": null
          },
          "name": "stderr",
          "output_type": "stream",
          "text": [
            "<ipython-input-5-a39c1499620e>:19: FutureWarning: `rcond` parameter will change to the default of machine precision times ``max(M, N)`` where M and N are the input matrix dimensions.\n",
            "To use the future default and silence this warning we advise to pass `rcond=None`, to keep using the old, explicitly pass `rcond=-1`.\n",
            "  Vhat = np.linalg.lstsq(M,A) #rxb\n"
          ]
        },
        {
          "metadata": {
            "tags": null
          },
          "name": "stdout",
          "output_type": "stream",
          "text": [
            "iteration 6, time 8\n",
            "/content/gdrive/MyDrive/Colab Notebooks/Final/Data/News/list_ppmi_8.csv\n",
            "0 out of 1\n"
          ]
        },
        {
          "metadata": {
            "tags": null
          },
          "name": "stderr",
          "output_type": "stream",
          "text": [
            "<ipython-input-5-a39c1499620e>:19: FutureWarning: `rcond` parameter will change to the default of machine precision times ``max(M, N)`` where M and N are the input matrix dimensions.\n",
            "To use the future default and silence this warning we advise to pass `rcond=None`, to keep using the old, explicitly pass `rcond=-1`.\n",
            "  Vhat = np.linalg.lstsq(M,A) #rxb\n"
          ]
        },
        {
          "metadata": {
            "tags": null
          },
          "name": "stdout",
          "output_type": "stream",
          "text": [
            "iteration 6, time 9\n",
            "/content/gdrive/MyDrive/Colab Notebooks/Final/Data/News/list_ppmi_9.csv\n",
            "0 out of 1\n"
          ]
        },
        {
          "metadata": {
            "tags": null
          },
          "name": "stderr",
          "output_type": "stream",
          "text": [
            "<ipython-input-5-a39c1499620e>:19: FutureWarning: `rcond` parameter will change to the default of machine precision times ``max(M, N)`` where M and N are the input matrix dimensions.\n",
            "To use the future default and silence this warning we advise to pass `rcond=None`, to keep using the old, explicitly pass `rcond=-1`.\n",
            "  Vhat = np.linalg.lstsq(M,A) #rxb\n"
          ]
        },
        {
          "metadata": {
            "tags": null
          },
          "name": "stdout",
          "output_type": "stream",
          "text": [
            "iteration 6, time 10\n",
            "/content/gdrive/MyDrive/Colab Notebooks/Final/Data/News/list_ppmi_10.csv\n",
            "0 out of 1\n"
          ]
        },
        {
          "metadata": {
            "tags": null
          },
          "name": "stderr",
          "output_type": "stream",
          "text": [
            "<ipython-input-5-a39c1499620e>:19: FutureWarning: `rcond` parameter will change to the default of machine precision times ``max(M, N)`` where M and N are the input matrix dimensions.\n",
            "To use the future default and silence this warning we advise to pass `rcond=None`, to keep using the old, explicitly pass `rcond=-1`.\n",
            "  Vhat = np.linalg.lstsq(M,A) #rxb\n"
          ]
        },
        {
          "metadata": {
            "tags": null
          },
          "name": "stdout",
          "output_type": "stream",
          "text": [
            "iteration 6, time 11\n",
            "/content/gdrive/MyDrive/Colab Notebooks/Final/Data/News/list_ppmi_11.csv\n",
            "0 out of 1\n"
          ]
        },
        {
          "metadata": {
            "tags": null
          },
          "name": "stderr",
          "output_type": "stream",
          "text": [
            "<ipython-input-5-a39c1499620e>:19: FutureWarning: `rcond` parameter will change to the default of machine precision times ``max(M, N)`` where M and N are the input matrix dimensions.\n",
            "To use the future default and silence this warning we advise to pass `rcond=None`, to keep using the old, explicitly pass `rcond=-1`.\n",
            "  Vhat = np.linalg.lstsq(M,A) #rxb\n"
          ]
        },
        {
          "metadata": {
            "tags": null
          },
          "name": "stdout",
          "output_type": "stream",
          "text": [
            "iteration 6, time 12\n",
            "/content/gdrive/MyDrive/Colab Notebooks/Final/Data/News/list_ppmi_12.csv\n",
            "0 out of 1\n"
          ]
        },
        {
          "metadata": {
            "tags": null
          },
          "name": "stderr",
          "output_type": "stream",
          "text": [
            "<ipython-input-5-a39c1499620e>:19: FutureWarning: `rcond` parameter will change to the default of machine precision times ``max(M, N)`` where M and N are the input matrix dimensions.\n",
            "To use the future default and silence this warning we advise to pass `rcond=None`, to keep using the old, explicitly pass `rcond=-1`.\n",
            "  Vhat = np.linalg.lstsq(M,A) #rxb\n"
          ]
        },
        {
          "metadata": {
            "tags": null
          },
          "name": "stdout",
          "output_type": "stream",
          "text": [
            "iteration 6, time 13\n",
            "/content/gdrive/MyDrive/Colab Notebooks/Final/Data/News/list_ppmi_13.csv\n",
            "0 out of 1\n"
          ]
        },
        {
          "metadata": {
            "tags": null
          },
          "name": "stderr",
          "output_type": "stream",
          "text": [
            "<ipython-input-5-a39c1499620e>:19: FutureWarning: `rcond` parameter will change to the default of machine precision times ``max(M, N)`` where M and N are the input matrix dimensions.\n",
            "To use the future default and silence this warning we advise to pass `rcond=None`, to keep using the old, explicitly pass `rcond=-1`.\n",
            "  Vhat = np.linalg.lstsq(M,A) #rxb\n"
          ]
        },
        {
          "metadata": {
            "tags": null
          },
          "name": "stdout",
          "output_type": "stream",
          "text": [
            "iteration 6, time 14\n",
            "/content/gdrive/MyDrive/Colab Notebooks/Final/Data/News/list_ppmi_14.csv\n",
            "0 out of 1\n"
          ]
        },
        {
          "metadata": {
            "tags": null
          },
          "name": "stderr",
          "output_type": "stream",
          "text": [
            "<ipython-input-5-a39c1499620e>:19: FutureWarning: `rcond` parameter will change to the default of machine precision times ``max(M, N)`` where M and N are the input matrix dimensions.\n",
            "To use the future default and silence this warning we advise to pass `rcond=None`, to keep using the old, explicitly pass `rcond=-1`.\n",
            "  Vhat = np.linalg.lstsq(M,A) #rxb\n"
          ]
        },
        {
          "metadata": {
            "tags": null
          },
          "name": "stdout",
          "output_type": "stream",
          "text": [
            "iteration 6, time 15\n",
            "/content/gdrive/MyDrive/Colab Notebooks/Final/Data/News/list_ppmi_15.csv\n",
            "0 out of 1\n"
          ]
        },
        {
          "metadata": {
            "tags": null
          },
          "name": "stderr",
          "output_type": "stream",
          "text": [
            "<ipython-input-5-a39c1499620e>:19: FutureWarning: `rcond` parameter will change to the default of machine precision times ``max(M, N)`` where M and N are the input matrix dimensions.\n",
            "To use the future default and silence this warning we advise to pass `rcond=None`, to keep using the old, explicitly pass `rcond=-1`.\n",
            "  Vhat = np.linalg.lstsq(M,A) #rxb\n"
          ]
        },
        {
          "metadata": {
            "tags": null
          },
          "name": "stdout",
          "output_type": "stream",
          "text": [
            "iteration 6, time 16\n",
            "/content/gdrive/MyDrive/Colab Notebooks/Final/Data/News/list_ppmi_16.csv\n",
            "0 out of 1\n"
          ]
        },
        {
          "metadata": {
            "tags": null
          },
          "name": "stderr",
          "output_type": "stream",
          "text": [
            "<ipython-input-5-a39c1499620e>:19: FutureWarning: `rcond` parameter will change to the default of machine precision times ``max(M, N)`` where M and N are the input matrix dimensions.\n",
            "To use the future default and silence this warning we advise to pass `rcond=None`, to keep using the old, explicitly pass `rcond=-1`.\n",
            "  Vhat = np.linalg.lstsq(M,A) #rxb\n"
          ]
        },
        {
          "metadata": {
            "tags": null
          },
          "name": "stdout",
          "output_type": "stream",
          "text": [
            "iteration 6, time 17\n",
            "/content/gdrive/MyDrive/Colab Notebooks/Final/Data/News/list_ppmi_17.csv\n",
            "0 out of 1\n"
          ]
        },
        {
          "metadata": {
            "tags": null
          },
          "name": "stderr",
          "output_type": "stream",
          "text": [
            "<ipython-input-5-a39c1499620e>:19: FutureWarning: `rcond` parameter will change to the default of machine precision times ``max(M, N)`` where M and N are the input matrix dimensions.\n",
            "To use the future default and silence this warning we advise to pass `rcond=None`, to keep using the old, explicitly pass `rcond=-1`.\n",
            "  Vhat = np.linalg.lstsq(M,A) #rxb\n"
          ]
        },
        {
          "metadata": {
            "tags": null
          },
          "name": "stdout",
          "output_type": "stream",
          "text": [
            "iteration 6, time 18\n",
            "/content/gdrive/MyDrive/Colab Notebooks/Final/Data/News/list_ppmi_18.csv\n",
            "0 out of 1\n"
          ]
        },
        {
          "metadata": {
            "tags": null
          },
          "name": "stderr",
          "output_type": "stream",
          "text": [
            "<ipython-input-5-a39c1499620e>:19: FutureWarning: `rcond` parameter will change to the default of machine precision times ``max(M, N)`` where M and N are the input matrix dimensions.\n",
            "To use the future default and silence this warning we advise to pass `rcond=None`, to keep using the old, explicitly pass `rcond=-1`.\n",
            "  Vhat = np.linalg.lstsq(M,A) #rxb\n"
          ]
        },
        {
          "metadata": {
            "tags": null
          },
          "name": "stdout",
          "output_type": "stream",
          "text": [
            "iteration 6, time 19\n",
            "/content/gdrive/MyDrive/Colab Notebooks/Final/Data/News/list_ppmi_19.csv\n",
            "0 out of 1\n"
          ]
        },
        {
          "metadata": {
            "tags": null
          },
          "name": "stderr",
          "output_type": "stream",
          "text": [
            "<ipython-input-5-a39c1499620e>:19: FutureWarning: `rcond` parameter will change to the default of machine precision times ``max(M, N)`` where M and N are the input matrix dimensions.\n",
            "To use the future default and silence this warning we advise to pass `rcond=None`, to keep using the old, explicitly pass `rcond=-1`.\n",
            "  Vhat = np.linalg.lstsq(M,A) #rxb\n"
          ]
        },
        {
          "metadata": {
            "tags": null
          },
          "name": "stdout",
          "output_type": "stream",
          "text": [
            "time elapsed =  4809.760560035706\n",
            "Loss 138700431.25659588\n",
            "rank = 50\n",
            "frob  regularizer = 10\n",
            "time  regularizer = 50\n",
            "symmetry regularizer = 50\n",
            "emphasize param   = 1\n",
            "total iterations = 20\n",
            "iteration 7, time 0\n",
            "/content/gdrive/MyDrive/Colab Notebooks/Final/Data/News/list_ppmi_0.csv\n",
            "0 out of 1\n"
          ]
        },
        {
          "metadata": {
            "tags": null
          },
          "name": "stderr",
          "output_type": "stream",
          "text": [
            "<ipython-input-5-a39c1499620e>:19: FutureWarning: `rcond` parameter will change to the default of machine precision times ``max(M, N)`` where M and N are the input matrix dimensions.\n",
            "To use the future default and silence this warning we advise to pass `rcond=None`, to keep using the old, explicitly pass `rcond=-1`.\n",
            "  Vhat = np.linalg.lstsq(M,A) #rxb\n"
          ]
        },
        {
          "metadata": {
            "tags": null
          },
          "name": "stdout",
          "output_type": "stream",
          "text": [
            "iteration 7, time 1\n",
            "/content/gdrive/MyDrive/Colab Notebooks/Final/Data/News/list_ppmi_1.csv\n",
            "0 out of 1\n"
          ]
        },
        {
          "metadata": {
            "tags": null
          },
          "name": "stderr",
          "output_type": "stream",
          "text": [
            "<ipython-input-5-a39c1499620e>:19: FutureWarning: `rcond` parameter will change to the default of machine precision times ``max(M, N)`` where M and N are the input matrix dimensions.\n",
            "To use the future default and silence this warning we advise to pass `rcond=None`, to keep using the old, explicitly pass `rcond=-1`.\n",
            "  Vhat = np.linalg.lstsq(M,A) #rxb\n"
          ]
        },
        {
          "metadata": {
            "tags": null
          },
          "name": "stdout",
          "output_type": "stream",
          "text": [
            "iteration 7, time 2\n",
            "/content/gdrive/MyDrive/Colab Notebooks/Final/Data/News/list_ppmi_2.csv\n",
            "0 out of 1\n"
          ]
        },
        {
          "metadata": {
            "tags": null
          },
          "name": "stderr",
          "output_type": "stream",
          "text": [
            "<ipython-input-5-a39c1499620e>:19: FutureWarning: `rcond` parameter will change to the default of machine precision times ``max(M, N)`` where M and N are the input matrix dimensions.\n",
            "To use the future default and silence this warning we advise to pass `rcond=None`, to keep using the old, explicitly pass `rcond=-1`.\n",
            "  Vhat = np.linalg.lstsq(M,A) #rxb\n"
          ]
        },
        {
          "metadata": {
            "tags": null
          },
          "name": "stdout",
          "output_type": "stream",
          "text": [
            "iteration 7, time 3\n",
            "/content/gdrive/MyDrive/Colab Notebooks/Final/Data/News/list_ppmi_3.csv\n",
            "0 out of 1\n"
          ]
        },
        {
          "metadata": {
            "tags": null
          },
          "name": "stderr",
          "output_type": "stream",
          "text": [
            "<ipython-input-5-a39c1499620e>:19: FutureWarning: `rcond` parameter will change to the default of machine precision times ``max(M, N)`` where M and N are the input matrix dimensions.\n",
            "To use the future default and silence this warning we advise to pass `rcond=None`, to keep using the old, explicitly pass `rcond=-1`.\n",
            "  Vhat = np.linalg.lstsq(M,A) #rxb\n"
          ]
        },
        {
          "metadata": {
            "tags": null
          },
          "name": "stdout",
          "output_type": "stream",
          "text": [
            "iteration 7, time 4\n",
            "/content/gdrive/MyDrive/Colab Notebooks/Final/Data/News/list_ppmi_4.csv\n",
            "0 out of 1\n"
          ]
        },
        {
          "metadata": {
            "tags": null
          },
          "name": "stderr",
          "output_type": "stream",
          "text": [
            "<ipython-input-5-a39c1499620e>:19: FutureWarning: `rcond` parameter will change to the default of machine precision times ``max(M, N)`` where M and N are the input matrix dimensions.\n",
            "To use the future default and silence this warning we advise to pass `rcond=None`, to keep using the old, explicitly pass `rcond=-1`.\n",
            "  Vhat = np.linalg.lstsq(M,A) #rxb\n"
          ]
        },
        {
          "metadata": {
            "tags": null
          },
          "name": "stdout",
          "output_type": "stream",
          "text": [
            "iteration 7, time 5\n",
            "/content/gdrive/MyDrive/Colab Notebooks/Final/Data/News/list_ppmi_5.csv\n",
            "0 out of 1\n"
          ]
        },
        {
          "metadata": {
            "tags": null
          },
          "name": "stderr",
          "output_type": "stream",
          "text": [
            "<ipython-input-5-a39c1499620e>:19: FutureWarning: `rcond` parameter will change to the default of machine precision times ``max(M, N)`` where M and N are the input matrix dimensions.\n",
            "To use the future default and silence this warning we advise to pass `rcond=None`, to keep using the old, explicitly pass `rcond=-1`.\n",
            "  Vhat = np.linalg.lstsq(M,A) #rxb\n"
          ]
        },
        {
          "metadata": {
            "tags": null
          },
          "name": "stdout",
          "output_type": "stream",
          "text": [
            "iteration 7, time 6\n",
            "/content/gdrive/MyDrive/Colab Notebooks/Final/Data/News/list_ppmi_6.csv\n",
            "0 out of 1\n"
          ]
        },
        {
          "metadata": {
            "tags": null
          },
          "name": "stderr",
          "output_type": "stream",
          "text": [
            "<ipython-input-5-a39c1499620e>:19: FutureWarning: `rcond` parameter will change to the default of machine precision times ``max(M, N)`` where M and N are the input matrix dimensions.\n",
            "To use the future default and silence this warning we advise to pass `rcond=None`, to keep using the old, explicitly pass `rcond=-1`.\n",
            "  Vhat = np.linalg.lstsq(M,A) #rxb\n"
          ]
        },
        {
          "metadata": {
            "tags": null
          },
          "name": "stdout",
          "output_type": "stream",
          "text": [
            "iteration 7, time 7\n",
            "/content/gdrive/MyDrive/Colab Notebooks/Final/Data/News/list_ppmi_7.csv\n",
            "0 out of 1\n"
          ]
        },
        {
          "metadata": {
            "tags": null
          },
          "name": "stderr",
          "output_type": "stream",
          "text": [
            "<ipython-input-5-a39c1499620e>:19: FutureWarning: `rcond` parameter will change to the default of machine precision times ``max(M, N)`` where M and N are the input matrix dimensions.\n",
            "To use the future default and silence this warning we advise to pass `rcond=None`, to keep using the old, explicitly pass `rcond=-1`.\n",
            "  Vhat = np.linalg.lstsq(M,A) #rxb\n"
          ]
        },
        {
          "metadata": {
            "tags": null
          },
          "name": "stdout",
          "output_type": "stream",
          "text": [
            "iteration 7, time 8\n",
            "/content/gdrive/MyDrive/Colab Notebooks/Final/Data/News/list_ppmi_8.csv\n",
            "0 out of 1\n"
          ]
        },
        {
          "metadata": {
            "tags": null
          },
          "name": "stderr",
          "output_type": "stream",
          "text": [
            "<ipython-input-5-a39c1499620e>:19: FutureWarning: `rcond` parameter will change to the default of machine precision times ``max(M, N)`` where M and N are the input matrix dimensions.\n",
            "To use the future default and silence this warning we advise to pass `rcond=None`, to keep using the old, explicitly pass `rcond=-1`.\n",
            "  Vhat = np.linalg.lstsq(M,A) #rxb\n"
          ]
        },
        {
          "metadata": {
            "tags": null
          },
          "name": "stdout",
          "output_type": "stream",
          "text": [
            "iteration 7, time 9\n",
            "/content/gdrive/MyDrive/Colab Notebooks/Final/Data/News/list_ppmi_9.csv\n",
            "0 out of 1\n"
          ]
        },
        {
          "metadata": {
            "tags": null
          },
          "name": "stderr",
          "output_type": "stream",
          "text": [
            "<ipython-input-5-a39c1499620e>:19: FutureWarning: `rcond` parameter will change to the default of machine precision times ``max(M, N)`` where M and N are the input matrix dimensions.\n",
            "To use the future default and silence this warning we advise to pass `rcond=None`, to keep using the old, explicitly pass `rcond=-1`.\n",
            "  Vhat = np.linalg.lstsq(M,A) #rxb\n"
          ]
        },
        {
          "metadata": {
            "tags": null
          },
          "name": "stdout",
          "output_type": "stream",
          "text": [
            "iteration 7, time 10\n",
            "/content/gdrive/MyDrive/Colab Notebooks/Final/Data/News/list_ppmi_10.csv\n",
            "0 out of 1\n"
          ]
        },
        {
          "metadata": {
            "tags": null
          },
          "name": "stderr",
          "output_type": "stream",
          "text": [
            "<ipython-input-5-a39c1499620e>:19: FutureWarning: `rcond` parameter will change to the default of machine precision times ``max(M, N)`` where M and N are the input matrix dimensions.\n",
            "To use the future default and silence this warning we advise to pass `rcond=None`, to keep using the old, explicitly pass `rcond=-1`.\n",
            "  Vhat = np.linalg.lstsq(M,A) #rxb\n"
          ]
        },
        {
          "metadata": {
            "tags": null
          },
          "name": "stdout",
          "output_type": "stream",
          "text": [
            "iteration 7, time 11\n",
            "/content/gdrive/MyDrive/Colab Notebooks/Final/Data/News/list_ppmi_11.csv\n",
            "0 out of 1\n"
          ]
        },
        {
          "metadata": {
            "tags": null
          },
          "name": "stderr",
          "output_type": "stream",
          "text": [
            "<ipython-input-5-a39c1499620e>:19: FutureWarning: `rcond` parameter will change to the default of machine precision times ``max(M, N)`` where M and N are the input matrix dimensions.\n",
            "To use the future default and silence this warning we advise to pass `rcond=None`, to keep using the old, explicitly pass `rcond=-1`.\n",
            "  Vhat = np.linalg.lstsq(M,A) #rxb\n"
          ]
        },
        {
          "metadata": {
            "tags": null
          },
          "name": "stdout",
          "output_type": "stream",
          "text": [
            "iteration 7, time 12\n",
            "/content/gdrive/MyDrive/Colab Notebooks/Final/Data/News/list_ppmi_12.csv\n",
            "0 out of 1\n"
          ]
        },
        {
          "metadata": {
            "tags": null
          },
          "name": "stderr",
          "output_type": "stream",
          "text": [
            "<ipython-input-5-a39c1499620e>:19: FutureWarning: `rcond` parameter will change to the default of machine precision times ``max(M, N)`` where M and N are the input matrix dimensions.\n",
            "To use the future default and silence this warning we advise to pass `rcond=None`, to keep using the old, explicitly pass `rcond=-1`.\n",
            "  Vhat = np.linalg.lstsq(M,A) #rxb\n"
          ]
        },
        {
          "metadata": {
            "tags": null
          },
          "name": "stdout",
          "output_type": "stream",
          "text": [
            "iteration 7, time 13\n",
            "/content/gdrive/MyDrive/Colab Notebooks/Final/Data/News/list_ppmi_13.csv\n",
            "0 out of 1\n"
          ]
        },
        {
          "metadata": {
            "tags": null
          },
          "name": "stderr",
          "output_type": "stream",
          "text": [
            "<ipython-input-5-a39c1499620e>:19: FutureWarning: `rcond` parameter will change to the default of machine precision times ``max(M, N)`` where M and N are the input matrix dimensions.\n",
            "To use the future default and silence this warning we advise to pass `rcond=None`, to keep using the old, explicitly pass `rcond=-1`.\n",
            "  Vhat = np.linalg.lstsq(M,A) #rxb\n"
          ]
        },
        {
          "metadata": {
            "tags": null
          },
          "name": "stdout",
          "output_type": "stream",
          "text": [
            "iteration 7, time 14\n",
            "/content/gdrive/MyDrive/Colab Notebooks/Final/Data/News/list_ppmi_14.csv\n",
            "0 out of 1\n"
          ]
        },
        {
          "metadata": {
            "tags": null
          },
          "name": "stderr",
          "output_type": "stream",
          "text": [
            "<ipython-input-5-a39c1499620e>:19: FutureWarning: `rcond` parameter will change to the default of machine precision times ``max(M, N)`` where M and N are the input matrix dimensions.\n",
            "To use the future default and silence this warning we advise to pass `rcond=None`, to keep using the old, explicitly pass `rcond=-1`.\n",
            "  Vhat = np.linalg.lstsq(M,A) #rxb\n"
          ]
        },
        {
          "metadata": {
            "tags": null
          },
          "name": "stdout",
          "output_type": "stream",
          "text": [
            "iteration 7, time 15\n",
            "/content/gdrive/MyDrive/Colab Notebooks/Final/Data/News/list_ppmi_15.csv\n",
            "0 out of 1\n"
          ]
        },
        {
          "metadata": {
            "tags": null
          },
          "name": "stderr",
          "output_type": "stream",
          "text": [
            "<ipython-input-5-a39c1499620e>:19: FutureWarning: `rcond` parameter will change to the default of machine precision times ``max(M, N)`` where M and N are the input matrix dimensions.\n",
            "To use the future default and silence this warning we advise to pass `rcond=None`, to keep using the old, explicitly pass `rcond=-1`.\n",
            "  Vhat = np.linalg.lstsq(M,A) #rxb\n"
          ]
        },
        {
          "metadata": {
            "tags": null
          },
          "name": "stdout",
          "output_type": "stream",
          "text": [
            "iteration 7, time 16\n",
            "/content/gdrive/MyDrive/Colab Notebooks/Final/Data/News/list_ppmi_16.csv\n",
            "0 out of 1\n"
          ]
        },
        {
          "metadata": {
            "tags": null
          },
          "name": "stderr",
          "output_type": "stream",
          "text": [
            "<ipython-input-5-a39c1499620e>:19: FutureWarning: `rcond` parameter will change to the default of machine precision times ``max(M, N)`` where M and N are the input matrix dimensions.\n",
            "To use the future default and silence this warning we advise to pass `rcond=None`, to keep using the old, explicitly pass `rcond=-1`.\n",
            "  Vhat = np.linalg.lstsq(M,A) #rxb\n"
          ]
        },
        {
          "metadata": {
            "tags": null
          },
          "name": "stdout",
          "output_type": "stream",
          "text": [
            "iteration 7, time 17\n",
            "/content/gdrive/MyDrive/Colab Notebooks/Final/Data/News/list_ppmi_17.csv\n",
            "0 out of 1\n"
          ]
        },
        {
          "metadata": {
            "tags": null
          },
          "name": "stderr",
          "output_type": "stream",
          "text": [
            "<ipython-input-5-a39c1499620e>:19: FutureWarning: `rcond` parameter will change to the default of machine precision times ``max(M, N)`` where M and N are the input matrix dimensions.\n",
            "To use the future default and silence this warning we advise to pass `rcond=None`, to keep using the old, explicitly pass `rcond=-1`.\n",
            "  Vhat = np.linalg.lstsq(M,A) #rxb\n"
          ]
        },
        {
          "metadata": {
            "tags": null
          },
          "name": "stdout",
          "output_type": "stream",
          "text": [
            "iteration 7, time 18\n",
            "/content/gdrive/MyDrive/Colab Notebooks/Final/Data/News/list_ppmi_18.csv\n",
            "0 out of 1\n"
          ]
        },
        {
          "metadata": {
            "tags": null
          },
          "name": "stderr",
          "output_type": "stream",
          "text": [
            "<ipython-input-5-a39c1499620e>:19: FutureWarning: `rcond` parameter will change to the default of machine precision times ``max(M, N)`` where M and N are the input matrix dimensions.\n",
            "To use the future default and silence this warning we advise to pass `rcond=None`, to keep using the old, explicitly pass `rcond=-1`.\n",
            "  Vhat = np.linalg.lstsq(M,A) #rxb\n"
          ]
        },
        {
          "metadata": {
            "tags": null
          },
          "name": "stdout",
          "output_type": "stream",
          "text": [
            "iteration 7, time 19\n",
            "/content/gdrive/MyDrive/Colab Notebooks/Final/Data/News/list_ppmi_19.csv\n",
            "0 out of 1\n"
          ]
        },
        {
          "metadata": {
            "tags": null
          },
          "name": "stderr",
          "output_type": "stream",
          "text": [
            "<ipython-input-5-a39c1499620e>:19: FutureWarning: `rcond` parameter will change to the default of machine precision times ``max(M, N)`` where M and N are the input matrix dimensions.\n",
            "To use the future default and silence this warning we advise to pass `rcond=None`, to keep using the old, explicitly pass `rcond=-1`.\n",
            "  Vhat = np.linalg.lstsq(M,A) #rxb\n"
          ]
        },
        {
          "metadata": {
            "tags": null
          },
          "name": "stdout",
          "output_type": "stream",
          "text": [
            "time elapsed =  5574.902006387711\n",
            "Loss 138617282.29405576\n",
            "rank = 50\n",
            "frob  regularizer = 10\n",
            "time  regularizer = 50\n",
            "symmetry regularizer = 50\n",
            "emphasize param   = 1\n",
            "total iterations = 20\n",
            "iteration 8, time 0\n",
            "/content/gdrive/MyDrive/Colab Notebooks/Final/Data/News/list_ppmi_0.csv\n",
            "0 out of 1\n"
          ]
        },
        {
          "metadata": {
            "tags": null
          },
          "name": "stderr",
          "output_type": "stream",
          "text": [
            "<ipython-input-5-a39c1499620e>:19: FutureWarning: `rcond` parameter will change to the default of machine precision times ``max(M, N)`` where M and N are the input matrix dimensions.\n",
            "To use the future default and silence this warning we advise to pass `rcond=None`, to keep using the old, explicitly pass `rcond=-1`.\n",
            "  Vhat = np.linalg.lstsq(M,A) #rxb\n"
          ]
        },
        {
          "metadata": {
            "tags": null
          },
          "name": "stdout",
          "output_type": "stream",
          "text": [
            "iteration 8, time 1\n",
            "/content/gdrive/MyDrive/Colab Notebooks/Final/Data/News/list_ppmi_1.csv\n",
            "0 out of 1\n"
          ]
        },
        {
          "metadata": {
            "tags": null
          },
          "name": "stderr",
          "output_type": "stream",
          "text": [
            "<ipython-input-5-a39c1499620e>:19: FutureWarning: `rcond` parameter will change to the default of machine precision times ``max(M, N)`` where M and N are the input matrix dimensions.\n",
            "To use the future default and silence this warning we advise to pass `rcond=None`, to keep using the old, explicitly pass `rcond=-1`.\n",
            "  Vhat = np.linalg.lstsq(M,A) #rxb\n"
          ]
        },
        {
          "metadata": {
            "tags": null
          },
          "name": "stdout",
          "output_type": "stream",
          "text": [
            "iteration 8, time 2\n",
            "/content/gdrive/MyDrive/Colab Notebooks/Final/Data/News/list_ppmi_2.csv\n",
            "0 out of 1\n"
          ]
        },
        {
          "metadata": {
            "tags": null
          },
          "name": "stderr",
          "output_type": "stream",
          "text": [
            "<ipython-input-5-a39c1499620e>:19: FutureWarning: `rcond` parameter will change to the default of machine precision times ``max(M, N)`` where M and N are the input matrix dimensions.\n",
            "To use the future default and silence this warning we advise to pass `rcond=None`, to keep using the old, explicitly pass `rcond=-1`.\n",
            "  Vhat = np.linalg.lstsq(M,A) #rxb\n"
          ]
        },
        {
          "metadata": {
            "tags": null
          },
          "name": "stdout",
          "output_type": "stream",
          "text": [
            "iteration 8, time 3\n",
            "/content/gdrive/MyDrive/Colab Notebooks/Final/Data/News/list_ppmi_3.csv\n",
            "0 out of 1\n"
          ]
        },
        {
          "metadata": {
            "tags": null
          },
          "name": "stderr",
          "output_type": "stream",
          "text": [
            "<ipython-input-5-a39c1499620e>:19: FutureWarning: `rcond` parameter will change to the default of machine precision times ``max(M, N)`` where M and N are the input matrix dimensions.\n",
            "To use the future default and silence this warning we advise to pass `rcond=None`, to keep using the old, explicitly pass `rcond=-1`.\n",
            "  Vhat = np.linalg.lstsq(M,A) #rxb\n"
          ]
        },
        {
          "metadata": {
            "tags": null
          },
          "name": "stdout",
          "output_type": "stream",
          "text": [
            "iteration 8, time 4\n",
            "/content/gdrive/MyDrive/Colab Notebooks/Final/Data/News/list_ppmi_4.csv\n",
            "0 out of 1\n"
          ]
        },
        {
          "metadata": {
            "tags": null
          },
          "name": "stderr",
          "output_type": "stream",
          "text": [
            "<ipython-input-5-a39c1499620e>:19: FutureWarning: `rcond` parameter will change to the default of machine precision times ``max(M, N)`` where M and N are the input matrix dimensions.\n",
            "To use the future default and silence this warning we advise to pass `rcond=None`, to keep using the old, explicitly pass `rcond=-1`.\n",
            "  Vhat = np.linalg.lstsq(M,A) #rxb\n"
          ]
        },
        {
          "metadata": {
            "tags": null
          },
          "name": "stdout",
          "output_type": "stream",
          "text": [
            "iteration 8, time 5\n",
            "/content/gdrive/MyDrive/Colab Notebooks/Final/Data/News/list_ppmi_5.csv\n",
            "0 out of 1\n"
          ]
        },
        {
          "metadata": {
            "tags": null
          },
          "name": "stderr",
          "output_type": "stream",
          "text": [
            "<ipython-input-5-a39c1499620e>:19: FutureWarning: `rcond` parameter will change to the default of machine precision times ``max(M, N)`` where M and N are the input matrix dimensions.\n",
            "To use the future default and silence this warning we advise to pass `rcond=None`, to keep using the old, explicitly pass `rcond=-1`.\n",
            "  Vhat = np.linalg.lstsq(M,A) #rxb\n"
          ]
        },
        {
          "metadata": {
            "tags": null
          },
          "name": "stdout",
          "output_type": "stream",
          "text": [
            "iteration 8, time 6\n",
            "/content/gdrive/MyDrive/Colab Notebooks/Final/Data/News/list_ppmi_6.csv\n",
            "0 out of 1\n"
          ]
        },
        {
          "metadata": {
            "tags": null
          },
          "name": "stderr",
          "output_type": "stream",
          "text": [
            "<ipython-input-5-a39c1499620e>:19: FutureWarning: `rcond` parameter will change to the default of machine precision times ``max(M, N)`` where M and N are the input matrix dimensions.\n",
            "To use the future default and silence this warning we advise to pass `rcond=None`, to keep using the old, explicitly pass `rcond=-1`.\n",
            "  Vhat = np.linalg.lstsq(M,A) #rxb\n"
          ]
        },
        {
          "metadata": {
            "tags": null
          },
          "name": "stdout",
          "output_type": "stream",
          "text": [
            "iteration 8, time 7\n",
            "/content/gdrive/MyDrive/Colab Notebooks/Final/Data/News/list_ppmi_7.csv\n",
            "0 out of 1\n"
          ]
        },
        {
          "metadata": {
            "tags": null
          },
          "name": "stderr",
          "output_type": "stream",
          "text": [
            "<ipython-input-5-a39c1499620e>:19: FutureWarning: `rcond` parameter will change to the default of machine precision times ``max(M, N)`` where M and N are the input matrix dimensions.\n",
            "To use the future default and silence this warning we advise to pass `rcond=None`, to keep using the old, explicitly pass `rcond=-1`.\n",
            "  Vhat = np.linalg.lstsq(M,A) #rxb\n"
          ]
        },
        {
          "metadata": {
            "tags": null
          },
          "name": "stdout",
          "output_type": "stream",
          "text": [
            "iteration 8, time 8\n",
            "/content/gdrive/MyDrive/Colab Notebooks/Final/Data/News/list_ppmi_8.csv\n",
            "0 out of 1\n"
          ]
        },
        {
          "metadata": {
            "tags": null
          },
          "name": "stderr",
          "output_type": "stream",
          "text": [
            "<ipython-input-5-a39c1499620e>:19: FutureWarning: `rcond` parameter will change to the default of machine precision times ``max(M, N)`` where M and N are the input matrix dimensions.\n",
            "To use the future default and silence this warning we advise to pass `rcond=None`, to keep using the old, explicitly pass `rcond=-1`.\n",
            "  Vhat = np.linalg.lstsq(M,A) #rxb\n"
          ]
        },
        {
          "metadata": {
            "tags": null
          },
          "name": "stdout",
          "output_type": "stream",
          "text": [
            "iteration 8, time 9\n",
            "/content/gdrive/MyDrive/Colab Notebooks/Final/Data/News/list_ppmi_9.csv\n",
            "0 out of 1\n"
          ]
        },
        {
          "metadata": {
            "tags": null
          },
          "name": "stderr",
          "output_type": "stream",
          "text": [
            "<ipython-input-5-a39c1499620e>:19: FutureWarning: `rcond` parameter will change to the default of machine precision times ``max(M, N)`` where M and N are the input matrix dimensions.\n",
            "To use the future default and silence this warning we advise to pass `rcond=None`, to keep using the old, explicitly pass `rcond=-1`.\n",
            "  Vhat = np.linalg.lstsq(M,A) #rxb\n"
          ]
        },
        {
          "metadata": {
            "tags": null
          },
          "name": "stdout",
          "output_type": "stream",
          "text": [
            "iteration 8, time 10\n",
            "/content/gdrive/MyDrive/Colab Notebooks/Final/Data/News/list_ppmi_10.csv\n",
            "0 out of 1\n"
          ]
        },
        {
          "metadata": {
            "tags": null
          },
          "name": "stderr",
          "output_type": "stream",
          "text": [
            "<ipython-input-5-a39c1499620e>:19: FutureWarning: `rcond` parameter will change to the default of machine precision times ``max(M, N)`` where M and N are the input matrix dimensions.\n",
            "To use the future default and silence this warning we advise to pass `rcond=None`, to keep using the old, explicitly pass `rcond=-1`.\n",
            "  Vhat = np.linalg.lstsq(M,A) #rxb\n"
          ]
        },
        {
          "metadata": {
            "tags": null
          },
          "name": "stdout",
          "output_type": "stream",
          "text": [
            "iteration 8, time 11\n",
            "/content/gdrive/MyDrive/Colab Notebooks/Final/Data/News/list_ppmi_11.csv\n",
            "0 out of 1\n"
          ]
        },
        {
          "metadata": {
            "tags": null
          },
          "name": "stderr",
          "output_type": "stream",
          "text": [
            "<ipython-input-5-a39c1499620e>:19: FutureWarning: `rcond` parameter will change to the default of machine precision times ``max(M, N)`` where M and N are the input matrix dimensions.\n",
            "To use the future default and silence this warning we advise to pass `rcond=None`, to keep using the old, explicitly pass `rcond=-1`.\n",
            "  Vhat = np.linalg.lstsq(M,A) #rxb\n"
          ]
        },
        {
          "metadata": {
            "tags": null
          },
          "name": "stdout",
          "output_type": "stream",
          "text": [
            "iteration 8, time 12\n",
            "/content/gdrive/MyDrive/Colab Notebooks/Final/Data/News/list_ppmi_12.csv\n",
            "0 out of 1\n"
          ]
        },
        {
          "metadata": {
            "tags": null
          },
          "name": "stderr",
          "output_type": "stream",
          "text": [
            "<ipython-input-5-a39c1499620e>:19: FutureWarning: `rcond` parameter will change to the default of machine precision times ``max(M, N)`` where M and N are the input matrix dimensions.\n",
            "To use the future default and silence this warning we advise to pass `rcond=None`, to keep using the old, explicitly pass `rcond=-1`.\n",
            "  Vhat = np.linalg.lstsq(M,A) #rxb\n"
          ]
        },
        {
          "metadata": {
            "tags": null
          },
          "name": "stdout",
          "output_type": "stream",
          "text": [
            "iteration 8, time 13\n",
            "/content/gdrive/MyDrive/Colab Notebooks/Final/Data/News/list_ppmi_13.csv\n",
            "0 out of 1\n"
          ]
        },
        {
          "metadata": {
            "tags": null
          },
          "name": "stderr",
          "output_type": "stream",
          "text": [
            "<ipython-input-5-a39c1499620e>:19: FutureWarning: `rcond` parameter will change to the default of machine precision times ``max(M, N)`` where M and N are the input matrix dimensions.\n",
            "To use the future default and silence this warning we advise to pass `rcond=None`, to keep using the old, explicitly pass `rcond=-1`.\n",
            "  Vhat = np.linalg.lstsq(M,A) #rxb\n"
          ]
        },
        {
          "metadata": {
            "tags": null
          },
          "name": "stdout",
          "output_type": "stream",
          "text": [
            "iteration 8, time 14\n",
            "/content/gdrive/MyDrive/Colab Notebooks/Final/Data/News/list_ppmi_14.csv\n",
            "0 out of 1\n"
          ]
        },
        {
          "metadata": {
            "tags": null
          },
          "name": "stderr",
          "output_type": "stream",
          "text": [
            "<ipython-input-5-a39c1499620e>:19: FutureWarning: `rcond` parameter will change to the default of machine precision times ``max(M, N)`` where M and N are the input matrix dimensions.\n",
            "To use the future default and silence this warning we advise to pass `rcond=None`, to keep using the old, explicitly pass `rcond=-1`.\n",
            "  Vhat = np.linalg.lstsq(M,A) #rxb\n"
          ]
        },
        {
          "metadata": {
            "tags": null
          },
          "name": "stdout",
          "output_type": "stream",
          "text": [
            "iteration 8, time 15\n",
            "/content/gdrive/MyDrive/Colab Notebooks/Final/Data/News/list_ppmi_15.csv\n",
            "0 out of 1\n"
          ]
        },
        {
          "metadata": {
            "tags": null
          },
          "name": "stderr",
          "output_type": "stream",
          "text": [
            "<ipython-input-5-a39c1499620e>:19: FutureWarning: `rcond` parameter will change to the default of machine precision times ``max(M, N)`` where M and N are the input matrix dimensions.\n",
            "To use the future default and silence this warning we advise to pass `rcond=None`, to keep using the old, explicitly pass `rcond=-1`.\n",
            "  Vhat = np.linalg.lstsq(M,A) #rxb\n"
          ]
        },
        {
          "metadata": {
            "tags": null
          },
          "name": "stdout",
          "output_type": "stream",
          "text": [
            "iteration 8, time 16\n",
            "/content/gdrive/MyDrive/Colab Notebooks/Final/Data/News/list_ppmi_16.csv\n",
            "0 out of 1\n"
          ]
        },
        {
          "metadata": {
            "tags": null
          },
          "name": "stderr",
          "output_type": "stream",
          "text": [
            "<ipython-input-5-a39c1499620e>:19: FutureWarning: `rcond` parameter will change to the default of machine precision times ``max(M, N)`` where M and N are the input matrix dimensions.\n",
            "To use the future default and silence this warning we advise to pass `rcond=None`, to keep using the old, explicitly pass `rcond=-1`.\n",
            "  Vhat = np.linalg.lstsq(M,A) #rxb\n"
          ]
        },
        {
          "metadata": {
            "tags": null
          },
          "name": "stdout",
          "output_type": "stream",
          "text": [
            "iteration 8, time 17\n",
            "/content/gdrive/MyDrive/Colab Notebooks/Final/Data/News/list_ppmi_17.csv\n",
            "0 out of 1\n"
          ]
        },
        {
          "metadata": {
            "tags": null
          },
          "name": "stderr",
          "output_type": "stream",
          "text": [
            "<ipython-input-5-a39c1499620e>:19: FutureWarning: `rcond` parameter will change to the default of machine precision times ``max(M, N)`` where M and N are the input matrix dimensions.\n",
            "To use the future default and silence this warning we advise to pass `rcond=None`, to keep using the old, explicitly pass `rcond=-1`.\n",
            "  Vhat = np.linalg.lstsq(M,A) #rxb\n"
          ]
        },
        {
          "metadata": {
            "tags": null
          },
          "name": "stdout",
          "output_type": "stream",
          "text": [
            "iteration 8, time 18\n",
            "/content/gdrive/MyDrive/Colab Notebooks/Final/Data/News/list_ppmi_18.csv\n",
            "0 out of 1\n"
          ]
        },
        {
          "metadata": {
            "tags": null
          },
          "name": "stderr",
          "output_type": "stream",
          "text": [
            "<ipython-input-5-a39c1499620e>:19: FutureWarning: `rcond` parameter will change to the default of machine precision times ``max(M, N)`` where M and N are the input matrix dimensions.\n",
            "To use the future default and silence this warning we advise to pass `rcond=None`, to keep using the old, explicitly pass `rcond=-1`.\n",
            "  Vhat = np.linalg.lstsq(M,A) #rxb\n"
          ]
        },
        {
          "metadata": {
            "tags": null
          },
          "name": "stdout",
          "output_type": "stream",
          "text": [
            "iteration 8, time 19\n",
            "/content/gdrive/MyDrive/Colab Notebooks/Final/Data/News/list_ppmi_19.csv\n",
            "0 out of 1\n"
          ]
        },
        {
          "metadata": {
            "tags": null
          },
          "name": "stderr",
          "output_type": "stream",
          "text": [
            "<ipython-input-5-a39c1499620e>:19: FutureWarning: `rcond` parameter will change to the default of machine precision times ``max(M, N)`` where M and N are the input matrix dimensions.\n",
            "To use the future default and silence this warning we advise to pass `rcond=None`, to keep using the old, explicitly pass `rcond=-1`.\n",
            "  Vhat = np.linalg.lstsq(M,A) #rxb\n"
          ]
        },
        {
          "metadata": {
            "tags": null
          },
          "name": "stdout",
          "output_type": "stream",
          "text": [
            "time elapsed =  6353.199947357178\n",
            "Loss 138567864.4699289\n",
            "rank = 50\n",
            "frob  regularizer = 10\n",
            "time  regularizer = 50\n",
            "symmetry regularizer = 50\n",
            "emphasize param   = 1\n",
            "total iterations = 20\n",
            "iteration 9, time 0\n",
            "/content/gdrive/MyDrive/Colab Notebooks/Final/Data/News/list_ppmi_0.csv\n",
            "0 out of 1\n"
          ]
        },
        {
          "metadata": {
            "tags": null
          },
          "name": "stderr",
          "output_type": "stream",
          "text": [
            "<ipython-input-5-a39c1499620e>:19: FutureWarning: `rcond` parameter will change to the default of machine precision times ``max(M, N)`` where M and N are the input matrix dimensions.\n",
            "To use the future default and silence this warning we advise to pass `rcond=None`, to keep using the old, explicitly pass `rcond=-1`.\n",
            "  Vhat = np.linalg.lstsq(M,A) #rxb\n"
          ]
        },
        {
          "metadata": {
            "tags": null
          },
          "name": "stdout",
          "output_type": "stream",
          "text": [
            "iteration 9, time 1\n",
            "/content/gdrive/MyDrive/Colab Notebooks/Final/Data/News/list_ppmi_1.csv\n",
            "0 out of 1\n"
          ]
        },
        {
          "metadata": {
            "tags": null
          },
          "name": "stderr",
          "output_type": "stream",
          "text": [
            "<ipython-input-5-a39c1499620e>:19: FutureWarning: `rcond` parameter will change to the default of machine precision times ``max(M, N)`` where M and N are the input matrix dimensions.\n",
            "To use the future default and silence this warning we advise to pass `rcond=None`, to keep using the old, explicitly pass `rcond=-1`.\n",
            "  Vhat = np.linalg.lstsq(M,A) #rxb\n"
          ]
        },
        {
          "metadata": {
            "tags": null
          },
          "name": "stdout",
          "output_type": "stream",
          "text": [
            "iteration 9, time 2\n",
            "/content/gdrive/MyDrive/Colab Notebooks/Final/Data/News/list_ppmi_2.csv\n",
            "0 out of 1\n"
          ]
        },
        {
          "metadata": {
            "tags": null
          },
          "name": "stderr",
          "output_type": "stream",
          "text": [
            "<ipython-input-5-a39c1499620e>:19: FutureWarning: `rcond` parameter will change to the default of machine precision times ``max(M, N)`` where M and N are the input matrix dimensions.\n",
            "To use the future default and silence this warning we advise to pass `rcond=None`, to keep using the old, explicitly pass `rcond=-1`.\n",
            "  Vhat = np.linalg.lstsq(M,A) #rxb\n"
          ]
        },
        {
          "metadata": {
            "tags": null
          },
          "name": "stdout",
          "output_type": "stream",
          "text": [
            "iteration 9, time 3\n",
            "/content/gdrive/MyDrive/Colab Notebooks/Final/Data/News/list_ppmi_3.csv\n",
            "0 out of 1\n"
          ]
        },
        {
          "metadata": {
            "tags": null
          },
          "name": "stderr",
          "output_type": "stream",
          "text": [
            "<ipython-input-5-a39c1499620e>:19: FutureWarning: `rcond` parameter will change to the default of machine precision times ``max(M, N)`` where M and N are the input matrix dimensions.\n",
            "To use the future default and silence this warning we advise to pass `rcond=None`, to keep using the old, explicitly pass `rcond=-1`.\n",
            "  Vhat = np.linalg.lstsq(M,A) #rxb\n"
          ]
        },
        {
          "metadata": {
            "tags": null
          },
          "name": "stdout",
          "output_type": "stream",
          "text": [
            "iteration 9, time 4\n",
            "/content/gdrive/MyDrive/Colab Notebooks/Final/Data/News/list_ppmi_4.csv\n",
            "0 out of 1\n"
          ]
        },
        {
          "metadata": {
            "tags": null
          },
          "name": "stderr",
          "output_type": "stream",
          "text": [
            "<ipython-input-5-a39c1499620e>:19: FutureWarning: `rcond` parameter will change to the default of machine precision times ``max(M, N)`` where M and N are the input matrix dimensions.\n",
            "To use the future default and silence this warning we advise to pass `rcond=None`, to keep using the old, explicitly pass `rcond=-1`.\n",
            "  Vhat = np.linalg.lstsq(M,A) #rxb\n"
          ]
        },
        {
          "metadata": {
            "tags": null
          },
          "name": "stdout",
          "output_type": "stream",
          "text": [
            "iteration 9, time 5\n",
            "/content/gdrive/MyDrive/Colab Notebooks/Final/Data/News/list_ppmi_5.csv\n",
            "0 out of 1\n"
          ]
        },
        {
          "metadata": {
            "tags": null
          },
          "name": "stderr",
          "output_type": "stream",
          "text": [
            "<ipython-input-5-a39c1499620e>:19: FutureWarning: `rcond` parameter will change to the default of machine precision times ``max(M, N)`` where M and N are the input matrix dimensions.\n",
            "To use the future default and silence this warning we advise to pass `rcond=None`, to keep using the old, explicitly pass `rcond=-1`.\n",
            "  Vhat = np.linalg.lstsq(M,A) #rxb\n"
          ]
        },
        {
          "metadata": {
            "tags": null
          },
          "name": "stdout",
          "output_type": "stream",
          "text": [
            "iteration 9, time 6\n",
            "/content/gdrive/MyDrive/Colab Notebooks/Final/Data/News/list_ppmi_6.csv\n",
            "0 out of 1\n"
          ]
        },
        {
          "metadata": {
            "tags": null
          },
          "name": "stderr",
          "output_type": "stream",
          "text": [
            "<ipython-input-5-a39c1499620e>:19: FutureWarning: `rcond` parameter will change to the default of machine precision times ``max(M, N)`` where M and N are the input matrix dimensions.\n",
            "To use the future default and silence this warning we advise to pass `rcond=None`, to keep using the old, explicitly pass `rcond=-1`.\n",
            "  Vhat = np.linalg.lstsq(M,A) #rxb\n"
          ]
        },
        {
          "metadata": {
            "tags": null
          },
          "name": "stdout",
          "output_type": "stream",
          "text": [
            "iteration 9, time 7\n",
            "/content/gdrive/MyDrive/Colab Notebooks/Final/Data/News/list_ppmi_7.csv\n",
            "0 out of 1\n"
          ]
        },
        {
          "metadata": {
            "tags": null
          },
          "name": "stderr",
          "output_type": "stream",
          "text": [
            "<ipython-input-5-a39c1499620e>:19: FutureWarning: `rcond` parameter will change to the default of machine precision times ``max(M, N)`` where M and N are the input matrix dimensions.\n",
            "To use the future default and silence this warning we advise to pass `rcond=None`, to keep using the old, explicitly pass `rcond=-1`.\n",
            "  Vhat = np.linalg.lstsq(M,A) #rxb\n"
          ]
        },
        {
          "metadata": {
            "tags": null
          },
          "name": "stdout",
          "output_type": "stream",
          "text": [
            "iteration 9, time 8\n",
            "/content/gdrive/MyDrive/Colab Notebooks/Final/Data/News/list_ppmi_8.csv\n",
            "0 out of 1\n"
          ]
        },
        {
          "metadata": {
            "tags": null
          },
          "name": "stderr",
          "output_type": "stream",
          "text": [
            "<ipython-input-5-a39c1499620e>:19: FutureWarning: `rcond` parameter will change to the default of machine precision times ``max(M, N)`` where M and N are the input matrix dimensions.\n",
            "To use the future default and silence this warning we advise to pass `rcond=None`, to keep using the old, explicitly pass `rcond=-1`.\n",
            "  Vhat = np.linalg.lstsq(M,A) #rxb\n"
          ]
        },
        {
          "metadata": {
            "tags": null
          },
          "name": "stdout",
          "output_type": "stream",
          "text": [
            "iteration 9, time 9\n",
            "/content/gdrive/MyDrive/Colab Notebooks/Final/Data/News/list_ppmi_9.csv\n",
            "0 out of 1\n"
          ]
        },
        {
          "metadata": {
            "tags": null
          },
          "name": "stderr",
          "output_type": "stream",
          "text": [
            "<ipython-input-5-a39c1499620e>:19: FutureWarning: `rcond` parameter will change to the default of machine precision times ``max(M, N)`` where M and N are the input matrix dimensions.\n",
            "To use the future default and silence this warning we advise to pass `rcond=None`, to keep using the old, explicitly pass `rcond=-1`.\n",
            "  Vhat = np.linalg.lstsq(M,A) #rxb\n"
          ]
        },
        {
          "metadata": {
            "tags": null
          },
          "name": "stdout",
          "output_type": "stream",
          "text": [
            "iteration 9, time 10\n",
            "/content/gdrive/MyDrive/Colab Notebooks/Final/Data/News/list_ppmi_10.csv\n",
            "0 out of 1\n"
          ]
        },
        {
          "metadata": {
            "tags": null
          },
          "name": "stderr",
          "output_type": "stream",
          "text": [
            "<ipython-input-5-a39c1499620e>:19: FutureWarning: `rcond` parameter will change to the default of machine precision times ``max(M, N)`` where M and N are the input matrix dimensions.\n",
            "To use the future default and silence this warning we advise to pass `rcond=None`, to keep using the old, explicitly pass `rcond=-1`.\n",
            "  Vhat = np.linalg.lstsq(M,A) #rxb\n"
          ]
        },
        {
          "metadata": {
            "tags": null
          },
          "name": "stdout",
          "output_type": "stream",
          "text": [
            "iteration 9, time 11\n",
            "/content/gdrive/MyDrive/Colab Notebooks/Final/Data/News/list_ppmi_11.csv\n",
            "0 out of 1\n"
          ]
        },
        {
          "metadata": {
            "tags": null
          },
          "name": "stderr",
          "output_type": "stream",
          "text": [
            "<ipython-input-5-a39c1499620e>:19: FutureWarning: `rcond` parameter will change to the default of machine precision times ``max(M, N)`` where M and N are the input matrix dimensions.\n",
            "To use the future default and silence this warning we advise to pass `rcond=None`, to keep using the old, explicitly pass `rcond=-1`.\n",
            "  Vhat = np.linalg.lstsq(M,A) #rxb\n"
          ]
        },
        {
          "metadata": {
            "tags": null
          },
          "name": "stdout",
          "output_type": "stream",
          "text": [
            "iteration 9, time 12\n",
            "/content/gdrive/MyDrive/Colab Notebooks/Final/Data/News/list_ppmi_12.csv\n",
            "0 out of 1\n"
          ]
        },
        {
          "metadata": {
            "tags": null
          },
          "name": "stderr",
          "output_type": "stream",
          "text": [
            "<ipython-input-5-a39c1499620e>:19: FutureWarning: `rcond` parameter will change to the default of machine precision times ``max(M, N)`` where M and N are the input matrix dimensions.\n",
            "To use the future default and silence this warning we advise to pass `rcond=None`, to keep using the old, explicitly pass `rcond=-1`.\n",
            "  Vhat = np.linalg.lstsq(M,A) #rxb\n"
          ]
        },
        {
          "metadata": {
            "tags": null
          },
          "name": "stdout",
          "output_type": "stream",
          "text": [
            "iteration 9, time 13\n",
            "/content/gdrive/MyDrive/Colab Notebooks/Final/Data/News/list_ppmi_13.csv\n",
            "0 out of 1\n"
          ]
        },
        {
          "metadata": {
            "tags": null
          },
          "name": "stderr",
          "output_type": "stream",
          "text": [
            "<ipython-input-5-a39c1499620e>:19: FutureWarning: `rcond` parameter will change to the default of machine precision times ``max(M, N)`` where M and N are the input matrix dimensions.\n",
            "To use the future default and silence this warning we advise to pass `rcond=None`, to keep using the old, explicitly pass `rcond=-1`.\n",
            "  Vhat = np.linalg.lstsq(M,A) #rxb\n"
          ]
        },
        {
          "metadata": {
            "tags": null
          },
          "name": "stdout",
          "output_type": "stream",
          "text": [
            "iteration 9, time 14\n",
            "/content/gdrive/MyDrive/Colab Notebooks/Final/Data/News/list_ppmi_14.csv\n",
            "0 out of 1\n"
          ]
        },
        {
          "metadata": {
            "tags": null
          },
          "name": "stderr",
          "output_type": "stream",
          "text": [
            "<ipython-input-5-a39c1499620e>:19: FutureWarning: `rcond` parameter will change to the default of machine precision times ``max(M, N)`` where M and N are the input matrix dimensions.\n",
            "To use the future default and silence this warning we advise to pass `rcond=None`, to keep using the old, explicitly pass `rcond=-1`.\n",
            "  Vhat = np.linalg.lstsq(M,A) #rxb\n"
          ]
        },
        {
          "metadata": {
            "tags": null
          },
          "name": "stdout",
          "output_type": "stream",
          "text": [
            "iteration 9, time 15\n",
            "/content/gdrive/MyDrive/Colab Notebooks/Final/Data/News/list_ppmi_15.csv\n",
            "0 out of 1\n"
          ]
        },
        {
          "metadata": {
            "tags": null
          },
          "name": "stderr",
          "output_type": "stream",
          "text": [
            "<ipython-input-5-a39c1499620e>:19: FutureWarning: `rcond` parameter will change to the default of machine precision times ``max(M, N)`` where M and N are the input matrix dimensions.\n",
            "To use the future default and silence this warning we advise to pass `rcond=None`, to keep using the old, explicitly pass `rcond=-1`.\n",
            "  Vhat = np.linalg.lstsq(M,A) #rxb\n"
          ]
        },
        {
          "metadata": {
            "tags": null
          },
          "name": "stdout",
          "output_type": "stream",
          "text": [
            "iteration 9, time 16\n",
            "/content/gdrive/MyDrive/Colab Notebooks/Final/Data/News/list_ppmi_16.csv\n",
            "0 out of 1\n"
          ]
        },
        {
          "metadata": {
            "tags": null
          },
          "name": "stderr",
          "output_type": "stream",
          "text": [
            "<ipython-input-5-a39c1499620e>:19: FutureWarning: `rcond` parameter will change to the default of machine precision times ``max(M, N)`` where M and N are the input matrix dimensions.\n",
            "To use the future default and silence this warning we advise to pass `rcond=None`, to keep using the old, explicitly pass `rcond=-1`.\n",
            "  Vhat = np.linalg.lstsq(M,A) #rxb\n"
          ]
        },
        {
          "metadata": {
            "tags": null
          },
          "name": "stdout",
          "output_type": "stream",
          "text": [
            "iteration 9, time 17\n",
            "/content/gdrive/MyDrive/Colab Notebooks/Final/Data/News/list_ppmi_17.csv\n",
            "0 out of 1\n"
          ]
        },
        {
          "metadata": {
            "tags": null
          },
          "name": "stderr",
          "output_type": "stream",
          "text": [
            "<ipython-input-5-a39c1499620e>:19: FutureWarning: `rcond` parameter will change to the default of machine precision times ``max(M, N)`` where M and N are the input matrix dimensions.\n",
            "To use the future default and silence this warning we advise to pass `rcond=None`, to keep using the old, explicitly pass `rcond=-1`.\n",
            "  Vhat = np.linalg.lstsq(M,A) #rxb\n"
          ]
        },
        {
          "metadata": {
            "tags": null
          },
          "name": "stdout",
          "output_type": "stream",
          "text": [
            "iteration 9, time 18\n",
            "/content/gdrive/MyDrive/Colab Notebooks/Final/Data/News/list_ppmi_18.csv\n",
            "0 out of 1\n"
          ]
        },
        {
          "metadata": {
            "tags": null
          },
          "name": "stderr",
          "output_type": "stream",
          "text": [
            "<ipython-input-5-a39c1499620e>:19: FutureWarning: `rcond` parameter will change to the default of machine precision times ``max(M, N)`` where M and N are the input matrix dimensions.\n",
            "To use the future default and silence this warning we advise to pass `rcond=None`, to keep using the old, explicitly pass `rcond=-1`.\n",
            "  Vhat = np.linalg.lstsq(M,A) #rxb\n"
          ]
        },
        {
          "metadata": {
            "tags": null
          },
          "name": "stdout",
          "output_type": "stream",
          "text": [
            "iteration 9, time 19\n",
            "/content/gdrive/MyDrive/Colab Notebooks/Final/Data/News/list_ppmi_19.csv\n",
            "0 out of 1\n"
          ]
        },
        {
          "metadata": {
            "tags": null
          },
          "name": "stderr",
          "output_type": "stream",
          "text": [
            "<ipython-input-5-a39c1499620e>:19: FutureWarning: `rcond` parameter will change to the default of machine precision times ``max(M, N)`` where M and N are the input matrix dimensions.\n",
            "To use the future default and silence this warning we advise to pass `rcond=None`, to keep using the old, explicitly pass `rcond=-1`.\n",
            "  Vhat = np.linalg.lstsq(M,A) #rxb\n"
          ]
        },
        {
          "metadata": {
            "tags": null
          },
          "name": "stdout",
          "output_type": "stream",
          "text": [
            "time elapsed =  7148.471368789673\n",
            "Loss 138487512.61467034\n",
            "rank = 50\n",
            "frob  regularizer = 10\n",
            "time  regularizer = 50\n",
            "symmetry regularizer = 50\n",
            "emphasize param   = 1\n",
            "total iterations = 20\n",
            "iteration 10, time 0\n",
            "/content/gdrive/MyDrive/Colab Notebooks/Final/Data/News/list_ppmi_0.csv\n",
            "0 out of 1\n"
          ]
        },
        {
          "metadata": {
            "tags": null
          },
          "name": "stderr",
          "output_type": "stream",
          "text": [
            "<ipython-input-5-a39c1499620e>:19: FutureWarning: `rcond` parameter will change to the default of machine precision times ``max(M, N)`` where M and N are the input matrix dimensions.\n",
            "To use the future default and silence this warning we advise to pass `rcond=None`, to keep using the old, explicitly pass `rcond=-1`.\n",
            "  Vhat = np.linalg.lstsq(M,A) #rxb\n"
          ]
        },
        {
          "metadata": {
            "tags": null
          },
          "name": "stdout",
          "output_type": "stream",
          "text": [
            "iteration 10, time 1\n",
            "/content/gdrive/MyDrive/Colab Notebooks/Final/Data/News/list_ppmi_1.csv\n",
            "0 out of 1\n"
          ]
        },
        {
          "metadata": {
            "tags": null
          },
          "name": "stderr",
          "output_type": "stream",
          "text": [
            "<ipython-input-5-a39c1499620e>:19: FutureWarning: `rcond` parameter will change to the default of machine precision times ``max(M, N)`` where M and N are the input matrix dimensions.\n",
            "To use the future default and silence this warning we advise to pass `rcond=None`, to keep using the old, explicitly pass `rcond=-1`.\n",
            "  Vhat = np.linalg.lstsq(M,A) #rxb\n"
          ]
        },
        {
          "metadata": {
            "tags": null
          },
          "name": "stdout",
          "output_type": "stream",
          "text": [
            "iteration 10, time 2\n",
            "/content/gdrive/MyDrive/Colab Notebooks/Final/Data/News/list_ppmi_2.csv\n",
            "0 out of 1\n"
          ]
        },
        {
          "metadata": {
            "tags": null
          },
          "name": "stderr",
          "output_type": "stream",
          "text": [
            "<ipython-input-5-a39c1499620e>:19: FutureWarning: `rcond` parameter will change to the default of machine precision times ``max(M, N)`` where M and N are the input matrix dimensions.\n",
            "To use the future default and silence this warning we advise to pass `rcond=None`, to keep using the old, explicitly pass `rcond=-1`.\n",
            "  Vhat = np.linalg.lstsq(M,A) #rxb\n"
          ]
        },
        {
          "metadata": {
            "tags": null
          },
          "name": "stdout",
          "output_type": "stream",
          "text": [
            "iteration 10, time 3\n",
            "/content/gdrive/MyDrive/Colab Notebooks/Final/Data/News/list_ppmi_3.csv\n",
            "0 out of 1\n"
          ]
        },
        {
          "metadata": {
            "tags": null
          },
          "name": "stderr",
          "output_type": "stream",
          "text": [
            "<ipython-input-5-a39c1499620e>:19: FutureWarning: `rcond` parameter will change to the default of machine precision times ``max(M, N)`` where M and N are the input matrix dimensions.\n",
            "To use the future default and silence this warning we advise to pass `rcond=None`, to keep using the old, explicitly pass `rcond=-1`.\n",
            "  Vhat = np.linalg.lstsq(M,A) #rxb\n"
          ]
        },
        {
          "metadata": {
            "tags": null
          },
          "name": "stdout",
          "output_type": "stream",
          "text": [
            "iteration 10, time 4\n",
            "/content/gdrive/MyDrive/Colab Notebooks/Final/Data/News/list_ppmi_4.csv\n",
            "0 out of 1\n"
          ]
        },
        {
          "metadata": {
            "tags": null
          },
          "name": "stderr",
          "output_type": "stream",
          "text": [
            "<ipython-input-5-a39c1499620e>:19: FutureWarning: `rcond` parameter will change to the default of machine precision times ``max(M, N)`` where M and N are the input matrix dimensions.\n",
            "To use the future default and silence this warning we advise to pass `rcond=None`, to keep using the old, explicitly pass `rcond=-1`.\n",
            "  Vhat = np.linalg.lstsq(M,A) #rxb\n"
          ]
        },
        {
          "metadata": {
            "tags": null
          },
          "name": "stdout",
          "output_type": "stream",
          "text": [
            "iteration 10, time 5\n",
            "/content/gdrive/MyDrive/Colab Notebooks/Final/Data/News/list_ppmi_5.csv\n",
            "0 out of 1\n"
          ]
        },
        {
          "metadata": {
            "tags": null
          },
          "name": "stderr",
          "output_type": "stream",
          "text": [
            "<ipython-input-5-a39c1499620e>:19: FutureWarning: `rcond` parameter will change to the default of machine precision times ``max(M, N)`` where M and N are the input matrix dimensions.\n",
            "To use the future default and silence this warning we advise to pass `rcond=None`, to keep using the old, explicitly pass `rcond=-1`.\n",
            "  Vhat = np.linalg.lstsq(M,A) #rxb\n"
          ]
        },
        {
          "metadata": {
            "tags": null
          },
          "name": "stdout",
          "output_type": "stream",
          "text": [
            "iteration 10, time 6\n",
            "/content/gdrive/MyDrive/Colab Notebooks/Final/Data/News/list_ppmi_6.csv\n",
            "0 out of 1\n"
          ]
        },
        {
          "metadata": {
            "tags": null
          },
          "name": "stderr",
          "output_type": "stream",
          "text": [
            "<ipython-input-5-a39c1499620e>:19: FutureWarning: `rcond` parameter will change to the default of machine precision times ``max(M, N)`` where M and N are the input matrix dimensions.\n",
            "To use the future default and silence this warning we advise to pass `rcond=None`, to keep using the old, explicitly pass `rcond=-1`.\n",
            "  Vhat = np.linalg.lstsq(M,A) #rxb\n"
          ]
        },
        {
          "metadata": {
            "tags": null
          },
          "name": "stdout",
          "output_type": "stream",
          "text": [
            "iteration 10, time 7\n",
            "/content/gdrive/MyDrive/Colab Notebooks/Final/Data/News/list_ppmi_7.csv\n",
            "0 out of 1\n"
          ]
        },
        {
          "metadata": {
            "tags": null
          },
          "name": "stderr",
          "output_type": "stream",
          "text": [
            "<ipython-input-5-a39c1499620e>:19: FutureWarning: `rcond` parameter will change to the default of machine precision times ``max(M, N)`` where M and N are the input matrix dimensions.\n",
            "To use the future default and silence this warning we advise to pass `rcond=None`, to keep using the old, explicitly pass `rcond=-1`.\n",
            "  Vhat = np.linalg.lstsq(M,A) #rxb\n"
          ]
        },
        {
          "metadata": {
            "tags": null
          },
          "name": "stdout",
          "output_type": "stream",
          "text": [
            "iteration 10, time 8\n",
            "/content/gdrive/MyDrive/Colab Notebooks/Final/Data/News/list_ppmi_8.csv\n",
            "0 out of 1\n"
          ]
        },
        {
          "metadata": {
            "tags": null
          },
          "name": "stderr",
          "output_type": "stream",
          "text": [
            "<ipython-input-5-a39c1499620e>:19: FutureWarning: `rcond` parameter will change to the default of machine precision times ``max(M, N)`` where M and N are the input matrix dimensions.\n",
            "To use the future default and silence this warning we advise to pass `rcond=None`, to keep using the old, explicitly pass `rcond=-1`.\n",
            "  Vhat = np.linalg.lstsq(M,A) #rxb\n"
          ]
        },
        {
          "metadata": {
            "tags": null
          },
          "name": "stdout",
          "output_type": "stream",
          "text": [
            "iteration 10, time 9\n",
            "/content/gdrive/MyDrive/Colab Notebooks/Final/Data/News/list_ppmi_9.csv\n",
            "0 out of 1\n"
          ]
        },
        {
          "metadata": {
            "tags": null
          },
          "name": "stderr",
          "output_type": "stream",
          "text": [
            "<ipython-input-5-a39c1499620e>:19: FutureWarning: `rcond` parameter will change to the default of machine precision times ``max(M, N)`` where M and N are the input matrix dimensions.\n",
            "To use the future default and silence this warning we advise to pass `rcond=None`, to keep using the old, explicitly pass `rcond=-1`.\n",
            "  Vhat = np.linalg.lstsq(M,A) #rxb\n"
          ]
        },
        {
          "metadata": {
            "tags": null
          },
          "name": "stdout",
          "output_type": "stream",
          "text": [
            "iteration 10, time 10\n",
            "/content/gdrive/MyDrive/Colab Notebooks/Final/Data/News/list_ppmi_10.csv\n",
            "0 out of 1\n"
          ]
        },
        {
          "metadata": {
            "tags": null
          },
          "name": "stderr",
          "output_type": "stream",
          "text": [
            "<ipython-input-5-a39c1499620e>:19: FutureWarning: `rcond` parameter will change to the default of machine precision times ``max(M, N)`` where M and N are the input matrix dimensions.\n",
            "To use the future default and silence this warning we advise to pass `rcond=None`, to keep using the old, explicitly pass `rcond=-1`.\n",
            "  Vhat = np.linalg.lstsq(M,A) #rxb\n"
          ]
        },
        {
          "metadata": {
            "tags": null
          },
          "name": "stdout",
          "output_type": "stream",
          "text": [
            "iteration 10, time 11\n",
            "/content/gdrive/MyDrive/Colab Notebooks/Final/Data/News/list_ppmi_11.csv\n",
            "0 out of 1\n"
          ]
        },
        {
          "metadata": {
            "tags": null
          },
          "name": "stderr",
          "output_type": "stream",
          "text": [
            "<ipython-input-5-a39c1499620e>:19: FutureWarning: `rcond` parameter will change to the default of machine precision times ``max(M, N)`` where M and N are the input matrix dimensions.\n",
            "To use the future default and silence this warning we advise to pass `rcond=None`, to keep using the old, explicitly pass `rcond=-1`.\n",
            "  Vhat = np.linalg.lstsq(M,A) #rxb\n"
          ]
        },
        {
          "metadata": {
            "tags": null
          },
          "name": "stdout",
          "output_type": "stream",
          "text": [
            "iteration 10, time 12\n",
            "/content/gdrive/MyDrive/Colab Notebooks/Final/Data/News/list_ppmi_12.csv\n",
            "0 out of 1\n"
          ]
        },
        {
          "metadata": {
            "tags": null
          },
          "name": "stderr",
          "output_type": "stream",
          "text": [
            "<ipython-input-5-a39c1499620e>:19: FutureWarning: `rcond` parameter will change to the default of machine precision times ``max(M, N)`` where M and N are the input matrix dimensions.\n",
            "To use the future default and silence this warning we advise to pass `rcond=None`, to keep using the old, explicitly pass `rcond=-1`.\n",
            "  Vhat = np.linalg.lstsq(M,A) #rxb\n"
          ]
        },
        {
          "metadata": {
            "tags": null
          },
          "name": "stdout",
          "output_type": "stream",
          "text": [
            "iteration 10, time 13\n",
            "/content/gdrive/MyDrive/Colab Notebooks/Final/Data/News/list_ppmi_13.csv\n",
            "0 out of 1\n"
          ]
        },
        {
          "metadata": {
            "tags": null
          },
          "name": "stderr",
          "output_type": "stream",
          "text": [
            "<ipython-input-5-a39c1499620e>:19: FutureWarning: `rcond` parameter will change to the default of machine precision times ``max(M, N)`` where M and N are the input matrix dimensions.\n",
            "To use the future default and silence this warning we advise to pass `rcond=None`, to keep using the old, explicitly pass `rcond=-1`.\n",
            "  Vhat = np.linalg.lstsq(M,A) #rxb\n"
          ]
        },
        {
          "metadata": {
            "tags": null
          },
          "name": "stdout",
          "output_type": "stream",
          "text": [
            "iteration 10, time 14\n",
            "/content/gdrive/MyDrive/Colab Notebooks/Final/Data/News/list_ppmi_14.csv\n",
            "0 out of 1\n"
          ]
        },
        {
          "metadata": {
            "tags": null
          },
          "name": "stderr",
          "output_type": "stream",
          "text": [
            "<ipython-input-5-a39c1499620e>:19: FutureWarning: `rcond` parameter will change to the default of machine precision times ``max(M, N)`` where M and N are the input matrix dimensions.\n",
            "To use the future default and silence this warning we advise to pass `rcond=None`, to keep using the old, explicitly pass `rcond=-1`.\n",
            "  Vhat = np.linalg.lstsq(M,A) #rxb\n"
          ]
        },
        {
          "metadata": {
            "tags": null
          },
          "name": "stdout",
          "output_type": "stream",
          "text": [
            "iteration 10, time 15\n",
            "/content/gdrive/MyDrive/Colab Notebooks/Final/Data/News/list_ppmi_15.csv\n",
            "0 out of 1\n"
          ]
        },
        {
          "metadata": {
            "tags": null
          },
          "name": "stderr",
          "output_type": "stream",
          "text": [
            "<ipython-input-5-a39c1499620e>:19: FutureWarning: `rcond` parameter will change to the default of machine precision times ``max(M, N)`` where M and N are the input matrix dimensions.\n",
            "To use the future default and silence this warning we advise to pass `rcond=None`, to keep using the old, explicitly pass `rcond=-1`.\n",
            "  Vhat = np.linalg.lstsq(M,A) #rxb\n"
          ]
        },
        {
          "metadata": {
            "tags": null
          },
          "name": "stdout",
          "output_type": "stream",
          "text": [
            "iteration 10, time 16\n",
            "/content/gdrive/MyDrive/Colab Notebooks/Final/Data/News/list_ppmi_16.csv\n",
            "0 out of 1\n"
          ]
        },
        {
          "metadata": {
            "tags": null
          },
          "name": "stderr",
          "output_type": "stream",
          "text": [
            "<ipython-input-5-a39c1499620e>:19: FutureWarning: `rcond` parameter will change to the default of machine precision times ``max(M, N)`` where M and N are the input matrix dimensions.\n",
            "To use the future default and silence this warning we advise to pass `rcond=None`, to keep using the old, explicitly pass `rcond=-1`.\n",
            "  Vhat = np.linalg.lstsq(M,A) #rxb\n"
          ]
        },
        {
          "metadata": {
            "tags": null
          },
          "name": "stdout",
          "output_type": "stream",
          "text": [
            "iteration 10, time 17\n",
            "/content/gdrive/MyDrive/Colab Notebooks/Final/Data/News/list_ppmi_17.csv\n",
            "0 out of 1\n"
          ]
        },
        {
          "metadata": {
            "tags": null
          },
          "name": "stderr",
          "output_type": "stream",
          "text": [
            "<ipython-input-5-a39c1499620e>:19: FutureWarning: `rcond` parameter will change to the default of machine precision times ``max(M, N)`` where M and N are the input matrix dimensions.\n",
            "To use the future default and silence this warning we advise to pass `rcond=None`, to keep using the old, explicitly pass `rcond=-1`.\n",
            "  Vhat = np.linalg.lstsq(M,A) #rxb\n"
          ]
        },
        {
          "metadata": {
            "tags": null
          },
          "name": "stdout",
          "output_type": "stream",
          "text": [
            "iteration 10, time 18\n",
            "/content/gdrive/MyDrive/Colab Notebooks/Final/Data/News/list_ppmi_18.csv\n",
            "0 out of 1\n"
          ]
        },
        {
          "metadata": {
            "tags": null
          },
          "name": "stderr",
          "output_type": "stream",
          "text": [
            "<ipython-input-5-a39c1499620e>:19: FutureWarning: `rcond` parameter will change to the default of machine precision times ``max(M, N)`` where M and N are the input matrix dimensions.\n",
            "To use the future default and silence this warning we advise to pass `rcond=None`, to keep using the old, explicitly pass `rcond=-1`.\n",
            "  Vhat = np.linalg.lstsq(M,A) #rxb\n"
          ]
        },
        {
          "metadata": {
            "tags": null
          },
          "name": "stdout",
          "output_type": "stream",
          "text": [
            "iteration 10, time 19\n",
            "/content/gdrive/MyDrive/Colab Notebooks/Final/Data/News/list_ppmi_19.csv\n",
            "0 out of 1\n"
          ]
        },
        {
          "metadata": {
            "tags": null
          },
          "name": "stderr",
          "output_type": "stream",
          "text": [
            "<ipython-input-5-a39c1499620e>:19: FutureWarning: `rcond` parameter will change to the default of machine precision times ``max(M, N)`` where M and N are the input matrix dimensions.\n",
            "To use the future default and silence this warning we advise to pass `rcond=None`, to keep using the old, explicitly pass `rcond=-1`.\n",
            "  Vhat = np.linalg.lstsq(M,A) #rxb\n"
          ]
        },
        {
          "metadata": {
            "tags": null
          },
          "name": "stdout",
          "output_type": "stream",
          "text": [
            "time elapsed =  7930.424453020096\n",
            "Loss 138435187.13381237\n",
            "rank = 50\n",
            "frob  regularizer = 10\n",
            "time  regularizer = 50\n",
            "symmetry regularizer = 50\n",
            "emphasize param   = 1\n",
            "total iterations = 20\n",
            "iteration 11, time 0\n",
            "/content/gdrive/MyDrive/Colab Notebooks/Final/Data/News/list_ppmi_0.csv\n",
            "0 out of 1\n"
          ]
        },
        {
          "metadata": {
            "tags": null
          },
          "name": "stderr",
          "output_type": "stream",
          "text": [
            "<ipython-input-5-a39c1499620e>:19: FutureWarning: `rcond` parameter will change to the default of machine precision times ``max(M, N)`` where M and N are the input matrix dimensions.\n",
            "To use the future default and silence this warning we advise to pass `rcond=None`, to keep using the old, explicitly pass `rcond=-1`.\n",
            "  Vhat = np.linalg.lstsq(M,A) #rxb\n"
          ]
        },
        {
          "metadata": {
            "tags": null
          },
          "name": "stdout",
          "output_type": "stream",
          "text": [
            "iteration 11, time 1\n",
            "/content/gdrive/MyDrive/Colab Notebooks/Final/Data/News/list_ppmi_1.csv\n",
            "0 out of 1\n"
          ]
        },
        {
          "metadata": {
            "tags": null
          },
          "name": "stderr",
          "output_type": "stream",
          "text": [
            "<ipython-input-5-a39c1499620e>:19: FutureWarning: `rcond` parameter will change to the default of machine precision times ``max(M, N)`` where M and N are the input matrix dimensions.\n",
            "To use the future default and silence this warning we advise to pass `rcond=None`, to keep using the old, explicitly pass `rcond=-1`.\n",
            "  Vhat = np.linalg.lstsq(M,A) #rxb\n"
          ]
        },
        {
          "metadata": {
            "tags": null
          },
          "name": "stdout",
          "output_type": "stream",
          "text": [
            "iteration 11, time 2\n",
            "/content/gdrive/MyDrive/Colab Notebooks/Final/Data/News/list_ppmi_2.csv\n",
            "0 out of 1\n"
          ]
        },
        {
          "metadata": {
            "tags": null
          },
          "name": "stderr",
          "output_type": "stream",
          "text": [
            "<ipython-input-5-a39c1499620e>:19: FutureWarning: `rcond` parameter will change to the default of machine precision times ``max(M, N)`` where M and N are the input matrix dimensions.\n",
            "To use the future default and silence this warning we advise to pass `rcond=None`, to keep using the old, explicitly pass `rcond=-1`.\n",
            "  Vhat = np.linalg.lstsq(M,A) #rxb\n"
          ]
        },
        {
          "metadata": {
            "tags": null
          },
          "name": "stdout",
          "output_type": "stream",
          "text": [
            "iteration 11, time 3\n",
            "/content/gdrive/MyDrive/Colab Notebooks/Final/Data/News/list_ppmi_3.csv\n",
            "0 out of 1\n"
          ]
        },
        {
          "metadata": {
            "tags": null
          },
          "name": "stderr",
          "output_type": "stream",
          "text": [
            "<ipython-input-5-a39c1499620e>:19: FutureWarning: `rcond` parameter will change to the default of machine precision times ``max(M, N)`` where M and N are the input matrix dimensions.\n",
            "To use the future default and silence this warning we advise to pass `rcond=None`, to keep using the old, explicitly pass `rcond=-1`.\n",
            "  Vhat = np.linalg.lstsq(M,A) #rxb\n"
          ]
        },
        {
          "metadata": {
            "tags": null
          },
          "name": "stdout",
          "output_type": "stream",
          "text": [
            "iteration 11, time 4\n",
            "/content/gdrive/MyDrive/Colab Notebooks/Final/Data/News/list_ppmi_4.csv\n",
            "0 out of 1\n"
          ]
        },
        {
          "metadata": {
            "tags": null
          },
          "name": "stderr",
          "output_type": "stream",
          "text": [
            "<ipython-input-5-a39c1499620e>:19: FutureWarning: `rcond` parameter will change to the default of machine precision times ``max(M, N)`` where M and N are the input matrix dimensions.\n",
            "To use the future default and silence this warning we advise to pass `rcond=None`, to keep using the old, explicitly pass `rcond=-1`.\n",
            "  Vhat = np.linalg.lstsq(M,A) #rxb\n"
          ]
        },
        {
          "metadata": {
            "tags": null
          },
          "name": "stdout",
          "output_type": "stream",
          "text": [
            "iteration 11, time 5\n",
            "/content/gdrive/MyDrive/Colab Notebooks/Final/Data/News/list_ppmi_5.csv\n",
            "0 out of 1\n"
          ]
        },
        {
          "metadata": {
            "tags": null
          },
          "name": "stderr",
          "output_type": "stream",
          "text": [
            "<ipython-input-5-a39c1499620e>:19: FutureWarning: `rcond` parameter will change to the default of machine precision times ``max(M, N)`` where M and N are the input matrix dimensions.\n",
            "To use the future default and silence this warning we advise to pass `rcond=None`, to keep using the old, explicitly pass `rcond=-1`.\n",
            "  Vhat = np.linalg.lstsq(M,A) #rxb\n"
          ]
        },
        {
          "metadata": {
            "tags": null
          },
          "name": "stdout",
          "output_type": "stream",
          "text": [
            "iteration 11, time 6\n",
            "/content/gdrive/MyDrive/Colab Notebooks/Final/Data/News/list_ppmi_6.csv\n",
            "0 out of 1\n"
          ]
        },
        {
          "metadata": {
            "tags": null
          },
          "name": "stderr",
          "output_type": "stream",
          "text": [
            "<ipython-input-5-a39c1499620e>:19: FutureWarning: `rcond` parameter will change to the default of machine precision times ``max(M, N)`` where M and N are the input matrix dimensions.\n",
            "To use the future default and silence this warning we advise to pass `rcond=None`, to keep using the old, explicitly pass `rcond=-1`.\n",
            "  Vhat = np.linalg.lstsq(M,A) #rxb\n"
          ]
        },
        {
          "metadata": {
            "tags": null
          },
          "name": "stdout",
          "output_type": "stream",
          "text": [
            "iteration 11, time 7\n",
            "/content/gdrive/MyDrive/Colab Notebooks/Final/Data/News/list_ppmi_7.csv\n",
            "0 out of 1\n"
          ]
        },
        {
          "metadata": {
            "tags": null
          },
          "name": "stderr",
          "output_type": "stream",
          "text": [
            "<ipython-input-5-a39c1499620e>:19: FutureWarning: `rcond` parameter will change to the default of machine precision times ``max(M, N)`` where M and N are the input matrix dimensions.\n",
            "To use the future default and silence this warning we advise to pass `rcond=None`, to keep using the old, explicitly pass `rcond=-1`.\n",
            "  Vhat = np.linalg.lstsq(M,A) #rxb\n"
          ]
        },
        {
          "metadata": {
            "tags": null
          },
          "name": "stdout",
          "output_type": "stream",
          "text": [
            "iteration 11, time 8\n",
            "/content/gdrive/MyDrive/Colab Notebooks/Final/Data/News/list_ppmi_8.csv\n",
            "0 out of 1\n"
          ]
        },
        {
          "metadata": {
            "tags": null
          },
          "name": "stderr",
          "output_type": "stream",
          "text": [
            "<ipython-input-5-a39c1499620e>:19: FutureWarning: `rcond` parameter will change to the default of machine precision times ``max(M, N)`` where M and N are the input matrix dimensions.\n",
            "To use the future default and silence this warning we advise to pass `rcond=None`, to keep using the old, explicitly pass `rcond=-1`.\n",
            "  Vhat = np.linalg.lstsq(M,A) #rxb\n"
          ]
        },
        {
          "metadata": {
            "tags": null
          },
          "name": "stdout",
          "output_type": "stream",
          "text": [
            "iteration 11, time 9\n",
            "/content/gdrive/MyDrive/Colab Notebooks/Final/Data/News/list_ppmi_9.csv\n",
            "0 out of 1\n"
          ]
        },
        {
          "metadata": {
            "tags": null
          },
          "name": "stderr",
          "output_type": "stream",
          "text": [
            "<ipython-input-5-a39c1499620e>:19: FutureWarning: `rcond` parameter will change to the default of machine precision times ``max(M, N)`` where M and N are the input matrix dimensions.\n",
            "To use the future default and silence this warning we advise to pass `rcond=None`, to keep using the old, explicitly pass `rcond=-1`.\n",
            "  Vhat = np.linalg.lstsq(M,A) #rxb\n"
          ]
        },
        {
          "metadata": {
            "tags": null
          },
          "name": "stdout",
          "output_type": "stream",
          "text": [
            "iteration 11, time 10\n",
            "/content/gdrive/MyDrive/Colab Notebooks/Final/Data/News/list_ppmi_10.csv\n",
            "0 out of 1\n"
          ]
        },
        {
          "metadata": {
            "tags": null
          },
          "name": "stderr",
          "output_type": "stream",
          "text": [
            "<ipython-input-5-a39c1499620e>:19: FutureWarning: `rcond` parameter will change to the default of machine precision times ``max(M, N)`` where M and N are the input matrix dimensions.\n",
            "To use the future default and silence this warning we advise to pass `rcond=None`, to keep using the old, explicitly pass `rcond=-1`.\n",
            "  Vhat = np.linalg.lstsq(M,A) #rxb\n"
          ]
        },
        {
          "metadata": {
            "tags": null
          },
          "name": "stdout",
          "output_type": "stream",
          "text": [
            "iteration 11, time 11\n",
            "/content/gdrive/MyDrive/Colab Notebooks/Final/Data/News/list_ppmi_11.csv\n",
            "0 out of 1\n"
          ]
        },
        {
          "metadata": {
            "tags": null
          },
          "name": "stderr",
          "output_type": "stream",
          "text": [
            "<ipython-input-5-a39c1499620e>:19: FutureWarning: `rcond` parameter will change to the default of machine precision times ``max(M, N)`` where M and N are the input matrix dimensions.\n",
            "To use the future default and silence this warning we advise to pass `rcond=None`, to keep using the old, explicitly pass `rcond=-1`.\n",
            "  Vhat = np.linalg.lstsq(M,A) #rxb\n"
          ]
        },
        {
          "metadata": {
            "tags": null
          },
          "name": "stdout",
          "output_type": "stream",
          "text": [
            "iteration 11, time 12\n",
            "/content/gdrive/MyDrive/Colab Notebooks/Final/Data/News/list_ppmi_12.csv\n",
            "0 out of 1\n"
          ]
        },
        {
          "metadata": {
            "tags": null
          },
          "name": "stderr",
          "output_type": "stream",
          "text": [
            "<ipython-input-5-a39c1499620e>:19: FutureWarning: `rcond` parameter will change to the default of machine precision times ``max(M, N)`` where M and N are the input matrix dimensions.\n",
            "To use the future default and silence this warning we advise to pass `rcond=None`, to keep using the old, explicitly pass `rcond=-1`.\n",
            "  Vhat = np.linalg.lstsq(M,A) #rxb\n"
          ]
        },
        {
          "metadata": {
            "tags": null
          },
          "name": "stdout",
          "output_type": "stream",
          "text": [
            "iteration 11, time 13\n",
            "/content/gdrive/MyDrive/Colab Notebooks/Final/Data/News/list_ppmi_13.csv\n",
            "0 out of 1\n"
          ]
        },
        {
          "metadata": {
            "tags": null
          },
          "name": "stderr",
          "output_type": "stream",
          "text": [
            "<ipython-input-5-a39c1499620e>:19: FutureWarning: `rcond` parameter will change to the default of machine precision times ``max(M, N)`` where M and N are the input matrix dimensions.\n",
            "To use the future default and silence this warning we advise to pass `rcond=None`, to keep using the old, explicitly pass `rcond=-1`.\n",
            "  Vhat = np.linalg.lstsq(M,A) #rxb\n"
          ]
        },
        {
          "metadata": {
            "tags": null
          },
          "name": "stdout",
          "output_type": "stream",
          "text": [
            "iteration 11, time 14\n",
            "/content/gdrive/MyDrive/Colab Notebooks/Final/Data/News/list_ppmi_14.csv\n",
            "0 out of 1\n"
          ]
        },
        {
          "metadata": {
            "tags": null
          },
          "name": "stderr",
          "output_type": "stream",
          "text": [
            "<ipython-input-5-a39c1499620e>:19: FutureWarning: `rcond` parameter will change to the default of machine precision times ``max(M, N)`` where M and N are the input matrix dimensions.\n",
            "To use the future default and silence this warning we advise to pass `rcond=None`, to keep using the old, explicitly pass `rcond=-1`.\n",
            "  Vhat = np.linalg.lstsq(M,A) #rxb\n"
          ]
        },
        {
          "metadata": {
            "tags": null
          },
          "name": "stdout",
          "output_type": "stream",
          "text": [
            "iteration 11, time 15\n",
            "/content/gdrive/MyDrive/Colab Notebooks/Final/Data/News/list_ppmi_15.csv\n",
            "0 out of 1\n"
          ]
        },
        {
          "metadata": {
            "tags": null
          },
          "name": "stderr",
          "output_type": "stream",
          "text": [
            "<ipython-input-5-a39c1499620e>:19: FutureWarning: `rcond` parameter will change to the default of machine precision times ``max(M, N)`` where M and N are the input matrix dimensions.\n",
            "To use the future default and silence this warning we advise to pass `rcond=None`, to keep using the old, explicitly pass `rcond=-1`.\n",
            "  Vhat = np.linalg.lstsq(M,A) #rxb\n"
          ]
        },
        {
          "metadata": {
            "tags": null
          },
          "name": "stdout",
          "output_type": "stream",
          "text": [
            "iteration 11, time 16\n",
            "/content/gdrive/MyDrive/Colab Notebooks/Final/Data/News/list_ppmi_16.csv\n",
            "0 out of 1\n"
          ]
        },
        {
          "metadata": {
            "tags": null
          },
          "name": "stderr",
          "output_type": "stream",
          "text": [
            "<ipython-input-5-a39c1499620e>:19: FutureWarning: `rcond` parameter will change to the default of machine precision times ``max(M, N)`` where M and N are the input matrix dimensions.\n",
            "To use the future default and silence this warning we advise to pass `rcond=None`, to keep using the old, explicitly pass `rcond=-1`.\n",
            "  Vhat = np.linalg.lstsq(M,A) #rxb\n"
          ]
        },
        {
          "metadata": {
            "tags": null
          },
          "name": "stdout",
          "output_type": "stream",
          "text": [
            "iteration 11, time 17\n",
            "/content/gdrive/MyDrive/Colab Notebooks/Final/Data/News/list_ppmi_17.csv\n",
            "0 out of 1\n"
          ]
        },
        {
          "metadata": {
            "tags": null
          },
          "name": "stderr",
          "output_type": "stream",
          "text": [
            "<ipython-input-5-a39c1499620e>:19: FutureWarning: `rcond` parameter will change to the default of machine precision times ``max(M, N)`` where M and N are the input matrix dimensions.\n",
            "To use the future default and silence this warning we advise to pass `rcond=None`, to keep using the old, explicitly pass `rcond=-1`.\n",
            "  Vhat = np.linalg.lstsq(M,A) #rxb\n"
          ]
        },
        {
          "metadata": {
            "tags": null
          },
          "name": "stdout",
          "output_type": "stream",
          "text": [
            "iteration 11, time 18\n",
            "/content/gdrive/MyDrive/Colab Notebooks/Final/Data/News/list_ppmi_18.csv\n",
            "0 out of 1\n"
          ]
        },
        {
          "metadata": {
            "tags": null
          },
          "name": "stderr",
          "output_type": "stream",
          "text": [
            "<ipython-input-5-a39c1499620e>:19: FutureWarning: `rcond` parameter will change to the default of machine precision times ``max(M, N)`` where M and N are the input matrix dimensions.\n",
            "To use the future default and silence this warning we advise to pass `rcond=None`, to keep using the old, explicitly pass `rcond=-1`.\n",
            "  Vhat = np.linalg.lstsq(M,A) #rxb\n"
          ]
        },
        {
          "metadata": {
            "tags": null
          },
          "name": "stdout",
          "output_type": "stream",
          "text": [
            "iteration 11, time 19\n",
            "/content/gdrive/MyDrive/Colab Notebooks/Final/Data/News/list_ppmi_19.csv\n",
            "0 out of 1\n"
          ]
        },
        {
          "metadata": {
            "tags": null
          },
          "name": "stderr",
          "output_type": "stream",
          "text": [
            "<ipython-input-5-a39c1499620e>:19: FutureWarning: `rcond` parameter will change to the default of machine precision times ``max(M, N)`` where M and N are the input matrix dimensions.\n",
            "To use the future default and silence this warning we advise to pass `rcond=None`, to keep using the old, explicitly pass `rcond=-1`.\n",
            "  Vhat = np.linalg.lstsq(M,A) #rxb\n"
          ]
        },
        {
          "metadata": {
            "tags": null
          },
          "name": "stdout",
          "output_type": "stream",
          "text": [
            "time elapsed =  8724.774006605148\n",
            "Loss 138415994.42097127\n",
            "rank = 50\n",
            "frob  regularizer = 10\n",
            "time  regularizer = 50\n",
            "symmetry regularizer = 50\n",
            "emphasize param   = 1\n",
            "total iterations = 20\n",
            "iteration 12, time 0\n",
            "/content/gdrive/MyDrive/Colab Notebooks/Final/Data/News/list_ppmi_0.csv\n",
            "0 out of 1\n"
          ]
        },
        {
          "metadata": {
            "tags": null
          },
          "name": "stderr",
          "output_type": "stream",
          "text": [
            "<ipython-input-5-a39c1499620e>:19: FutureWarning: `rcond` parameter will change to the default of machine precision times ``max(M, N)`` where M and N are the input matrix dimensions.\n",
            "To use the future default and silence this warning we advise to pass `rcond=None`, to keep using the old, explicitly pass `rcond=-1`.\n",
            "  Vhat = np.linalg.lstsq(M,A) #rxb\n"
          ]
        },
        {
          "metadata": {
            "tags": null
          },
          "name": "stdout",
          "output_type": "stream",
          "text": [
            "iteration 12, time 1\n",
            "/content/gdrive/MyDrive/Colab Notebooks/Final/Data/News/list_ppmi_1.csv\n",
            "0 out of 1\n"
          ]
        },
        {
          "metadata": {
            "tags": null
          },
          "name": "stderr",
          "output_type": "stream",
          "text": [
            "<ipython-input-5-a39c1499620e>:19: FutureWarning: `rcond` parameter will change to the default of machine precision times ``max(M, N)`` where M and N are the input matrix dimensions.\n",
            "To use the future default and silence this warning we advise to pass `rcond=None`, to keep using the old, explicitly pass `rcond=-1`.\n",
            "  Vhat = np.linalg.lstsq(M,A) #rxb\n"
          ]
        },
        {
          "metadata": {
            "tags": null
          },
          "name": "stdout",
          "output_type": "stream",
          "text": [
            "iteration 12, time 2\n",
            "/content/gdrive/MyDrive/Colab Notebooks/Final/Data/News/list_ppmi_2.csv\n",
            "0 out of 1\n"
          ]
        },
        {
          "metadata": {
            "tags": null
          },
          "name": "stderr",
          "output_type": "stream",
          "text": [
            "<ipython-input-5-a39c1499620e>:19: FutureWarning: `rcond` parameter will change to the default of machine precision times ``max(M, N)`` where M and N are the input matrix dimensions.\n",
            "To use the future default and silence this warning we advise to pass `rcond=None`, to keep using the old, explicitly pass `rcond=-1`.\n",
            "  Vhat = np.linalg.lstsq(M,A) #rxb\n"
          ]
        },
        {
          "metadata": {
            "tags": null
          },
          "name": "stdout",
          "output_type": "stream",
          "text": [
            "iteration 12, time 3\n",
            "/content/gdrive/MyDrive/Colab Notebooks/Final/Data/News/list_ppmi_3.csv\n",
            "0 out of 1\n"
          ]
        },
        {
          "metadata": {
            "tags": null
          },
          "name": "stderr",
          "output_type": "stream",
          "text": [
            "<ipython-input-5-a39c1499620e>:19: FutureWarning: `rcond` parameter will change to the default of machine precision times ``max(M, N)`` where M and N are the input matrix dimensions.\n",
            "To use the future default and silence this warning we advise to pass `rcond=None`, to keep using the old, explicitly pass `rcond=-1`.\n",
            "  Vhat = np.linalg.lstsq(M,A) #rxb\n"
          ]
        },
        {
          "metadata": {
            "tags": null
          },
          "name": "stdout",
          "output_type": "stream",
          "text": [
            "iteration 12, time 4\n",
            "/content/gdrive/MyDrive/Colab Notebooks/Final/Data/News/list_ppmi_4.csv\n",
            "0 out of 1\n"
          ]
        },
        {
          "metadata": {
            "tags": null
          },
          "name": "stderr",
          "output_type": "stream",
          "text": [
            "<ipython-input-5-a39c1499620e>:19: FutureWarning: `rcond` parameter will change to the default of machine precision times ``max(M, N)`` where M and N are the input matrix dimensions.\n",
            "To use the future default and silence this warning we advise to pass `rcond=None`, to keep using the old, explicitly pass `rcond=-1`.\n",
            "  Vhat = np.linalg.lstsq(M,A) #rxb\n"
          ]
        },
        {
          "metadata": {
            "tags": null
          },
          "name": "stdout",
          "output_type": "stream",
          "text": [
            "iteration 12, time 5\n",
            "/content/gdrive/MyDrive/Colab Notebooks/Final/Data/News/list_ppmi_5.csv\n",
            "0 out of 1\n"
          ]
        },
        {
          "metadata": {
            "tags": null
          },
          "name": "stderr",
          "output_type": "stream",
          "text": [
            "<ipython-input-5-a39c1499620e>:19: FutureWarning: `rcond` parameter will change to the default of machine precision times ``max(M, N)`` where M and N are the input matrix dimensions.\n",
            "To use the future default and silence this warning we advise to pass `rcond=None`, to keep using the old, explicitly pass `rcond=-1`.\n",
            "  Vhat = np.linalg.lstsq(M,A) #rxb\n"
          ]
        },
        {
          "metadata": {
            "tags": null
          },
          "name": "stdout",
          "output_type": "stream",
          "text": [
            "iteration 12, time 6\n",
            "/content/gdrive/MyDrive/Colab Notebooks/Final/Data/News/list_ppmi_6.csv\n",
            "0 out of 1\n"
          ]
        },
        {
          "metadata": {
            "tags": null
          },
          "name": "stderr",
          "output_type": "stream",
          "text": [
            "<ipython-input-5-a39c1499620e>:19: FutureWarning: `rcond` parameter will change to the default of machine precision times ``max(M, N)`` where M and N are the input matrix dimensions.\n",
            "To use the future default and silence this warning we advise to pass `rcond=None`, to keep using the old, explicitly pass `rcond=-1`.\n",
            "  Vhat = np.linalg.lstsq(M,A) #rxb\n"
          ]
        },
        {
          "metadata": {
            "tags": null
          },
          "name": "stdout",
          "output_type": "stream",
          "text": [
            "iteration 12, time 7\n",
            "/content/gdrive/MyDrive/Colab Notebooks/Final/Data/News/list_ppmi_7.csv\n",
            "0 out of 1\n"
          ]
        },
        {
          "metadata": {
            "tags": null
          },
          "name": "stderr",
          "output_type": "stream",
          "text": [
            "<ipython-input-5-a39c1499620e>:19: FutureWarning: `rcond` parameter will change to the default of machine precision times ``max(M, N)`` where M and N are the input matrix dimensions.\n",
            "To use the future default and silence this warning we advise to pass `rcond=None`, to keep using the old, explicitly pass `rcond=-1`.\n",
            "  Vhat = np.linalg.lstsq(M,A) #rxb\n"
          ]
        },
        {
          "metadata": {
            "tags": null
          },
          "name": "stdout",
          "output_type": "stream",
          "text": [
            "iteration 12, time 8\n",
            "/content/gdrive/MyDrive/Colab Notebooks/Final/Data/News/list_ppmi_8.csv\n",
            "0 out of 1\n"
          ]
        },
        {
          "metadata": {
            "tags": null
          },
          "name": "stderr",
          "output_type": "stream",
          "text": [
            "<ipython-input-5-a39c1499620e>:19: FutureWarning: `rcond` parameter will change to the default of machine precision times ``max(M, N)`` where M and N are the input matrix dimensions.\n",
            "To use the future default and silence this warning we advise to pass `rcond=None`, to keep using the old, explicitly pass `rcond=-1`.\n",
            "  Vhat = np.linalg.lstsq(M,A) #rxb\n"
          ]
        },
        {
          "metadata": {
            "tags": null
          },
          "name": "stdout",
          "output_type": "stream",
          "text": [
            "iteration 12, time 9\n",
            "/content/gdrive/MyDrive/Colab Notebooks/Final/Data/News/list_ppmi_9.csv\n",
            "0 out of 1\n"
          ]
        },
        {
          "metadata": {
            "tags": null
          },
          "name": "stderr",
          "output_type": "stream",
          "text": [
            "<ipython-input-5-a39c1499620e>:19: FutureWarning: `rcond` parameter will change to the default of machine precision times ``max(M, N)`` where M and N are the input matrix dimensions.\n",
            "To use the future default and silence this warning we advise to pass `rcond=None`, to keep using the old, explicitly pass `rcond=-1`.\n",
            "  Vhat = np.linalg.lstsq(M,A) #rxb\n"
          ]
        },
        {
          "metadata": {
            "tags": null
          },
          "name": "stdout",
          "output_type": "stream",
          "text": [
            "iteration 12, time 10\n",
            "/content/gdrive/MyDrive/Colab Notebooks/Final/Data/News/list_ppmi_10.csv\n",
            "0 out of 1\n"
          ]
        },
        {
          "metadata": {
            "tags": null
          },
          "name": "stderr",
          "output_type": "stream",
          "text": [
            "<ipython-input-5-a39c1499620e>:19: FutureWarning: `rcond` parameter will change to the default of machine precision times ``max(M, N)`` where M and N are the input matrix dimensions.\n",
            "To use the future default and silence this warning we advise to pass `rcond=None`, to keep using the old, explicitly pass `rcond=-1`.\n",
            "  Vhat = np.linalg.lstsq(M,A) #rxb\n"
          ]
        },
        {
          "metadata": {
            "tags": null
          },
          "name": "stdout",
          "output_type": "stream",
          "text": [
            "iteration 12, time 11\n",
            "/content/gdrive/MyDrive/Colab Notebooks/Final/Data/News/list_ppmi_11.csv\n",
            "0 out of 1\n"
          ]
        },
        {
          "metadata": {
            "tags": null
          },
          "name": "stderr",
          "output_type": "stream",
          "text": [
            "<ipython-input-5-a39c1499620e>:19: FutureWarning: `rcond` parameter will change to the default of machine precision times ``max(M, N)`` where M and N are the input matrix dimensions.\n",
            "To use the future default and silence this warning we advise to pass `rcond=None`, to keep using the old, explicitly pass `rcond=-1`.\n",
            "  Vhat = np.linalg.lstsq(M,A) #rxb\n"
          ]
        },
        {
          "metadata": {
            "tags": null
          },
          "name": "stdout",
          "output_type": "stream",
          "text": [
            "iteration 12, time 12\n",
            "/content/gdrive/MyDrive/Colab Notebooks/Final/Data/News/list_ppmi_12.csv\n",
            "0 out of 1\n"
          ]
        },
        {
          "metadata": {
            "tags": null
          },
          "name": "stderr",
          "output_type": "stream",
          "text": [
            "<ipython-input-5-a39c1499620e>:19: FutureWarning: `rcond` parameter will change to the default of machine precision times ``max(M, N)`` where M and N are the input matrix dimensions.\n",
            "To use the future default and silence this warning we advise to pass `rcond=None`, to keep using the old, explicitly pass `rcond=-1`.\n",
            "  Vhat = np.linalg.lstsq(M,A) #rxb\n"
          ]
        },
        {
          "metadata": {
            "tags": null
          },
          "name": "stdout",
          "output_type": "stream",
          "text": [
            "iteration 12, time 13\n",
            "/content/gdrive/MyDrive/Colab Notebooks/Final/Data/News/list_ppmi_13.csv\n",
            "0 out of 1\n"
          ]
        },
        {
          "metadata": {
            "tags": null
          },
          "name": "stderr",
          "output_type": "stream",
          "text": [
            "<ipython-input-5-a39c1499620e>:19: FutureWarning: `rcond` parameter will change to the default of machine precision times ``max(M, N)`` where M and N are the input matrix dimensions.\n",
            "To use the future default and silence this warning we advise to pass `rcond=None`, to keep using the old, explicitly pass `rcond=-1`.\n",
            "  Vhat = np.linalg.lstsq(M,A) #rxb\n"
          ]
        },
        {
          "metadata": {
            "tags": null
          },
          "name": "stdout",
          "output_type": "stream",
          "text": [
            "iteration 12, time 14\n",
            "/content/gdrive/MyDrive/Colab Notebooks/Final/Data/News/list_ppmi_14.csv\n",
            "0 out of 1\n"
          ]
        },
        {
          "metadata": {
            "tags": null
          },
          "name": "stderr",
          "output_type": "stream",
          "text": [
            "<ipython-input-5-a39c1499620e>:19: FutureWarning: `rcond` parameter will change to the default of machine precision times ``max(M, N)`` where M and N are the input matrix dimensions.\n",
            "To use the future default and silence this warning we advise to pass `rcond=None`, to keep using the old, explicitly pass `rcond=-1`.\n",
            "  Vhat = np.linalg.lstsq(M,A) #rxb\n"
          ]
        },
        {
          "metadata": {
            "tags": null
          },
          "name": "stdout",
          "output_type": "stream",
          "text": [
            "iteration 12, time 15\n",
            "/content/gdrive/MyDrive/Colab Notebooks/Final/Data/News/list_ppmi_15.csv\n",
            "0 out of 1\n"
          ]
        },
        {
          "metadata": {
            "tags": null
          },
          "name": "stderr",
          "output_type": "stream",
          "text": [
            "<ipython-input-5-a39c1499620e>:19: FutureWarning: `rcond` parameter will change to the default of machine precision times ``max(M, N)`` where M and N are the input matrix dimensions.\n",
            "To use the future default and silence this warning we advise to pass `rcond=None`, to keep using the old, explicitly pass `rcond=-1`.\n",
            "  Vhat = np.linalg.lstsq(M,A) #rxb\n"
          ]
        },
        {
          "metadata": {
            "tags": null
          },
          "name": "stdout",
          "output_type": "stream",
          "text": [
            "iteration 12, time 16\n",
            "/content/gdrive/MyDrive/Colab Notebooks/Final/Data/News/list_ppmi_16.csv\n",
            "0 out of 1\n"
          ]
        },
        {
          "metadata": {
            "tags": null
          },
          "name": "stderr",
          "output_type": "stream",
          "text": [
            "<ipython-input-5-a39c1499620e>:19: FutureWarning: `rcond` parameter will change to the default of machine precision times ``max(M, N)`` where M and N are the input matrix dimensions.\n",
            "To use the future default and silence this warning we advise to pass `rcond=None`, to keep using the old, explicitly pass `rcond=-1`.\n",
            "  Vhat = np.linalg.lstsq(M,A) #rxb\n"
          ]
        },
        {
          "metadata": {
            "tags": null
          },
          "name": "stdout",
          "output_type": "stream",
          "text": [
            "iteration 12, time 17\n",
            "/content/gdrive/MyDrive/Colab Notebooks/Final/Data/News/list_ppmi_17.csv\n",
            "0 out of 1\n"
          ]
        },
        {
          "metadata": {
            "tags": null
          },
          "name": "stderr",
          "output_type": "stream",
          "text": [
            "<ipython-input-5-a39c1499620e>:19: FutureWarning: `rcond` parameter will change to the default of machine precision times ``max(M, N)`` where M and N are the input matrix dimensions.\n",
            "To use the future default and silence this warning we advise to pass `rcond=None`, to keep using the old, explicitly pass `rcond=-1`.\n",
            "  Vhat = np.linalg.lstsq(M,A) #rxb\n"
          ]
        },
        {
          "metadata": {
            "tags": null
          },
          "name": "stdout",
          "output_type": "stream",
          "text": [
            "iteration 12, time 18\n",
            "/content/gdrive/MyDrive/Colab Notebooks/Final/Data/News/list_ppmi_18.csv\n",
            "0 out of 1\n"
          ]
        },
        {
          "metadata": {
            "tags": null
          },
          "name": "stderr",
          "output_type": "stream",
          "text": [
            "<ipython-input-5-a39c1499620e>:19: FutureWarning: `rcond` parameter will change to the default of machine precision times ``max(M, N)`` where M and N are the input matrix dimensions.\n",
            "To use the future default and silence this warning we advise to pass `rcond=None`, to keep using the old, explicitly pass `rcond=-1`.\n",
            "  Vhat = np.linalg.lstsq(M,A) #rxb\n"
          ]
        },
        {
          "metadata": {
            "tags": null
          },
          "name": "stdout",
          "output_type": "stream",
          "text": [
            "iteration 12, time 19\n",
            "/content/gdrive/MyDrive/Colab Notebooks/Final/Data/News/list_ppmi_19.csv\n",
            "0 out of 1\n"
          ]
        },
        {
          "metadata": {
            "tags": null
          },
          "name": "stderr",
          "output_type": "stream",
          "text": [
            "<ipython-input-5-a39c1499620e>:19: FutureWarning: `rcond` parameter will change to the default of machine precision times ``max(M, N)`` where M and N are the input matrix dimensions.\n",
            "To use the future default and silence this warning we advise to pass `rcond=None`, to keep using the old, explicitly pass `rcond=-1`.\n",
            "  Vhat = np.linalg.lstsq(M,A) #rxb\n"
          ]
        },
        {
          "metadata": {
            "tags": null
          },
          "name": "stdout",
          "output_type": "stream",
          "text": [
            "time elapsed =  9547.261503219604\n",
            "Loss 138409337.83447948\n",
            "rank = 50\n",
            "frob  regularizer = 10\n",
            "time  regularizer = 50\n",
            "symmetry regularizer = 50\n",
            "emphasize param   = 1\n",
            "total iterations = 20\n",
            "iteration 13, time 0\n",
            "/content/gdrive/MyDrive/Colab Notebooks/Final/Data/News/list_ppmi_0.csv\n",
            "0 out of 1\n"
          ]
        },
        {
          "metadata": {
            "tags": null
          },
          "name": "stderr",
          "output_type": "stream",
          "text": [
            "<ipython-input-5-a39c1499620e>:19: FutureWarning: `rcond` parameter will change to the default of machine precision times ``max(M, N)`` where M and N are the input matrix dimensions.\n",
            "To use the future default and silence this warning we advise to pass `rcond=None`, to keep using the old, explicitly pass `rcond=-1`.\n",
            "  Vhat = np.linalg.lstsq(M,A) #rxb\n"
          ]
        },
        {
          "metadata": {
            "tags": null
          },
          "name": "stdout",
          "output_type": "stream",
          "text": [
            "iteration 13, time 1\n",
            "/content/gdrive/MyDrive/Colab Notebooks/Final/Data/News/list_ppmi_1.csv\n",
            "0 out of 1\n"
          ]
        },
        {
          "metadata": {
            "tags": null
          },
          "name": "stderr",
          "output_type": "stream",
          "text": [
            "<ipython-input-5-a39c1499620e>:19: FutureWarning: `rcond` parameter will change to the default of machine precision times ``max(M, N)`` where M and N are the input matrix dimensions.\n",
            "To use the future default and silence this warning we advise to pass `rcond=None`, to keep using the old, explicitly pass `rcond=-1`.\n",
            "  Vhat = np.linalg.lstsq(M,A) #rxb\n"
          ]
        },
        {
          "metadata": {
            "tags": null
          },
          "name": "stdout",
          "output_type": "stream",
          "text": [
            "iteration 13, time 2\n",
            "/content/gdrive/MyDrive/Colab Notebooks/Final/Data/News/list_ppmi_2.csv\n",
            "0 out of 1\n"
          ]
        },
        {
          "metadata": {
            "tags": null
          },
          "name": "stderr",
          "output_type": "stream",
          "text": [
            "<ipython-input-5-a39c1499620e>:19: FutureWarning: `rcond` parameter will change to the default of machine precision times ``max(M, N)`` where M and N are the input matrix dimensions.\n",
            "To use the future default and silence this warning we advise to pass `rcond=None`, to keep using the old, explicitly pass `rcond=-1`.\n",
            "  Vhat = np.linalg.lstsq(M,A) #rxb\n"
          ]
        },
        {
          "metadata": {
            "tags": null
          },
          "name": "stdout",
          "output_type": "stream",
          "text": [
            "iteration 13, time 3\n",
            "/content/gdrive/MyDrive/Colab Notebooks/Final/Data/News/list_ppmi_3.csv\n",
            "0 out of 1\n"
          ]
        },
        {
          "metadata": {
            "tags": null
          },
          "name": "stderr",
          "output_type": "stream",
          "text": [
            "<ipython-input-5-a39c1499620e>:19: FutureWarning: `rcond` parameter will change to the default of machine precision times ``max(M, N)`` where M and N are the input matrix dimensions.\n",
            "To use the future default and silence this warning we advise to pass `rcond=None`, to keep using the old, explicitly pass `rcond=-1`.\n",
            "  Vhat = np.linalg.lstsq(M,A) #rxb\n"
          ]
        },
        {
          "metadata": {
            "tags": null
          },
          "name": "stdout",
          "output_type": "stream",
          "text": [
            "iteration 13, time 4\n",
            "/content/gdrive/MyDrive/Colab Notebooks/Final/Data/News/list_ppmi_4.csv\n",
            "0 out of 1\n"
          ]
        },
        {
          "metadata": {
            "tags": null
          },
          "name": "stderr",
          "output_type": "stream",
          "text": [
            "<ipython-input-5-a39c1499620e>:19: FutureWarning: `rcond` parameter will change to the default of machine precision times ``max(M, N)`` where M and N are the input matrix dimensions.\n",
            "To use the future default and silence this warning we advise to pass `rcond=None`, to keep using the old, explicitly pass `rcond=-1`.\n",
            "  Vhat = np.linalg.lstsq(M,A) #rxb\n"
          ]
        },
        {
          "metadata": {
            "tags": null
          },
          "name": "stdout",
          "output_type": "stream",
          "text": [
            "iteration 13, time 5\n",
            "/content/gdrive/MyDrive/Colab Notebooks/Final/Data/News/list_ppmi_5.csv\n",
            "0 out of 1\n"
          ]
        },
        {
          "metadata": {
            "tags": null
          },
          "name": "stderr",
          "output_type": "stream",
          "text": [
            "<ipython-input-5-a39c1499620e>:19: FutureWarning: `rcond` parameter will change to the default of machine precision times ``max(M, N)`` where M and N are the input matrix dimensions.\n",
            "To use the future default and silence this warning we advise to pass `rcond=None`, to keep using the old, explicitly pass `rcond=-1`.\n",
            "  Vhat = np.linalg.lstsq(M,A) #rxb\n"
          ]
        },
        {
          "metadata": {
            "tags": null
          },
          "name": "stdout",
          "output_type": "stream",
          "text": [
            "iteration 13, time 6\n",
            "/content/gdrive/MyDrive/Colab Notebooks/Final/Data/News/list_ppmi_6.csv\n",
            "0 out of 1\n"
          ]
        },
        {
          "metadata": {
            "tags": null
          },
          "name": "stderr",
          "output_type": "stream",
          "text": [
            "<ipython-input-5-a39c1499620e>:19: FutureWarning: `rcond` parameter will change to the default of machine precision times ``max(M, N)`` where M and N are the input matrix dimensions.\n",
            "To use the future default and silence this warning we advise to pass `rcond=None`, to keep using the old, explicitly pass `rcond=-1`.\n",
            "  Vhat = np.linalg.lstsq(M,A) #rxb\n"
          ]
        },
        {
          "metadata": {
            "tags": null
          },
          "name": "stdout",
          "output_type": "stream",
          "text": [
            "iteration 13, time 7\n",
            "/content/gdrive/MyDrive/Colab Notebooks/Final/Data/News/list_ppmi_7.csv\n",
            "0 out of 1\n"
          ]
        },
        {
          "metadata": {
            "tags": null
          },
          "name": "stderr",
          "output_type": "stream",
          "text": [
            "<ipython-input-5-a39c1499620e>:19: FutureWarning: `rcond` parameter will change to the default of machine precision times ``max(M, N)`` where M and N are the input matrix dimensions.\n",
            "To use the future default and silence this warning we advise to pass `rcond=None`, to keep using the old, explicitly pass `rcond=-1`.\n",
            "  Vhat = np.linalg.lstsq(M,A) #rxb\n"
          ]
        },
        {
          "metadata": {
            "tags": null
          },
          "name": "stdout",
          "output_type": "stream",
          "text": [
            "iteration 13, time 8\n",
            "/content/gdrive/MyDrive/Colab Notebooks/Final/Data/News/list_ppmi_8.csv\n",
            "0 out of 1\n"
          ]
        },
        {
          "metadata": {
            "tags": null
          },
          "name": "stderr",
          "output_type": "stream",
          "text": [
            "<ipython-input-5-a39c1499620e>:19: FutureWarning: `rcond` parameter will change to the default of machine precision times ``max(M, N)`` where M and N are the input matrix dimensions.\n",
            "To use the future default and silence this warning we advise to pass `rcond=None`, to keep using the old, explicitly pass `rcond=-1`.\n",
            "  Vhat = np.linalg.lstsq(M,A) #rxb\n"
          ]
        },
        {
          "metadata": {
            "tags": null
          },
          "name": "stdout",
          "output_type": "stream",
          "text": [
            "iteration 13, time 9\n",
            "/content/gdrive/MyDrive/Colab Notebooks/Final/Data/News/list_ppmi_9.csv\n",
            "0 out of 1\n"
          ]
        },
        {
          "metadata": {
            "tags": null
          },
          "name": "stderr",
          "output_type": "stream",
          "text": [
            "<ipython-input-5-a39c1499620e>:19: FutureWarning: `rcond` parameter will change to the default of machine precision times ``max(M, N)`` where M and N are the input matrix dimensions.\n",
            "To use the future default and silence this warning we advise to pass `rcond=None`, to keep using the old, explicitly pass `rcond=-1`.\n",
            "  Vhat = np.linalg.lstsq(M,A) #rxb\n"
          ]
        },
        {
          "metadata": {
            "tags": null
          },
          "name": "stdout",
          "output_type": "stream",
          "text": [
            "iteration 13, time 10\n",
            "/content/gdrive/MyDrive/Colab Notebooks/Final/Data/News/list_ppmi_10.csv\n",
            "0 out of 1\n"
          ]
        },
        {
          "metadata": {
            "tags": null
          },
          "name": "stderr",
          "output_type": "stream",
          "text": [
            "<ipython-input-5-a39c1499620e>:19: FutureWarning: `rcond` parameter will change to the default of machine precision times ``max(M, N)`` where M and N are the input matrix dimensions.\n",
            "To use the future default and silence this warning we advise to pass `rcond=None`, to keep using the old, explicitly pass `rcond=-1`.\n",
            "  Vhat = np.linalg.lstsq(M,A) #rxb\n"
          ]
        },
        {
          "metadata": {
            "tags": null
          },
          "name": "stdout",
          "output_type": "stream",
          "text": [
            "iteration 13, time 11\n",
            "/content/gdrive/MyDrive/Colab Notebooks/Final/Data/News/list_ppmi_11.csv\n",
            "0 out of 1\n"
          ]
        },
        {
          "metadata": {
            "tags": null
          },
          "name": "stderr",
          "output_type": "stream",
          "text": [
            "<ipython-input-5-a39c1499620e>:19: FutureWarning: `rcond` parameter will change to the default of machine precision times ``max(M, N)`` where M and N are the input matrix dimensions.\n",
            "To use the future default and silence this warning we advise to pass `rcond=None`, to keep using the old, explicitly pass `rcond=-1`.\n",
            "  Vhat = np.linalg.lstsq(M,A) #rxb\n"
          ]
        },
        {
          "metadata": {
            "tags": null
          },
          "name": "stdout",
          "output_type": "stream",
          "text": [
            "iteration 13, time 12\n",
            "/content/gdrive/MyDrive/Colab Notebooks/Final/Data/News/list_ppmi_12.csv\n",
            "0 out of 1\n"
          ]
        },
        {
          "metadata": {
            "tags": null
          },
          "name": "stderr",
          "output_type": "stream",
          "text": [
            "<ipython-input-5-a39c1499620e>:19: FutureWarning: `rcond` parameter will change to the default of machine precision times ``max(M, N)`` where M and N are the input matrix dimensions.\n",
            "To use the future default and silence this warning we advise to pass `rcond=None`, to keep using the old, explicitly pass `rcond=-1`.\n",
            "  Vhat = np.linalg.lstsq(M,A) #rxb\n"
          ]
        },
        {
          "metadata": {
            "tags": null
          },
          "name": "stdout",
          "output_type": "stream",
          "text": [
            "iteration 13, time 13\n",
            "/content/gdrive/MyDrive/Colab Notebooks/Final/Data/News/list_ppmi_13.csv\n",
            "0 out of 1\n"
          ]
        },
        {
          "metadata": {
            "tags": null
          },
          "name": "stderr",
          "output_type": "stream",
          "text": [
            "<ipython-input-5-a39c1499620e>:19: FutureWarning: `rcond` parameter will change to the default of machine precision times ``max(M, N)`` where M and N are the input matrix dimensions.\n",
            "To use the future default and silence this warning we advise to pass `rcond=None`, to keep using the old, explicitly pass `rcond=-1`.\n",
            "  Vhat = np.linalg.lstsq(M,A) #rxb\n"
          ]
        },
        {
          "metadata": {
            "tags": null
          },
          "name": "stdout",
          "output_type": "stream",
          "text": [
            "iteration 13, time 14\n",
            "/content/gdrive/MyDrive/Colab Notebooks/Final/Data/News/list_ppmi_14.csv\n",
            "0 out of 1\n"
          ]
        },
        {
          "metadata": {
            "tags": null
          },
          "name": "stderr",
          "output_type": "stream",
          "text": [
            "<ipython-input-5-a39c1499620e>:19: FutureWarning: `rcond` parameter will change to the default of machine precision times ``max(M, N)`` where M and N are the input matrix dimensions.\n",
            "To use the future default and silence this warning we advise to pass `rcond=None`, to keep using the old, explicitly pass `rcond=-1`.\n",
            "  Vhat = np.linalg.lstsq(M,A) #rxb\n"
          ]
        },
        {
          "metadata": {
            "tags": null
          },
          "name": "stdout",
          "output_type": "stream",
          "text": [
            "iteration 13, time 15\n",
            "/content/gdrive/MyDrive/Colab Notebooks/Final/Data/News/list_ppmi_15.csv\n",
            "0 out of 1\n"
          ]
        },
        {
          "metadata": {
            "tags": null
          },
          "name": "stderr",
          "output_type": "stream",
          "text": [
            "<ipython-input-5-a39c1499620e>:19: FutureWarning: `rcond` parameter will change to the default of machine precision times ``max(M, N)`` where M and N are the input matrix dimensions.\n",
            "To use the future default and silence this warning we advise to pass `rcond=None`, to keep using the old, explicitly pass `rcond=-1`.\n",
            "  Vhat = np.linalg.lstsq(M,A) #rxb\n"
          ]
        },
        {
          "metadata": {
            "tags": null
          },
          "name": "stdout",
          "output_type": "stream",
          "text": [
            "iteration 13, time 16\n",
            "/content/gdrive/MyDrive/Colab Notebooks/Final/Data/News/list_ppmi_16.csv\n",
            "0 out of 1\n"
          ]
        },
        {
          "metadata": {
            "tags": null
          },
          "name": "stderr",
          "output_type": "stream",
          "text": [
            "<ipython-input-5-a39c1499620e>:19: FutureWarning: `rcond` parameter will change to the default of machine precision times ``max(M, N)`` where M and N are the input matrix dimensions.\n",
            "To use the future default and silence this warning we advise to pass `rcond=None`, to keep using the old, explicitly pass `rcond=-1`.\n",
            "  Vhat = np.linalg.lstsq(M,A) #rxb\n"
          ]
        },
        {
          "metadata": {
            "tags": null
          },
          "name": "stdout",
          "output_type": "stream",
          "text": [
            "iteration 13, time 17\n",
            "/content/gdrive/MyDrive/Colab Notebooks/Final/Data/News/list_ppmi_17.csv\n",
            "0 out of 1\n"
          ]
        },
        {
          "metadata": {
            "tags": null
          },
          "name": "stderr",
          "output_type": "stream",
          "text": [
            "<ipython-input-5-a39c1499620e>:19: FutureWarning: `rcond` parameter will change to the default of machine precision times ``max(M, N)`` where M and N are the input matrix dimensions.\n",
            "To use the future default and silence this warning we advise to pass `rcond=None`, to keep using the old, explicitly pass `rcond=-1`.\n",
            "  Vhat = np.linalg.lstsq(M,A) #rxb\n"
          ]
        },
        {
          "metadata": {
            "tags": null
          },
          "name": "stdout",
          "output_type": "stream",
          "text": [
            "iteration 13, time 18\n",
            "/content/gdrive/MyDrive/Colab Notebooks/Final/Data/News/list_ppmi_18.csv\n",
            "0 out of 1\n"
          ]
        },
        {
          "metadata": {
            "tags": null
          },
          "name": "stderr",
          "output_type": "stream",
          "text": [
            "<ipython-input-5-a39c1499620e>:19: FutureWarning: `rcond` parameter will change to the default of machine precision times ``max(M, N)`` where M and N are the input matrix dimensions.\n",
            "To use the future default and silence this warning we advise to pass `rcond=None`, to keep using the old, explicitly pass `rcond=-1`.\n",
            "  Vhat = np.linalg.lstsq(M,A) #rxb\n"
          ]
        },
        {
          "metadata": {
            "tags": null
          },
          "name": "stdout",
          "output_type": "stream",
          "text": [
            "iteration 13, time 19\n",
            "/content/gdrive/MyDrive/Colab Notebooks/Final/Data/News/list_ppmi_19.csv\n",
            "0 out of 1\n"
          ]
        },
        {
          "metadata": {
            "tags": null
          },
          "name": "stderr",
          "output_type": "stream",
          "text": [
            "<ipython-input-5-a39c1499620e>:19: FutureWarning: `rcond` parameter will change to the default of machine precision times ``max(M, N)`` where M and N are the input matrix dimensions.\n",
            "To use the future default and silence this warning we advise to pass `rcond=None`, to keep using the old, explicitly pass `rcond=-1`.\n",
            "  Vhat = np.linalg.lstsq(M,A) #rxb\n"
          ]
        },
        {
          "metadata": {
            "tags": null
          },
          "name": "stdout",
          "output_type": "stream",
          "text": [
            "time elapsed =  10368.895357608795\n",
            "Loss 138395576.41388893\n",
            "rank = 50\n",
            "frob  regularizer = 10\n",
            "time  regularizer = 50\n",
            "symmetry regularizer = 50\n",
            "emphasize param   = 1\n",
            "total iterations = 20\n",
            "iteration 14, time 0\n",
            "/content/gdrive/MyDrive/Colab Notebooks/Final/Data/News/list_ppmi_0.csv\n",
            "0 out of 1\n"
          ]
        },
        {
          "metadata": {
            "tags": null
          },
          "name": "stderr",
          "output_type": "stream",
          "text": [
            "<ipython-input-5-a39c1499620e>:19: FutureWarning: `rcond` parameter will change to the default of machine precision times ``max(M, N)`` where M and N are the input matrix dimensions.\n",
            "To use the future default and silence this warning we advise to pass `rcond=None`, to keep using the old, explicitly pass `rcond=-1`.\n",
            "  Vhat = np.linalg.lstsq(M,A) #rxb\n"
          ]
        },
        {
          "metadata": {
            "tags": null
          },
          "name": "stdout",
          "output_type": "stream",
          "text": [
            "iteration 14, time 1\n",
            "/content/gdrive/MyDrive/Colab Notebooks/Final/Data/News/list_ppmi_1.csv\n",
            "0 out of 1\n"
          ]
        },
        {
          "metadata": {
            "tags": null
          },
          "name": "stderr",
          "output_type": "stream",
          "text": [
            "<ipython-input-5-a39c1499620e>:19: FutureWarning: `rcond` parameter will change to the default of machine precision times ``max(M, N)`` where M and N are the input matrix dimensions.\n",
            "To use the future default and silence this warning we advise to pass `rcond=None`, to keep using the old, explicitly pass `rcond=-1`.\n",
            "  Vhat = np.linalg.lstsq(M,A) #rxb\n"
          ]
        },
        {
          "metadata": {
            "tags": null
          },
          "name": "stdout",
          "output_type": "stream",
          "text": [
            "iteration 14, time 2\n",
            "/content/gdrive/MyDrive/Colab Notebooks/Final/Data/News/list_ppmi_2.csv\n",
            "0 out of 1\n"
          ]
        },
        {
          "metadata": {
            "tags": null
          },
          "name": "stderr",
          "output_type": "stream",
          "text": [
            "<ipython-input-5-a39c1499620e>:19: FutureWarning: `rcond` parameter will change to the default of machine precision times ``max(M, N)`` where M and N are the input matrix dimensions.\n",
            "To use the future default and silence this warning we advise to pass `rcond=None`, to keep using the old, explicitly pass `rcond=-1`.\n",
            "  Vhat = np.linalg.lstsq(M,A) #rxb\n"
          ]
        },
        {
          "metadata": {
            "tags": null
          },
          "name": "stdout",
          "output_type": "stream",
          "text": [
            "iteration 14, time 3\n",
            "/content/gdrive/MyDrive/Colab Notebooks/Final/Data/News/list_ppmi_3.csv\n",
            "0 out of 1\n"
          ]
        },
        {
          "metadata": {
            "tags": null
          },
          "name": "stderr",
          "output_type": "stream",
          "text": [
            "<ipython-input-5-a39c1499620e>:19: FutureWarning: `rcond` parameter will change to the default of machine precision times ``max(M, N)`` where M and N are the input matrix dimensions.\n",
            "To use the future default and silence this warning we advise to pass `rcond=None`, to keep using the old, explicitly pass `rcond=-1`.\n",
            "  Vhat = np.linalg.lstsq(M,A) #rxb\n"
          ]
        },
        {
          "metadata": {
            "tags": null
          },
          "name": "stdout",
          "output_type": "stream",
          "text": [
            "iteration 14, time 4\n",
            "/content/gdrive/MyDrive/Colab Notebooks/Final/Data/News/list_ppmi_4.csv\n",
            "0 out of 1\n"
          ]
        },
        {
          "metadata": {
            "tags": null
          },
          "name": "stderr",
          "output_type": "stream",
          "text": [
            "<ipython-input-5-a39c1499620e>:19: FutureWarning: `rcond` parameter will change to the default of machine precision times ``max(M, N)`` where M and N are the input matrix dimensions.\n",
            "To use the future default and silence this warning we advise to pass `rcond=None`, to keep using the old, explicitly pass `rcond=-1`.\n",
            "  Vhat = np.linalg.lstsq(M,A) #rxb\n"
          ]
        },
        {
          "metadata": {
            "tags": null
          },
          "name": "stdout",
          "output_type": "stream",
          "text": [
            "iteration 14, time 5\n",
            "/content/gdrive/MyDrive/Colab Notebooks/Final/Data/News/list_ppmi_5.csv\n",
            "0 out of 1\n"
          ]
        },
        {
          "metadata": {
            "tags": null
          },
          "name": "stderr",
          "output_type": "stream",
          "text": [
            "<ipython-input-5-a39c1499620e>:19: FutureWarning: `rcond` parameter will change to the default of machine precision times ``max(M, N)`` where M and N are the input matrix dimensions.\n",
            "To use the future default and silence this warning we advise to pass `rcond=None`, to keep using the old, explicitly pass `rcond=-1`.\n",
            "  Vhat = np.linalg.lstsq(M,A) #rxb\n"
          ]
        },
        {
          "metadata": {
            "tags": null
          },
          "name": "stdout",
          "output_type": "stream",
          "text": [
            "iteration 14, time 6\n",
            "/content/gdrive/MyDrive/Colab Notebooks/Final/Data/News/list_ppmi_6.csv\n",
            "0 out of 1\n"
          ]
        },
        {
          "metadata": {
            "tags": null
          },
          "name": "stderr",
          "output_type": "stream",
          "text": [
            "<ipython-input-5-a39c1499620e>:19: FutureWarning: `rcond` parameter will change to the default of machine precision times ``max(M, N)`` where M and N are the input matrix dimensions.\n",
            "To use the future default and silence this warning we advise to pass `rcond=None`, to keep using the old, explicitly pass `rcond=-1`.\n",
            "  Vhat = np.linalg.lstsq(M,A) #rxb\n"
          ]
        },
        {
          "metadata": {
            "tags": null
          },
          "name": "stdout",
          "output_type": "stream",
          "text": [
            "iteration 14, time 7\n",
            "/content/gdrive/MyDrive/Colab Notebooks/Final/Data/News/list_ppmi_7.csv\n",
            "0 out of 1\n"
          ]
        },
        {
          "metadata": {
            "tags": null
          },
          "name": "stderr",
          "output_type": "stream",
          "text": [
            "<ipython-input-5-a39c1499620e>:19: FutureWarning: `rcond` parameter will change to the default of machine precision times ``max(M, N)`` where M and N are the input matrix dimensions.\n",
            "To use the future default and silence this warning we advise to pass `rcond=None`, to keep using the old, explicitly pass `rcond=-1`.\n",
            "  Vhat = np.linalg.lstsq(M,A) #rxb\n"
          ]
        },
        {
          "metadata": {
            "tags": null
          },
          "name": "stdout",
          "output_type": "stream",
          "text": [
            "iteration 14, time 8\n",
            "/content/gdrive/MyDrive/Colab Notebooks/Final/Data/News/list_ppmi_8.csv\n",
            "0 out of 1\n"
          ]
        },
        {
          "metadata": {
            "tags": null
          },
          "name": "stderr",
          "output_type": "stream",
          "text": [
            "<ipython-input-5-a39c1499620e>:19: FutureWarning: `rcond` parameter will change to the default of machine precision times ``max(M, N)`` where M and N are the input matrix dimensions.\n",
            "To use the future default and silence this warning we advise to pass `rcond=None`, to keep using the old, explicitly pass `rcond=-1`.\n",
            "  Vhat = np.linalg.lstsq(M,A) #rxb\n"
          ]
        },
        {
          "metadata": {
            "tags": null
          },
          "name": "stdout",
          "output_type": "stream",
          "text": [
            "iteration 14, time 9\n",
            "/content/gdrive/MyDrive/Colab Notebooks/Final/Data/News/list_ppmi_9.csv\n",
            "0 out of 1\n"
          ]
        },
        {
          "metadata": {
            "tags": null
          },
          "name": "stderr",
          "output_type": "stream",
          "text": [
            "<ipython-input-5-a39c1499620e>:19: FutureWarning: `rcond` parameter will change to the default of machine precision times ``max(M, N)`` where M and N are the input matrix dimensions.\n",
            "To use the future default and silence this warning we advise to pass `rcond=None`, to keep using the old, explicitly pass `rcond=-1`.\n",
            "  Vhat = np.linalg.lstsq(M,A) #rxb\n"
          ]
        },
        {
          "metadata": {
            "tags": null
          },
          "name": "stdout",
          "output_type": "stream",
          "text": [
            "iteration 14, time 10\n",
            "/content/gdrive/MyDrive/Colab Notebooks/Final/Data/News/list_ppmi_10.csv\n",
            "0 out of 1\n"
          ]
        },
        {
          "metadata": {
            "tags": null
          },
          "name": "stderr",
          "output_type": "stream",
          "text": [
            "<ipython-input-5-a39c1499620e>:19: FutureWarning: `rcond` parameter will change to the default of machine precision times ``max(M, N)`` where M and N are the input matrix dimensions.\n",
            "To use the future default and silence this warning we advise to pass `rcond=None`, to keep using the old, explicitly pass `rcond=-1`.\n",
            "  Vhat = np.linalg.lstsq(M,A) #rxb\n"
          ]
        },
        {
          "metadata": {
            "tags": null
          },
          "name": "stdout",
          "output_type": "stream",
          "text": [
            "iteration 14, time 11\n",
            "/content/gdrive/MyDrive/Colab Notebooks/Final/Data/News/list_ppmi_11.csv\n",
            "0 out of 1\n"
          ]
        },
        {
          "metadata": {
            "tags": null
          },
          "name": "stderr",
          "output_type": "stream",
          "text": [
            "<ipython-input-5-a39c1499620e>:19: FutureWarning: `rcond` parameter will change to the default of machine precision times ``max(M, N)`` where M and N are the input matrix dimensions.\n",
            "To use the future default and silence this warning we advise to pass `rcond=None`, to keep using the old, explicitly pass `rcond=-1`.\n",
            "  Vhat = np.linalg.lstsq(M,A) #rxb\n"
          ]
        },
        {
          "output_type": "stream",
          "name": "stdout",
          "text": [
            "iteration 14, time 12\n",
            "/content/gdrive/MyDrive/Colab Notebooks/Final/Data/News/list_ppmi_12.csv\n",
            "0 out of 1\n"
          ]
        },
        {
          "output_type": "stream",
          "name": "stderr",
          "text": [
            "<ipython-input-5-a39c1499620e>:19: FutureWarning: `rcond` parameter will change to the default of machine precision times ``max(M, N)`` where M and N are the input matrix dimensions.\n",
            "To use the future default and silence this warning we advise to pass `rcond=None`, to keep using the old, explicitly pass `rcond=-1`.\n",
            "  Vhat = np.linalg.lstsq(M,A) #rxb\n"
          ]
        },
        {
          "output_type": "stream",
          "name": "stdout",
          "text": [
            "iteration 14, time 13\n",
            "/content/gdrive/MyDrive/Colab Notebooks/Final/Data/News/list_ppmi_13.csv\n",
            "0 out of 1\n"
          ]
        },
        {
          "output_type": "stream",
          "name": "stderr",
          "text": [
            "<ipython-input-5-a39c1499620e>:19: FutureWarning: `rcond` parameter will change to the default of machine precision times ``max(M, N)`` where M and N are the input matrix dimensions.\n",
            "To use the future default and silence this warning we advise to pass `rcond=None`, to keep using the old, explicitly pass `rcond=-1`.\n",
            "  Vhat = np.linalg.lstsq(M,A) #rxb\n"
          ]
        },
        {
          "output_type": "stream",
          "name": "stdout",
          "text": [
            "iteration 14, time 14\n",
            "/content/gdrive/MyDrive/Colab Notebooks/Final/Data/News/list_ppmi_14.csv\n",
            "0 out of 1\n"
          ]
        },
        {
          "output_type": "stream",
          "name": "stderr",
          "text": [
            "<ipython-input-5-a39c1499620e>:19: FutureWarning: `rcond` parameter will change to the default of machine precision times ``max(M, N)`` where M and N are the input matrix dimensions.\n",
            "To use the future default and silence this warning we advise to pass `rcond=None`, to keep using the old, explicitly pass `rcond=-1`.\n",
            "  Vhat = np.linalg.lstsq(M,A) #rxb\n"
          ]
        },
        {
          "output_type": "stream",
          "name": "stdout",
          "text": [
            "iteration 14, time 15\n",
            "/content/gdrive/MyDrive/Colab Notebooks/Final/Data/News/list_ppmi_15.csv\n",
            "0 out of 1\n"
          ]
        },
        {
          "output_type": "stream",
          "name": "stderr",
          "text": [
            "<ipython-input-5-a39c1499620e>:19: FutureWarning: `rcond` parameter will change to the default of machine precision times ``max(M, N)`` where M and N are the input matrix dimensions.\n",
            "To use the future default and silence this warning we advise to pass `rcond=None`, to keep using the old, explicitly pass `rcond=-1`.\n",
            "  Vhat = np.linalg.lstsq(M,A) #rxb\n"
          ]
        },
        {
          "output_type": "stream",
          "name": "stdout",
          "text": [
            "iteration 14, time 16\n",
            "/content/gdrive/MyDrive/Colab Notebooks/Final/Data/News/list_ppmi_16.csv\n",
            "0 out of 1\n"
          ]
        },
        {
          "output_type": "stream",
          "name": "stderr",
          "text": [
            "<ipython-input-5-a39c1499620e>:19: FutureWarning: `rcond` parameter will change to the default of machine precision times ``max(M, N)`` where M and N are the input matrix dimensions.\n",
            "To use the future default and silence this warning we advise to pass `rcond=None`, to keep using the old, explicitly pass `rcond=-1`.\n",
            "  Vhat = np.linalg.lstsq(M,A) #rxb\n"
          ]
        },
        {
          "output_type": "stream",
          "name": "stdout",
          "text": [
            "iteration 14, time 17\n",
            "/content/gdrive/MyDrive/Colab Notebooks/Final/Data/News/list_ppmi_17.csv\n",
            "0 out of 1\n"
          ]
        },
        {
          "output_type": "stream",
          "name": "stderr",
          "text": [
            "<ipython-input-5-a39c1499620e>:19: FutureWarning: `rcond` parameter will change to the default of machine precision times ``max(M, N)`` where M and N are the input matrix dimensions.\n",
            "To use the future default and silence this warning we advise to pass `rcond=None`, to keep using the old, explicitly pass `rcond=-1`.\n",
            "  Vhat = np.linalg.lstsq(M,A) #rxb\n"
          ]
        },
        {
          "output_type": "stream",
          "name": "stdout",
          "text": [
            "iteration 14, time 18\n",
            "/content/gdrive/MyDrive/Colab Notebooks/Final/Data/News/list_ppmi_18.csv\n",
            "0 out of 1\n"
          ]
        },
        {
          "output_type": "stream",
          "name": "stderr",
          "text": [
            "<ipython-input-5-a39c1499620e>:19: FutureWarning: `rcond` parameter will change to the default of machine precision times ``max(M, N)`` where M and N are the input matrix dimensions.\n",
            "To use the future default and silence this warning we advise to pass `rcond=None`, to keep using the old, explicitly pass `rcond=-1`.\n",
            "  Vhat = np.linalg.lstsq(M,A) #rxb\n"
          ]
        },
        {
          "output_type": "stream",
          "name": "stdout",
          "text": [
            "iteration 14, time 19\n",
            "/content/gdrive/MyDrive/Colab Notebooks/Final/Data/News/list_ppmi_19.csv\n",
            "0 out of 1\n"
          ]
        },
        {
          "output_type": "stream",
          "name": "stderr",
          "text": [
            "<ipython-input-5-a39c1499620e>:19: FutureWarning: `rcond` parameter will change to the default of machine precision times ``max(M, N)`` where M and N are the input matrix dimensions.\n",
            "To use the future default and silence this warning we advise to pass `rcond=None`, to keep using the old, explicitly pass `rcond=-1`.\n",
            "  Vhat = np.linalg.lstsq(M,A) #rxb\n"
          ]
        },
        {
          "output_type": "stream",
          "name": "stdout",
          "text": [
            "time elapsed =  11182.567760705948\n",
            "Loss 138385945.84326258\n",
            "rank = 50\n",
            "frob  regularizer = 10\n",
            "time  regularizer = 50\n",
            "symmetry regularizer = 50\n",
            "emphasize param   = 1\n",
            "total iterations = 20\n",
            "iteration 15, time 0\n",
            "/content/gdrive/MyDrive/Colab Notebooks/Final/Data/News/list_ppmi_0.csv\n",
            "0 out of 1\n"
          ]
        },
        {
          "output_type": "stream",
          "name": "stderr",
          "text": [
            "<ipython-input-5-a39c1499620e>:19: FutureWarning: `rcond` parameter will change to the default of machine precision times ``max(M, N)`` where M and N are the input matrix dimensions.\n",
            "To use the future default and silence this warning we advise to pass `rcond=None`, to keep using the old, explicitly pass `rcond=-1`.\n",
            "  Vhat = np.linalg.lstsq(M,A) #rxb\n"
          ]
        },
        {
          "output_type": "stream",
          "name": "stdout",
          "text": [
            "iteration 15, time 1\n",
            "/content/gdrive/MyDrive/Colab Notebooks/Final/Data/News/list_ppmi_1.csv\n",
            "0 out of 1\n"
          ]
        },
        {
          "output_type": "stream",
          "name": "stderr",
          "text": [
            "<ipython-input-5-a39c1499620e>:19: FutureWarning: `rcond` parameter will change to the default of machine precision times ``max(M, N)`` where M and N are the input matrix dimensions.\n",
            "To use the future default and silence this warning we advise to pass `rcond=None`, to keep using the old, explicitly pass `rcond=-1`.\n",
            "  Vhat = np.linalg.lstsq(M,A) #rxb\n"
          ]
        },
        {
          "output_type": "stream",
          "name": "stdout",
          "text": [
            "iteration 15, time 2\n",
            "/content/gdrive/MyDrive/Colab Notebooks/Final/Data/News/list_ppmi_2.csv\n",
            "0 out of 1\n"
          ]
        },
        {
          "output_type": "stream",
          "name": "stderr",
          "text": [
            "<ipython-input-5-a39c1499620e>:19: FutureWarning: `rcond` parameter will change to the default of machine precision times ``max(M, N)`` where M and N are the input matrix dimensions.\n",
            "To use the future default and silence this warning we advise to pass `rcond=None`, to keep using the old, explicitly pass `rcond=-1`.\n",
            "  Vhat = np.linalg.lstsq(M,A) #rxb\n"
          ]
        },
        {
          "output_type": "stream",
          "name": "stdout",
          "text": [
            "iteration 15, time 3\n",
            "/content/gdrive/MyDrive/Colab Notebooks/Final/Data/News/list_ppmi_3.csv\n",
            "0 out of 1\n"
          ]
        },
        {
          "output_type": "stream",
          "name": "stderr",
          "text": [
            "<ipython-input-5-a39c1499620e>:19: FutureWarning: `rcond` parameter will change to the default of machine precision times ``max(M, N)`` where M and N are the input matrix dimensions.\n",
            "To use the future default and silence this warning we advise to pass `rcond=None`, to keep using the old, explicitly pass `rcond=-1`.\n",
            "  Vhat = np.linalg.lstsq(M,A) #rxb\n"
          ]
        },
        {
          "output_type": "stream",
          "name": "stdout",
          "text": [
            "iteration 15, time 4\n",
            "/content/gdrive/MyDrive/Colab Notebooks/Final/Data/News/list_ppmi_4.csv\n",
            "0 out of 1\n"
          ]
        },
        {
          "output_type": "stream",
          "name": "stderr",
          "text": [
            "<ipython-input-5-a39c1499620e>:19: FutureWarning: `rcond` parameter will change to the default of machine precision times ``max(M, N)`` where M and N are the input matrix dimensions.\n",
            "To use the future default and silence this warning we advise to pass `rcond=None`, to keep using the old, explicitly pass `rcond=-1`.\n",
            "  Vhat = np.linalg.lstsq(M,A) #rxb\n"
          ]
        },
        {
          "output_type": "stream",
          "name": "stdout",
          "text": [
            "iteration 15, time 5\n",
            "/content/gdrive/MyDrive/Colab Notebooks/Final/Data/News/list_ppmi_5.csv\n",
            "0 out of 1\n"
          ]
        },
        {
          "output_type": "stream",
          "name": "stderr",
          "text": [
            "<ipython-input-5-a39c1499620e>:19: FutureWarning: `rcond` parameter will change to the default of machine precision times ``max(M, N)`` where M and N are the input matrix dimensions.\n",
            "To use the future default and silence this warning we advise to pass `rcond=None`, to keep using the old, explicitly pass `rcond=-1`.\n",
            "  Vhat = np.linalg.lstsq(M,A) #rxb\n"
          ]
        },
        {
          "output_type": "stream",
          "name": "stdout",
          "text": [
            "iteration 15, time 6\n",
            "/content/gdrive/MyDrive/Colab Notebooks/Final/Data/News/list_ppmi_6.csv\n",
            "0 out of 1\n"
          ]
        },
        {
          "output_type": "stream",
          "name": "stderr",
          "text": [
            "<ipython-input-5-a39c1499620e>:19: FutureWarning: `rcond` parameter will change to the default of machine precision times ``max(M, N)`` where M and N are the input matrix dimensions.\n",
            "To use the future default and silence this warning we advise to pass `rcond=None`, to keep using the old, explicitly pass `rcond=-1`.\n",
            "  Vhat = np.linalg.lstsq(M,A) #rxb\n"
          ]
        },
        {
          "output_type": "stream",
          "name": "stdout",
          "text": [
            "iteration 15, time 7\n",
            "/content/gdrive/MyDrive/Colab Notebooks/Final/Data/News/list_ppmi_7.csv\n",
            "0 out of 1\n"
          ]
        },
        {
          "output_type": "stream",
          "name": "stderr",
          "text": [
            "<ipython-input-5-a39c1499620e>:19: FutureWarning: `rcond` parameter will change to the default of machine precision times ``max(M, N)`` where M and N are the input matrix dimensions.\n",
            "To use the future default and silence this warning we advise to pass `rcond=None`, to keep using the old, explicitly pass `rcond=-1`.\n",
            "  Vhat = np.linalg.lstsq(M,A) #rxb\n"
          ]
        },
        {
          "output_type": "stream",
          "name": "stdout",
          "text": [
            "iteration 15, time 8\n",
            "/content/gdrive/MyDrive/Colab Notebooks/Final/Data/News/list_ppmi_8.csv\n",
            "0 out of 1\n"
          ]
        },
        {
          "output_type": "stream",
          "name": "stderr",
          "text": [
            "<ipython-input-5-a39c1499620e>:19: FutureWarning: `rcond` parameter will change to the default of machine precision times ``max(M, N)`` where M and N are the input matrix dimensions.\n",
            "To use the future default and silence this warning we advise to pass `rcond=None`, to keep using the old, explicitly pass `rcond=-1`.\n",
            "  Vhat = np.linalg.lstsq(M,A) #rxb\n"
          ]
        },
        {
          "output_type": "stream",
          "name": "stdout",
          "text": [
            "iteration 15, time 9\n",
            "/content/gdrive/MyDrive/Colab Notebooks/Final/Data/News/list_ppmi_9.csv\n",
            "0 out of 1\n"
          ]
        },
        {
          "output_type": "stream",
          "name": "stderr",
          "text": [
            "<ipython-input-5-a39c1499620e>:19: FutureWarning: `rcond` parameter will change to the default of machine precision times ``max(M, N)`` where M and N are the input matrix dimensions.\n",
            "To use the future default and silence this warning we advise to pass `rcond=None`, to keep using the old, explicitly pass `rcond=-1`.\n",
            "  Vhat = np.linalg.lstsq(M,A) #rxb\n"
          ]
        },
        {
          "output_type": "stream",
          "name": "stdout",
          "text": [
            "iteration 15, time 10\n",
            "/content/gdrive/MyDrive/Colab Notebooks/Final/Data/News/list_ppmi_10.csv\n",
            "0 out of 1\n"
          ]
        },
        {
          "output_type": "stream",
          "name": "stderr",
          "text": [
            "<ipython-input-5-a39c1499620e>:19: FutureWarning: `rcond` parameter will change to the default of machine precision times ``max(M, N)`` where M and N are the input matrix dimensions.\n",
            "To use the future default and silence this warning we advise to pass `rcond=None`, to keep using the old, explicitly pass `rcond=-1`.\n",
            "  Vhat = np.linalg.lstsq(M,A) #rxb\n"
          ]
        },
        {
          "output_type": "stream",
          "name": "stdout",
          "text": [
            "iteration 15, time 11\n",
            "/content/gdrive/MyDrive/Colab Notebooks/Final/Data/News/list_ppmi_11.csv\n",
            "0 out of 1\n"
          ]
        },
        {
          "output_type": "stream",
          "name": "stderr",
          "text": [
            "<ipython-input-5-a39c1499620e>:19: FutureWarning: `rcond` parameter will change to the default of machine precision times ``max(M, N)`` where M and N are the input matrix dimensions.\n",
            "To use the future default and silence this warning we advise to pass `rcond=None`, to keep using the old, explicitly pass `rcond=-1`.\n",
            "  Vhat = np.linalg.lstsq(M,A) #rxb\n"
          ]
        },
        {
          "output_type": "stream",
          "name": "stdout",
          "text": [
            "iteration 15, time 12\n",
            "/content/gdrive/MyDrive/Colab Notebooks/Final/Data/News/list_ppmi_12.csv\n",
            "0 out of 1\n"
          ]
        },
        {
          "output_type": "stream",
          "name": "stderr",
          "text": [
            "<ipython-input-5-a39c1499620e>:19: FutureWarning: `rcond` parameter will change to the default of machine precision times ``max(M, N)`` where M and N are the input matrix dimensions.\n",
            "To use the future default and silence this warning we advise to pass `rcond=None`, to keep using the old, explicitly pass `rcond=-1`.\n",
            "  Vhat = np.linalg.lstsq(M,A) #rxb\n"
          ]
        },
        {
          "output_type": "stream",
          "name": "stdout",
          "text": [
            "iteration 15, time 13\n",
            "/content/gdrive/MyDrive/Colab Notebooks/Final/Data/News/list_ppmi_13.csv\n",
            "0 out of 1\n"
          ]
        },
        {
          "output_type": "stream",
          "name": "stderr",
          "text": [
            "<ipython-input-5-a39c1499620e>:19: FutureWarning: `rcond` parameter will change to the default of machine precision times ``max(M, N)`` where M and N are the input matrix dimensions.\n",
            "To use the future default and silence this warning we advise to pass `rcond=None`, to keep using the old, explicitly pass `rcond=-1`.\n",
            "  Vhat = np.linalg.lstsq(M,A) #rxb\n"
          ]
        },
        {
          "output_type": "stream",
          "name": "stdout",
          "text": [
            "iteration 15, time 14\n",
            "/content/gdrive/MyDrive/Colab Notebooks/Final/Data/News/list_ppmi_14.csv\n",
            "0 out of 1\n"
          ]
        },
        {
          "output_type": "stream",
          "name": "stderr",
          "text": [
            "<ipython-input-5-a39c1499620e>:19: FutureWarning: `rcond` parameter will change to the default of machine precision times ``max(M, N)`` where M and N are the input matrix dimensions.\n",
            "To use the future default and silence this warning we advise to pass `rcond=None`, to keep using the old, explicitly pass `rcond=-1`.\n",
            "  Vhat = np.linalg.lstsq(M,A) #rxb\n"
          ]
        },
        {
          "output_type": "stream",
          "name": "stdout",
          "text": [
            "iteration 15, time 15\n",
            "/content/gdrive/MyDrive/Colab Notebooks/Final/Data/News/list_ppmi_15.csv\n",
            "0 out of 1\n"
          ]
        },
        {
          "output_type": "stream",
          "name": "stderr",
          "text": [
            "<ipython-input-5-a39c1499620e>:19: FutureWarning: `rcond` parameter will change to the default of machine precision times ``max(M, N)`` where M and N are the input matrix dimensions.\n",
            "To use the future default and silence this warning we advise to pass `rcond=None`, to keep using the old, explicitly pass `rcond=-1`.\n",
            "  Vhat = np.linalg.lstsq(M,A) #rxb\n"
          ]
        },
        {
          "output_type": "stream",
          "name": "stdout",
          "text": [
            "iteration 15, time 16\n",
            "/content/gdrive/MyDrive/Colab Notebooks/Final/Data/News/list_ppmi_16.csv\n",
            "0 out of 1\n"
          ]
        },
        {
          "output_type": "stream",
          "name": "stderr",
          "text": [
            "<ipython-input-5-a39c1499620e>:19: FutureWarning: `rcond` parameter will change to the default of machine precision times ``max(M, N)`` where M and N are the input matrix dimensions.\n",
            "To use the future default and silence this warning we advise to pass `rcond=None`, to keep using the old, explicitly pass `rcond=-1`.\n",
            "  Vhat = np.linalg.lstsq(M,A) #rxb\n"
          ]
        },
        {
          "output_type": "stream",
          "name": "stdout",
          "text": [
            "iteration 15, time 17\n",
            "/content/gdrive/MyDrive/Colab Notebooks/Final/Data/News/list_ppmi_17.csv\n",
            "0 out of 1\n"
          ]
        },
        {
          "output_type": "stream",
          "name": "stderr",
          "text": [
            "<ipython-input-5-a39c1499620e>:19: FutureWarning: `rcond` parameter will change to the default of machine precision times ``max(M, N)`` where M and N are the input matrix dimensions.\n",
            "To use the future default and silence this warning we advise to pass `rcond=None`, to keep using the old, explicitly pass `rcond=-1`.\n",
            "  Vhat = np.linalg.lstsq(M,A) #rxb\n"
          ]
        },
        {
          "output_type": "stream",
          "name": "stdout",
          "text": [
            "iteration 15, time 18\n",
            "/content/gdrive/MyDrive/Colab Notebooks/Final/Data/News/list_ppmi_18.csv\n",
            "0 out of 1\n"
          ]
        },
        {
          "output_type": "stream",
          "name": "stderr",
          "text": [
            "<ipython-input-5-a39c1499620e>:19: FutureWarning: `rcond` parameter will change to the default of machine precision times ``max(M, N)`` where M and N are the input matrix dimensions.\n",
            "To use the future default and silence this warning we advise to pass `rcond=None`, to keep using the old, explicitly pass `rcond=-1`.\n",
            "  Vhat = np.linalg.lstsq(M,A) #rxb\n"
          ]
        },
        {
          "output_type": "stream",
          "name": "stdout",
          "text": [
            "iteration 15, time 19\n",
            "/content/gdrive/MyDrive/Colab Notebooks/Final/Data/News/list_ppmi_19.csv\n",
            "0 out of 1\n"
          ]
        },
        {
          "output_type": "stream",
          "name": "stderr",
          "text": [
            "<ipython-input-5-a39c1499620e>:19: FutureWarning: `rcond` parameter will change to the default of machine precision times ``max(M, N)`` where M and N are the input matrix dimensions.\n",
            "To use the future default and silence this warning we advise to pass `rcond=None`, to keep using the old, explicitly pass `rcond=-1`.\n",
            "  Vhat = np.linalg.lstsq(M,A) #rxb\n"
          ]
        },
        {
          "output_type": "stream",
          "name": "stdout",
          "text": [
            "time elapsed =  11991.558547258377\n",
            "Loss 138409655.81294093\n",
            "rank = 50\n",
            "frob  regularizer = 10\n",
            "time  regularizer = 50\n",
            "symmetry regularizer = 50\n",
            "emphasize param   = 1\n",
            "total iterations = 20\n",
            "iteration 16, time 0\n",
            "/content/gdrive/MyDrive/Colab Notebooks/Final/Data/News/list_ppmi_0.csv\n",
            "0 out of 1\n"
          ]
        },
        {
          "output_type": "stream",
          "name": "stderr",
          "text": [
            "<ipython-input-5-a39c1499620e>:19: FutureWarning: `rcond` parameter will change to the default of machine precision times ``max(M, N)`` where M and N are the input matrix dimensions.\n",
            "To use the future default and silence this warning we advise to pass `rcond=None`, to keep using the old, explicitly pass `rcond=-1`.\n",
            "  Vhat = np.linalg.lstsq(M,A) #rxb\n"
          ]
        },
        {
          "output_type": "stream",
          "name": "stdout",
          "text": [
            "iteration 16, time 1\n",
            "/content/gdrive/MyDrive/Colab Notebooks/Final/Data/News/list_ppmi_1.csv\n",
            "0 out of 1\n"
          ]
        },
        {
          "output_type": "stream",
          "name": "stderr",
          "text": [
            "<ipython-input-5-a39c1499620e>:19: FutureWarning: `rcond` parameter will change to the default of machine precision times ``max(M, N)`` where M and N are the input matrix dimensions.\n",
            "To use the future default and silence this warning we advise to pass `rcond=None`, to keep using the old, explicitly pass `rcond=-1`.\n",
            "  Vhat = np.linalg.lstsq(M,A) #rxb\n"
          ]
        },
        {
          "output_type": "stream",
          "name": "stdout",
          "text": [
            "iteration 16, time 2\n",
            "/content/gdrive/MyDrive/Colab Notebooks/Final/Data/News/list_ppmi_2.csv\n",
            "0 out of 1\n"
          ]
        },
        {
          "output_type": "stream",
          "name": "stderr",
          "text": [
            "<ipython-input-5-a39c1499620e>:19: FutureWarning: `rcond` parameter will change to the default of machine precision times ``max(M, N)`` where M and N are the input matrix dimensions.\n",
            "To use the future default and silence this warning we advise to pass `rcond=None`, to keep using the old, explicitly pass `rcond=-1`.\n",
            "  Vhat = np.linalg.lstsq(M,A) #rxb\n"
          ]
        },
        {
          "output_type": "stream",
          "name": "stdout",
          "text": [
            "iteration 16, time 3\n",
            "/content/gdrive/MyDrive/Colab Notebooks/Final/Data/News/list_ppmi_3.csv\n",
            "0 out of 1\n"
          ]
        },
        {
          "output_type": "stream",
          "name": "stderr",
          "text": [
            "<ipython-input-5-a39c1499620e>:19: FutureWarning: `rcond` parameter will change to the default of machine precision times ``max(M, N)`` where M and N are the input matrix dimensions.\n",
            "To use the future default and silence this warning we advise to pass `rcond=None`, to keep using the old, explicitly pass `rcond=-1`.\n",
            "  Vhat = np.linalg.lstsq(M,A) #rxb\n"
          ]
        },
        {
          "output_type": "stream",
          "name": "stdout",
          "text": [
            "iteration 16, time 4\n",
            "/content/gdrive/MyDrive/Colab Notebooks/Final/Data/News/list_ppmi_4.csv\n",
            "0 out of 1\n"
          ]
        },
        {
          "output_type": "stream",
          "name": "stderr",
          "text": [
            "<ipython-input-5-a39c1499620e>:19: FutureWarning: `rcond` parameter will change to the default of machine precision times ``max(M, N)`` where M and N are the input matrix dimensions.\n",
            "To use the future default and silence this warning we advise to pass `rcond=None`, to keep using the old, explicitly pass `rcond=-1`.\n",
            "  Vhat = np.linalg.lstsq(M,A) #rxb\n"
          ]
        },
        {
          "output_type": "stream",
          "name": "stdout",
          "text": [
            "iteration 16, time 5\n",
            "/content/gdrive/MyDrive/Colab Notebooks/Final/Data/News/list_ppmi_5.csv\n",
            "0 out of 1\n"
          ]
        },
        {
          "output_type": "stream",
          "name": "stderr",
          "text": [
            "<ipython-input-5-a39c1499620e>:19: FutureWarning: `rcond` parameter will change to the default of machine precision times ``max(M, N)`` where M and N are the input matrix dimensions.\n",
            "To use the future default and silence this warning we advise to pass `rcond=None`, to keep using the old, explicitly pass `rcond=-1`.\n",
            "  Vhat = np.linalg.lstsq(M,A) #rxb\n"
          ]
        },
        {
          "output_type": "stream",
          "name": "stdout",
          "text": [
            "iteration 16, time 6\n",
            "/content/gdrive/MyDrive/Colab Notebooks/Final/Data/News/list_ppmi_6.csv\n",
            "0 out of 1\n"
          ]
        },
        {
          "output_type": "stream",
          "name": "stderr",
          "text": [
            "<ipython-input-5-a39c1499620e>:19: FutureWarning: `rcond` parameter will change to the default of machine precision times ``max(M, N)`` where M and N are the input matrix dimensions.\n",
            "To use the future default and silence this warning we advise to pass `rcond=None`, to keep using the old, explicitly pass `rcond=-1`.\n",
            "  Vhat = np.linalg.lstsq(M,A) #rxb\n"
          ]
        },
        {
          "output_type": "stream",
          "name": "stdout",
          "text": [
            "iteration 16, time 7\n",
            "/content/gdrive/MyDrive/Colab Notebooks/Final/Data/News/list_ppmi_7.csv\n",
            "0 out of 1\n"
          ]
        },
        {
          "output_type": "stream",
          "name": "stderr",
          "text": [
            "<ipython-input-5-a39c1499620e>:19: FutureWarning: `rcond` parameter will change to the default of machine precision times ``max(M, N)`` where M and N are the input matrix dimensions.\n",
            "To use the future default and silence this warning we advise to pass `rcond=None`, to keep using the old, explicitly pass `rcond=-1`.\n",
            "  Vhat = np.linalg.lstsq(M,A) #rxb\n"
          ]
        },
        {
          "output_type": "stream",
          "name": "stdout",
          "text": [
            "iteration 16, time 8\n",
            "/content/gdrive/MyDrive/Colab Notebooks/Final/Data/News/list_ppmi_8.csv\n",
            "0 out of 1\n"
          ]
        },
        {
          "output_type": "stream",
          "name": "stderr",
          "text": [
            "<ipython-input-5-a39c1499620e>:19: FutureWarning: `rcond` parameter will change to the default of machine precision times ``max(M, N)`` where M and N are the input matrix dimensions.\n",
            "To use the future default and silence this warning we advise to pass `rcond=None`, to keep using the old, explicitly pass `rcond=-1`.\n",
            "  Vhat = np.linalg.lstsq(M,A) #rxb\n"
          ]
        },
        {
          "output_type": "stream",
          "name": "stdout",
          "text": [
            "iteration 16, time 9\n",
            "/content/gdrive/MyDrive/Colab Notebooks/Final/Data/News/list_ppmi_9.csv\n",
            "0 out of 1\n"
          ]
        },
        {
          "output_type": "stream",
          "name": "stderr",
          "text": [
            "<ipython-input-5-a39c1499620e>:19: FutureWarning: `rcond` parameter will change to the default of machine precision times ``max(M, N)`` where M and N are the input matrix dimensions.\n",
            "To use the future default and silence this warning we advise to pass `rcond=None`, to keep using the old, explicitly pass `rcond=-1`.\n",
            "  Vhat = np.linalg.lstsq(M,A) #rxb\n"
          ]
        },
        {
          "output_type": "stream",
          "name": "stdout",
          "text": [
            "iteration 16, time 10\n",
            "/content/gdrive/MyDrive/Colab Notebooks/Final/Data/News/list_ppmi_10.csv\n",
            "0 out of 1\n"
          ]
        },
        {
          "output_type": "stream",
          "name": "stderr",
          "text": [
            "<ipython-input-5-a39c1499620e>:19: FutureWarning: `rcond` parameter will change to the default of machine precision times ``max(M, N)`` where M and N are the input matrix dimensions.\n",
            "To use the future default and silence this warning we advise to pass `rcond=None`, to keep using the old, explicitly pass `rcond=-1`.\n",
            "  Vhat = np.linalg.lstsq(M,A) #rxb\n"
          ]
        },
        {
          "output_type": "stream",
          "name": "stdout",
          "text": [
            "iteration 16, time 11\n",
            "/content/gdrive/MyDrive/Colab Notebooks/Final/Data/News/list_ppmi_11.csv\n",
            "0 out of 1\n"
          ]
        },
        {
          "output_type": "stream",
          "name": "stderr",
          "text": [
            "<ipython-input-5-a39c1499620e>:19: FutureWarning: `rcond` parameter will change to the default of machine precision times ``max(M, N)`` where M and N are the input matrix dimensions.\n",
            "To use the future default and silence this warning we advise to pass `rcond=None`, to keep using the old, explicitly pass `rcond=-1`.\n",
            "  Vhat = np.linalg.lstsq(M,A) #rxb\n"
          ]
        },
        {
          "output_type": "stream",
          "name": "stdout",
          "text": [
            "iteration 16, time 12\n",
            "/content/gdrive/MyDrive/Colab Notebooks/Final/Data/News/list_ppmi_12.csv\n",
            "0 out of 1\n"
          ]
        },
        {
          "output_type": "stream",
          "name": "stderr",
          "text": [
            "<ipython-input-5-a39c1499620e>:19: FutureWarning: `rcond` parameter will change to the default of machine precision times ``max(M, N)`` where M and N are the input matrix dimensions.\n",
            "To use the future default and silence this warning we advise to pass `rcond=None`, to keep using the old, explicitly pass `rcond=-1`.\n",
            "  Vhat = np.linalg.lstsq(M,A) #rxb\n"
          ]
        },
        {
          "output_type": "stream",
          "name": "stdout",
          "text": [
            "iteration 16, time 13\n",
            "/content/gdrive/MyDrive/Colab Notebooks/Final/Data/News/list_ppmi_13.csv\n",
            "0 out of 1\n"
          ]
        },
        {
          "output_type": "stream",
          "name": "stderr",
          "text": [
            "<ipython-input-5-a39c1499620e>:19: FutureWarning: `rcond` parameter will change to the default of machine precision times ``max(M, N)`` where M and N are the input matrix dimensions.\n",
            "To use the future default and silence this warning we advise to pass `rcond=None`, to keep using the old, explicitly pass `rcond=-1`.\n",
            "  Vhat = np.linalg.lstsq(M,A) #rxb\n"
          ]
        },
        {
          "output_type": "stream",
          "name": "stdout",
          "text": [
            "iteration 16, time 14\n",
            "/content/gdrive/MyDrive/Colab Notebooks/Final/Data/News/list_ppmi_14.csv\n",
            "0 out of 1\n"
          ]
        },
        {
          "output_type": "stream",
          "name": "stderr",
          "text": [
            "<ipython-input-5-a39c1499620e>:19: FutureWarning: `rcond` parameter will change to the default of machine precision times ``max(M, N)`` where M and N are the input matrix dimensions.\n",
            "To use the future default and silence this warning we advise to pass `rcond=None`, to keep using the old, explicitly pass `rcond=-1`.\n",
            "  Vhat = np.linalg.lstsq(M,A) #rxb\n"
          ]
        },
        {
          "output_type": "stream",
          "name": "stdout",
          "text": [
            "iteration 16, time 15\n",
            "/content/gdrive/MyDrive/Colab Notebooks/Final/Data/News/list_ppmi_15.csv\n",
            "0 out of 1\n"
          ]
        },
        {
          "output_type": "stream",
          "name": "stderr",
          "text": [
            "<ipython-input-5-a39c1499620e>:19: FutureWarning: `rcond` parameter will change to the default of machine precision times ``max(M, N)`` where M and N are the input matrix dimensions.\n",
            "To use the future default and silence this warning we advise to pass `rcond=None`, to keep using the old, explicitly pass `rcond=-1`.\n",
            "  Vhat = np.linalg.lstsq(M,A) #rxb\n"
          ]
        },
        {
          "output_type": "stream",
          "name": "stdout",
          "text": [
            "iteration 16, time 16\n",
            "/content/gdrive/MyDrive/Colab Notebooks/Final/Data/News/list_ppmi_16.csv\n",
            "0 out of 1\n"
          ]
        },
        {
          "output_type": "stream",
          "name": "stderr",
          "text": [
            "<ipython-input-5-a39c1499620e>:19: FutureWarning: `rcond` parameter will change to the default of machine precision times ``max(M, N)`` where M and N are the input matrix dimensions.\n",
            "To use the future default and silence this warning we advise to pass `rcond=None`, to keep using the old, explicitly pass `rcond=-1`.\n",
            "  Vhat = np.linalg.lstsq(M,A) #rxb\n"
          ]
        },
        {
          "output_type": "stream",
          "name": "stdout",
          "text": [
            "iteration 16, time 17\n",
            "/content/gdrive/MyDrive/Colab Notebooks/Final/Data/News/list_ppmi_17.csv\n",
            "0 out of 1\n"
          ]
        },
        {
          "output_type": "stream",
          "name": "stderr",
          "text": [
            "<ipython-input-5-a39c1499620e>:19: FutureWarning: `rcond` parameter will change to the default of machine precision times ``max(M, N)`` where M and N are the input matrix dimensions.\n",
            "To use the future default and silence this warning we advise to pass `rcond=None`, to keep using the old, explicitly pass `rcond=-1`.\n",
            "  Vhat = np.linalg.lstsq(M,A) #rxb\n"
          ]
        },
        {
          "output_type": "stream",
          "name": "stdout",
          "text": [
            "iteration 16, time 18\n",
            "/content/gdrive/MyDrive/Colab Notebooks/Final/Data/News/list_ppmi_18.csv\n",
            "0 out of 1\n"
          ]
        },
        {
          "output_type": "stream",
          "name": "stderr",
          "text": [
            "<ipython-input-5-a39c1499620e>:19: FutureWarning: `rcond` parameter will change to the default of machine precision times ``max(M, N)`` where M and N are the input matrix dimensions.\n",
            "To use the future default and silence this warning we advise to pass `rcond=None`, to keep using the old, explicitly pass `rcond=-1`.\n",
            "  Vhat = np.linalg.lstsq(M,A) #rxb\n"
          ]
        },
        {
          "output_type": "stream",
          "name": "stdout",
          "text": [
            "iteration 16, time 19\n",
            "/content/gdrive/MyDrive/Colab Notebooks/Final/Data/News/list_ppmi_19.csv\n",
            "0 out of 1\n"
          ]
        },
        {
          "output_type": "stream",
          "name": "stderr",
          "text": [
            "<ipython-input-5-a39c1499620e>:19: FutureWarning: `rcond` parameter will change to the default of machine precision times ``max(M, N)`` where M and N are the input matrix dimensions.\n",
            "To use the future default and silence this warning we advise to pass `rcond=None`, to keep using the old, explicitly pass `rcond=-1`.\n",
            "  Vhat = np.linalg.lstsq(M,A) #rxb\n"
          ]
        },
        {
          "output_type": "stream",
          "name": "stdout",
          "text": [
            "time elapsed =  12804.317681789398\n",
            "Loss 138424942.26857302\n",
            "rank = 50\n",
            "frob  regularizer = 10\n",
            "time  regularizer = 50\n",
            "symmetry regularizer = 50\n",
            "emphasize param   = 1\n",
            "total iterations = 20\n",
            "iteration 17, time 0\n",
            "/content/gdrive/MyDrive/Colab Notebooks/Final/Data/News/list_ppmi_0.csv\n",
            "0 out of 1\n"
          ]
        },
        {
          "output_type": "stream",
          "name": "stderr",
          "text": [
            "<ipython-input-5-a39c1499620e>:19: FutureWarning: `rcond` parameter will change to the default of machine precision times ``max(M, N)`` where M and N are the input matrix dimensions.\n",
            "To use the future default and silence this warning we advise to pass `rcond=None`, to keep using the old, explicitly pass `rcond=-1`.\n",
            "  Vhat = np.linalg.lstsq(M,A) #rxb\n"
          ]
        },
        {
          "output_type": "stream",
          "name": "stdout",
          "text": [
            "iteration 17, time 1\n",
            "/content/gdrive/MyDrive/Colab Notebooks/Final/Data/News/list_ppmi_1.csv\n",
            "0 out of 1\n"
          ]
        },
        {
          "output_type": "stream",
          "name": "stderr",
          "text": [
            "<ipython-input-5-a39c1499620e>:19: FutureWarning: `rcond` parameter will change to the default of machine precision times ``max(M, N)`` where M and N are the input matrix dimensions.\n",
            "To use the future default and silence this warning we advise to pass `rcond=None`, to keep using the old, explicitly pass `rcond=-1`.\n",
            "  Vhat = np.linalg.lstsq(M,A) #rxb\n"
          ]
        },
        {
          "output_type": "stream",
          "name": "stdout",
          "text": [
            "iteration 17, time 2\n",
            "/content/gdrive/MyDrive/Colab Notebooks/Final/Data/News/list_ppmi_2.csv\n",
            "0 out of 1\n"
          ]
        },
        {
          "output_type": "stream",
          "name": "stderr",
          "text": [
            "<ipython-input-5-a39c1499620e>:19: FutureWarning: `rcond` parameter will change to the default of machine precision times ``max(M, N)`` where M and N are the input matrix dimensions.\n",
            "To use the future default and silence this warning we advise to pass `rcond=None`, to keep using the old, explicitly pass `rcond=-1`.\n",
            "  Vhat = np.linalg.lstsq(M,A) #rxb\n"
          ]
        },
        {
          "output_type": "stream",
          "name": "stdout",
          "text": [
            "iteration 17, time 3\n",
            "/content/gdrive/MyDrive/Colab Notebooks/Final/Data/News/list_ppmi_3.csv\n",
            "0 out of 1\n"
          ]
        },
        {
          "output_type": "stream",
          "name": "stderr",
          "text": [
            "<ipython-input-5-a39c1499620e>:19: FutureWarning: `rcond` parameter will change to the default of machine precision times ``max(M, N)`` where M and N are the input matrix dimensions.\n",
            "To use the future default and silence this warning we advise to pass `rcond=None`, to keep using the old, explicitly pass `rcond=-1`.\n",
            "  Vhat = np.linalg.lstsq(M,A) #rxb\n"
          ]
        },
        {
          "output_type": "stream",
          "name": "stdout",
          "text": [
            "iteration 17, time 4\n",
            "/content/gdrive/MyDrive/Colab Notebooks/Final/Data/News/list_ppmi_4.csv\n",
            "0 out of 1\n"
          ]
        },
        {
          "output_type": "stream",
          "name": "stderr",
          "text": [
            "<ipython-input-5-a39c1499620e>:19: FutureWarning: `rcond` parameter will change to the default of machine precision times ``max(M, N)`` where M and N are the input matrix dimensions.\n",
            "To use the future default and silence this warning we advise to pass `rcond=None`, to keep using the old, explicitly pass `rcond=-1`.\n",
            "  Vhat = np.linalg.lstsq(M,A) #rxb\n"
          ]
        },
        {
          "output_type": "stream",
          "name": "stdout",
          "text": [
            "iteration 17, time 5\n",
            "/content/gdrive/MyDrive/Colab Notebooks/Final/Data/News/list_ppmi_5.csv\n",
            "0 out of 1\n"
          ]
        },
        {
          "output_type": "stream",
          "name": "stderr",
          "text": [
            "<ipython-input-5-a39c1499620e>:19: FutureWarning: `rcond` parameter will change to the default of machine precision times ``max(M, N)`` where M and N are the input matrix dimensions.\n",
            "To use the future default and silence this warning we advise to pass `rcond=None`, to keep using the old, explicitly pass `rcond=-1`.\n",
            "  Vhat = np.linalg.lstsq(M,A) #rxb\n"
          ]
        },
        {
          "output_type": "stream",
          "name": "stdout",
          "text": [
            "iteration 17, time 6\n",
            "/content/gdrive/MyDrive/Colab Notebooks/Final/Data/News/list_ppmi_6.csv\n",
            "0 out of 1\n"
          ]
        },
        {
          "output_type": "stream",
          "name": "stderr",
          "text": [
            "<ipython-input-5-a39c1499620e>:19: FutureWarning: `rcond` parameter will change to the default of machine precision times ``max(M, N)`` where M and N are the input matrix dimensions.\n",
            "To use the future default and silence this warning we advise to pass `rcond=None`, to keep using the old, explicitly pass `rcond=-1`.\n",
            "  Vhat = np.linalg.lstsq(M,A) #rxb\n"
          ]
        },
        {
          "output_type": "stream",
          "name": "stdout",
          "text": [
            "iteration 17, time 7\n",
            "/content/gdrive/MyDrive/Colab Notebooks/Final/Data/News/list_ppmi_7.csv\n",
            "0 out of 1\n"
          ]
        },
        {
          "output_type": "stream",
          "name": "stderr",
          "text": [
            "<ipython-input-5-a39c1499620e>:19: FutureWarning: `rcond` parameter will change to the default of machine precision times ``max(M, N)`` where M and N are the input matrix dimensions.\n",
            "To use the future default and silence this warning we advise to pass `rcond=None`, to keep using the old, explicitly pass `rcond=-1`.\n",
            "  Vhat = np.linalg.lstsq(M,A) #rxb\n"
          ]
        },
        {
          "output_type": "stream",
          "name": "stdout",
          "text": [
            "iteration 17, time 8\n",
            "/content/gdrive/MyDrive/Colab Notebooks/Final/Data/News/list_ppmi_8.csv\n",
            "0 out of 1\n"
          ]
        },
        {
          "output_type": "stream",
          "name": "stderr",
          "text": [
            "<ipython-input-5-a39c1499620e>:19: FutureWarning: `rcond` parameter will change to the default of machine precision times ``max(M, N)`` where M and N are the input matrix dimensions.\n",
            "To use the future default and silence this warning we advise to pass `rcond=None`, to keep using the old, explicitly pass `rcond=-1`.\n",
            "  Vhat = np.linalg.lstsq(M,A) #rxb\n"
          ]
        },
        {
          "output_type": "stream",
          "name": "stdout",
          "text": [
            "iteration 17, time 9\n",
            "/content/gdrive/MyDrive/Colab Notebooks/Final/Data/News/list_ppmi_9.csv\n",
            "0 out of 1\n"
          ]
        },
        {
          "output_type": "stream",
          "name": "stderr",
          "text": [
            "<ipython-input-5-a39c1499620e>:19: FutureWarning: `rcond` parameter will change to the default of machine precision times ``max(M, N)`` where M and N are the input matrix dimensions.\n",
            "To use the future default and silence this warning we advise to pass `rcond=None`, to keep using the old, explicitly pass `rcond=-1`.\n",
            "  Vhat = np.linalg.lstsq(M,A) #rxb\n"
          ]
        },
        {
          "output_type": "stream",
          "name": "stdout",
          "text": [
            "iteration 17, time 10\n",
            "/content/gdrive/MyDrive/Colab Notebooks/Final/Data/News/list_ppmi_10.csv\n",
            "0 out of 1\n"
          ]
        },
        {
          "output_type": "stream",
          "name": "stderr",
          "text": [
            "<ipython-input-5-a39c1499620e>:19: FutureWarning: `rcond` parameter will change to the default of machine precision times ``max(M, N)`` where M and N are the input matrix dimensions.\n",
            "To use the future default and silence this warning we advise to pass `rcond=None`, to keep using the old, explicitly pass `rcond=-1`.\n",
            "  Vhat = np.linalg.lstsq(M,A) #rxb\n"
          ]
        },
        {
          "output_type": "stream",
          "name": "stdout",
          "text": [
            "iteration 17, time 11\n",
            "/content/gdrive/MyDrive/Colab Notebooks/Final/Data/News/list_ppmi_11.csv\n",
            "0 out of 1\n"
          ]
        },
        {
          "output_type": "stream",
          "name": "stderr",
          "text": [
            "<ipython-input-5-a39c1499620e>:19: FutureWarning: `rcond` parameter will change to the default of machine precision times ``max(M, N)`` where M and N are the input matrix dimensions.\n",
            "To use the future default and silence this warning we advise to pass `rcond=None`, to keep using the old, explicitly pass `rcond=-1`.\n",
            "  Vhat = np.linalg.lstsq(M,A) #rxb\n"
          ]
        },
        {
          "output_type": "stream",
          "name": "stdout",
          "text": [
            "iteration 17, time 12\n",
            "/content/gdrive/MyDrive/Colab Notebooks/Final/Data/News/list_ppmi_12.csv\n",
            "0 out of 1\n"
          ]
        },
        {
          "output_type": "stream",
          "name": "stderr",
          "text": [
            "<ipython-input-5-a39c1499620e>:19: FutureWarning: `rcond` parameter will change to the default of machine precision times ``max(M, N)`` where M and N are the input matrix dimensions.\n",
            "To use the future default and silence this warning we advise to pass `rcond=None`, to keep using the old, explicitly pass `rcond=-1`.\n",
            "  Vhat = np.linalg.lstsq(M,A) #rxb\n"
          ]
        },
        {
          "output_type": "stream",
          "name": "stdout",
          "text": [
            "iteration 17, time 13\n",
            "/content/gdrive/MyDrive/Colab Notebooks/Final/Data/News/list_ppmi_13.csv\n",
            "0 out of 1\n"
          ]
        },
        {
          "output_type": "stream",
          "name": "stderr",
          "text": [
            "<ipython-input-5-a39c1499620e>:19: FutureWarning: `rcond` parameter will change to the default of machine precision times ``max(M, N)`` where M and N are the input matrix dimensions.\n",
            "To use the future default and silence this warning we advise to pass `rcond=None`, to keep using the old, explicitly pass `rcond=-1`.\n",
            "  Vhat = np.linalg.lstsq(M,A) #rxb\n"
          ]
        },
        {
          "output_type": "stream",
          "name": "stdout",
          "text": [
            "iteration 17, time 14\n",
            "/content/gdrive/MyDrive/Colab Notebooks/Final/Data/News/list_ppmi_14.csv\n",
            "0 out of 1\n"
          ]
        },
        {
          "output_type": "stream",
          "name": "stderr",
          "text": [
            "<ipython-input-5-a39c1499620e>:19: FutureWarning: `rcond` parameter will change to the default of machine precision times ``max(M, N)`` where M and N are the input matrix dimensions.\n",
            "To use the future default and silence this warning we advise to pass `rcond=None`, to keep using the old, explicitly pass `rcond=-1`.\n",
            "  Vhat = np.linalg.lstsq(M,A) #rxb\n"
          ]
        },
        {
          "output_type": "stream",
          "name": "stdout",
          "text": [
            "iteration 17, time 15\n",
            "/content/gdrive/MyDrive/Colab Notebooks/Final/Data/News/list_ppmi_15.csv\n",
            "0 out of 1\n"
          ]
        },
        {
          "output_type": "stream",
          "name": "stderr",
          "text": [
            "<ipython-input-5-a39c1499620e>:19: FutureWarning: `rcond` parameter will change to the default of machine precision times ``max(M, N)`` where M and N are the input matrix dimensions.\n",
            "To use the future default and silence this warning we advise to pass `rcond=None`, to keep using the old, explicitly pass `rcond=-1`.\n",
            "  Vhat = np.linalg.lstsq(M,A) #rxb\n"
          ]
        },
        {
          "output_type": "stream",
          "name": "stdout",
          "text": [
            "iteration 17, time 16\n",
            "/content/gdrive/MyDrive/Colab Notebooks/Final/Data/News/list_ppmi_16.csv\n",
            "0 out of 1\n"
          ]
        },
        {
          "output_type": "stream",
          "name": "stderr",
          "text": [
            "<ipython-input-5-a39c1499620e>:19: FutureWarning: `rcond` parameter will change to the default of machine precision times ``max(M, N)`` where M and N are the input matrix dimensions.\n",
            "To use the future default and silence this warning we advise to pass `rcond=None`, to keep using the old, explicitly pass `rcond=-1`.\n",
            "  Vhat = np.linalg.lstsq(M,A) #rxb\n"
          ]
        },
        {
          "output_type": "stream",
          "name": "stdout",
          "text": [
            "iteration 17, time 17\n",
            "/content/gdrive/MyDrive/Colab Notebooks/Final/Data/News/list_ppmi_17.csv\n",
            "0 out of 1\n"
          ]
        },
        {
          "output_type": "stream",
          "name": "stderr",
          "text": [
            "<ipython-input-5-a39c1499620e>:19: FutureWarning: `rcond` parameter will change to the default of machine precision times ``max(M, N)`` where M and N are the input matrix dimensions.\n",
            "To use the future default and silence this warning we advise to pass `rcond=None`, to keep using the old, explicitly pass `rcond=-1`.\n",
            "  Vhat = np.linalg.lstsq(M,A) #rxb\n"
          ]
        },
        {
          "output_type": "stream",
          "name": "stdout",
          "text": [
            "iteration 17, time 18\n",
            "/content/gdrive/MyDrive/Colab Notebooks/Final/Data/News/list_ppmi_18.csv\n",
            "0 out of 1\n"
          ]
        },
        {
          "output_type": "stream",
          "name": "stderr",
          "text": [
            "<ipython-input-5-a39c1499620e>:19: FutureWarning: `rcond` parameter will change to the default of machine precision times ``max(M, N)`` where M and N are the input matrix dimensions.\n",
            "To use the future default and silence this warning we advise to pass `rcond=None`, to keep using the old, explicitly pass `rcond=-1`.\n",
            "  Vhat = np.linalg.lstsq(M,A) #rxb\n"
          ]
        },
        {
          "output_type": "stream",
          "name": "stdout",
          "text": [
            "iteration 17, time 19\n",
            "/content/gdrive/MyDrive/Colab Notebooks/Final/Data/News/list_ppmi_19.csv\n",
            "0 out of 1\n"
          ]
        },
        {
          "output_type": "stream",
          "name": "stderr",
          "text": [
            "<ipython-input-5-a39c1499620e>:19: FutureWarning: `rcond` parameter will change to the default of machine precision times ``max(M, N)`` where M and N are the input matrix dimensions.\n",
            "To use the future default and silence this warning we advise to pass `rcond=None`, to keep using the old, explicitly pass `rcond=-1`.\n",
            "  Vhat = np.linalg.lstsq(M,A) #rxb\n"
          ]
        },
        {
          "output_type": "stream",
          "name": "stdout",
          "text": [
            "time elapsed =  13608.743327140808\n",
            "Loss 138426125.88325968\n",
            "rank = 50\n",
            "frob  regularizer = 10\n",
            "time  regularizer = 50\n",
            "symmetry regularizer = 50\n",
            "emphasize param   = 1\n",
            "total iterations = 20\n",
            "iteration 18, time 0\n",
            "/content/gdrive/MyDrive/Colab Notebooks/Final/Data/News/list_ppmi_0.csv\n",
            "0 out of 1\n"
          ]
        },
        {
          "output_type": "stream",
          "name": "stderr",
          "text": [
            "<ipython-input-5-a39c1499620e>:19: FutureWarning: `rcond` parameter will change to the default of machine precision times ``max(M, N)`` where M and N are the input matrix dimensions.\n",
            "To use the future default and silence this warning we advise to pass `rcond=None`, to keep using the old, explicitly pass `rcond=-1`.\n",
            "  Vhat = np.linalg.lstsq(M,A) #rxb\n"
          ]
        },
        {
          "output_type": "stream",
          "name": "stdout",
          "text": [
            "iteration 18, time 1\n",
            "/content/gdrive/MyDrive/Colab Notebooks/Final/Data/News/list_ppmi_1.csv\n",
            "0 out of 1\n"
          ]
        },
        {
          "output_type": "stream",
          "name": "stderr",
          "text": [
            "<ipython-input-5-a39c1499620e>:19: FutureWarning: `rcond` parameter will change to the default of machine precision times ``max(M, N)`` where M and N are the input matrix dimensions.\n",
            "To use the future default and silence this warning we advise to pass `rcond=None`, to keep using the old, explicitly pass `rcond=-1`.\n",
            "  Vhat = np.linalg.lstsq(M,A) #rxb\n"
          ]
        },
        {
          "output_type": "stream",
          "name": "stdout",
          "text": [
            "iteration 18, time 2\n",
            "/content/gdrive/MyDrive/Colab Notebooks/Final/Data/News/list_ppmi_2.csv\n",
            "0 out of 1\n"
          ]
        },
        {
          "output_type": "stream",
          "name": "stderr",
          "text": [
            "<ipython-input-5-a39c1499620e>:19: FutureWarning: `rcond` parameter will change to the default of machine precision times ``max(M, N)`` where M and N are the input matrix dimensions.\n",
            "To use the future default and silence this warning we advise to pass `rcond=None`, to keep using the old, explicitly pass `rcond=-1`.\n",
            "  Vhat = np.linalg.lstsq(M,A) #rxb\n"
          ]
        },
        {
          "output_type": "stream",
          "name": "stdout",
          "text": [
            "iteration 18, time 3\n",
            "/content/gdrive/MyDrive/Colab Notebooks/Final/Data/News/list_ppmi_3.csv\n",
            "0 out of 1\n"
          ]
        },
        {
          "output_type": "stream",
          "name": "stderr",
          "text": [
            "<ipython-input-5-a39c1499620e>:19: FutureWarning: `rcond` parameter will change to the default of machine precision times ``max(M, N)`` where M and N are the input matrix dimensions.\n",
            "To use the future default and silence this warning we advise to pass `rcond=None`, to keep using the old, explicitly pass `rcond=-1`.\n",
            "  Vhat = np.linalg.lstsq(M,A) #rxb\n"
          ]
        },
        {
          "output_type": "stream",
          "name": "stdout",
          "text": [
            "iteration 18, time 4\n",
            "/content/gdrive/MyDrive/Colab Notebooks/Final/Data/News/list_ppmi_4.csv\n",
            "0 out of 1\n"
          ]
        },
        {
          "output_type": "stream",
          "name": "stderr",
          "text": [
            "<ipython-input-5-a39c1499620e>:19: FutureWarning: `rcond` parameter will change to the default of machine precision times ``max(M, N)`` where M and N are the input matrix dimensions.\n",
            "To use the future default and silence this warning we advise to pass `rcond=None`, to keep using the old, explicitly pass `rcond=-1`.\n",
            "  Vhat = np.linalg.lstsq(M,A) #rxb\n"
          ]
        },
        {
          "output_type": "stream",
          "name": "stdout",
          "text": [
            "iteration 18, time 5\n",
            "/content/gdrive/MyDrive/Colab Notebooks/Final/Data/News/list_ppmi_5.csv\n",
            "0 out of 1\n"
          ]
        },
        {
          "output_type": "stream",
          "name": "stderr",
          "text": [
            "<ipython-input-5-a39c1499620e>:19: FutureWarning: `rcond` parameter will change to the default of machine precision times ``max(M, N)`` where M and N are the input matrix dimensions.\n",
            "To use the future default and silence this warning we advise to pass `rcond=None`, to keep using the old, explicitly pass `rcond=-1`.\n",
            "  Vhat = np.linalg.lstsq(M,A) #rxb\n"
          ]
        },
        {
          "output_type": "stream",
          "name": "stdout",
          "text": [
            "iteration 18, time 6\n",
            "/content/gdrive/MyDrive/Colab Notebooks/Final/Data/News/list_ppmi_6.csv\n",
            "0 out of 1\n"
          ]
        },
        {
          "output_type": "stream",
          "name": "stderr",
          "text": [
            "<ipython-input-5-a39c1499620e>:19: FutureWarning: `rcond` parameter will change to the default of machine precision times ``max(M, N)`` where M and N are the input matrix dimensions.\n",
            "To use the future default and silence this warning we advise to pass `rcond=None`, to keep using the old, explicitly pass `rcond=-1`.\n",
            "  Vhat = np.linalg.lstsq(M,A) #rxb\n"
          ]
        },
        {
          "output_type": "stream",
          "name": "stdout",
          "text": [
            "iteration 18, time 7\n",
            "/content/gdrive/MyDrive/Colab Notebooks/Final/Data/News/list_ppmi_7.csv\n",
            "0 out of 1\n"
          ]
        },
        {
          "output_type": "stream",
          "name": "stderr",
          "text": [
            "<ipython-input-5-a39c1499620e>:19: FutureWarning: `rcond` parameter will change to the default of machine precision times ``max(M, N)`` where M and N are the input matrix dimensions.\n",
            "To use the future default and silence this warning we advise to pass `rcond=None`, to keep using the old, explicitly pass `rcond=-1`.\n",
            "  Vhat = np.linalg.lstsq(M,A) #rxb\n"
          ]
        },
        {
          "output_type": "stream",
          "name": "stdout",
          "text": [
            "iteration 18, time 8\n",
            "/content/gdrive/MyDrive/Colab Notebooks/Final/Data/News/list_ppmi_8.csv\n",
            "0 out of 1\n"
          ]
        },
        {
          "output_type": "stream",
          "name": "stderr",
          "text": [
            "<ipython-input-5-a39c1499620e>:19: FutureWarning: `rcond` parameter will change to the default of machine precision times ``max(M, N)`` where M and N are the input matrix dimensions.\n",
            "To use the future default and silence this warning we advise to pass `rcond=None`, to keep using the old, explicitly pass `rcond=-1`.\n",
            "  Vhat = np.linalg.lstsq(M,A) #rxb\n"
          ]
        },
        {
          "output_type": "stream",
          "name": "stdout",
          "text": [
            "iteration 18, time 9\n",
            "/content/gdrive/MyDrive/Colab Notebooks/Final/Data/News/list_ppmi_9.csv\n",
            "0 out of 1\n"
          ]
        },
        {
          "output_type": "stream",
          "name": "stderr",
          "text": [
            "<ipython-input-5-a39c1499620e>:19: FutureWarning: `rcond` parameter will change to the default of machine precision times ``max(M, N)`` where M and N are the input matrix dimensions.\n",
            "To use the future default and silence this warning we advise to pass `rcond=None`, to keep using the old, explicitly pass `rcond=-1`.\n",
            "  Vhat = np.linalg.lstsq(M,A) #rxb\n"
          ]
        },
        {
          "output_type": "stream",
          "name": "stdout",
          "text": [
            "iteration 18, time 10\n",
            "/content/gdrive/MyDrive/Colab Notebooks/Final/Data/News/list_ppmi_10.csv\n",
            "0 out of 1\n"
          ]
        },
        {
          "output_type": "stream",
          "name": "stderr",
          "text": [
            "<ipython-input-5-a39c1499620e>:19: FutureWarning: `rcond` parameter will change to the default of machine precision times ``max(M, N)`` where M and N are the input matrix dimensions.\n",
            "To use the future default and silence this warning we advise to pass `rcond=None`, to keep using the old, explicitly pass `rcond=-1`.\n",
            "  Vhat = np.linalg.lstsq(M,A) #rxb\n"
          ]
        },
        {
          "output_type": "stream",
          "name": "stdout",
          "text": [
            "iteration 18, time 11\n",
            "/content/gdrive/MyDrive/Colab Notebooks/Final/Data/News/list_ppmi_11.csv\n",
            "0 out of 1\n"
          ]
        },
        {
          "output_type": "stream",
          "name": "stderr",
          "text": [
            "<ipython-input-5-a39c1499620e>:19: FutureWarning: `rcond` parameter will change to the default of machine precision times ``max(M, N)`` where M and N are the input matrix dimensions.\n",
            "To use the future default and silence this warning we advise to pass `rcond=None`, to keep using the old, explicitly pass `rcond=-1`.\n",
            "  Vhat = np.linalg.lstsq(M,A) #rxb\n"
          ]
        },
        {
          "output_type": "stream",
          "name": "stdout",
          "text": [
            "iteration 18, time 12\n",
            "/content/gdrive/MyDrive/Colab Notebooks/Final/Data/News/list_ppmi_12.csv\n",
            "0 out of 1\n"
          ]
        },
        {
          "output_type": "stream",
          "name": "stderr",
          "text": [
            "<ipython-input-5-a39c1499620e>:19: FutureWarning: `rcond` parameter will change to the default of machine precision times ``max(M, N)`` where M and N are the input matrix dimensions.\n",
            "To use the future default and silence this warning we advise to pass `rcond=None`, to keep using the old, explicitly pass `rcond=-1`.\n",
            "  Vhat = np.linalg.lstsq(M,A) #rxb\n"
          ]
        },
        {
          "output_type": "stream",
          "name": "stdout",
          "text": [
            "iteration 18, time 13\n",
            "/content/gdrive/MyDrive/Colab Notebooks/Final/Data/News/list_ppmi_13.csv\n",
            "0 out of 1\n"
          ]
        },
        {
          "output_type": "stream",
          "name": "stderr",
          "text": [
            "<ipython-input-5-a39c1499620e>:19: FutureWarning: `rcond` parameter will change to the default of machine precision times ``max(M, N)`` where M and N are the input matrix dimensions.\n",
            "To use the future default and silence this warning we advise to pass `rcond=None`, to keep using the old, explicitly pass `rcond=-1`.\n",
            "  Vhat = np.linalg.lstsq(M,A) #rxb\n"
          ]
        },
        {
          "output_type": "stream",
          "name": "stdout",
          "text": [
            "iteration 18, time 14\n",
            "/content/gdrive/MyDrive/Colab Notebooks/Final/Data/News/list_ppmi_14.csv\n",
            "0 out of 1\n"
          ]
        },
        {
          "output_type": "stream",
          "name": "stderr",
          "text": [
            "<ipython-input-5-a39c1499620e>:19: FutureWarning: `rcond` parameter will change to the default of machine precision times ``max(M, N)`` where M and N are the input matrix dimensions.\n",
            "To use the future default and silence this warning we advise to pass `rcond=None`, to keep using the old, explicitly pass `rcond=-1`.\n",
            "  Vhat = np.linalg.lstsq(M,A) #rxb\n"
          ]
        },
        {
          "output_type": "stream",
          "name": "stdout",
          "text": [
            "iteration 18, time 15\n",
            "/content/gdrive/MyDrive/Colab Notebooks/Final/Data/News/list_ppmi_15.csv\n",
            "0 out of 1\n"
          ]
        },
        {
          "output_type": "stream",
          "name": "stderr",
          "text": [
            "<ipython-input-5-a39c1499620e>:19: FutureWarning: `rcond` parameter will change to the default of machine precision times ``max(M, N)`` where M and N are the input matrix dimensions.\n",
            "To use the future default and silence this warning we advise to pass `rcond=None`, to keep using the old, explicitly pass `rcond=-1`.\n",
            "  Vhat = np.linalg.lstsq(M,A) #rxb\n"
          ]
        },
        {
          "output_type": "stream",
          "name": "stdout",
          "text": [
            "iteration 18, time 16\n",
            "/content/gdrive/MyDrive/Colab Notebooks/Final/Data/News/list_ppmi_16.csv\n",
            "0 out of 1\n"
          ]
        },
        {
          "output_type": "stream",
          "name": "stderr",
          "text": [
            "<ipython-input-5-a39c1499620e>:19: FutureWarning: `rcond` parameter will change to the default of machine precision times ``max(M, N)`` where M and N are the input matrix dimensions.\n",
            "To use the future default and silence this warning we advise to pass `rcond=None`, to keep using the old, explicitly pass `rcond=-1`.\n",
            "  Vhat = np.linalg.lstsq(M,A) #rxb\n"
          ]
        },
        {
          "output_type": "stream",
          "name": "stdout",
          "text": [
            "iteration 18, time 17\n",
            "/content/gdrive/MyDrive/Colab Notebooks/Final/Data/News/list_ppmi_17.csv\n",
            "0 out of 1\n"
          ]
        },
        {
          "output_type": "stream",
          "name": "stderr",
          "text": [
            "<ipython-input-5-a39c1499620e>:19: FutureWarning: `rcond` parameter will change to the default of machine precision times ``max(M, N)`` where M and N are the input matrix dimensions.\n",
            "To use the future default and silence this warning we advise to pass `rcond=None`, to keep using the old, explicitly pass `rcond=-1`.\n",
            "  Vhat = np.linalg.lstsq(M,A) #rxb\n"
          ]
        },
        {
          "output_type": "stream",
          "name": "stdout",
          "text": [
            "iteration 18, time 18\n",
            "/content/gdrive/MyDrive/Colab Notebooks/Final/Data/News/list_ppmi_18.csv\n",
            "0 out of 1\n"
          ]
        },
        {
          "output_type": "stream",
          "name": "stderr",
          "text": [
            "<ipython-input-5-a39c1499620e>:19: FutureWarning: `rcond` parameter will change to the default of machine precision times ``max(M, N)`` where M and N are the input matrix dimensions.\n",
            "To use the future default and silence this warning we advise to pass `rcond=None`, to keep using the old, explicitly pass `rcond=-1`.\n",
            "  Vhat = np.linalg.lstsq(M,A) #rxb\n"
          ]
        },
        {
          "output_type": "stream",
          "name": "stdout",
          "text": [
            "iteration 18, time 19\n",
            "/content/gdrive/MyDrive/Colab Notebooks/Final/Data/News/list_ppmi_19.csv\n",
            "0 out of 1\n"
          ]
        },
        {
          "output_type": "stream",
          "name": "stderr",
          "text": [
            "<ipython-input-5-a39c1499620e>:19: FutureWarning: `rcond` parameter will change to the default of machine precision times ``max(M, N)`` where M and N are the input matrix dimensions.\n",
            "To use the future default and silence this warning we advise to pass `rcond=None`, to keep using the old, explicitly pass `rcond=-1`.\n",
            "  Vhat = np.linalg.lstsq(M,A) #rxb\n"
          ]
        },
        {
          "output_type": "stream",
          "name": "stdout",
          "text": [
            "time elapsed =  14426.139220952988\n",
            "Loss 138436029.5566662\n",
            "rank = 50\n",
            "frob  regularizer = 10\n",
            "time  regularizer = 50\n",
            "symmetry regularizer = 50\n",
            "emphasize param   = 1\n",
            "total iterations = 20\n",
            "iteration 19, time 0\n",
            "/content/gdrive/MyDrive/Colab Notebooks/Final/Data/News/list_ppmi_0.csv\n",
            "0 out of 1\n"
          ]
        },
        {
          "output_type": "stream",
          "name": "stderr",
          "text": [
            "<ipython-input-5-a39c1499620e>:19: FutureWarning: `rcond` parameter will change to the default of machine precision times ``max(M, N)`` where M and N are the input matrix dimensions.\n",
            "To use the future default and silence this warning we advise to pass `rcond=None`, to keep using the old, explicitly pass `rcond=-1`.\n",
            "  Vhat = np.linalg.lstsq(M,A) #rxb\n"
          ]
        },
        {
          "output_type": "stream",
          "name": "stdout",
          "text": [
            "iteration 19, time 1\n",
            "/content/gdrive/MyDrive/Colab Notebooks/Final/Data/News/list_ppmi_1.csv\n",
            "0 out of 1\n"
          ]
        },
        {
          "output_type": "stream",
          "name": "stderr",
          "text": [
            "<ipython-input-5-a39c1499620e>:19: FutureWarning: `rcond` parameter will change to the default of machine precision times ``max(M, N)`` where M and N are the input matrix dimensions.\n",
            "To use the future default and silence this warning we advise to pass `rcond=None`, to keep using the old, explicitly pass `rcond=-1`.\n",
            "  Vhat = np.linalg.lstsq(M,A) #rxb\n"
          ]
        },
        {
          "output_type": "stream",
          "name": "stdout",
          "text": [
            "iteration 19, time 2\n",
            "/content/gdrive/MyDrive/Colab Notebooks/Final/Data/News/list_ppmi_2.csv\n",
            "0 out of 1\n"
          ]
        },
        {
          "output_type": "stream",
          "name": "stderr",
          "text": [
            "<ipython-input-5-a39c1499620e>:19: FutureWarning: `rcond` parameter will change to the default of machine precision times ``max(M, N)`` where M and N are the input matrix dimensions.\n",
            "To use the future default and silence this warning we advise to pass `rcond=None`, to keep using the old, explicitly pass `rcond=-1`.\n",
            "  Vhat = np.linalg.lstsq(M,A) #rxb\n"
          ]
        },
        {
          "output_type": "stream",
          "name": "stdout",
          "text": [
            "iteration 19, time 3\n",
            "/content/gdrive/MyDrive/Colab Notebooks/Final/Data/News/list_ppmi_3.csv\n",
            "0 out of 1\n"
          ]
        },
        {
          "output_type": "stream",
          "name": "stderr",
          "text": [
            "<ipython-input-5-a39c1499620e>:19: FutureWarning: `rcond` parameter will change to the default of machine precision times ``max(M, N)`` where M and N are the input matrix dimensions.\n",
            "To use the future default and silence this warning we advise to pass `rcond=None`, to keep using the old, explicitly pass `rcond=-1`.\n",
            "  Vhat = np.linalg.lstsq(M,A) #rxb\n"
          ]
        },
        {
          "output_type": "stream",
          "name": "stdout",
          "text": [
            "iteration 19, time 4\n",
            "/content/gdrive/MyDrive/Colab Notebooks/Final/Data/News/list_ppmi_4.csv\n",
            "0 out of 1\n"
          ]
        },
        {
          "output_type": "stream",
          "name": "stderr",
          "text": [
            "<ipython-input-5-a39c1499620e>:19: FutureWarning: `rcond` parameter will change to the default of machine precision times ``max(M, N)`` where M and N are the input matrix dimensions.\n",
            "To use the future default and silence this warning we advise to pass `rcond=None`, to keep using the old, explicitly pass `rcond=-1`.\n",
            "  Vhat = np.linalg.lstsq(M,A) #rxb\n"
          ]
        },
        {
          "output_type": "stream",
          "name": "stdout",
          "text": [
            "iteration 19, time 5\n",
            "/content/gdrive/MyDrive/Colab Notebooks/Final/Data/News/list_ppmi_5.csv\n",
            "0 out of 1\n"
          ]
        },
        {
          "output_type": "stream",
          "name": "stderr",
          "text": [
            "<ipython-input-5-a39c1499620e>:19: FutureWarning: `rcond` parameter will change to the default of machine precision times ``max(M, N)`` where M and N are the input matrix dimensions.\n",
            "To use the future default and silence this warning we advise to pass `rcond=None`, to keep using the old, explicitly pass `rcond=-1`.\n",
            "  Vhat = np.linalg.lstsq(M,A) #rxb\n"
          ]
        },
        {
          "output_type": "stream",
          "name": "stdout",
          "text": [
            "iteration 19, time 6\n",
            "/content/gdrive/MyDrive/Colab Notebooks/Final/Data/News/list_ppmi_6.csv\n",
            "0 out of 1\n"
          ]
        },
        {
          "output_type": "stream",
          "name": "stderr",
          "text": [
            "<ipython-input-5-a39c1499620e>:19: FutureWarning: `rcond` parameter will change to the default of machine precision times ``max(M, N)`` where M and N are the input matrix dimensions.\n",
            "To use the future default and silence this warning we advise to pass `rcond=None`, to keep using the old, explicitly pass `rcond=-1`.\n",
            "  Vhat = np.linalg.lstsq(M,A) #rxb\n"
          ]
        },
        {
          "output_type": "stream",
          "name": "stdout",
          "text": [
            "iteration 19, time 7\n",
            "/content/gdrive/MyDrive/Colab Notebooks/Final/Data/News/list_ppmi_7.csv\n",
            "0 out of 1\n"
          ]
        },
        {
          "output_type": "stream",
          "name": "stderr",
          "text": [
            "<ipython-input-5-a39c1499620e>:19: FutureWarning: `rcond` parameter will change to the default of machine precision times ``max(M, N)`` where M and N are the input matrix dimensions.\n",
            "To use the future default and silence this warning we advise to pass `rcond=None`, to keep using the old, explicitly pass `rcond=-1`.\n",
            "  Vhat = np.linalg.lstsq(M,A) #rxb\n"
          ]
        },
        {
          "output_type": "stream",
          "name": "stdout",
          "text": [
            "iteration 19, time 8\n",
            "/content/gdrive/MyDrive/Colab Notebooks/Final/Data/News/list_ppmi_8.csv\n",
            "0 out of 1\n"
          ]
        },
        {
          "output_type": "stream",
          "name": "stderr",
          "text": [
            "<ipython-input-5-a39c1499620e>:19: FutureWarning: `rcond` parameter will change to the default of machine precision times ``max(M, N)`` where M and N are the input matrix dimensions.\n",
            "To use the future default and silence this warning we advise to pass `rcond=None`, to keep using the old, explicitly pass `rcond=-1`.\n",
            "  Vhat = np.linalg.lstsq(M,A) #rxb\n"
          ]
        },
        {
          "output_type": "stream",
          "name": "stdout",
          "text": [
            "iteration 19, time 9\n",
            "/content/gdrive/MyDrive/Colab Notebooks/Final/Data/News/list_ppmi_9.csv\n",
            "0 out of 1\n"
          ]
        },
        {
          "output_type": "stream",
          "name": "stderr",
          "text": [
            "<ipython-input-5-a39c1499620e>:19: FutureWarning: `rcond` parameter will change to the default of machine precision times ``max(M, N)`` where M and N are the input matrix dimensions.\n",
            "To use the future default and silence this warning we advise to pass `rcond=None`, to keep using the old, explicitly pass `rcond=-1`.\n",
            "  Vhat = np.linalg.lstsq(M,A) #rxb\n"
          ]
        },
        {
          "output_type": "stream",
          "name": "stdout",
          "text": [
            "iteration 19, time 10\n",
            "/content/gdrive/MyDrive/Colab Notebooks/Final/Data/News/list_ppmi_10.csv\n",
            "0 out of 1\n"
          ]
        },
        {
          "output_type": "stream",
          "name": "stderr",
          "text": [
            "<ipython-input-5-a39c1499620e>:19: FutureWarning: `rcond` parameter will change to the default of machine precision times ``max(M, N)`` where M and N are the input matrix dimensions.\n",
            "To use the future default and silence this warning we advise to pass `rcond=None`, to keep using the old, explicitly pass `rcond=-1`.\n",
            "  Vhat = np.linalg.lstsq(M,A) #rxb\n"
          ]
        },
        {
          "output_type": "stream",
          "name": "stdout",
          "text": [
            "iteration 19, time 11\n",
            "/content/gdrive/MyDrive/Colab Notebooks/Final/Data/News/list_ppmi_11.csv\n",
            "0 out of 1\n"
          ]
        },
        {
          "output_type": "stream",
          "name": "stderr",
          "text": [
            "<ipython-input-5-a39c1499620e>:19: FutureWarning: `rcond` parameter will change to the default of machine precision times ``max(M, N)`` where M and N are the input matrix dimensions.\n",
            "To use the future default and silence this warning we advise to pass `rcond=None`, to keep using the old, explicitly pass `rcond=-1`.\n",
            "  Vhat = np.linalg.lstsq(M,A) #rxb\n"
          ]
        },
        {
          "output_type": "stream",
          "name": "stdout",
          "text": [
            "iteration 19, time 12\n",
            "/content/gdrive/MyDrive/Colab Notebooks/Final/Data/News/list_ppmi_12.csv\n",
            "0 out of 1\n"
          ]
        },
        {
          "output_type": "stream",
          "name": "stderr",
          "text": [
            "<ipython-input-5-a39c1499620e>:19: FutureWarning: `rcond` parameter will change to the default of machine precision times ``max(M, N)`` where M and N are the input matrix dimensions.\n",
            "To use the future default and silence this warning we advise to pass `rcond=None`, to keep using the old, explicitly pass `rcond=-1`.\n",
            "  Vhat = np.linalg.lstsq(M,A) #rxb\n"
          ]
        },
        {
          "output_type": "stream",
          "name": "stdout",
          "text": [
            "iteration 19, time 13\n",
            "/content/gdrive/MyDrive/Colab Notebooks/Final/Data/News/list_ppmi_13.csv\n",
            "0 out of 1\n"
          ]
        },
        {
          "output_type": "stream",
          "name": "stderr",
          "text": [
            "<ipython-input-5-a39c1499620e>:19: FutureWarning: `rcond` parameter will change to the default of machine precision times ``max(M, N)`` where M and N are the input matrix dimensions.\n",
            "To use the future default and silence this warning we advise to pass `rcond=None`, to keep using the old, explicitly pass `rcond=-1`.\n",
            "  Vhat = np.linalg.lstsq(M,A) #rxb\n"
          ]
        },
        {
          "output_type": "stream",
          "name": "stdout",
          "text": [
            "iteration 19, time 14\n",
            "/content/gdrive/MyDrive/Colab Notebooks/Final/Data/News/list_ppmi_14.csv\n",
            "0 out of 1\n"
          ]
        },
        {
          "output_type": "stream",
          "name": "stderr",
          "text": [
            "<ipython-input-5-a39c1499620e>:19: FutureWarning: `rcond` parameter will change to the default of machine precision times ``max(M, N)`` where M and N are the input matrix dimensions.\n",
            "To use the future default and silence this warning we advise to pass `rcond=None`, to keep using the old, explicitly pass `rcond=-1`.\n",
            "  Vhat = np.linalg.lstsq(M,A) #rxb\n"
          ]
        },
        {
          "output_type": "stream",
          "name": "stdout",
          "text": [
            "iteration 19, time 15\n",
            "/content/gdrive/MyDrive/Colab Notebooks/Final/Data/News/list_ppmi_15.csv\n",
            "0 out of 1\n"
          ]
        },
        {
          "output_type": "stream",
          "name": "stderr",
          "text": [
            "<ipython-input-5-a39c1499620e>:19: FutureWarning: `rcond` parameter will change to the default of machine precision times ``max(M, N)`` where M and N are the input matrix dimensions.\n",
            "To use the future default and silence this warning we advise to pass `rcond=None`, to keep using the old, explicitly pass `rcond=-1`.\n",
            "  Vhat = np.linalg.lstsq(M,A) #rxb\n"
          ]
        },
        {
          "output_type": "stream",
          "name": "stdout",
          "text": [
            "iteration 19, time 16\n",
            "/content/gdrive/MyDrive/Colab Notebooks/Final/Data/News/list_ppmi_16.csv\n",
            "0 out of 1\n"
          ]
        },
        {
          "output_type": "stream",
          "name": "stderr",
          "text": [
            "<ipython-input-5-a39c1499620e>:19: FutureWarning: `rcond` parameter will change to the default of machine precision times ``max(M, N)`` where M and N are the input matrix dimensions.\n",
            "To use the future default and silence this warning we advise to pass `rcond=None`, to keep using the old, explicitly pass `rcond=-1`.\n",
            "  Vhat = np.linalg.lstsq(M,A) #rxb\n"
          ]
        },
        {
          "output_type": "stream",
          "name": "stdout",
          "text": [
            "iteration 19, time 17\n",
            "/content/gdrive/MyDrive/Colab Notebooks/Final/Data/News/list_ppmi_17.csv\n",
            "0 out of 1\n"
          ]
        },
        {
          "output_type": "stream",
          "name": "stderr",
          "text": [
            "<ipython-input-5-a39c1499620e>:19: FutureWarning: `rcond` parameter will change to the default of machine precision times ``max(M, N)`` where M and N are the input matrix dimensions.\n",
            "To use the future default and silence this warning we advise to pass `rcond=None`, to keep using the old, explicitly pass `rcond=-1`.\n",
            "  Vhat = np.linalg.lstsq(M,A) #rxb\n"
          ]
        },
        {
          "output_type": "stream",
          "name": "stdout",
          "text": [
            "iteration 19, time 18\n",
            "/content/gdrive/MyDrive/Colab Notebooks/Final/Data/News/list_ppmi_18.csv\n",
            "0 out of 1\n"
          ]
        },
        {
          "output_type": "stream",
          "name": "stderr",
          "text": [
            "<ipython-input-5-a39c1499620e>:19: FutureWarning: `rcond` parameter will change to the default of machine precision times ``max(M, N)`` where M and N are the input matrix dimensions.\n",
            "To use the future default and silence this warning we advise to pass `rcond=None`, to keep using the old, explicitly pass `rcond=-1`.\n",
            "  Vhat = np.linalg.lstsq(M,A) #rxb\n"
          ]
        },
        {
          "output_type": "stream",
          "name": "stdout",
          "text": [
            "iteration 19, time 19\n",
            "/content/gdrive/MyDrive/Colab Notebooks/Final/Data/News/list_ppmi_19.csv\n",
            "0 out of 1\n"
          ]
        },
        {
          "output_type": "stream",
          "name": "stderr",
          "text": [
            "<ipython-input-5-a39c1499620e>:19: FutureWarning: `rcond` parameter will change to the default of machine precision times ``max(M, N)`` where M and N are the input matrix dimensions.\n",
            "To use the future default and silence this warning we advise to pass `rcond=None`, to keep using the old, explicitly pass `rcond=-1`.\n",
            "  Vhat = np.linalg.lstsq(M,A) #rxb\n"
          ]
        },
        {
          "output_type": "stream",
          "name": "stdout",
          "text": [
            "time elapsed =  15240.949778556824\n",
            "Loss 138426636.4123265\n"
          ]
        }
      ]
    },
    {
      "cell_type": "markdown",
      "source": [
        "Find the words that experienced the most significant semantic shift"
      ],
      "metadata": {
        "id": "ByLZJECHfL8v"
      }
    },
    {
      "cell_type": "code",
      "source": [
        "import json\n",
        "\n",
        "with open('/content/gdrive/MyDrive/Colab Notebooks/Thesis/Data/News/Dynamic/news_all_vocab.json', 'r', encoding='utf-8') as f:\n",
        "    all_vocab = json.loads(json.load(f))"
      ],
      "metadata": {
        "id": "aZYcQYyRiG9U"
      },
      "execution_count": null,
      "outputs": []
    },
    {
      "cell_type": "code",
      "source": [
        "word_to_index = {w: i for i, w in enumerate(all_vocab)}"
      ],
      "metadata": {
        "id": "ciq3SkSUiXrv"
      },
      "execution_count": null,
      "outputs": []
    },
    {
      "cell_type": "code",
      "source": [
        "import json\n",
        "\n",
        "with open('/content/gdrive/MyDrive/Colab Notebooks/Thesis/Data/News/Common/shared_words_news.json', 'r') as f:\n",
        "    words = json.load(f)\n",
        "words = [w[0] for w in words.items()]\n",
        "words_ids = [word_to_index[w] for w in words if w in word_to_index]"
      ],
      "metadata": {
        "id": "DmbsKJPPiZua"
      },
      "execution_count": null,
      "outputs": []
    },
    {
      "cell_type": "code",
      "source": [
        "import pandas as pd\n",
        "import numpy as np\n",
        "import scipy.sparse as ss\n",
        "import pickle as pickle\n",
        "\n",
        "savehead = '/content/gdrive/MyDrive/Colab Notebooks/Thesis/Models/News/Dynamic/Results/'\n",
        "lam = 10 #frob regularizer\n",
        "gam = 50 # forcing regularizer\n",
        "tau = 50  # smoothing regularizer\n",
        "emph = 1 # emphasize the nonzero\n",
        "savefile = savehead+'L'+str(lam)+'T'+str(tau)+'G'+str(gam)+'A'+str(emph)\n",
        "iteration = 19\n",
        "Ulist = pickle.load(open( \"%sngU_iter%d.p\" % (savefile,iteration), \"rb\" ) )"
      ],
      "metadata": {
        "id": "BKMzkhGVik1q"
      },
      "execution_count": null,
      "outputs": []
    },
    {
      "cell_type": "code",
      "source": [
        "from sklearn.metrics.pairwise import cosine_similarity\n",
        "from tqdm import tqdm\n",
        "\n",
        "cosine_similarities ={}\n",
        "\n",
        "for w_id in tqdm(words_ids):\n",
        "    embed_1 = Ulist[0][w_id]\n",
        "    embed_2 = Ulist[19][w_id]\n",
        "    cosine_similarities[(all_vocab[w_id], w_id)] = cosine_similarity([embed_1], \n",
        "                                                  [embed_2])[0][0]"
      ],
      "metadata": {
        "colab": {
          "base_uri": "https://localhost:8080/"
        },
        "id": "r_esWcRFim4J",
        "outputId": "e1cbee49-923e-4dea-8de4-291cf9939cb1"
      },
      "execution_count": null,
      "outputs": [
        {
          "output_type": "stream",
          "name": "stderr",
          "text": [
            "100%|██████████| 4064/4064 [00:01<00:00, 2519.79it/s]\n"
          ]
        }
      ]
    },
    {
      "cell_type": "code",
      "source": [
        "top_20 = sorted(cosine_similarities.items(), key=lambda item: abs(item[1]))[:20]\n",
        "top_20"
      ],
      "metadata": {
        "colab": {
          "base_uri": "https://localhost:8080/"
        },
        "id": "3sMCIdaviHAa",
        "outputId": "4c1e72c8-4690-4733-c597-702766b0fe02"
      },
      "execution_count": null,
      "outputs": [
        {
          "output_type": "execute_result",
          "data": {
            "text/plain": [
              "[(('лауреат', 7320), -0.0001912994772371307),\n",
              " (('свадьба', 14418), -0.00022309301146813953),\n",
              " (('франциско', 17596), 0.0002477466281872601),\n",
              " (('уважение', 16783), 0.00034091389001868547),\n",
              " (('турист', 16675), 0.0004511405579186757),\n",
              " (('аргумент', 667), -0.00046316868896501446),\n",
              " (('законодатель', 4866), 0.000539140807321813),\n",
              " (('ясно', 19106), -0.0006021113672614199),\n",
              " (('повстанец', 11510), -0.0006832440759256229),\n",
              " (('хиллари', 17843), 0.0007297012971693925),\n",
              " (('грабитель', 3391), -0.0007445921995054266),\n",
              " (('тайный', 16042), -0.0007890173412822103),\n",
              " (('торговец', 16424), -0.0008094673213264311),\n",
              " (('долго', 4205), 0.0008136706139446996),\n",
              " (('егор', 4507), -0.0009297376858546642),\n",
              " (('частота', 18185), 0.0011265968453885791),\n",
              " (('успех', 17172), 0.0013525757139426129),\n",
              " (('обломок', 9839), -0.0013622475577178984),\n",
              " (('достигнутый', 4299), -0.0013852893901018688),\n",
              " (('полотно', 11893), 0.0014129309209448306)]"
            ]
          },
          "metadata": {},
          "execution_count": 16
        }
      ]
    },
    {
      "cell_type": "code",
      "source": [
        "def getclosest(wid, U, y1, y2):\n",
        "    C = []\n",
        "    temp_1 = U[y1]\n",
        "    temp_2 = U[y2]\n",
        "    K = cosine_similarity([temp_1[wid,:]],temp_2)\n",
        "    mxinds = np.argsort(-abs(K[0]))\n",
        "    mxinds = mxinds[0:10]\n",
        "    return mxinds"
      ],
      "metadata": {
        "id": "nmw_91WFhZUJ"
      },
      "execution_count": null,
      "outputs": []
    },
    {
      "cell_type": "code",
      "source": [
        "for word in top_20:\n",
        "    print(word[0][0])\n",
        "    closest_2000 = getclosest(word[0][1],Ulist, 0, 0)\n",
        "    w_closest_2000  = [all_vocab[i] for i in closest_2000]\n",
        "    print(w_closest_2000)\n",
        "    closest_2019 = getclosest(word[0][1],Ulist, 19, 19)\n",
        "    w_closest_2019  = [all_vocab[i] for i in closest_2019]\n",
        "    print(w_closest_2019)"
      ],
      "metadata": {
        "colab": {
          "base_uri": "https://localhost:8080/"
        },
        "id": "jKBFMguhhTNX",
        "outputId": "5703398a-3580-4bbf-c399-7dccc47d5c5e"
      },
      "execution_count": null,
      "outputs": [
        {
          "output_type": "stream",
          "name": "stdout",
          "text": [
            "лауреат\n",
            "['лауреат', 'жюри', 'номинация', 'театральный', 'артист', 'оскар', 'художественный', 'спектакль', 'вручить', 'доктор']\n",
            "['лауреат', 'театральный', 'вручение', 'жюри', 'почётный', 'кинематографист', 'заслужить', 'документальный', 'наградить', 'орден']\n",
            "свадьба\n",
            "['свадьба', 'мадонна', 'принцесса', 'леннон', 'рождество', 'любимый', 'поклонник', 'принц', 'семейный', 'голливуд']\n",
            "['свадьба', 'принц', 'телеведущий', 'гарри', 'невеста', 'комментатор', 'принцесса', 'ким', 'уильям', 'кейт']\n",
            "франциско\n",
            "['франциско', 'чикаго', 'галерея', 'анджелес', 'кеннеди', 'техас', 'хьюстон', 'парка', 'цюрих', 'флорида']\n",
            "['франциско', 'сидней', 'шанхай', 'майами', 'амстердам', 'сеул', 'дубай', 'филадельфия', 'женева', 'дели']\n",
            "уважение\n",
            "['уважение', 'нация', 'добрый', 'противоречие', 'дух', 'вера', 'религия', 'глубокий', 'понимание', 'демократия']\n",
            "['уважение', 'убедить', 'хотеться', 'посетовать', 'пусть', 'пожелать', 'добрый', 'правильно', 'бог', 'выражать']\n",
            "турист\n",
            "['турист', 'посадка', 'совершать', 'груз', 'успеть', 'спасти', 'стоять', 'восстановить', 'пилот', 'спустя']\n",
            "['турист', 'потерять', 'упасть', 'открыть', 'путь', 'себя', 'уйти', 'прийтись', 'направление', 'рейс']\n",
            "аргумент\n",
            "['аргумент', 'ответчик', 'вердикт', 'удовлетворение', 'законность', 'апелляция', 'истец', 'кассационный', 'подавать', 'обжаловать']\n",
            "['аргумент', 'вопреки', 'инициатор', 'разумковы', 'сослаться', 'вступать', 'справедливость', 'одобрение', 'спорный', 'высказывать']\n",
            "законодатель\n",
            "['законодатель', 'сенат', 'республиканец', 'рада', 'ассамблея', 'парламентарий', 'дополнение', 'самоуправление', 'избрание', 'демократ']\n",
            "['законодатель', 'формальный', 'недоверие', 'стефанчук', 'мандат', 'касательно', 'регламент', 'аргумент', 'евроатлантический', 'токай']\n",
            "ясно\n",
            "['ясно', 'равно', 'далёкий', 'уверить', 'таки', 'казаться', 'далеко', 'вряд', 'преследовать', 'невозможно']\n",
            "['ясно', 'понятно', 'явно', 'сомневаться', 'реально', 'видимо', 'поздно', 'кой', 'что', 'ничто']\n",
            "повстанец\n",
            "['повстанец', 'удерживать', 'плен', 'сдаться', 'албанский', 'абу', 'фронт', 'враг', 'сербский', 'македонский']\n",
            "['повстанец', 'авиаудар', 'нуср', 'бомбардировка', 'иракский', 'саа', 'кашмир', 'хафтара', 'джихадист', 'исламистский']\n",
            "хиллари\n",
            "['хиллари', 'сенат', 'демократ', 'выборщик', 'предвыборный', 'республиканец', 'баллотироваться', 'избрание', 'морить', 'избранный']\n",
            "['хиллари', 'республиканец', 'клинтон', 'компромат', 'спецпрокурор', 'маккейн', 'тиллерсон', 'баллотироваться', 'президентство', 'конгрессмен']\n",
            "грабитель\n",
            "['грабитель', 'забрать', 'маска', 'похититель', 'нож', 'ворваться', 'злоумышленник', 'выстрелить', 'вор', 'держать']\n",
            "['грабитель', 'убежать', 'наброситься', 'ворваться', 'ружьё', 'ограбление', 'приятель', 'ограбить', 'ссора', 'увезти']\n",
            "тайный\n",
            "['тайный', 'нетанияга', 'хиллари', 'подвергнуть', 'исчезновение', 'кнессет', 'баллотироваться', 'выдвижение', 'сенат', 'избрание']\n",
            "['тайный', 'скрипаль', 'упоминаться', 'джулиани', 'солсбери', 'цру', 'опровергать', 'гитлер', 'телемост', 'джеффри']\n",
            "торговец\n",
            "['торговец', 'торговать', 'продавец', 'оптовый', 'покупать', 'мошенник', 'дешёвый', 'розничный', 'продаваться', 'хлеб']\n",
            "['торговец', 'конфисковать', 'подпольный', 'торговать', 'нелегально', 'наркоторговец', 'похищать', 'подделка', 'мафия', 'расплатиться']\n",
            "долго\n",
            "['долго', 'трудно', 'настолько', 'иначе', 'казаться', 'удаваться', 'насколько', 'преследовать', 'верить', 'мешать']\n",
            "['долго', 'душа', 'помнить', 'сложно', 'серьёзно', 'хотеться', 'подумать', 'оставлять', 'ребята', 'отправлять']\n",
            "егор\n",
            "['егор', 'пас', 'максим', 'станислав', 'ковалёв', 'угол', 'кириенко', 'штрафной', 'строев', 'форвард']\n",
            "['егор', 'киркоров', 'фёдоров', 'тимур', 'артур', 'малахов', 'марина', 'лебедев', 'соловьёв', 'киселёв']\n",
            "частота\n",
            "['частота', 'вещание', 'твц', 'спутниковый', 'тв', 'лесин', 'мнвк', 'лицензия', 'кнопка', 'вещать']\n",
            "['частота', 'формироваться', 'свойство', 'диапазон', 'излучение', 'кислород', 'увеличиваться', 'колебание', 'концентрация', 'накопление']\n",
            "успех\n",
            "['успех', 'принести', 'сезон', 'звезда', 'футбол', 'зритель', 'игрок', 'особенно', 'италия', 'слишком']\n",
            "['успех', 'достижение', 'прежде', 'успешный', 'далёкий', 'подчёркивать', 'основное', 'жёсткий', 'далее', 'давно']\n",
            "обломок\n",
            "['обломок', 'разбиться', 'извлечь', 'загореться', 'крыша', 'дерево', 'обрушиться', 'тоннель', 'врезаться', 'шахта']\n",
            "['обломок', 'взорваться', 'кабина', 'шахта', 'колесо', 'рухнуть', 'охватить', 'дым', 'шторм', 'пламя']\n",
            "достигнутый\n",
            "['достигнутый', 'возобновление', 'подписание', 'согласовать', 'двусторонний', 'евросоюз', 'спорный', 'диалог', 'консультация', 'договориться']\n",
            "['достигнутый', 'столтенберг', 'нормализация', 'всеобъемлющий', 'меморандум', 'взаимопонимание', 'углубление', 'макей', 'североатлантический', 'абэ']\n",
            "полотно\n",
            "['полотно', 'цистерна', 'рельс', 'сойти', 'тоннель', 'сапёр', 'вывезти', 'камаз', 'образоваться', 'трасса']\n",
            "['полотно', 'галерея', 'замок', 'уличный', 'деревянный', 'коробка', 'стоящий', 'металлический', 'арт', 'башня']\n"
          ]
        }
      ]
    },
    {
      "cell_type": "code",
      "source": [
        "import numpy as np\n",
        "from sklearn.metrics.pairwise import cosine_similarity\n",
        "from sklearn.manifold import TSNE\n",
        "import matplotlib.pyplot as plt\n",
        "from tqdm import tqdm\n",
        "\n",
        "words = ['свадьба', 'частота', 'полотно']\n",
        "years = [2000, 2019]\n",
        "\n",
        "vectors_2000 = Ulist[0]\n",
        "vectors_2019 = Ulist[19]\n",
        "\n",
        "points = []\n",
        "all_keys = []\n",
        "\n",
        "for word in tqdm(words):\n",
        "    wid = word_to_index[word]\n",
        "    K_2000 = cosine_similarity([vectors_2000[wid,:]],vectors_2000)\n",
        "    K_2019 = cosine_similarity([vectors_2019[wid,:]],vectors_2019)\n",
        "\n",
        "    mxinds_2000 = np.argsort(-abs(K_2000[0]))\n",
        "    mxinds_2000 = mxinds_2000[0:10]\n",
        "\n",
        "    mxinds_2019 = np.argsort(-abs(K_2019[0]))\n",
        "    mxinds_2019 = mxinds_2019[0:10]\n",
        "\n",
        "    w_closest_2000  = [all_vocab[i] for i in mxinds_2000[1:]]\n",
        "    w_closest_2019  = [all_vocab[i] for i in mxinds_2019[1:]]\n",
        "\n",
        "    all_words = w_closest_2000\n",
        "    all_words.extend(w_closest_2019)\n",
        "    all_words.extend([f'{word}_2000', f'{word}_2019'])\n",
        "\n",
        "    embeds_2000 = [vectors_2000[i] for i in mxinds_2000[1:]]\n",
        "    embeds_2019 = [vectors_2019[i] for i in mxinds_2019[1:]]\n",
        "\n",
        "    all_embeds = embeds_2000\n",
        "    all_embeds.extend(embeds_2019)\n",
        "    all_embeds.extend([vectors_2000[wid], vectors_2019[wid]])\n",
        "\n",
        "    # Fit t-SNE\n",
        "    mat = np.array(all_embeds)\n",
        "    model = TSNE(n_components=2, random_state=0, init='pca', perplexity=10)\n",
        "    fitted = model.fit_transform(mat)\n",
        "    points.append(fitted)\n",
        "    all_keys.append(all_words)\n",
        "\n",
        "fig, ax = plt.subplots(1, 3)\n",
        "\n",
        "fig.set_figheight(8)\n",
        "fig.set_figwidth(25)\n",
        "\n",
        "for j in range(3):\n",
        "    fitted = points[j]\n",
        "    x = fitted[:, 0]\n",
        "    y = fitted[:, 1]\n",
        "    keys = all_keys[j]\n",
        "\n",
        "    ax[j].scatter(x, y)\n",
        "\n",
        "    for i, txt in enumerate(keys):\n",
        "        if len(keys) - i <= 2:\n",
        "            ax[j].annotate(txt, (x[i], y[i]), weight='bold')\n",
        "        else:\n",
        "            ax[j].annotate(txt, (x[i], y[i]))\n",
        "    \n",
        "    ax[j].arrow(fitted[-2, 0], fitted[-2, 1], (fitted[-1, 0] - fitted[-2, 0]), \n",
        "              (fitted[-1, 1] - fitted[-2, 1]), facecolor='blue', alpha=0.3, width=0.5,\n",
        "              head_length=0.75, length_includes_head=True)\n",
        "fig.savefig(f'/content/gdrive/MyDrive/Colab Notebooks/Thesis/Vectors/news_dyn.png')"
      ],
      "metadata": {
        "colab": {
          "base_uri": "https://localhost:8080/",
          "height": 607
        },
        "id": "PMyZYpIBfnex",
        "outputId": "8b201029-c0d7-4b78-fdf2-72adee5f5569"
      },
      "execution_count": null,
      "outputs": [
        {
          "output_type": "stream",
          "name": "stderr",
          "text": [
            "100%|██████████| 3/3 [00:04<00:00,  1.53s/it]\n"
          ]
        },
        {
          "output_type": "display_data",
          "data": {
            "text/plain": [
              "<Figure size 2500x800 with 3 Axes>"
            ],
            "image/png": "[encoded data removed]"
          },
          "metadata": {}
        }
      ]
    }
  ]
}